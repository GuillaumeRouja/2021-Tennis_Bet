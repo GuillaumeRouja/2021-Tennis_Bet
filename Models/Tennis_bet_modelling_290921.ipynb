{
  "nbformat": 4,
  "nbformat_minor": 0,
  "metadata": {
    "colab": {
      "name": "Tennis_bet_modelling.ipynb",
      "provenance": [],
      "collapsed_sections": []
    },
    "kernelspec": {
      "display_name": "Python 3",
      "name": "python3"
    },
    "language_info": {
      "name": "python"
    }
  },
  "cells": [
    {
      "cell_type": "code",
      "metadata": {
        "id": "sy8GHJ5upiee"
      },
      "source": [
        "import pandas as pd\n",
        "import numpy as np\n",
        "import seaborn as sns\n",
        "import matplotlib.pyplot as plt\n",
        "%matplotlib inline\n",
        " \n",
        "from datetime import datetime,timedelta\n",
        "import datetime as dt\n",
        "from sklearn.metrics import classification_report\n"
      ],
      "execution_count": 1,
      "outputs": []
    },
    {
      "cell_type": "code",
      "metadata": {
        "id": "j7_yXywj-a-J"
      },
      "source": [
        "# DATA Collection\n",
        "\n",
        "urls = ['https://raw.githubusercontent.com/GuillaumeRouja/2021-Tennis_Bet/main/Data/2010.csv','https://raw.githubusercontent.com/GuillaumeRouja/2021-Tennis_Bet/main/Data/2011.csv',\n",
        "        'https://raw.githubusercontent.com/GuillaumeRouja/2021-Tennis_Bet/main/Data/2012.csv','https://raw.githubusercontent.com/GuillaumeRouja/2021-Tennis_Bet/main/Data/2013.csv',\n",
        "        'https://raw.githubusercontent.com/GuillaumeRouja/2021-Tennis_Bet/main/Data/2014.csv','https://raw.githubusercontent.com/GuillaumeRouja/2021-Tennis_Bet/main/Data/2015.csv',\n",
        "        'https://raw.githubusercontent.com/GuillaumeRouja/2021-Tennis_Bet/main/Data/2016.csv','https://raw.githubusercontent.com/GuillaumeRouja/2021-Tennis_Bet/main/Data/2017.csv',\n",
        "        'https://raw.githubusercontent.com/GuillaumeRouja/2021-Tennis_Bet/main/Data/2018.csv','https://raw.githubusercontent.com/GuillaumeRouja/2021-Tennis_Bet/main/Data/2019.csv',\n",
        "        'https://raw.githubusercontent.com/GuillaumeRouja/2021-Tennis_Bet/main/Data/2020.csv','https://raw.githubusercontent.com/GuillaumeRouja/2021-Tennis_Bet/main/Data/2021.csv']\n",
        "\n",
        "dfs = [pd.read_csv(url,sep=';') for url in urls]\n",
        "data = pd.concat(dfs, ignore_index=True)\n",
        "\n",
        "# Keep colums we need -> Only keep data known at game time \n",
        "\n",
        "data.drop(['WPts','LPts','W1','L1','W2','L2','W3','L3','W4','L4','W5','L5','Wsets','Lsets','EXW','EXL','LBW','LBL','SJW','SJL','MaxW','MaxL','AvgW','AvgL'],axis=1,inplace=True)\n",
        "\n",
        "#Format adjustment\n",
        "\n",
        "data.PSW= (data.PSW.replace(',','.', regex=True).astype(float))\n",
        "data.PSL= (data.PSL.replace(',','.', regex=True).astype(float))\n",
        "data.B365W= (data.B365W.replace(',','.', regex=True).astype(float))\n",
        "data.B365L= (data.B365L.replace(',','.', regex=True).astype(float)) \n",
        "\n",
        "data['Date'] = pd.to_datetime(data.Date,dayfirst=True)\n",
        "\n",
        "data.sort_values(['Date'], inplace=True)\n",
        "data=data.reset_index(drop=True)\n"
      ],
      "execution_count": 2,
      "outputs": []
    },
    {
      "cell_type": "code",
      "metadata": {
        "id": "8M5UQRkK7oDP",
        "colab": {
          "base_uri": "https://localhost:8080/",
          "height": 143
        },
        "outputId": "84e9546d-1f34-4bf2-a57f-b9634820ad96"
      },
      "source": [
        "data.head(3)"
      ],
      "execution_count": 3,
      "outputs": [
        {
          "output_type": "execute_result",
          "data": {
            "text/html": [
              "<div>\n",
              "<style scoped>\n",
              "    .dataframe tbody tr th:only-of-type {\n",
              "        vertical-align: middle;\n",
              "    }\n",
              "\n",
              "    .dataframe tbody tr th {\n",
              "        vertical-align: top;\n",
              "    }\n",
              "\n",
              "    .dataframe thead th {\n",
              "        text-align: right;\n",
              "    }\n",
              "</style>\n",
              "<table border=\"1\" class=\"dataframe\">\n",
              "  <thead>\n",
              "    <tr style=\"text-align: right;\">\n",
              "      <th></th>\n",
              "      <th>ATP</th>\n",
              "      <th>Location</th>\n",
              "      <th>Tournament</th>\n",
              "      <th>Date</th>\n",
              "      <th>Series</th>\n",
              "      <th>Court</th>\n",
              "      <th>Surface</th>\n",
              "      <th>Round</th>\n",
              "      <th>Best of</th>\n",
              "      <th>Winner</th>\n",
              "      <th>Loser</th>\n",
              "      <th>WRank</th>\n",
              "      <th>LRank</th>\n",
              "      <th>Comment</th>\n",
              "      <th>B365W</th>\n",
              "      <th>B365L</th>\n",
              "      <th>PSW</th>\n",
              "      <th>PSL</th>\n",
              "    </tr>\n",
              "  </thead>\n",
              "  <tbody>\n",
              "    <tr>\n",
              "      <th>0</th>\n",
              "      <td>1</td>\n",
              "      <td>Brisbane</td>\n",
              "      <td>Brisbane International</td>\n",
              "      <td>2010-01-04</td>\n",
              "      <td>ATP250</td>\n",
              "      <td>Outdoor</td>\n",
              "      <td>Hard</td>\n",
              "      <td>1st Round</td>\n",
              "      <td>3</td>\n",
              "      <td>Gasquet R.</td>\n",
              "      <td>Nieminen J.</td>\n",
              "      <td>52.0</td>\n",
              "      <td>88.0</td>\n",
              "      <td>Completed</td>\n",
              "      <td>1.44</td>\n",
              "      <td>2.62</td>\n",
              "      <td>1.526</td>\n",
              "      <td>2.740</td>\n",
              "    </tr>\n",
              "    <tr>\n",
              "      <th>1</th>\n",
              "      <td>3</td>\n",
              "      <td>Doha</td>\n",
              "      <td>Qatar Exxon Mobil Open</td>\n",
              "      <td>2010-01-04</td>\n",
              "      <td>ATP250</td>\n",
              "      <td>Outdoor</td>\n",
              "      <td>Hard</td>\n",
              "      <td>1st Round</td>\n",
              "      <td>3</td>\n",
              "      <td>Gulbis E.</td>\n",
              "      <td>Montanes A.</td>\n",
              "      <td>90.0</td>\n",
              "      <td>31.0</td>\n",
              "      <td>Completed</td>\n",
              "      <td>1.40</td>\n",
              "      <td>2.75</td>\n",
              "      <td>1.426</td>\n",
              "      <td>3.140</td>\n",
              "    </tr>\n",
              "    <tr>\n",
              "      <th>2</th>\n",
              "      <td>3</td>\n",
              "      <td>Doha</td>\n",
              "      <td>Qatar Exxon Mobil Open</td>\n",
              "      <td>2010-01-04</td>\n",
              "      <td>ATP250</td>\n",
              "      <td>Outdoor</td>\n",
              "      <td>Hard</td>\n",
              "      <td>1st Round</td>\n",
              "      <td>3</td>\n",
              "      <td>Starace P.</td>\n",
              "      <td>Gil F.</td>\n",
              "      <td>62.0</td>\n",
              "      <td>69.0</td>\n",
              "      <td>Completed</td>\n",
              "      <td>2.25</td>\n",
              "      <td>1.57</td>\n",
              "      <td>2.550</td>\n",
              "      <td>1.595</td>\n",
              "    </tr>\n",
              "  </tbody>\n",
              "</table>\n",
              "</div>"
            ],
            "text/plain": [
              "   ATP  Location              Tournament       Date  ... B365W B365L    PSW    PSL\n",
              "0    1  Brisbane  Brisbane International 2010-01-04  ...  1.44  2.62  1.526  2.740\n",
              "1    3      Doha  Qatar Exxon Mobil Open 2010-01-04  ...  1.40  2.75  1.426  3.140\n",
              "2    3      Doha  Qatar Exxon Mobil Open 2010-01-04  ...  2.25  1.57  2.550  1.595\n",
              "\n",
              "[3 rows x 18 columns]"
            ]
          },
          "metadata": {},
          "execution_count": 3
        }
      ]
    },
    {
      "cell_type": "markdown",
      "metadata": {
        "id": "4SgIj3G42VQq"
      },
      "source": [
        "## **Data Pre-processing**"
      ]
    },
    {
      "cell_type": "markdown",
      "metadata": {
        "id": "r-YuUra90YHU"
      },
      "source": [
        "#### Timeframe selection"
      ]
    },
    {
      "cell_type": "code",
      "metadata": {
        "id": "rYI0l2cccTOS",
        "colab": {
          "base_uri": "https://localhost:8080/"
        },
        "outputId": "7eb23015-1818-4912-9d80-bb0a3c633865"
      },
      "source": [
        "# Given there are some duplicated lines in 2012 and data stop between 2013-11-11 to 2014-01-05, we'll start the analysis from 2015.\n",
        "\n",
        "# Data selection\n",
        "\n",
        "beg=datetime(2015,1,1) \n",
        "end=datetime(2021,12,31)\n",
        "\n",
        "indices=data[(data.Date>beg)&(data.Date<=end)].index\n",
        "data=data.iloc[indices,:]\n",
        "\n",
        "print(\"Number of games since Jan'2015: \",len(data))\n",
        "\n",
        "data.sort_values(['Date'], inplace=True)\n",
        "data=data.reset_index(drop=True)\n"
      ],
      "execution_count": 4,
      "outputs": [
        {
          "output_type": "stream",
          "name": "stdout",
          "text": [
            "Number of games since Jan'2015:  16480\n"
          ]
        }
      ]
    },
    {
      "cell_type": "markdown",
      "metadata": {
        "id": "0kxJXqAgWfPH"
      },
      "source": [
        "#### ELO Ranking Computing"
      ]
    },
    {
      "cell_type": "code",
      "metadata": {
        "colab": {
          "base_uri": "https://localhost:8080/"
        },
        "id": "JgMtrArRWW0a",
        "outputId": "40e2bd91-3c4d-451c-c07d-49688470f656"
      },
      "source": [
        "def compute_elo_rankings(data):\n",
        "    \"\"\"\n",
        "    Given the list of matches in chronological order, for each match, computes \n",
        "    the elo ranking of the 2 players at the beginning of the match\n",
        "    \n",
        "    \"\"\"\n",
        "    print(\"Elo rankings computing...\")\n",
        "    players=list(pd.Series(list(data.Winner)+list(data.Loser)).value_counts().index) # Gather all players from data\n",
        "    elo=pd.Series(np.ones(len(players))*1500,index=players) # Attribute Elo Ranking of 1500 to each player\n",
        "    ranking_elo=[(1500,1500)]\n",
        "    for i in range(1,len(data)):\n",
        "        w=data.iloc[i-1,:].Winner   # Select Winner and Loser of the previous game\n",
        "        l=data.iloc[i-1,:].Loser\n",
        "        elow=elo[w]  \n",
        "        elol=elo[l]\n",
        "        pwin=1 / (1 + 10 ** ((elol - elow) / 400))  # Win prob resulting from elo. Ex: elol = 1900, elow = 2000. Delta = 100 -> winner prob = 64%\n",
        "        K_win=32\n",
        "        K_los=32\n",
        "        new_elow=elow+K_win*(1-pwin) # The winner has his elo increased by K_win*(1-pwin). Ex: 1500 + 32*(1-0.64) = 1511.52. \n",
        "        new_elol=elol-K_los*(1-pwin) # A victory against a better ranked player grants more points.\n",
        "        elo[w]=new_elow\n",
        "        elo[l]=new_elol\n",
        "        ranking_elo.append((elo[data.iloc[i,:].Winner],elo[data.iloc[i,:].Loser])) \n",
        "        if i%3000==0:\n",
        "            print(str(i)+\" matches computed...\")\n",
        "    ranking_elo=pd.DataFrame(ranking_elo,columns=[\"elo_winner\",\"elo_loser\"]) \n",
        "    ranking_elo[\"p_elo_winner\"]=1 / (1 + 10 ** ((ranking_elo[\"elo_loser\"] - ranking_elo[\"elo_winner\"]) / 400))   \n",
        "    ranking_elo[\"p_elo_loser\"]=1 / (1 + 10 ** ((ranking_elo[\"elo_winner\"] - ranking_elo[\"elo_loser\"]) / 400))\n",
        "    return ranking_elo\n",
        "\n",
        "# Computing of the elo ranking of each player at the beginning of each match.\n",
        "elo_rankings = compute_elo_rankings(data)\n",
        "data = pd.concat([data,elo_rankings],1)\n"
      ],
      "execution_count": 5,
      "outputs": [
        {
          "output_type": "stream",
          "name": "stdout",
          "text": [
            "Elo rankings computing...\n",
            "3000 matches computed...\n",
            "6000 matches computed...\n",
            "9000 matches computed...\n",
            "12000 matches computed...\n",
            "15000 matches computed...\n"
          ]
        }
      ]
    },
    {
      "cell_type": "code",
      "metadata": {
        "colab": {
          "base_uri": "https://localhost:8080/",
          "height": 269
        },
        "id": "-pQAsdwmW5WG",
        "outputId": "cb67eb47-a961-49af-eec8-d82922c3a200"
      },
      "source": [
        "# Check elo ranking computing\n",
        "\n",
        "data[(data.Winner=='Federer R.')|(data.Loser=='Federer R.')].head(7)"
      ],
      "execution_count": 6,
      "outputs": [
        {
          "output_type": "execute_result",
          "data": {
            "text/html": [
              "<div>\n",
              "<style scoped>\n",
              "    .dataframe tbody tr th:only-of-type {\n",
              "        vertical-align: middle;\n",
              "    }\n",
              "\n",
              "    .dataframe tbody tr th {\n",
              "        vertical-align: top;\n",
              "    }\n",
              "\n",
              "    .dataframe thead th {\n",
              "        text-align: right;\n",
              "    }\n",
              "</style>\n",
              "<table border=\"1\" class=\"dataframe\">\n",
              "  <thead>\n",
              "    <tr style=\"text-align: right;\">\n",
              "      <th></th>\n",
              "      <th>ATP</th>\n",
              "      <th>Location</th>\n",
              "      <th>Tournament</th>\n",
              "      <th>Date</th>\n",
              "      <th>Series</th>\n",
              "      <th>Court</th>\n",
              "      <th>Surface</th>\n",
              "      <th>Round</th>\n",
              "      <th>Best of</th>\n",
              "      <th>Winner</th>\n",
              "      <th>Loser</th>\n",
              "      <th>WRank</th>\n",
              "      <th>LRank</th>\n",
              "      <th>Comment</th>\n",
              "      <th>B365W</th>\n",
              "      <th>B365L</th>\n",
              "      <th>PSW</th>\n",
              "      <th>PSL</th>\n",
              "      <th>elo_winner</th>\n",
              "      <th>elo_loser</th>\n",
              "      <th>p_elo_winner</th>\n",
              "      <th>p_elo_loser</th>\n",
              "    </tr>\n",
              "  </thead>\n",
              "  <tbody>\n",
              "    <tr>\n",
              "      <th>60</th>\n",
              "      <td>1</td>\n",
              "      <td>Brisbane</td>\n",
              "      <td>Brisbane International</td>\n",
              "      <td>2015-01-08</td>\n",
              "      <td>ATP250</td>\n",
              "      <td>Outdoor</td>\n",
              "      <td>Hard</td>\n",
              "      <td>2nd Round</td>\n",
              "      <td>3</td>\n",
              "      <td>Federer R.</td>\n",
              "      <td>Millman J.</td>\n",
              "      <td>2.0</td>\n",
              "      <td>153.0</td>\n",
              "      <td>Completed</td>\n",
              "      <td>1.06</td>\n",
              "      <td>10.00</td>\n",
              "      <td>1.07</td>\n",
              "      <td>10.25</td>\n",
              "      <td>1500.000000</td>\n",
              "      <td>1516.000000</td>\n",
              "      <td>0.476990</td>\n",
              "      <td>0.523010</td>\n",
              "    </tr>\n",
              "    <tr>\n",
              "      <th>72</th>\n",
              "      <td>1</td>\n",
              "      <td>Brisbane</td>\n",
              "      <td>Brisbane International</td>\n",
              "      <td>2015-01-09</td>\n",
              "      <td>ATP250</td>\n",
              "      <td>Outdoor</td>\n",
              "      <td>Hard</td>\n",
              "      <td>Quarterfinals</td>\n",
              "      <td>3</td>\n",
              "      <td>Federer R.</td>\n",
              "      <td>Duckworth J.</td>\n",
              "      <td>2.0</td>\n",
              "      <td>125.0</td>\n",
              "      <td>Completed</td>\n",
              "      <td>1.05</td>\n",
              "      <td>11.00</td>\n",
              "      <td>1.06</td>\n",
              "      <td>13.40</td>\n",
              "      <td>1516.736307</td>\n",
              "      <td>1532.000000</td>\n",
              "      <td>0.478048</td>\n",
              "      <td>0.521952</td>\n",
              "    </tr>\n",
              "    <tr>\n",
              "      <th>79</th>\n",
              "      <td>1</td>\n",
              "      <td>Brisbane</td>\n",
              "      <td>Brisbane International</td>\n",
              "      <td>2015-01-10</td>\n",
              "      <td>ATP250</td>\n",
              "      <td>Outdoor</td>\n",
              "      <td>Hard</td>\n",
              "      <td>Semifinals</td>\n",
              "      <td>3</td>\n",
              "      <td>Federer R.</td>\n",
              "      <td>Dimitrov G.</td>\n",
              "      <td>2.0</td>\n",
              "      <td>11.0</td>\n",
              "      <td>Completed</td>\n",
              "      <td>1.28</td>\n",
              "      <td>3.75</td>\n",
              "      <td>1.32</td>\n",
              "      <td>3.79</td>\n",
              "      <td>1533.438774</td>\n",
              "      <td>1533.438774</td>\n",
              "      <td>0.500000</td>\n",
              "      <td>0.500000</td>\n",
              "    </tr>\n",
              "    <tr>\n",
              "      <th>83</th>\n",
              "      <td>1</td>\n",
              "      <td>Brisbane</td>\n",
              "      <td>Brisbane International</td>\n",
              "      <td>2015-01-11</td>\n",
              "      <td>ATP250</td>\n",
              "      <td>Outdoor</td>\n",
              "      <td>Hard</td>\n",
              "      <td>The Final</td>\n",
              "      <td>3</td>\n",
              "      <td>Federer R.</td>\n",
              "      <td>Raonic M.</td>\n",
              "      <td>2.0</td>\n",
              "      <td>8.0</td>\n",
              "      <td>Completed</td>\n",
              "      <td>1.25</td>\n",
              "      <td>4.00</td>\n",
              "      <td>1.30</td>\n",
              "      <td>3.97</td>\n",
              "      <td>1549.438774</td>\n",
              "      <td>1549.438774</td>\n",
              "      <td>0.500000</td>\n",
              "      <td>0.500000</td>\n",
              "    </tr>\n",
              "    <tr>\n",
              "      <th>161</th>\n",
              "      <td>6</td>\n",
              "      <td>Melbourne</td>\n",
              "      <td>Australian Open</td>\n",
              "      <td>2015-01-19</td>\n",
              "      <td>Grand Slam</td>\n",
              "      <td>Outdoor</td>\n",
              "      <td>Hard</td>\n",
              "      <td>1st Round</td>\n",
              "      <td>5</td>\n",
              "      <td>Federer R.</td>\n",
              "      <td>Lu Y.H.</td>\n",
              "      <td>2.0</td>\n",
              "      <td>47.0</td>\n",
              "      <td>Completed</td>\n",
              "      <td>1.02</td>\n",
              "      <td>17.00</td>\n",
              "      <td>1.03</td>\n",
              "      <td>20.00</td>\n",
              "      <td>1565.438774</td>\n",
              "      <td>1513.188319</td>\n",
              "      <td>0.574633</td>\n",
              "      <td>0.425367</td>\n",
              "    </tr>\n",
              "    <tr>\n",
              "      <th>218</th>\n",
              "      <td>6</td>\n",
              "      <td>Melbourne</td>\n",
              "      <td>Australian Open</td>\n",
              "      <td>2015-01-21</td>\n",
              "      <td>Grand Slam</td>\n",
              "      <td>Outdoor</td>\n",
              "      <td>Hard</td>\n",
              "      <td>2nd Round</td>\n",
              "      <td>5</td>\n",
              "      <td>Federer R.</td>\n",
              "      <td>Bolelli S.</td>\n",
              "      <td>2.0</td>\n",
              "      <td>48.0</td>\n",
              "      <td>Completed</td>\n",
              "      <td>1.02</td>\n",
              "      <td>17.00</td>\n",
              "      <td>1.03</td>\n",
              "      <td>18.00</td>\n",
              "      <td>1579.050529</td>\n",
              "      <td>1529.287716</td>\n",
              "      <td>0.571129</td>\n",
              "      <td>0.428871</td>\n",
              "    </tr>\n",
              "    <tr>\n",
              "      <th>237</th>\n",
              "      <td>6</td>\n",
              "      <td>Melbourne</td>\n",
              "      <td>Australian Open</td>\n",
              "      <td>2015-01-23</td>\n",
              "      <td>Grand Slam</td>\n",
              "      <td>Outdoor</td>\n",
              "      <td>Hard</td>\n",
              "      <td>3rd Round</td>\n",
              "      <td>5</td>\n",
              "      <td>Seppi A.</td>\n",
              "      <td>Federer R.</td>\n",
              "      <td>46.0</td>\n",
              "      <td>2.0</td>\n",
              "      <td>Completed</td>\n",
              "      <td>17.00</td>\n",
              "      <td>1.02</td>\n",
              "      <td>23.50</td>\n",
              "      <td>1.02</td>\n",
              "      <td>1543.795236</td>\n",
              "      <td>1592.774410</td>\n",
              "      <td>0.429977</td>\n",
              "      <td>0.570023</td>\n",
              "    </tr>\n",
              "  </tbody>\n",
              "</table>\n",
              "</div>"
            ],
            "text/plain": [
              "     ATP   Location  ... p_elo_winner p_elo_loser\n",
              "60     1   Brisbane  ...     0.476990    0.523010\n",
              "72     1   Brisbane  ...     0.478048    0.521952\n",
              "79     1   Brisbane  ...     0.500000    0.500000\n",
              "83     1   Brisbane  ...     0.500000    0.500000\n",
              "161    6  Melbourne  ...     0.574633    0.425367\n",
              "218    6  Melbourne  ...     0.571129    0.428871\n",
              "237    6  Melbourne  ...     0.429977    0.570023\n",
              "\n",
              "[7 rows x 22 columns]"
            ]
          },
          "metadata": {},
          "execution_count": 6
        }
      ]
    },
    {
      "cell_type": "code",
      "metadata": {
        "colab": {
          "base_uri": "https://localhost:8080/"
        },
        "id": "DhCUkpg4eVo6",
        "outputId": "321e2605-3030-4b7a-f01c-e810afe424de"
      },
      "source": [
        "data.info()"
      ],
      "execution_count": 7,
      "outputs": [
        {
          "output_type": "stream",
          "name": "stdout",
          "text": [
            "<class 'pandas.core.frame.DataFrame'>\n",
            "RangeIndex: 16480 entries, 0 to 16479\n",
            "Data columns (total 22 columns):\n",
            " #   Column        Non-Null Count  Dtype         \n",
            "---  ------        --------------  -----         \n",
            " 0   ATP           16480 non-null  int64         \n",
            " 1   Location      16480 non-null  object        \n",
            " 2   Tournament    16480 non-null  object        \n",
            " 3   Date          16480 non-null  datetime64[ns]\n",
            " 4   Series        16480 non-null  object        \n",
            " 5   Court         16480 non-null  object        \n",
            " 6   Surface       16480 non-null  object        \n",
            " 7   Round         16480 non-null  object        \n",
            " 8   Best of       16480 non-null  int64         \n",
            " 9   Winner        16480 non-null  object        \n",
            " 10  Loser         16480 non-null  object        \n",
            " 11  WRank         16471 non-null  float64       \n",
            " 12  LRank         16436 non-null  float64       \n",
            " 13  Comment       16480 non-null  object        \n",
            " 14  B365W         16426 non-null  float64       \n",
            " 15  B365L         16427 non-null  float64       \n",
            " 16  PSW           16409 non-null  float64       \n",
            " 17  PSL           16409 non-null  float64       \n",
            " 18  elo_winner    16480 non-null  float64       \n",
            " 19  elo_loser     16480 non-null  float64       \n",
            " 20  p_elo_winner  16480 non-null  float64       \n",
            " 21  p_elo_loser   16480 non-null  float64       \n",
            "dtypes: datetime64[ns](1), float64(10), int64(2), object(9)\n",
            "memory usage: 2.8+ MB\n"
          ]
        }
      ]
    },
    {
      "cell_type": "markdown",
      "metadata": {
        "id": "RNNwIJUi0mWH"
      },
      "source": [
        "#### Remove outliers and absurd values"
      ]
    },
    {
      "cell_type": "code",
      "metadata": {
        "id": "yKZ6rUSW078c"
      },
      "source": [
        "# Only use normal completed games\n",
        "\n",
        "data = data[data.Comment == 'Completed']\n",
        "data.drop('Comment',axis=1,inplace=True)\n",
        "\n",
        "# Remove Round Robin tournaments as they interfere with some cumulative stats calculations\n",
        "\n",
        "data = data[data.Round != 'Round Robin']\n",
        "\n",
        "# Odds need to be > 1\n",
        "\n",
        "data = data[(data.PSW >1)&(data.PSL>1)&(data.B365W>1)&(data.B365W>1)]\n",
        "\n",
        "# ATP rankings cannot be 0\n",
        "\n",
        "data = data[(data.WRank != 0) & (data.LRank != 0)]\n",
        "\n",
        "# Remove remaining NaNs\n",
        "\n",
        "data.dropna(axis=0,inplace=True)\n"
      ],
      "execution_count": 8,
      "outputs": []
    },
    {
      "cell_type": "markdown",
      "metadata": {
        "id": "-4ZesFNNl4Ei"
      },
      "source": [
        "#### Create cumulative stats \n",
        "\n"
      ]
    },
    {
      "cell_type": "code",
      "metadata": {
        "id": "xlk6iMhg9ORU",
        "colab": {
          "base_uri": "https://localhost:8080/"
        },
        "outputId": "ec14b271-12b3-4b3a-d389-e2668cadafb8"
      },
      "source": [
        "# Player dataset preparation\n",
        "\n",
        "# Step 1 -> Copy Data and add a counter for victorie and defeats\n",
        "\n",
        "data.reset_index(inplace=True)\n",
        "\n",
        "df1 = data.copy()\n",
        "df1['w']=1\n",
        "df1['l']=0\n",
        "\n",
        "# step 2 -> Select and concatenate the columns we need\n",
        "\n",
        "index=df1['index']\n",
        "winner=df1['Winner']\n",
        "loser=df1['Loser']\n",
        "surface=df1['Surface']\n",
        "w=df1['w']\n",
        "l=df1['l']\n",
        "date=df1['Date']\n",
        "\n",
        "df2 = pd.concat([index,winner,loser,surface,w,l,date], axis = 1)\n",
        "\n",
        "# step 3 -> Create Player dataframe : create a row for each player (double nb of lines)\n",
        "\n",
        "player=pd.concat([winner,loser], axis = 0)\n",
        "status=pd.concat([w,l], axis = 0)\n",
        "index=pd.concat([index,index], axis = 0)\n",
        "surface=pd.concat([surface,surface], axis = 0)\n",
        "date=pd.concat([date,date], axis = 0)\n",
        "\n",
        "df3 = pd.concat([index,player, status,surface,date], axis = 1)\n",
        "df3.columns = ['index','Player','Winner','Surface','Date']\n",
        "\n",
        "df3.info()\n",
        "print(df3.duplicated().sum())"
      ],
      "execution_count": 9,
      "outputs": [
        {
          "output_type": "stream",
          "name": "stdout",
          "text": [
            "<class 'pandas.core.frame.DataFrame'>\n",
            "Int64Index: 31412 entries, 0 to 15705\n",
            "Data columns (total 5 columns):\n",
            " #   Column   Non-Null Count  Dtype         \n",
            "---  ------   --------------  -----         \n",
            " 0   index    31412 non-null  int64         \n",
            " 1   Player   31412 non-null  object        \n",
            " 2   Winner   31412 non-null  int64         \n",
            " 3   Surface  31412 non-null  object        \n",
            " 4   Date     31412 non-null  datetime64[ns]\n",
            "dtypes: datetime64[ns](1), int64(2), object(2)\n",
            "memory usage: 1.4+ MB\n",
            "0\n"
          ]
        }
      ]
    },
    {
      "cell_type": "code",
      "metadata": {
        "colab": {
          "base_uri": "https://localhost:8080/",
          "height": 238
        },
        "id": "-016HNDZ0K5n",
        "outputId": "44836f75-f4be-4d7e-b7fb-8980e8de0762"
      },
      "source": [
        "# step 4 -> Pivot table \n",
        "\n",
        "df_players = pd.pivot_table(df3,index=['Player','index','Surface','Date'])\n",
        "\n",
        "# step 5 -> Build Defeats counter where winner = 0.\n",
        "\n",
        "df_players['Loser']=df_players['Winner'].apply(lambda x: 0 if x ==1 else 1)\n",
        "\n",
        "# step 6 -> Sort Players Dataframe by Date (preparation for cumulative variables)\n",
        "\n",
        "df_players.reset_index(inplace=True)\n",
        "df_players.set_index(['Date'], inplace=True)\n",
        "df_players.sort_values(['Date'], inplace=True)\n",
        "\n",
        "df_players.head()"
      ],
      "execution_count": 10,
      "outputs": [
        {
          "output_type": "execute_result",
          "data": {
            "text/html": [
              "<div>\n",
              "<style scoped>\n",
              "    .dataframe tbody tr th:only-of-type {\n",
              "        vertical-align: middle;\n",
              "    }\n",
              "\n",
              "    .dataframe tbody tr th {\n",
              "        vertical-align: top;\n",
              "    }\n",
              "\n",
              "    .dataframe thead th {\n",
              "        text-align: right;\n",
              "    }\n",
              "</style>\n",
              "<table border=\"1\" class=\"dataframe\">\n",
              "  <thead>\n",
              "    <tr style=\"text-align: right;\">\n",
              "      <th></th>\n",
              "      <th>Player</th>\n",
              "      <th>index</th>\n",
              "      <th>Surface</th>\n",
              "      <th>Winner</th>\n",
              "      <th>Loser</th>\n",
              "    </tr>\n",
              "    <tr>\n",
              "      <th>Date</th>\n",
              "      <th></th>\n",
              "      <th></th>\n",
              "      <th></th>\n",
              "      <th></th>\n",
              "      <th></th>\n",
              "    </tr>\n",
              "  </thead>\n",
              "  <tbody>\n",
              "    <tr>\n",
              "      <th>2015-01-05</th>\n",
              "      <td>Karlovic I.</td>\n",
              "      <td>0</td>\n",
              "      <td>Hard</td>\n",
              "      <td>1</td>\n",
              "      <td>0</td>\n",
              "    </tr>\n",
              "    <tr>\n",
              "      <th>2015-01-05</th>\n",
              "      <td>Gabashvili T.</td>\n",
              "      <td>11</td>\n",
              "      <td>Hard</td>\n",
              "      <td>0</td>\n",
              "      <td>1</td>\n",
              "    </tr>\n",
              "    <tr>\n",
              "      <th>2015-01-05</th>\n",
              "      <td>Brown D.</td>\n",
              "      <td>10</td>\n",
              "      <td>Hard</td>\n",
              "      <td>1</td>\n",
              "      <td>0</td>\n",
              "    </tr>\n",
              "    <tr>\n",
              "      <th>2015-01-05</th>\n",
              "      <td>Golubev A.</td>\n",
              "      <td>1</td>\n",
              "      <td>Hard</td>\n",
              "      <td>0</td>\n",
              "      <td>1</td>\n",
              "    </tr>\n",
              "    <tr>\n",
              "      <th>2015-01-05</th>\n",
              "      <td>Bolelli S.</td>\n",
              "      <td>7</td>\n",
              "      <td>Hard</td>\n",
              "      <td>1</td>\n",
              "      <td>0</td>\n",
              "    </tr>\n",
              "  </tbody>\n",
              "</table>\n",
              "</div>"
            ],
            "text/plain": [
              "                   Player  index Surface  Winner  Loser\n",
              "Date                                                   \n",
              "2015-01-05    Karlovic I.      0    Hard       1      0\n",
              "2015-01-05  Gabashvili T.     11    Hard       0      1\n",
              "2015-01-05       Brown D.     10    Hard       1      0\n",
              "2015-01-05     Golubev A.      1    Hard       0      1\n",
              "2015-01-05     Bolelli S.      7    Hard       1      0"
            ]
          },
          "metadata": {},
          "execution_count": 10
        }
      ]
    },
    {
      "cell_type": "code",
      "metadata": {
        "id": "YlK_hQ7b0hOl",
        "colab": {
          "base_uri": "https://localhost:8080/"
        },
        "outputId": "9551da3a-2011-4cd8-c29d-612508628328"
      },
      "source": [
        "# Step 7 : Build cumlative stats\n",
        "\n",
        "df_surface = df_players.copy()\n",
        "\n",
        "# step 7a -> Cumulative wins/defeats (Rolling sum on recent days removing game of the day because result still unknown)\n",
        "\n",
        "df_players['Wins_R']=df_players.groupby('Player')['Winner'].transform(lambda x: x.rolling('3000D').sum()).fillna(0)-df_players['Winner']  # NB days can be changed if needed\n",
        "df_players['Defeats_R']=df_players.groupby('Player')['Loser'].transform(lambda x: x.rolling('3000D').sum()).fillna(0)-df_players['Loser'] # NB days can be changed if needed\n",
        "df_players['Played_R']=df_players['Wins_R']+df_players['Defeats_R']\n",
        "df_players['WinRate_R']=df_players['Wins_R']/df_players['Played_R']\n",
        "df_players['WinRate_R'].fillna(0,inplace=True)\n",
        "\n",
        "# # step 7b -> Cumulative wins/defeats by surface\n",
        "\n",
        "print(df_surface.Surface.value_counts())\n",
        "\n",
        "df_surface['Wins_R']=df_surface.groupby(['Player','Surface'])['Winner'].transform(lambda x: x.rolling('3000D').sum()).fillna(0)-df_surface['Winner']  # NB days can be changed if needed\n",
        "df_surface['Defeats_R']=df_surface.groupby(['Player','Surface'])['Loser'].transform(lambda x: x.rolling('3000D').sum()).fillna(0)-df_surface['Loser'] # NB days can be changed if needed\n",
        "df_surface['Played_R']=df_surface['Wins_R']+df_surface['Defeats_R']\n",
        "df_surface['WinRate_R']=df_surface['Wins_R']/df_surface['Played_R']\n",
        "df_surface['WinRate_R'].fillna(0,inplace=True)"
      ],
      "execution_count": 11,
      "outputs": [
        {
          "output_type": "stream",
          "name": "stdout",
          "text": [
            "Hard     17826\n",
            "Clay      9912\n",
            "Grass     3674\n",
            "Name: Surface, dtype: int64\n"
          ]
        }
      ]
    },
    {
      "cell_type": "code",
      "metadata": {
        "colab": {
          "base_uri": "https://localhost:8080/",
          "height": 238
        },
        "id": "RwoMWNnU0hXx",
        "outputId": "a593b631-0136-44f3-dfbd-8078fe25fd93"
      },
      "source": [
        "# check\n",
        "\n",
        "df_surface[(df_players.Player=='Federer R.')|(df_players.Player=='Federer R.')].head()"
      ],
      "execution_count": 12,
      "outputs": [
        {
          "output_type": "execute_result",
          "data": {
            "text/html": [
              "<div>\n",
              "<style scoped>\n",
              "    .dataframe tbody tr th:only-of-type {\n",
              "        vertical-align: middle;\n",
              "    }\n",
              "\n",
              "    .dataframe tbody tr th {\n",
              "        vertical-align: top;\n",
              "    }\n",
              "\n",
              "    .dataframe thead th {\n",
              "        text-align: right;\n",
              "    }\n",
              "</style>\n",
              "<table border=\"1\" class=\"dataframe\">\n",
              "  <thead>\n",
              "    <tr style=\"text-align: right;\">\n",
              "      <th></th>\n",
              "      <th>Player</th>\n",
              "      <th>index</th>\n",
              "      <th>Surface</th>\n",
              "      <th>Winner</th>\n",
              "      <th>Loser</th>\n",
              "      <th>Wins_R</th>\n",
              "      <th>Defeats_R</th>\n",
              "      <th>Played_R</th>\n",
              "      <th>WinRate_R</th>\n",
              "    </tr>\n",
              "    <tr>\n",
              "      <th>Date</th>\n",
              "      <th></th>\n",
              "      <th></th>\n",
              "      <th></th>\n",
              "      <th></th>\n",
              "      <th></th>\n",
              "      <th></th>\n",
              "      <th></th>\n",
              "      <th></th>\n",
              "      <th></th>\n",
              "    </tr>\n",
              "  </thead>\n",
              "  <tbody>\n",
              "    <tr>\n",
              "      <th>2015-01-08</th>\n",
              "      <td>Federer R.</td>\n",
              "      <td>60</td>\n",
              "      <td>Hard</td>\n",
              "      <td>1</td>\n",
              "      <td>0</td>\n",
              "      <td>0</td>\n",
              "      <td>0</td>\n",
              "      <td>0</td>\n",
              "      <td>0.0</td>\n",
              "    </tr>\n",
              "    <tr>\n",
              "      <th>2015-01-09</th>\n",
              "      <td>Federer R.</td>\n",
              "      <td>72</td>\n",
              "      <td>Hard</td>\n",
              "      <td>1</td>\n",
              "      <td>0</td>\n",
              "      <td>1</td>\n",
              "      <td>0</td>\n",
              "      <td>1</td>\n",
              "      <td>1.0</td>\n",
              "    </tr>\n",
              "    <tr>\n",
              "      <th>2015-01-10</th>\n",
              "      <td>Federer R.</td>\n",
              "      <td>79</td>\n",
              "      <td>Hard</td>\n",
              "      <td>1</td>\n",
              "      <td>0</td>\n",
              "      <td>2</td>\n",
              "      <td>0</td>\n",
              "      <td>2</td>\n",
              "      <td>1.0</td>\n",
              "    </tr>\n",
              "    <tr>\n",
              "      <th>2015-01-11</th>\n",
              "      <td>Federer R.</td>\n",
              "      <td>83</td>\n",
              "      <td>Hard</td>\n",
              "      <td>1</td>\n",
              "      <td>0</td>\n",
              "      <td>3</td>\n",
              "      <td>0</td>\n",
              "      <td>3</td>\n",
              "      <td>1.0</td>\n",
              "    </tr>\n",
              "    <tr>\n",
              "      <th>2015-01-19</th>\n",
              "      <td>Federer R.</td>\n",
              "      <td>161</td>\n",
              "      <td>Hard</td>\n",
              "      <td>1</td>\n",
              "      <td>0</td>\n",
              "      <td>4</td>\n",
              "      <td>0</td>\n",
              "      <td>4</td>\n",
              "      <td>1.0</td>\n",
              "    </tr>\n",
              "  </tbody>\n",
              "</table>\n",
              "</div>"
            ],
            "text/plain": [
              "                Player  index Surface  ...  Defeats_R  Played_R  WinRate_R\n",
              "Date                                   ...                                \n",
              "2015-01-08  Federer R.     60    Hard  ...          0         0        0.0\n",
              "2015-01-09  Federer R.     72    Hard  ...          0         1        1.0\n",
              "2015-01-10  Federer R.     79    Hard  ...          0         2        1.0\n",
              "2015-01-11  Federer R.     83    Hard  ...          0         3        1.0\n",
              "2015-01-19  Federer R.    161    Hard  ...          0         4        1.0\n",
              "\n",
              "[5 rows x 9 columns]"
            ]
          },
          "metadata": {},
          "execution_count": 12
        }
      ]
    },
    {
      "cell_type": "code",
      "metadata": {
        "id": "Bvit0xdO0haM"
      },
      "source": [
        "# step 8 Prepare'df_players' and 'df_surface' for merge with Data\n",
        "\n",
        "# A. Sort Dataframe (same as Data)\n",
        "\n",
        "df_players.sort_values(['index','Loser'], inplace=True)\n",
        "df_surface.sort_values(['index','Loser'], inplace=True)\n",
        "\n",
        "# B. Take every other line of df_Players/df_Surface to reduce the dataframe by half // Data\n",
        "\n",
        "Players_merge = pd.DataFrame({'Winner':df_players['Player'].iloc[::2].values, 'Loser':df_players['Player'].iloc[1::2].values,\n",
        "                        'Winner_wins_R':df_players['Wins_R'].iloc[::2].values, 'Loser_wins_R':df_players['Wins_R'].iloc[1::2].values,\n",
        "                        'Winner_defeats_R':df_players['Defeats_R'].iloc[::2].values, 'Loser_defeats_R':df_players['Defeats_R'].iloc[1::2].values,\n",
        "                        'Winner_Played_R':df_players['Played_R'].iloc[::2].values, 'Loser_Played_R':df_players['Played_R'].iloc[1::2].values,\n",
        "                        'Winner_WinRate_R':df_players['WinRate_R'].iloc[::2].values, 'Loser_WinRate_R':df_players['WinRate_R'].iloc[1::2].values,\n",
        "                        'Winner_wins_S':df_surface['Wins_R'].iloc[::2].values, 'Loser_wins_S':df_surface['Wins_R'].iloc[1::2].values,\n",
        "                        'Winner_defeats_S':df_surface['Defeats_R'].iloc[::2].values, 'Loser_defeats_S':df_surface['Defeats_R'].iloc[1::2].values,\n",
        "                        'Winner_Played_S':df_surface['Played_R'].iloc[::2].values, 'Loser_Played_S':df_surface['Played_R'].iloc[1::2].values,\n",
        "                        'Winner_WinRate_S':df_surface['WinRate_R'].iloc[::2].values, 'Loser_WinRate_S':df_surface['WinRate_R'].iloc[1::2].values,\n",
        "                        'index':df_players['index'].iloc[1::2].values})\n",
        "\n",
        "# step 9 -> Merging Data with Players on: index, Loser, Winner \n",
        "\n",
        "Players_merge.rename(columns={'index': 'index_t', 'Winner': 'Winner_t', 'Loser': 'Loser_t'},inplace=True)\n",
        "data=pd.concat([data,Players_merge], axis = 1)\n",
        "data.drop(['index_t','Winner_t','Loser_t'],axis=1,inplace=True)"
      ],
      "execution_count": 13,
      "outputs": []
    },
    {
      "cell_type": "code",
      "metadata": {
        "colab": {
          "base_uri": "https://localhost:8080/",
          "height": 330
        },
        "id": "JKMCR_8y1Lsi",
        "outputId": "f93e304f-250a-481e-eed9-5b3a56fcfeac"
      },
      "source": [
        "#Check\n",
        "\n",
        "data[(data.Winner=='Federer R.')|(data.Loser=='Federer R.')].head()"
      ],
      "execution_count": 14,
      "outputs": [
        {
          "output_type": "execute_result",
          "data": {
            "text/html": [
              "<div>\n",
              "<style scoped>\n",
              "    .dataframe tbody tr th:only-of-type {\n",
              "        vertical-align: middle;\n",
              "    }\n",
              "\n",
              "    .dataframe tbody tr th {\n",
              "        vertical-align: top;\n",
              "    }\n",
              "\n",
              "    .dataframe thead th {\n",
              "        text-align: right;\n",
              "    }\n",
              "</style>\n",
              "<table border=\"1\" class=\"dataframe\">\n",
              "  <thead>\n",
              "    <tr style=\"text-align: right;\">\n",
              "      <th></th>\n",
              "      <th>index</th>\n",
              "      <th>ATP</th>\n",
              "      <th>Location</th>\n",
              "      <th>Tournament</th>\n",
              "      <th>Date</th>\n",
              "      <th>Series</th>\n",
              "      <th>Court</th>\n",
              "      <th>Surface</th>\n",
              "      <th>Round</th>\n",
              "      <th>Best of</th>\n",
              "      <th>Winner</th>\n",
              "      <th>Loser</th>\n",
              "      <th>WRank</th>\n",
              "      <th>LRank</th>\n",
              "      <th>B365W</th>\n",
              "      <th>B365L</th>\n",
              "      <th>PSW</th>\n",
              "      <th>PSL</th>\n",
              "      <th>elo_winner</th>\n",
              "      <th>elo_loser</th>\n",
              "      <th>p_elo_winner</th>\n",
              "      <th>p_elo_loser</th>\n",
              "      <th>Winner_wins_R</th>\n",
              "      <th>Loser_wins_R</th>\n",
              "      <th>Winner_defeats_R</th>\n",
              "      <th>Loser_defeats_R</th>\n",
              "      <th>Winner_Played_R</th>\n",
              "      <th>Loser_Played_R</th>\n",
              "      <th>Winner_WinRate_R</th>\n",
              "      <th>Loser_WinRate_R</th>\n",
              "      <th>Winner_wins_S</th>\n",
              "      <th>Loser_wins_S</th>\n",
              "      <th>Winner_defeats_S</th>\n",
              "      <th>Loser_defeats_S</th>\n",
              "      <th>Winner_Played_S</th>\n",
              "      <th>Loser_Played_S</th>\n",
              "      <th>Winner_WinRate_S</th>\n",
              "      <th>Loser_WinRate_S</th>\n",
              "    </tr>\n",
              "  </thead>\n",
              "  <tbody>\n",
              "    <tr>\n",
              "      <th>58</th>\n",
              "      <td>60</td>\n",
              "      <td>1</td>\n",
              "      <td>Brisbane</td>\n",
              "      <td>Brisbane International</td>\n",
              "      <td>2015-01-08</td>\n",
              "      <td>ATP250</td>\n",
              "      <td>Outdoor</td>\n",
              "      <td>Hard</td>\n",
              "      <td>2nd Round</td>\n",
              "      <td>3</td>\n",
              "      <td>Federer R.</td>\n",
              "      <td>Millman J.</td>\n",
              "      <td>2.0</td>\n",
              "      <td>153.0</td>\n",
              "      <td>1.06</td>\n",
              "      <td>10.00</td>\n",
              "      <td>1.07</td>\n",
              "      <td>10.25</td>\n",
              "      <td>1500.000000</td>\n",
              "      <td>1516.000000</td>\n",
              "      <td>0.476990</td>\n",
              "      <td>0.523010</td>\n",
              "      <td>0</td>\n",
              "      <td>1</td>\n",
              "      <td>0</td>\n",
              "      <td>0</td>\n",
              "      <td>0</td>\n",
              "      <td>1</td>\n",
              "      <td>0.0</td>\n",
              "      <td>1.0</td>\n",
              "      <td>0</td>\n",
              "      <td>1</td>\n",
              "      <td>0</td>\n",
              "      <td>0</td>\n",
              "      <td>0</td>\n",
              "      <td>1</td>\n",
              "      <td>0.0</td>\n",
              "      <td>1.0</td>\n",
              "    </tr>\n",
              "    <tr>\n",
              "      <th>70</th>\n",
              "      <td>72</td>\n",
              "      <td>1</td>\n",
              "      <td>Brisbane</td>\n",
              "      <td>Brisbane International</td>\n",
              "      <td>2015-01-09</td>\n",
              "      <td>ATP250</td>\n",
              "      <td>Outdoor</td>\n",
              "      <td>Hard</td>\n",
              "      <td>Quarterfinals</td>\n",
              "      <td>3</td>\n",
              "      <td>Federer R.</td>\n",
              "      <td>Duckworth J.</td>\n",
              "      <td>2.0</td>\n",
              "      <td>125.0</td>\n",
              "      <td>1.05</td>\n",
              "      <td>11.00</td>\n",
              "      <td>1.06</td>\n",
              "      <td>13.40</td>\n",
              "      <td>1516.736307</td>\n",
              "      <td>1532.000000</td>\n",
              "      <td>0.478048</td>\n",
              "      <td>0.521952</td>\n",
              "      <td>1</td>\n",
              "      <td>2</td>\n",
              "      <td>0</td>\n",
              "      <td>0</td>\n",
              "      <td>1</td>\n",
              "      <td>2</td>\n",
              "      <td>1.0</td>\n",
              "      <td>1.0</td>\n",
              "      <td>1</td>\n",
              "      <td>2</td>\n",
              "      <td>0</td>\n",
              "      <td>0</td>\n",
              "      <td>1</td>\n",
              "      <td>2</td>\n",
              "      <td>1.0</td>\n",
              "      <td>1.0</td>\n",
              "    </tr>\n",
              "    <tr>\n",
              "      <th>77</th>\n",
              "      <td>79</td>\n",
              "      <td>1</td>\n",
              "      <td>Brisbane</td>\n",
              "      <td>Brisbane International</td>\n",
              "      <td>2015-01-10</td>\n",
              "      <td>ATP250</td>\n",
              "      <td>Outdoor</td>\n",
              "      <td>Hard</td>\n",
              "      <td>Semifinals</td>\n",
              "      <td>3</td>\n",
              "      <td>Federer R.</td>\n",
              "      <td>Dimitrov G.</td>\n",
              "      <td>2.0</td>\n",
              "      <td>11.0</td>\n",
              "      <td>1.28</td>\n",
              "      <td>3.75</td>\n",
              "      <td>1.32</td>\n",
              "      <td>3.79</td>\n",
              "      <td>1533.438774</td>\n",
              "      <td>1533.438774</td>\n",
              "      <td>0.500000</td>\n",
              "      <td>0.500000</td>\n",
              "      <td>2</td>\n",
              "      <td>2</td>\n",
              "      <td>0</td>\n",
              "      <td>0</td>\n",
              "      <td>2</td>\n",
              "      <td>2</td>\n",
              "      <td>1.0</td>\n",
              "      <td>1.0</td>\n",
              "      <td>2</td>\n",
              "      <td>2</td>\n",
              "      <td>0</td>\n",
              "      <td>0</td>\n",
              "      <td>2</td>\n",
              "      <td>2</td>\n",
              "      <td>1.0</td>\n",
              "      <td>1.0</td>\n",
              "    </tr>\n",
              "    <tr>\n",
              "      <th>81</th>\n",
              "      <td>83</td>\n",
              "      <td>1</td>\n",
              "      <td>Brisbane</td>\n",
              "      <td>Brisbane International</td>\n",
              "      <td>2015-01-11</td>\n",
              "      <td>ATP250</td>\n",
              "      <td>Outdoor</td>\n",
              "      <td>Hard</td>\n",
              "      <td>The Final</td>\n",
              "      <td>3</td>\n",
              "      <td>Federer R.</td>\n",
              "      <td>Raonic M.</td>\n",
              "      <td>2.0</td>\n",
              "      <td>8.0</td>\n",
              "      <td>1.25</td>\n",
              "      <td>4.00</td>\n",
              "      <td>1.30</td>\n",
              "      <td>3.97</td>\n",
              "      <td>1549.438774</td>\n",
              "      <td>1549.438774</td>\n",
              "      <td>0.500000</td>\n",
              "      <td>0.500000</td>\n",
              "      <td>3</td>\n",
              "      <td>3</td>\n",
              "      <td>0</td>\n",
              "      <td>0</td>\n",
              "      <td>3</td>\n",
              "      <td>3</td>\n",
              "      <td>1.0</td>\n",
              "      <td>1.0</td>\n",
              "      <td>3</td>\n",
              "      <td>3</td>\n",
              "      <td>0</td>\n",
              "      <td>0</td>\n",
              "      <td>3</td>\n",
              "      <td>3</td>\n",
              "      <td>1.0</td>\n",
              "      <td>1.0</td>\n",
              "    </tr>\n",
              "    <tr>\n",
              "      <th>158</th>\n",
              "      <td>161</td>\n",
              "      <td>6</td>\n",
              "      <td>Melbourne</td>\n",
              "      <td>Australian Open</td>\n",
              "      <td>2015-01-19</td>\n",
              "      <td>Grand Slam</td>\n",
              "      <td>Outdoor</td>\n",
              "      <td>Hard</td>\n",
              "      <td>1st Round</td>\n",
              "      <td>5</td>\n",
              "      <td>Federer R.</td>\n",
              "      <td>Lu Y.H.</td>\n",
              "      <td>2.0</td>\n",
              "      <td>47.0</td>\n",
              "      <td>1.02</td>\n",
              "      <td>17.00</td>\n",
              "      <td>1.03</td>\n",
              "      <td>20.00</td>\n",
              "      <td>1565.438774</td>\n",
              "      <td>1513.188319</td>\n",
              "      <td>0.574633</td>\n",
              "      <td>0.425367</td>\n",
              "      <td>4</td>\n",
              "      <td>3</td>\n",
              "      <td>0</td>\n",
              "      <td>2</td>\n",
              "      <td>4</td>\n",
              "      <td>5</td>\n",
              "      <td>1.0</td>\n",
              "      <td>0.6</td>\n",
              "      <td>4</td>\n",
              "      <td>3</td>\n",
              "      <td>0</td>\n",
              "      <td>2</td>\n",
              "      <td>4</td>\n",
              "      <td>5</td>\n",
              "      <td>1.0</td>\n",
              "      <td>0.6</td>\n",
              "    </tr>\n",
              "  </tbody>\n",
              "</table>\n",
              "</div>"
            ],
            "text/plain": [
              "     index  ATP   Location  ... Loser_Played_S Winner_WinRate_S Loser_WinRate_S\n",
              "58      60    1   Brisbane  ...              1              0.0             1.0\n",
              "70      72    1   Brisbane  ...              2              1.0             1.0\n",
              "77      79    1   Brisbane  ...              2              1.0             1.0\n",
              "81      83    1   Brisbane  ...              3              1.0             1.0\n",
              "158    161    6  Melbourne  ...              5              1.0             0.6\n",
              "\n",
              "[5 rows x 38 columns]"
            ]
          },
          "metadata": {},
          "execution_count": 14
        }
      ]
    },
    {
      "cell_type": "markdown",
      "metadata": {
        "id": "2Bj4JTciX8rM"
      },
      "source": [
        "#### Remove Winners / Losers -> Replace with P1 and P2 taken randomly "
      ]
    },
    {
      "cell_type": "code",
      "metadata": {
        "id": "gxoYxwOgYpaB"
      },
      "source": [
        "# Values of Player 1 and 2 are taken randomly\n",
        "\n",
        "# First we create Player 1\n",
        "\n",
        "v = data[['Winner', 'Loser']].values\n",
        "ix = np.random.randint(0,v.shape[1],data.shape[0])\n",
        "data['P1'] = np.take_along_axis(v, ix[:,None], 1)\n",
        "\n",
        "# Then Player 2 \n",
        "\n",
        "data['P2'] = np.where(data.P1 == data.Winner,data.Loser, data.Winner)\n",
        "\n",
        "# We then allocate all the attributes by checking the position of P1/P2 vs Winner/Loser on each line:\n",
        "\n",
        "data['P1_Rank']=np.where(data.P1 == data.Winner,data.WRank,data.LRank)\n",
        "data['P2_Rank']=np.where(data.P2 == data.Winner,data.WRank,data.LRank)\n",
        "\n",
        "data['P1_Elo']=np.where(data.P1 == data.Winner,data.elo_winner,data.elo_loser)\n",
        "data['P2_Elo']=np.where(data.P2 == data.Winner,data.elo_winner,data.elo_loser)\n",
        "\n",
        "data['P1_p_Elo']=np.where(data.P1 == data.Winner,data.p_elo_winner,data.p_elo_loser)\n",
        "data['P2_p_Elo']=np.where(data.P2 == data.Winner,data.p_elo_winner,data.p_elo_loser)\n",
        "\n",
        "data['P1_Odds_Pin']=np.where(data.P1 == data.Winner,data.PSW,data.PSL)\n",
        "data['P2_Odds_Pin']=np.where(data.P2 == data.Winner,data.PSW,data.PSL)\n",
        "\n",
        "data['P1_Odds_B365']=np.where(data.P1 == data.Winner,data.B365W,data.B365L)\n",
        "data['P2_Odds_B365']=np.where(data.P2 == data.Winner,data.B365W,data.B365L)\n",
        "\n",
        "data['P1_Wins']=np.where(data.P1 == data.Winner,data.Winner_wins_R,data.Loser_wins_R)\n",
        "data['P2_Wins']=np.where(data.P2 == data.Winner,data.Winner_wins_R,data.Loser_wins_R)\n",
        "\n",
        "data['P1_Defeats']=np.where(data.P1 == data.Winner,data.Winner_defeats_R,data.Loser_defeats_R)\n",
        "data['P2_Defeats']=np.where(data.P2 == data.Winner,data.Winner_defeats_R,data.Loser_defeats_R)\n",
        "\n",
        "data['P1_Played']=np.where(data.P1 == data.Winner,data.Winner_Played_R,data.Loser_Played_R)\n",
        "data['P2_Played']=np.where(data.P2 == data.Winner,data.Winner_Played_R,data.Loser_Played_R)\n",
        "\n",
        "data['P1_WinRate']=np.where(data.P1 == data.Winner,data.Winner_WinRate_R,data.Loser_WinRate_R)\n",
        "data['P2_WinRate']=np.where(data.P2 == data.Winner,data.Winner_WinRate_R,data.Loser_WinRate_R)\n",
        "\n",
        "data['P1_Surface_Wins']=np.where(data.P1 == data.Winner,data.Winner_wins_S,data.Loser_wins_S)\n",
        "data['P2_Surface_Wins']=np.where(data.P2 == data.Winner,data.Winner_wins_S,data.Loser_wins_S)\n",
        "\n",
        "data['P1_Surface_Defeats']=np.where(data.P1 == data.Winner,data.Winner_defeats_S,data.Loser_defeats_S)\n",
        "data['P2_Surface_Defeats']=np.where(data.P2 == data.Winner,data.Winner_defeats_S,data.Loser_defeats_S)\n",
        "\n",
        "data['P1_Surface_Played']=np.where(data.P1 == data.Winner,data.Winner_Played_S,data.Loser_Played_S)\n",
        "data['P2_Surface_Played']=np.where(data.P2 == data.Winner,data.Winner_Played_S,data.Loser_Played_S)\n",
        "\n",
        "data['P1_Surface_WinRate']=np.where(data.P1 == data.Winner,data.Winner_WinRate_S,data.Loser_WinRate_S)\n",
        "data['P2_Surface_WinRate']=np.where(data.P2 == data.Winner,data.Winner_WinRate_S,data.Loser_WinRate_S)\n",
        "\n",
        "\n"
      ],
      "execution_count": 15,
      "outputs": []
    },
    {
      "cell_type": "markdown",
      "metadata": {
        "id": "yDbTBzpwjasD"
      },
      "source": [
        "#### Target variable preparation"
      ]
    },
    {
      "cell_type": "code",
      "metadata": {
        "id": "cCZYLWA0T7Ca"
      },
      "source": [
        "# Code '1' if player 1 wins, '2' if player 2 wins -> classification task\n",
        "\n",
        "data['Won']=np.where(data.P1 == data.Winner,1,2)\n"
      ],
      "execution_count": 16,
      "outputs": []
    },
    {
      "cell_type": "code",
      "metadata": {
        "id": "JK_w4U8j4A9b"
      },
      "source": [
        "# Next, we remove the columns we don't need\n",
        "\n",
        "data.drop(['WRank','LRank','PSL','PSW','B365W','B365L','elo_winner','elo_loser','p_elo_winner','p_elo_loser','Loser','Winner',\n",
        "           'Winner_wins_R','Loser_wins_R','Winner_defeats_R','Loser_defeats_R','Winner_Played_R','Loser_Played_R','Winner_WinRate_R','Loser_WinRate_R',\n",
        "           'Winner_wins_S','Loser_wins_S','Winner_defeats_S','Loser_defeats_S','Winner_Played_S','Loser_Played_S','Winner_WinRate_S','Loser_WinRate_S'],axis=1,inplace=True) \n"
      ],
      "execution_count": 17,
      "outputs": []
    },
    {
      "cell_type": "code",
      "metadata": {
        "id": "PUOUjDL2wm-a"
      },
      "source": [
        "# Reorder Columns -> Winner at the end\n",
        "\n",
        "cols = list(data.columns.values) # Make a list of all of the columns in the df\n",
        "cols.pop(cols.index('Won')) # Remove 'Winner' from list\n",
        "data = data[cols+['Won']] # change dataframe with Winner at the end\n",
        "\n",
        "# Adjusting Columns width\n",
        "\n",
        "pd.set_option('max_colwidth', 13)"
      ],
      "execution_count": 18,
      "outputs": []
    },
    {
      "cell_type": "code",
      "metadata": {
        "id": "yiVBFKlnKw8R",
        "colab": {
          "base_uri": "https://localhost:8080/",
          "height": 428
        },
        "outputId": "bfa04b20-2078-4a21-e50f-fca546a07ad3"
      },
      "source": [
        "# Checks - Gasquet\n",
        "\n",
        "data[(data.P1=='Gasquet R.')|(data.P2=='Gasquet R.')].head(7)\n"
      ],
      "execution_count": 19,
      "outputs": [
        {
          "output_type": "execute_result",
          "data": {
            "text/html": [
              "<div>\n",
              "<style scoped>\n",
              "    .dataframe tbody tr th:only-of-type {\n",
              "        vertical-align: middle;\n",
              "    }\n",
              "\n",
              "    .dataframe tbody tr th {\n",
              "        vertical-align: top;\n",
              "    }\n",
              "\n",
              "    .dataframe thead th {\n",
              "        text-align: right;\n",
              "    }\n",
              "</style>\n",
              "<table border=\"1\" class=\"dataframe\">\n",
              "  <thead>\n",
              "    <tr style=\"text-align: right;\">\n",
              "      <th></th>\n",
              "      <th>index</th>\n",
              "      <th>ATP</th>\n",
              "      <th>Location</th>\n",
              "      <th>Tournament</th>\n",
              "      <th>Date</th>\n",
              "      <th>Series</th>\n",
              "      <th>Court</th>\n",
              "      <th>Surface</th>\n",
              "      <th>Round</th>\n",
              "      <th>Best of</th>\n",
              "      <th>P1</th>\n",
              "      <th>P2</th>\n",
              "      <th>P1_Rank</th>\n",
              "      <th>P2_Rank</th>\n",
              "      <th>P1_Elo</th>\n",
              "      <th>P2_Elo</th>\n",
              "      <th>P1_p_Elo</th>\n",
              "      <th>P2_p_Elo</th>\n",
              "      <th>P1_Odds_Pin</th>\n",
              "      <th>P2_Odds_Pin</th>\n",
              "      <th>P1_Odds_B365</th>\n",
              "      <th>P2_Odds_B365</th>\n",
              "      <th>P1_Wins</th>\n",
              "      <th>P2_Wins</th>\n",
              "      <th>P1_Defeats</th>\n",
              "      <th>P2_Defeats</th>\n",
              "      <th>P1_Played</th>\n",
              "      <th>P2_Played</th>\n",
              "      <th>P1_WinRate</th>\n",
              "      <th>P2_WinRate</th>\n",
              "      <th>P1_Surface_Wins</th>\n",
              "      <th>P2_Surface_Wins</th>\n",
              "      <th>P1_Surface_Defeats</th>\n",
              "      <th>P2_Surface_Defeats</th>\n",
              "      <th>P1_Surface_Played</th>\n",
              "      <th>P2_Surface_Played</th>\n",
              "      <th>P1_Surface_WinRate</th>\n",
              "      <th>P2_Surface_WinRate</th>\n",
              "      <th>Won</th>\n",
              "    </tr>\n",
              "  </thead>\n",
              "  <tbody>\n",
              "    <tr>\n",
              "      <th>8</th>\n",
              "      <td>9</td>\n",
              "      <td>3</td>\n",
              "      <td>Doha</td>\n",
              "      <td>Qatar Exx...</td>\n",
              "      <td>2015-01-05</td>\n",
              "      <td>ATP250</td>\n",
              "      <td>Outdoor</td>\n",
              "      <td>Hard</td>\n",
              "      <td>1st Round</td>\n",
              "      <td>3</td>\n",
              "      <td>Andujar P.</td>\n",
              "      <td>Gasquet R.</td>\n",
              "      <td>41.0</td>\n",
              "      <td>26.0</td>\n",
              "      <td>1500.000000</td>\n",
              "      <td>1500.000000</td>\n",
              "      <td>0.500000</td>\n",
              "      <td>0.500000</td>\n",
              "      <td>4.44</td>\n",
              "      <td>1.24</td>\n",
              "      <td>4.33</td>\n",
              "      <td>1.20</td>\n",
              "      <td>0</td>\n",
              "      <td>0</td>\n",
              "      <td>0</td>\n",
              "      <td>0</td>\n",
              "      <td>0</td>\n",
              "      <td>0</td>\n",
              "      <td>0.000000</td>\n",
              "      <td>0.00</td>\n",
              "      <td>0</td>\n",
              "      <td>0</td>\n",
              "      <td>0</td>\n",
              "      <td>0</td>\n",
              "      <td>0</td>\n",
              "      <td>0</td>\n",
              "      <td>0.000000</td>\n",
              "      <td>0.00</td>\n",
              "      <td>2</td>\n",
              "    </tr>\n",
              "    <tr>\n",
              "      <th>38</th>\n",
              "      <td>40</td>\n",
              "      <td>3</td>\n",
              "      <td>Doha</td>\n",
              "      <td>Qatar Exx...</td>\n",
              "      <td>2015-01-07</td>\n",
              "      <td>ATP250</td>\n",
              "      <td>Outdoor</td>\n",
              "      <td>Hard</td>\n",
              "      <td>2nd Round</td>\n",
              "      <td>3</td>\n",
              "      <td>Bolelli S.</td>\n",
              "      <td>Gasquet R.</td>\n",
              "      <td>52.0</td>\n",
              "      <td>26.0</td>\n",
              "      <td>1516.000000</td>\n",
              "      <td>1516.000000</td>\n",
              "      <td>0.500000</td>\n",
              "      <td>0.500000</td>\n",
              "      <td>4.14</td>\n",
              "      <td>1.28</td>\n",
              "      <td>3.75</td>\n",
              "      <td>1.25</td>\n",
              "      <td>1</td>\n",
              "      <td>1</td>\n",
              "      <td>0</td>\n",
              "      <td>0</td>\n",
              "      <td>1</td>\n",
              "      <td>1</td>\n",
              "      <td>1.000000</td>\n",
              "      <td>1.00</td>\n",
              "      <td>1</td>\n",
              "      <td>1</td>\n",
              "      <td>0</td>\n",
              "      <td>0</td>\n",
              "      <td>1</td>\n",
              "      <td>1</td>\n",
              "      <td>1.000000</td>\n",
              "      <td>1.00</td>\n",
              "      <td>2</td>\n",
              "    </tr>\n",
              "    <tr>\n",
              "      <th>62</th>\n",
              "      <td>64</td>\n",
              "      <td>3</td>\n",
              "      <td>Doha</td>\n",
              "      <td>Qatar Exx...</td>\n",
              "      <td>2015-01-08</td>\n",
              "      <td>ATP250</td>\n",
              "      <td>Outdoor</td>\n",
              "      <td>Hard</td>\n",
              "      <td>Quarterfi...</td>\n",
              "      <td>3</td>\n",
              "      <td>Berdych T.</td>\n",
              "      <td>Gasquet R.</td>\n",
              "      <td>7.0</td>\n",
              "      <td>26.0</td>\n",
              "      <td>1532.000000</td>\n",
              "      <td>1532.000000</td>\n",
              "      <td>0.500000</td>\n",
              "      <td>0.500000</td>\n",
              "      <td>1.43</td>\n",
              "      <td>3.12</td>\n",
              "      <td>1.40</td>\n",
              "      <td>2.75</td>\n",
              "      <td>2</td>\n",
              "      <td>2</td>\n",
              "      <td>0</td>\n",
              "      <td>0</td>\n",
              "      <td>2</td>\n",
              "      <td>2</td>\n",
              "      <td>1.000000</td>\n",
              "      <td>1.00</td>\n",
              "      <td>2</td>\n",
              "      <td>2</td>\n",
              "      <td>0</td>\n",
              "      <td>0</td>\n",
              "      <td>2</td>\n",
              "      <td>2</td>\n",
              "      <td>1.000000</td>\n",
              "      <td>1.00</td>\n",
              "      <td>1</td>\n",
              "    </tr>\n",
              "    <tr>\n",
              "      <th>144</th>\n",
              "      <td>147</td>\n",
              "      <td>6</td>\n",
              "      <td>Melbourne</td>\n",
              "      <td>Australia...</td>\n",
              "      <td>2015-01-19</td>\n",
              "      <td>Grand Slam</td>\n",
              "      <td>Outdoor</td>\n",
              "      <td>Hard</td>\n",
              "      <td>1st Round</td>\n",
              "      <td>5</td>\n",
              "      <td>Gasquet R.</td>\n",
              "      <td>Berlocq C.</td>\n",
              "      <td>28.0</td>\n",
              "      <td>70.0</td>\n",
              "      <td>1516.000000</td>\n",
              "      <td>1484.000000</td>\n",
              "      <td>0.545922</td>\n",
              "      <td>0.454078</td>\n",
              "      <td>1.08</td>\n",
              "      <td>10.15</td>\n",
              "      <td>1.08</td>\n",
              "      <td>8.00</td>\n",
              "      <td>2</td>\n",
              "      <td>0</td>\n",
              "      <td>1</td>\n",
              "      <td>1</td>\n",
              "      <td>3</td>\n",
              "      <td>1</td>\n",
              "      <td>0.666667</td>\n",
              "      <td>0.00</td>\n",
              "      <td>2</td>\n",
              "      <td>0</td>\n",
              "      <td>1</td>\n",
              "      <td>1</td>\n",
              "      <td>3</td>\n",
              "      <td>1</td>\n",
              "      <td>0.666667</td>\n",
              "      <td>0.00</td>\n",
              "      <td>1</td>\n",
              "    </tr>\n",
              "    <tr>\n",
              "      <th>202</th>\n",
              "      <td>208</td>\n",
              "      <td>6</td>\n",
              "      <td>Melbourne</td>\n",
              "      <td>Australia...</td>\n",
              "      <td>2015-01-21</td>\n",
              "      <td>Grand Slam</td>\n",
              "      <td>Outdoor</td>\n",
              "      <td>Hard</td>\n",
              "      <td>2nd Round</td>\n",
              "      <td>5</td>\n",
              "      <td>Duckworth J.</td>\n",
              "      <td>Gasquet R.</td>\n",
              "      <td>120.0</td>\n",
              "      <td>28.0</td>\n",
              "      <td>1530.593510</td>\n",
              "      <td>1530.530498</td>\n",
              "      <td>0.500091</td>\n",
              "      <td>0.499909</td>\n",
              "      <td>7.04</td>\n",
              "      <td>1.13</td>\n",
              "      <td>9.00</td>\n",
              "      <td>1.07</td>\n",
              "      <td>3</td>\n",
              "      <td>3</td>\n",
              "      <td>1</td>\n",
              "      <td>1</td>\n",
              "      <td>4</td>\n",
              "      <td>4</td>\n",
              "      <td>0.750000</td>\n",
              "      <td>0.75</td>\n",
              "      <td>3</td>\n",
              "      <td>3</td>\n",
              "      <td>1</td>\n",
              "      <td>1</td>\n",
              "      <td>4</td>\n",
              "      <td>4</td>\n",
              "      <td>0.750000</td>\n",
              "      <td>0.75</td>\n",
              "      <td>2</td>\n",
              "    </tr>\n",
              "    <tr>\n",
              "      <th>232</th>\n",
              "      <td>240</td>\n",
              "      <td>6</td>\n",
              "      <td>Melbourne</td>\n",
              "      <td>Australia...</td>\n",
              "      <td>2015-01-23</td>\n",
              "      <td>Grand Slam</td>\n",
              "      <td>Outdoor</td>\n",
              "      <td>Hard</td>\n",
              "      <td>3rd Round</td>\n",
              "      <td>5</td>\n",
              "      <td>Anderson K.</td>\n",
              "      <td>Gasquet R.</td>\n",
              "      <td>15.0</td>\n",
              "      <td>28.0</td>\n",
              "      <td>1535.709293</td>\n",
              "      <td>1546.533400</td>\n",
              "      <td>0.484428</td>\n",
              "      <td>0.515572</td>\n",
              "      <td>2.56</td>\n",
              "      <td>1.59</td>\n",
              "      <td>2.50</td>\n",
              "      <td>1.50</td>\n",
              "      <td>4</td>\n",
              "      <td>4</td>\n",
              "      <td>2</td>\n",
              "      <td>1</td>\n",
              "      <td>6</td>\n",
              "      <td>5</td>\n",
              "      <td>0.666667</td>\n",
              "      <td>0.80</td>\n",
              "      <td>4</td>\n",
              "      <td>4</td>\n",
              "      <td>2</td>\n",
              "      <td>1</td>\n",
              "      <td>6</td>\n",
              "      <td>5</td>\n",
              "      <td>0.666667</td>\n",
              "      <td>0.80</td>\n",
              "      <td>1</td>\n",
              "    </tr>\n",
              "    <tr>\n",
              "      <th>291</th>\n",
              "      <td>300</td>\n",
              "      <td>7</td>\n",
              "      <td>Montpellier</td>\n",
              "      <td>Open Sud ...</td>\n",
              "      <td>2015-02-04</td>\n",
              "      <td>ATP250</td>\n",
              "      <td>Indoor</td>\n",
              "      <td>Hard</td>\n",
              "      <td>2nd Round</td>\n",
              "      <td>3</td>\n",
              "      <td>Gasquet R.</td>\n",
              "      <td>Pouille L.</td>\n",
              "      <td>28.0</td>\n",
              "      <td>115.0</td>\n",
              "      <td>1530.035093</td>\n",
              "      <td>1516.360103</td>\n",
              "      <td>0.519670</td>\n",
              "      <td>0.480330</td>\n",
              "      <td>1.21</td>\n",
              "      <td>5.02</td>\n",
              "      <td>1.18</td>\n",
              "      <td>4.50</td>\n",
              "      <td>4</td>\n",
              "      <td>3</td>\n",
              "      <td>2</td>\n",
              "      <td>2</td>\n",
              "      <td>6</td>\n",
              "      <td>5</td>\n",
              "      <td>0.666667</td>\n",
              "      <td>0.60</td>\n",
              "      <td>4</td>\n",
              "      <td>3</td>\n",
              "      <td>2</td>\n",
              "      <td>2</td>\n",
              "      <td>6</td>\n",
              "      <td>5</td>\n",
              "      <td>0.666667</td>\n",
              "      <td>0.60</td>\n",
              "      <td>1</td>\n",
              "    </tr>\n",
              "  </tbody>\n",
              "</table>\n",
              "</div>"
            ],
            "text/plain": [
              "     index  ATP     Location  ... P1_Surface_WinRate P2_Surface_WinRate Won\n",
              "8        9    3         Doha  ...      0.000000               0.00        2\n",
              "38      40    3         Doha  ...      1.000000               1.00        2\n",
              "62      64    3         Doha  ...      1.000000               1.00        1\n",
              "144    147    6    Melbourne  ...      0.666667               0.00        1\n",
              "202    208    6    Melbourne  ...      0.750000               0.75        2\n",
              "232    240    6    Melbourne  ...      0.666667               0.80        1\n",
              "291    300    7  Montpellier  ...      0.666667               0.60        1\n",
              "\n",
              "[7 rows x 39 columns]"
            ]
          },
          "metadata": {},
          "execution_count": 19
        }
      ]
    },
    {
      "cell_type": "code",
      "metadata": {
        "id": "UIIcs9TjI3WI"
      },
      "source": [
        "# Additional variables for data analysis\n",
        "\n",
        "data['Year']=data.Date.dt.year\n",
        "data['Month']=data.Date.dt.month"
      ],
      "execution_count": 20,
      "outputs": []
    },
    {
      "cell_type": "code",
      "metadata": {
        "id": "BAhvWg37I_p0",
        "colab": {
          "base_uri": "https://localhost:8080/",
          "height": 330
        },
        "outputId": "f9d24954-f9de-45a4-b547-d8c249f5ed59"
      },
      "source": [
        "data.tail()"
      ],
      "execution_count": 21,
      "outputs": [
        {
          "output_type": "execute_result",
          "data": {
            "text/html": [
              "<div>\n",
              "<style scoped>\n",
              "    .dataframe tbody tr th:only-of-type {\n",
              "        vertical-align: middle;\n",
              "    }\n",
              "\n",
              "    .dataframe tbody tr th {\n",
              "        vertical-align: top;\n",
              "    }\n",
              "\n",
              "    .dataframe thead th {\n",
              "        text-align: right;\n",
              "    }\n",
              "</style>\n",
              "<table border=\"1\" class=\"dataframe\">\n",
              "  <thead>\n",
              "    <tr style=\"text-align: right;\">\n",
              "      <th></th>\n",
              "      <th>index</th>\n",
              "      <th>ATP</th>\n",
              "      <th>Location</th>\n",
              "      <th>Tournament</th>\n",
              "      <th>Date</th>\n",
              "      <th>Series</th>\n",
              "      <th>Court</th>\n",
              "      <th>Surface</th>\n",
              "      <th>Round</th>\n",
              "      <th>Best of</th>\n",
              "      <th>P1</th>\n",
              "      <th>P2</th>\n",
              "      <th>P1_Rank</th>\n",
              "      <th>P2_Rank</th>\n",
              "      <th>P1_Elo</th>\n",
              "      <th>P2_Elo</th>\n",
              "      <th>P1_p_Elo</th>\n",
              "      <th>P2_p_Elo</th>\n",
              "      <th>P1_Odds_Pin</th>\n",
              "      <th>P2_Odds_Pin</th>\n",
              "      <th>P1_Odds_B365</th>\n",
              "      <th>P2_Odds_B365</th>\n",
              "      <th>P1_Wins</th>\n",
              "      <th>P2_Wins</th>\n",
              "      <th>P1_Defeats</th>\n",
              "      <th>P2_Defeats</th>\n",
              "      <th>P1_Played</th>\n",
              "      <th>P2_Played</th>\n",
              "      <th>P1_WinRate</th>\n",
              "      <th>P2_WinRate</th>\n",
              "      <th>P1_Surface_Wins</th>\n",
              "      <th>P2_Surface_Wins</th>\n",
              "      <th>P1_Surface_Defeats</th>\n",
              "      <th>P2_Surface_Defeats</th>\n",
              "      <th>P1_Surface_Played</th>\n",
              "      <th>P2_Surface_Played</th>\n",
              "      <th>P1_Surface_WinRate</th>\n",
              "      <th>P2_Surface_WinRate</th>\n",
              "      <th>Won</th>\n",
              "      <th>Year</th>\n",
              "      <th>Month</th>\n",
              "    </tr>\n",
              "  </thead>\n",
              "  <tbody>\n",
              "    <tr>\n",
              "      <th>15701</th>\n",
              "      <td>16475</td>\n",
              "      <td>49</td>\n",
              "      <td>New York</td>\n",
              "      <td>US Open</td>\n",
              "      <td>2021-09-08</td>\n",
              "      <td>Grand Slam</td>\n",
              "      <td>Outdoor</td>\n",
              "      <td>Hard</td>\n",
              "      <td>Quarterfi...</td>\n",
              "      <td>5</td>\n",
              "      <td>Zverev A.</td>\n",
              "      <td>Harris L.</td>\n",
              "      <td>4.0</td>\n",
              "      <td>46.0</td>\n",
              "      <td>1967.301571</td>\n",
              "      <td>1703.441883</td>\n",
              "      <td>0.820376</td>\n",
              "      <td>0.179624</td>\n",
              "      <td>1.14</td>\n",
              "      <td>6.90</td>\n",
              "      <td>1.12</td>\n",
              "      <td>6.0</td>\n",
              "      <td>259</td>\n",
              "      <td>41</td>\n",
              "      <td>112</td>\n",
              "      <td>40</td>\n",
              "      <td>371</td>\n",
              "      <td>81</td>\n",
              "      <td>0.698113</td>\n",
              "      <td>0.506173</td>\n",
              "      <td>147</td>\n",
              "      <td>33</td>\n",
              "      <td>66</td>\n",
              "      <td>28</td>\n",
              "      <td>213</td>\n",
              "      <td>61</td>\n",
              "      <td>0.690141</td>\n",
              "      <td>0.540984</td>\n",
              "      <td>1</td>\n",
              "      <td>2021</td>\n",
              "      <td>9</td>\n",
              "    </tr>\n",
              "    <tr>\n",
              "      <th>15702</th>\n",
              "      <td>16476</td>\n",
              "      <td>49</td>\n",
              "      <td>New York</td>\n",
              "      <td>US Open</td>\n",
              "      <td>2021-09-09</td>\n",
              "      <td>Grand Slam</td>\n",
              "      <td>Outdoor</td>\n",
              "      <td>Hard</td>\n",
              "      <td>Quarterfi...</td>\n",
              "      <td>5</td>\n",
              "      <td>Djokovic N.</td>\n",
              "      <td>Berrettin...</td>\n",
              "      <td>1.0</td>\n",
              "      <td>8.0</td>\n",
              "      <td>2128.466902</td>\n",
              "      <td>1909.649603</td>\n",
              "      <td>0.778960</td>\n",
              "      <td>0.221040</td>\n",
              "      <td>1.12</td>\n",
              "      <td>7.81</td>\n",
              "      <td>1.10</td>\n",
              "      <td>7.0</td>\n",
              "      <td>331</td>\n",
              "      <td>103</td>\n",
              "      <td>45</td>\n",
              "      <td>54</td>\n",
              "      <td>376</td>\n",
              "      <td>157</td>\n",
              "      <td>0.880319</td>\n",
              "      <td>0.656051</td>\n",
              "      <td>193</td>\n",
              "      <td>39</td>\n",
              "      <td>24</td>\n",
              "      <td>30</td>\n",
              "      <td>217</td>\n",
              "      <td>69</td>\n",
              "      <td>0.889401</td>\n",
              "      <td>0.565217</td>\n",
              "      <td>1</td>\n",
              "      <td>2021</td>\n",
              "      <td>9</td>\n",
              "    </tr>\n",
              "    <tr>\n",
              "      <th>15703</th>\n",
              "      <td>16477</td>\n",
              "      <td>49</td>\n",
              "      <td>New York</td>\n",
              "      <td>US Open</td>\n",
              "      <td>2021-09-10</td>\n",
              "      <td>Grand Slam</td>\n",
              "      <td>Outdoor</td>\n",
              "      <td>Hard</td>\n",
              "      <td>Semifinals</td>\n",
              "      <td>5</td>\n",
              "      <td>Medvedev D.</td>\n",
              "      <td>Auger-Ali...</td>\n",
              "      <td>2.0</td>\n",
              "      <td>15.0</td>\n",
              "      <td>1974.037478</td>\n",
              "      <td>1803.902012</td>\n",
              "      <td>0.726985</td>\n",
              "      <td>0.273015</td>\n",
              "      <td>1.17</td>\n",
              "      <td>5.95</td>\n",
              "      <td>1.16</td>\n",
              "      <td>5.0</td>\n",
              "      <td>181</td>\n",
              "      <td>87</td>\n",
              "      <td>84</td>\n",
              "      <td>63</td>\n",
              "      <td>265</td>\n",
              "      <td>150</td>\n",
              "      <td>0.683019</td>\n",
              "      <td>0.580000</td>\n",
              "      <td>141</td>\n",
              "      <td>52</td>\n",
              "      <td>51</td>\n",
              "      <td>37</td>\n",
              "      <td>192</td>\n",
              "      <td>89</td>\n",
              "      <td>0.734375</td>\n",
              "      <td>0.584270</td>\n",
              "      <td>1</td>\n",
              "      <td>2021</td>\n",
              "      <td>9</td>\n",
              "    </tr>\n",
              "    <tr>\n",
              "      <th>15704</th>\n",
              "      <td>16478</td>\n",
              "      <td>49</td>\n",
              "      <td>New York</td>\n",
              "      <td>US Open</td>\n",
              "      <td>2021-09-11</td>\n",
              "      <td>Grand Slam</td>\n",
              "      <td>Outdoor</td>\n",
              "      <td>Hard</td>\n",
              "      <td>Semifinals</td>\n",
              "      <td>5</td>\n",
              "      <td>Zverev A.</td>\n",
              "      <td>Djokovic N.</td>\n",
              "      <td>4.0</td>\n",
              "      <td>1.0</td>\n",
              "      <td>1973.049533</td>\n",
              "      <td>2135.540195</td>\n",
              "      <td>0.281836</td>\n",
              "      <td>0.718164</td>\n",
              "      <td>3.14</td>\n",
              "      <td>1.42</td>\n",
              "      <td>3.00</td>\n",
              "      <td>1.4</td>\n",
              "      <td>260</td>\n",
              "      <td>332</td>\n",
              "      <td>112</td>\n",
              "      <td>45</td>\n",
              "      <td>372</td>\n",
              "      <td>377</td>\n",
              "      <td>0.698925</td>\n",
              "      <td>0.880637</td>\n",
              "      <td>148</td>\n",
              "      <td>194</td>\n",
              "      <td>66</td>\n",
              "      <td>24</td>\n",
              "      <td>214</td>\n",
              "      <td>218</td>\n",
              "      <td>0.691589</td>\n",
              "      <td>0.889908</td>\n",
              "      <td>2</td>\n",
              "      <td>2021</td>\n",
              "      <td>9</td>\n",
              "    </tr>\n",
              "    <tr>\n",
              "      <th>15705</th>\n",
              "      <td>16479</td>\n",
              "      <td>49</td>\n",
              "      <td>New York</td>\n",
              "      <td>US Open</td>\n",
              "      <td>2021-09-12</td>\n",
              "      <td>Grand Slam</td>\n",
              "      <td>Outdoor</td>\n",
              "      <td>Hard</td>\n",
              "      <td>The Final</td>\n",
              "      <td>5</td>\n",
              "      <td>Medvedev D.</td>\n",
              "      <td>Djokovic N.</td>\n",
              "      <td>2.0</td>\n",
              "      <td>1.0</td>\n",
              "      <td>1982.773962</td>\n",
              "      <td>2144.558955</td>\n",
              "      <td>0.282659</td>\n",
              "      <td>0.717341</td>\n",
              "      <td>3.14</td>\n",
              "      <td>1.42</td>\n",
              "      <td>3.00</td>\n",
              "      <td>1.4</td>\n",
              "      <td>182</td>\n",
              "      <td>333</td>\n",
              "      <td>84</td>\n",
              "      <td>45</td>\n",
              "      <td>266</td>\n",
              "      <td>378</td>\n",
              "      <td>0.684211</td>\n",
              "      <td>0.880952</td>\n",
              "      <td>142</td>\n",
              "      <td>195</td>\n",
              "      <td>51</td>\n",
              "      <td>24</td>\n",
              "      <td>193</td>\n",
              "      <td>219</td>\n",
              "      <td>0.735751</td>\n",
              "      <td>0.890411</td>\n",
              "      <td>1</td>\n",
              "      <td>2021</td>\n",
              "      <td>9</td>\n",
              "    </tr>\n",
              "  </tbody>\n",
              "</table>\n",
              "</div>"
            ],
            "text/plain": [
              "       index  ATP  Location Tournament  ... P2_Surface_WinRate Won  Year Month\n",
              "15701  16475   49  New York    US Open  ...      0.540984        1  2021     9\n",
              "15702  16476   49  New York    US Open  ...      0.565217        1  2021     9\n",
              "15703  16477   49  New York    US Open  ...      0.584270        1  2021     9\n",
              "15704  16478   49  New York    US Open  ...      0.889908        2  2021     9\n",
              "15705  16479   49  New York    US Open  ...      0.890411        1  2021     9\n",
              "\n",
              "[5 rows x 41 columns]"
            ]
          },
          "metadata": {},
          "execution_count": 21
        }
      ]
    },
    {
      "cell_type": "code",
      "metadata": {
        "colab": {
          "base_uri": "https://localhost:8080/"
        },
        "id": "bzVfgPXThe_T",
        "outputId": "88c18a68-3c9b-4ddd-d512-4085bc815ab7"
      },
      "source": [
        "data.info()"
      ],
      "execution_count": 22,
      "outputs": [
        {
          "output_type": "stream",
          "name": "stdout",
          "text": [
            "<class 'pandas.core.frame.DataFrame'>\n",
            "RangeIndex: 15706 entries, 0 to 15705\n",
            "Data columns (total 41 columns):\n",
            " #   Column              Non-Null Count  Dtype         \n",
            "---  ------              --------------  -----         \n",
            " 0   index               15706 non-null  int64         \n",
            " 1   ATP                 15706 non-null  int64         \n",
            " 2   Location            15706 non-null  object        \n",
            " 3   Tournament          15706 non-null  object        \n",
            " 4   Date                15706 non-null  datetime64[ns]\n",
            " 5   Series              15706 non-null  object        \n",
            " 6   Court               15706 non-null  object        \n",
            " 7   Surface             15706 non-null  object        \n",
            " 8   Round               15706 non-null  object        \n",
            " 9   Best of             15706 non-null  int64         \n",
            " 10  P1                  15706 non-null  object        \n",
            " 11  P2                  15706 non-null  object        \n",
            " 12  P1_Rank             15706 non-null  float64       \n",
            " 13  P2_Rank             15706 non-null  float64       \n",
            " 14  P1_Elo              15706 non-null  float64       \n",
            " 15  P2_Elo              15706 non-null  float64       \n",
            " 16  P1_p_Elo            15706 non-null  float64       \n",
            " 17  P2_p_Elo            15706 non-null  float64       \n",
            " 18  P1_Odds_Pin         15706 non-null  float64       \n",
            " 19  P2_Odds_Pin         15706 non-null  float64       \n",
            " 20  P1_Odds_B365        15706 non-null  float64       \n",
            " 21  P2_Odds_B365        15706 non-null  float64       \n",
            " 22  P1_Wins             15706 non-null  int64         \n",
            " 23  P2_Wins             15706 non-null  int64         \n",
            " 24  P1_Defeats          15706 non-null  int64         \n",
            " 25  P2_Defeats          15706 non-null  int64         \n",
            " 26  P1_Played           15706 non-null  int64         \n",
            " 27  P2_Played           15706 non-null  int64         \n",
            " 28  P1_WinRate          15706 non-null  float64       \n",
            " 29  P2_WinRate          15706 non-null  float64       \n",
            " 30  P1_Surface_Wins     15706 non-null  int64         \n",
            " 31  P2_Surface_Wins     15706 non-null  int64         \n",
            " 32  P1_Surface_Defeats  15706 non-null  int64         \n",
            " 33  P2_Surface_Defeats  15706 non-null  int64         \n",
            " 34  P1_Surface_Played   15706 non-null  int64         \n",
            " 35  P2_Surface_Played   15706 non-null  int64         \n",
            " 36  P1_Surface_WinRate  15706 non-null  float64       \n",
            " 37  P2_Surface_WinRate  15706 non-null  float64       \n",
            " 38  Won                 15706 non-null  int64         \n",
            " 39  Year                15706 non-null  int64         \n",
            " 40  Month               15706 non-null  int64         \n",
            "dtypes: datetime64[ns](1), float64(14), int64(18), object(8)\n",
            "memory usage: 4.9+ MB\n"
          ]
        }
      ]
    },
    {
      "cell_type": "code",
      "metadata": {
        "id": "qdbVFcNNdAzH"
      },
      "source": [
        "\n",
        "# Features selection\n",
        "\n",
        "data=data[['Year','Month','P1_Surface_WinRate','P2_Surface_WinRate','P1_p_Elo','P2_p_Elo','P1_Rank','P2_Rank','Won']].copy()\n",
        "\n",
        "\n"
      ],
      "execution_count": 23,
      "outputs": []
    },
    {
      "cell_type": "markdown",
      "metadata": {
        "id": "iLihBG0Gg-JE"
      },
      "source": [
        "We found the above parameters are the most efficient to build the strongest model. Adding more parameters may provide a marginally higher accuracy at the expense of an increased overfitting."
      ]
    },
    {
      "cell_type": "markdown",
      "metadata": {
        "id": "ZwxAVYTbiTtx"
      },
      "source": [
        "NB: Including the bookmaker's odds does provide an increased accuracy, however the model will almost exclusively rely on this feature which will not be efficient in order to achieve a positive ROI since we will only mimic (and do slightly worse) the bookmaker's prediction."
      ]
    },
    {
      "cell_type": "code",
      "metadata": {
        "id": "pgY_SpazQJTE",
        "colab": {
          "base_uri": "https://localhost:8080/",
          "height": 1000
        },
        "outputId": "bd2e604c-4ebd-497a-95ef-8dfc0e3b0691"
      },
      "source": [
        "# Heatmap \n",
        "\n",
        "plt.figure(figsize=(30,30))\n",
        "correlation = data.corr()\n",
        "sns.heatmap(correlation,  annot=True, cmap=\"RdBu_r\", center =0);\n",
        "plt.show()"
      ],
      "execution_count": 24,
      "outputs": [
        {
          "output_type": "display_data",
          "data": {
            "image/png": "[encoded data removed]",
            "text/plain": [
              "<Figure size 2160x2160 with 2 Axes>"
            ]
          },
          "metadata": {
            "needs_background": "light"
          }
        }
      ]
    },
    {
      "cell_type": "markdown",
      "metadata": {
        "id": "az85mg7JWhWy"
      },
      "source": [
        "#### Data Split and normalization"
      ]
    },
    {
      "cell_type": "code",
      "metadata": {
        "id": "SgCJMsYtWm7P"
      },
      "source": [
        "# Split data and target \n",
        "\n",
        "DATA = data.drop('Won',axis=1)\n",
        "TARGET = data['Won']"
      ],
      "execution_count": 25,
      "outputs": []
    },
    {
      "cell_type": "code",
      "metadata": {
        "id": "O2aj1VZ8Wm9x"
      },
      "source": [
        "# Split train/test\n",
        "\n",
        "from sklearn.model_selection import train_test_split\n",
        "\n",
        "X_train,X_test,y_train,y_test=train_test_split(DATA,TARGET,test_size=0.2,random_state=10)"
      ],
      "execution_count": 26,
      "outputs": []
    },
    {
      "cell_type": "code",
      "metadata": {
        "id": "Npxs7gSDxH4P"
      },
      "source": [
        "# Normalization\n",
        "\n",
        "#from sklearn.preprocessing import StandardScaler\n",
        "from sklearn.preprocessing import QuantileTransformer\n",
        "\n",
        "qt = QuantileTransformer(random_state=0)\n",
        "scaler=qt.fit(X_train)\n",
        "X_train_scaled = scaler.transform(X_train)\n",
        "X_test = scaler.transform(X_test)\n",
        "\n",
        "#from sklearn import preprocessing\n",
        "\n",
        "#scaler = preprocessing.StandardScaler().fit(X_train)\n",
        "#X_train_scaled = scaler.transform(X_train)\n",
        "#X_test = scaler.transform(X_test)"
      ],
      "execution_count": 27,
      "outputs": []
    },
    {
      "cell_type": "markdown",
      "metadata": {
        "id": "Q1ix9-Biin_z"
      },
      "source": [
        "We chose a Quantile Scaler over a StandardScaler as its performance is slightly higher. Indeed, dividing the players features in quantile helps recognize the fact that there is more difference between a player ranked 1 vs a player ranked 100 than there is between a player ranked 300 vs a player ranked 400."
      ]
    },
    {
      "cell_type": "markdown",
      "metadata": {
        "id": "vSDiC4tjSkH-"
      },
      "source": [
        "## **Model Selection (no hyperparameters tuning)**"
      ]
    },
    {
      "cell_type": "markdown",
      "metadata": {
        "id": "U6zazyDmjufB"
      },
      "source": [
        "In the following section, we test and try various models and check their features. We will select the best performing models and verify the added value of tuning their hyperparameters in the following section."
      ]
    },
    {
      "cell_type": "code",
      "metadata": {
        "id": "xpXq8lIlY92H",
        "colab": {
          "base_uri": "https://localhost:8080/"
        },
        "outputId": "99d9050d-c68f-42ee-cd1c-35f89d15860a"
      },
      "source": [
        "from sklearn import linear_model\n",
        "\n",
        "# Model training\n",
        "\n",
        "clf=linear_model.LogisticRegression(random_state=10)\n",
        "clf.fit(X_train_scaled,y_train)\n",
        "\n",
        "# Model assessment\n",
        "\n",
        "y_pred = clf.predict(X_test)\n",
        "\n",
        "# Confusion Matrix \n",
        "\n",
        "cm = pd.crosstab(y_test, y_pred, rownames=['Classe réelle'], colnames=['Classe prédite'])\n",
        "print(cm)\n",
        "\n",
        "# Score\n",
        "\n",
        "print('\\n''Score:',clf.score(X_test, y_test))\n",
        "\n",
        "#Classification report\n",
        "\n",
        "print('\\n',classification_report(y_test, y_pred))\n"
      ],
      "execution_count": 28,
      "outputs": [
        {
          "output_type": "stream",
          "name": "stdout",
          "text": [
            "Classe prédite    1     2\n",
            "Classe réelle            \n",
            "1               978   558\n",
            "2               501  1105\n",
            "\n",
            "Score: 0.6629535327816677\n",
            "\n",
            "               precision    recall  f1-score   support\n",
            "\n",
            "           1       0.66      0.64      0.65      1536\n",
            "           2       0.66      0.69      0.68      1606\n",
            "\n",
            "    accuracy                           0.66      3142\n",
            "   macro avg       0.66      0.66      0.66      3142\n",
            "weighted avg       0.66      0.66      0.66      3142\n",
            "\n"
          ]
        }
      ]
    },
    {
      "cell_type": "code",
      "metadata": {
        "colab": {
          "base_uri": "https://localhost:8080/",
          "height": 143
        },
        "id": "6CQaKZ0cW_TD",
        "outputId": "4c14f9ad-f955-4699-bd7b-ad34ea6373c0"
      },
      "source": [
        "probs = clf.predict_proba(X_test)\n",
        "\n",
        "y_preds = np.where(probs[:,1]>0.6,2,1)\n",
        "\n",
        "\n",
        "cm = pd.crosstab(y_test, y_preds, rownames=['Classe réelle'], colnames=['Classe prédite'])\n",
        "cm\n"
      ],
      "execution_count": 29,
      "outputs": [
        {
          "output_type": "execute_result",
          "data": {
            "text/html": [
              "<div>\n",
              "<style scoped>\n",
              "    .dataframe tbody tr th:only-of-type {\n",
              "        vertical-align: middle;\n",
              "    }\n",
              "\n",
              "    .dataframe tbody tr th {\n",
              "        vertical-align: top;\n",
              "    }\n",
              "\n",
              "    .dataframe thead th {\n",
              "        text-align: right;\n",
              "    }\n",
              "</style>\n",
              "<table border=\"1\" class=\"dataframe\">\n",
              "  <thead>\n",
              "    <tr style=\"text-align: right;\">\n",
              "      <th>Classe prédite</th>\n",
              "      <th>1</th>\n",
              "      <th>2</th>\n",
              "    </tr>\n",
              "    <tr>\n",
              "      <th>Classe réelle</th>\n",
              "      <th></th>\n",
              "      <th></th>\n",
              "    </tr>\n",
              "  </thead>\n",
              "  <tbody>\n",
              "    <tr>\n",
              "      <th>1</th>\n",
              "      <td>1213</td>\n",
              "      <td>323</td>\n",
              "    </tr>\n",
              "    <tr>\n",
              "      <th>2</th>\n",
              "      <td>794</td>\n",
              "      <td>812</td>\n",
              "    </tr>\n",
              "  </tbody>\n",
              "</table>\n",
              "</div>"
            ],
            "text/plain": [
              "Classe prédite     1    2\n",
              "Classe réelle            \n",
              "1               1213  323\n",
              "2                794  812"
            ]
          },
          "metadata": {},
          "execution_count": 29
        }
      ]
    },
    {
      "cell_type": "code",
      "metadata": {
        "id": "1fNzUNLLYUi3",
        "colab": {
          "base_uri": "https://localhost:8080/",
          "height": 295
        },
        "outputId": "0426b95c-a8e9-4676-f9b8-a0fa6fb2561a"
      },
      "source": [
        "from sklearn.metrics import roc_curve, auc\n",
        "fpr, tpr, seuils = roc_curve(y_test, y_preds, pos_label=1) #ou probs a la place de y_preds\n",
        "\n",
        "roc_auc = auc(tpr, fpr)\n",
        "\n",
        "plt.plot(tpr, fpr, color='orange',\n",
        "         lw=2, label='Modèle clf (auc = %0.2f)' % roc_auc)\n",
        "plt.plot([0, 1], [0, 1], color='navy', lw=2, linestyle='--', label='Aléatoire (auc = 0.5)')\n",
        "plt.xlim([0.0, 1.0])\n",
        "plt.ylim([0.0, 1.05])\n",
        "plt.xlabel('Taux faux positifs')\n",
        "plt.ylabel('Taux vrais positifs')\n",
        "plt.title('Courbe ROC')\n",
        "plt.legend(loc=\"lower right\")\n",
        "plt.show()\n"
      ],
      "execution_count": 30,
      "outputs": [
        {
          "output_type": "display_data",
          "data": {
            "image/png": "[encoded data removed]",
            "text/plain": [
              "<Figure size 432x288 with 1 Axes>"
            ]
          },
          "metadata": {
            "needs_background": "light"
          }
        }
      ]
    },
    {
      "cell_type": "code",
      "metadata": {
        "id": "LJlzIgvFxcgr",
        "colab": {
          "base_uri": "https://localhost:8080/",
          "height": 428
        },
        "outputId": "98e9fb5e-c914-4dcf-88d5-e51ffa05079e"
      },
      "source": [
        "# Weights\n",
        "\n",
        "plt.figure(figsize=(7,7))\n",
        "\n",
        "pd.Series(clf.coef_[0], X_train.columns).sort_values(ascending=False).plot(kind='barh');"
      ],
      "execution_count": 31,
      "outputs": [
        {
          "output_type": "display_data",
          "data": {
            "image/png": "[encoded data removed]",
            "text/plain": [
              "<Figure size 504x504 with 1 Axes>"
            ]
          },
          "metadata": {
            "needs_background": "light"
          }
        }
      ]
    },
    {
      "cell_type": "code",
      "metadata": {
        "id": "hFJHdLi6S1RX",
        "colab": {
          "base_uri": "https://localhost:8080/"
        },
        "outputId": "806a29ac-66cb-445d-8002-02756a188ebf"
      },
      "source": [
        "from sklearn import svm\n",
        "\n",
        "clf = svm.SVC(random_state=10)\n",
        "clf.fit(X_train_scaled, y_train) \n",
        "y_pred = clf.predict(X_test) \n",
        "cm = pd.crosstab(y_test, y_pred, rownames=['Classe réelle'], colnames=['Classe prédite'])\n",
        "print(cm)\n",
        "print('\\n''Score:',clf.score(X_test, y_test))\n",
        "print('\\n',classification_report(y_test, y_pred))"
      ],
      "execution_count": 32,
      "outputs": [
        {
          "output_type": "stream",
          "name": "stdout",
          "text": [
            "Classe prédite    1     2\n",
            "Classe réelle            \n",
            "1               982   554\n",
            "2               503  1103\n",
            "\n",
            "Score: 0.6635900700190961\n",
            "\n",
            "               precision    recall  f1-score   support\n",
            "\n",
            "           1       0.66      0.64      0.65      1536\n",
            "           2       0.67      0.69      0.68      1606\n",
            "\n",
            "    accuracy                           0.66      3142\n",
            "   macro avg       0.66      0.66      0.66      3142\n",
            "weighted avg       0.66      0.66      0.66      3142\n",
            "\n"
          ]
        }
      ]
    },
    {
      "cell_type": "code",
      "metadata": {
        "id": "o_m6v5LJtjOW",
        "colab": {
          "base_uri": "https://localhost:8080/"
        },
        "outputId": "f80191af-a009-4166-8e88-a783a5b857f2"
      },
      "source": [
        "from sklearn import ensemble\n",
        "\n",
        "clf = ensemble.RandomForestClassifier(n_jobs = -1, random_state = 10)\n",
        "clf.fit(X_train_scaled, y_train)\n",
        "y_pred = clf.predict(X_test)\n",
        "cm = pd.crosstab(y_test, y_pred, rownames=['Classe réelle'], colnames=['Classe prédite'])\n",
        "print(cm)\n",
        "print('\\n''Score:',clf.score(X_test, y_test))\n",
        "print('\\n',classification_report(y_test, y_pred))"
      ],
      "execution_count": 33,
      "outputs": [
        {
          "output_type": "stream",
          "name": "stdout",
          "text": [
            "Classe prédite    1     2\n",
            "Classe réelle            \n",
            "1               972   564\n",
            "2               561  1045\n",
            "\n",
            "Score: 0.6419478039465308\n",
            "\n",
            "               precision    recall  f1-score   support\n",
            "\n",
            "           1       0.63      0.63      0.63      1536\n",
            "           2       0.65      0.65      0.65      1606\n",
            "\n",
            "    accuracy                           0.64      3142\n",
            "   macro avg       0.64      0.64      0.64      3142\n",
            "weighted avg       0.64      0.64      0.64      3142\n",
            "\n"
          ]
        }
      ]
    },
    {
      "cell_type": "code",
      "metadata": {
        "id": "Efs_HeKJJw7y",
        "colab": {
          "base_uri": "https://localhost:8080/"
        },
        "outputId": "005410f1-efda-441e-af68-b426363317e6"
      },
      "source": [
        "from sklearn.tree import DecisionTreeClassifier\n",
        "\n",
        "clf = DecisionTreeClassifier(criterion=\"entropy\",max_depth=3,random_state=10)\n",
        "clf.fit(X_train_scaled, y_train)\n",
        "y_pred = clf.predict(X_test)\n",
        "cm = pd.crosstab(y_test, y_pred, rownames=['Classe réelle'], colnames=['Classe prédite'])\n",
        "print(cm)\n",
        "print('\\n''Score:',clf.score(X_test, y_test))\n",
        "print('\\n',classification_report(y_test, y_pred))"
      ],
      "execution_count": 34,
      "outputs": [
        {
          "output_type": "stream",
          "name": "stdout",
          "text": [
            "Classe prédite    1     2\n",
            "Classe réelle            \n",
            "1               840   696\n",
            "2               394  1212\n",
            "\n",
            "Score: 0.6530872056015277\n",
            "\n",
            "               precision    recall  f1-score   support\n",
            "\n",
            "           1       0.68      0.55      0.61      1536\n",
            "           2       0.64      0.75      0.69      1606\n",
            "\n",
            "    accuracy                           0.65      3142\n",
            "   macro avg       0.66      0.65      0.65      3142\n",
            "weighted avg       0.66      0.65      0.65      3142\n",
            "\n"
          ]
        }
      ]
    },
    {
      "cell_type": "code",
      "metadata": {
        "id": "gUyLDYm-rpoD",
        "colab": {
          "base_uri": "https://localhost:8080/",
          "height": 683
        },
        "outputId": "113d35b3-2c6e-4ee3-e95c-0841314e84c5"
      },
      "source": [
        "# Decision Tree - Features importance\n",
        "\n",
        "from sklearn.tree import plot_tree\n",
        "\n",
        "plt.figure(figsize=(15,12))\n",
        "plot_tree(clf, feature_names = X_train.columns.tolist(), filled=True); #proportion=True"
      ],
      "execution_count": 35,
      "outputs": [
        {
          "output_type": "display_data",
          "data": {
            "image/png": "[encoded data removed]",
            "text/plain": [
              "<Figure size 1080x864 with 1 Axes>"
            ]
          },
          "metadata": {
            "needs_background": "light"
          }
        }
      ]
    },
    {
      "cell_type": "code",
      "metadata": {
        "id": "xyL0FtSlrpwg",
        "colab": {
          "base_uri": "https://localhost:8080/",
          "height": 265
        },
        "outputId": "d79c5425-c0f9-40bb-9cd5-73f0c861f477"
      },
      "source": [
        "# 3 main features\n",
        "\n",
        "feat_importances = pd.Series(clf.feature_importances_, index=X_train.columns)\n",
        "feat_importances.nlargest(3).plot(kind = 'barh');"
      ],
      "execution_count": 36,
      "outputs": [
        {
          "output_type": "display_data",
          "data": {
            "image/png": "[encoded data removed]",
            "text/plain": [
              "<Figure size 432x288 with 1 Axes>"
            ]
          },
          "metadata": {
            "needs_background": "light"
          }
        }
      ]
    },
    {
      "cell_type": "code",
      "metadata": {
        "id": "-xX9y2RpBXa4",
        "colab": {
          "base_uri": "https://localhost:8080/"
        },
        "outputId": "044bb11e-e649-4e70-91b5-920f8171205e"
      },
      "source": [
        "from sklearn.discriminant_analysis import LinearDiscriminantAnalysis\n",
        "\n",
        "# Model training\n",
        "\n",
        "clf = LinearDiscriminantAnalysis()\n",
        "clf.fit(X_train_scaled, y_train)\n",
        "y_pred = clf.predict(X_test)\n",
        "cm = pd.crosstab(y_test, y_pred, rownames=['Classe réelle'], colnames=['Classe prédite'])\n",
        "print(cm)\n",
        "print('\\n''Score:',clf.score(X_test, y_test))\n",
        "print('\\n',classification_report(y_test, y_pred))"
      ],
      "execution_count": 37,
      "outputs": [
        {
          "output_type": "stream",
          "name": "stdout",
          "text": [
            "Classe prédite    1     2\n",
            "Classe réelle            \n",
            "1               980   556\n",
            "2               501  1105\n",
            "\n",
            "Score: 0.6635900700190961\n",
            "\n",
            "               precision    recall  f1-score   support\n",
            "\n",
            "           1       0.66      0.64      0.65      1536\n",
            "           2       0.67      0.69      0.68      1606\n",
            "\n",
            "    accuracy                           0.66      3142\n",
            "   macro avg       0.66      0.66      0.66      3142\n",
            "weighted avg       0.66      0.66      0.66      3142\n",
            "\n"
          ]
        }
      ]
    },
    {
      "cell_type": "code",
      "metadata": {
        "id": "xeLCgS1IB4O3",
        "colab": {
          "base_uri": "https://localhost:8080/"
        },
        "outputId": "350bc1cb-5c75-4477-df66-742d8b7db615"
      },
      "source": [
        "from sklearn.discriminant_analysis import QuadraticDiscriminantAnalysis\n",
        "\n",
        "clf = QuadraticDiscriminantAnalysis()\n",
        "clf.fit(X_train_scaled, y_train)\n",
        "y_pred = clf.predict(X_test)\n",
        "cm = pd.crosstab(y_test, y_pred, rownames=['Classe réelle'], colnames=['Classe prédite'])\n",
        "print(cm)\n",
        "print('\\n''Score:',clf.score(X_test, y_test))\n",
        "print('\\n',classification_report(y_test, y_pred))"
      ],
      "execution_count": 38,
      "outputs": [
        {
          "output_type": "stream",
          "name": "stdout",
          "text": [
            "Classe prédite     1    2\n",
            "Classe réelle            \n",
            "1               1117  419\n",
            "2                676  930\n",
            "\n",
            "Score: 0.6514958625079568\n",
            "\n",
            "               precision    recall  f1-score   support\n",
            "\n",
            "           1       0.62      0.73      0.67      1536\n",
            "           2       0.69      0.58      0.63      1606\n",
            "\n",
            "    accuracy                           0.65      3142\n",
            "   macro avg       0.66      0.65      0.65      3142\n",
            "weighted avg       0.66      0.65      0.65      3142\n",
            "\n"
          ]
        },
        {
          "output_type": "stream",
          "name": "stderr",
          "text": [
            "/usr/local/lib/python3.7/dist-packages/sklearn/discriminant_analysis.py:691: UserWarning: Variables are collinear\n",
            "  warnings.warn(\"Variables are collinear\")\n"
          ]
        }
      ]
    },
    {
      "cell_type": "code",
      "metadata": {
        "id": "5lOMAWbwDXiF",
        "colab": {
          "base_uri": "https://localhost:8080/"
        },
        "outputId": "da3e3487-0c65-4fd7-c84d-61963a58634e"
      },
      "source": [
        "from lightgbm.sklearn import LGBMClassifier\n",
        "\n",
        "clf = LGBMClassifier()\n",
        "clf.fit(X_train_scaled, y_train)\n",
        "y_pred = clf.predict(X_test)\n",
        "cm = pd.crosstab(y_test, y_pred, rownames=['Classe réelle'], colnames=['Classe prédite'])\n",
        "print(cm)\n",
        "print('\\n''Score:',clf.score(X_test, y_test))\n",
        "print('\\n',classification_report(y_test, y_pred))"
      ],
      "execution_count": 39,
      "outputs": [
        {
          "output_type": "stream",
          "name": "stdout",
          "text": [
            "Classe prédite    1     2\n",
            "Classe réelle            \n",
            "1               966   570\n",
            "2               512  1094\n",
            "\n",
            "Score: 0.6556333545512413\n",
            "\n",
            "               precision    recall  f1-score   support\n",
            "\n",
            "           1       0.65      0.63      0.64      1536\n",
            "           2       0.66      0.68      0.67      1606\n",
            "\n",
            "    accuracy                           0.66      3142\n",
            "   macro avg       0.66      0.66      0.66      3142\n",
            "weighted avg       0.66      0.66      0.66      3142\n",
            "\n"
          ]
        }
      ]
    },
    {
      "cell_type": "markdown",
      "metadata": {
        "id": "78R9581xkX1J"
      },
      "source": [
        "From the above tests, we can deduct that the Logistic Regression, SVM and Linear Discriminant Analaysis are the best performing models and we will focus on those in the following section."
      ]
    },
    {
      "cell_type": "markdown",
      "metadata": {
        "id": "tR58_zitqGoq"
      },
      "source": [
        "## **Best models tuning**"
      ]
    },
    {
      "cell_type": "markdown",
      "metadata": {
        "id": "MIAzXvcCqcjW"
      },
      "source": [
        "### LOGISTIC REGRESSION OPTIMIZATION"
      ]
    },
    {
      "cell_type": "code",
      "metadata": {
        "id": "6OtaKVE65O8a"
      },
      "source": [
        "\n",
        "from sklearn.linear_model import LogisticRegression\n",
        "from sklearn.feature_selection import SelectKBest\n",
        "from sklearn.pipeline import Pipeline\n",
        "from sklearn.model_selection import GridSearchCV"
      ],
      "execution_count": 40,
      "outputs": []
    },
    {
      "cell_type": "code",
      "metadata": {
        "id": "5q3_nkIbqlBt",
        "colab": {
          "base_uri": "https://localhost:8080/"
        },
        "outputId": "ff8476d8-0be3-4a08-9eb6-95036ba138a8"
      },
      "source": [
        "X_train,X_test,y_train,y_test=train_test_split(DATA,TARGET,test_size=0.2,random_state=10)\n",
        "\n",
        "scaler = QuantileTransformer()  # Normalization\n",
        "selector = SelectKBest()   # Best features selection\n",
        "lr = LogisticRegression()               \n",
        "\n",
        "pipe = Pipeline([ ('scaling', scaler), \n",
        "                 ('selection', selector),      \n",
        "                 ('model', lr)])           \n",
        "\n",
        "param_grid = {\n",
        "    'selection__k' : [1, 2, 3, 4, 5, 'all'],  \n",
        "    'model__solver' : ['lbfgs', 'liblinear'], \n",
        "    'model__C': [10**(i) for i in range(-4,3)]    \n",
        "}\n",
        "\n",
        "grid = GridSearchCV(estimator = pipe, param_grid = param_grid, cv = 3, iid = True) # GridSearchCV instantiation\n",
        "\n",
        "grid.fit(X_train,y_train)  \n",
        "\n",
        "print(grid.best_params_) # Best parameters\n",
        "print(grid.best_score_) # Best cross validation score\n",
        "\n",
        "# Model assessment\n",
        "\n",
        "y_pred = grid.predict(X_test)\n",
        "\n",
        "# Confusion Matrix \n",
        "\n",
        "cm = pd.crosstab(y_test, y_pred, rownames=['Classe réelle'], colnames=['Classe prédite'])\n",
        "print(cm)\n",
        "\n",
        "# Score\n",
        "\n",
        "print('\\n''Score:',grid.score(X_test, y_test))\n",
        "\n",
        "#Classification report\n",
        "\n",
        "print('\\n',classification_report(y_test, y_pred))"
      ],
      "execution_count": 41,
      "outputs": [
        {
          "output_type": "stream",
          "name": "stdout",
          "text": [
            "{'model__C': 1, 'model__solver': 'liblinear', 'selection__k': 'all'}\n",
            "0.654409423750398\n",
            "Classe prédite    1     2\n",
            "Classe réelle            \n",
            "1               978   558\n",
            "2               502  1104\n",
            "\n",
            "Score: 0.6626352641629535\n",
            "\n",
            "               precision    recall  f1-score   support\n",
            "\n",
            "           1       0.66      0.64      0.65      1536\n",
            "           2       0.66      0.69      0.68      1606\n",
            "\n",
            "    accuracy                           0.66      3142\n",
            "   macro avg       0.66      0.66      0.66      3142\n",
            "weighted avg       0.66      0.66      0.66      3142\n",
            "\n"
          ]
        },
        {
          "output_type": "stream",
          "name": "stderr",
          "text": [
            "/usr/local/lib/python3.7/dist-packages/sklearn/model_selection/_search.py:823: FutureWarning: The parameter 'iid' is deprecated in 0.22 and will be removed in 0.24.\n",
            "  \"removed in 0.24.\", FutureWarning\n"
          ]
        }
      ]
    },
    {
      "cell_type": "markdown",
      "metadata": {
        "id": "7boEeltfqwnA"
      },
      "source": [
        "### SVC OPTIMIZATION"
      ]
    },
    {
      "cell_type": "code",
      "metadata": {
        "id": "P6AVFXBTqunh",
        "colab": {
          "base_uri": "https://localhost:8080/"
        },
        "outputId": "d27ac0cf-bfb5-4486-bbec-1c1dc69b6b53"
      },
      "source": [
        "X_train,X_test,y_train,y_test=train_test_split(DATA,TARGET,test_size=0.2,random_state=10)\n",
        "\n",
        "scaler = QuantileTransformer()  # Normalization\n",
        "SVM = svm.SVC()             \n",
        "\n",
        "pipe = Pipeline([ ('scaling', scaler),    \n",
        "                 ('model', SVM)])           \n",
        "\n",
        "param_grid = {\n",
        "    'model__kernel' : ['rbf', 'linear'], \n",
        "    'model__C': [10**(i) for i in range(-2,2)]   \n",
        "}\n",
        "\n",
        "grid = GridSearchCV(estimator = pipe, param_grid = param_grid, cv = 3, iid = True) # GridSearchCV instantiation\n",
        "\n",
        "grid.fit(X_train,y_train)  \n",
        "\n",
        "print(grid.best_params_) # Best parameters\n",
        "print(grid.best_score_) # Best cross validation score\n",
        "\n",
        "# Model assessment\n",
        "\n",
        "y_pred = grid.predict(X_test)\n",
        "\n",
        "# Confusion Matrix \n",
        "\n",
        "cm = pd.crosstab(y_test, y_pred, rownames=['Classe réelle'], colnames=['Classe prédite'])\n",
        "print(cm)\n",
        "\n",
        "# Score\n",
        "\n",
        "print('\\n''Score:',grid.score(X_test, y_test))\n",
        "\n",
        "#Classification report\n",
        "\n",
        "print('\\n',classification_report(y_test, y_pred))"
      ],
      "execution_count": 42,
      "outputs": [
        {
          "output_type": "stream",
          "name": "stderr",
          "text": [
            "/usr/local/lib/python3.7/dist-packages/sklearn/model_selection/_search.py:823: FutureWarning: The parameter 'iid' is deprecated in 0.22 and will be removed in 0.24.\n",
            "  \"removed in 0.24.\", FutureWarning\n"
          ]
        },
        {
          "output_type": "stream",
          "name": "stdout",
          "text": [
            "{'model__C': 1, 'model__kernel': 'rbf'}\n",
            "0.6587870105062082\n",
            "Classe prédite    1     2\n",
            "Classe réelle            \n",
            "1               982   554\n",
            "2               503  1103\n",
            "\n",
            "Score: 0.6635900700190961\n",
            "\n",
            "               precision    recall  f1-score   support\n",
            "\n",
            "           1       0.66      0.64      0.65      1536\n",
            "           2       0.67      0.69      0.68      1606\n",
            "\n",
            "    accuracy                           0.66      3142\n",
            "   macro avg       0.66      0.66      0.66      3142\n",
            "weighted avg       0.66      0.66      0.66      3142\n",
            "\n"
          ]
        }
      ]
    },
    {
      "cell_type": "markdown",
      "metadata": {
        "id": "LiznY71SrDMi"
      },
      "source": [
        "### LINEAR DISCRIMINANT ANALYSIS OPTIMISATION"
      ]
    },
    {
      "cell_type": "code",
      "metadata": {
        "id": "_zcf3guSrJ8V",
        "colab": {
          "base_uri": "https://localhost:8080/"
        },
        "outputId": "7070ff26-d643-47c8-ee59-e7abb4ff8320"
      },
      "source": [
        "X_train,X_test,y_train,y_test=train_test_split(DATA,TARGET,test_size=0.2,random_state=10)\n",
        "\n",
        "scaler = QuantileTransformer()  # Normalization\n",
        "selector = SelectKBest()   # Best features selection\n",
        "ld = LinearDiscriminantAnalysis()            \n",
        "\n",
        "pipe = Pipeline([ ('scaling', scaler), \n",
        "                 ('selection', selector),      \n",
        "                 ('model', ld)])           \n",
        "\n",
        "param_grid = {\n",
        "    'selection__k' : [4, 5, 'all'],  \n",
        "    'model__solver' : ['svd', 'lsqr', 'eigen']   \n",
        "}\n",
        "\n",
        "grid = GridSearchCV(estimator = pipe, param_grid = param_grid, cv = 3, iid = True) # GridSearchCV instantiation\n",
        "\n",
        "grid.fit(X_train,y_train)  \n",
        "\n",
        "print(grid.best_params_) # Best parameters\n",
        "print(grid.best_score_) # Best cross validation score\n",
        "\n",
        "# Model assessment\n",
        "\n",
        "y_pred = grid.predict(X_test)\n",
        "\n",
        "# Confusion Matrix \n",
        "\n",
        "cm = pd.crosstab(y_test, y_pred, rownames=['Classe réelle'], colnames=['Classe prédite'])\n",
        "print(cm)\n",
        "\n",
        "# Score\n",
        "\n",
        "print('\\n''Score:',grid.score(X_test, y_test))\n",
        "\n",
        "#Classification report\n",
        "\n",
        "print('\\n',classification_report(y_test, y_pred))"
      ],
      "execution_count": 43,
      "outputs": [
        {
          "output_type": "stream",
          "name": "stderr",
          "text": [
            "/usr/local/lib/python3.7/dist-packages/sklearn/model_selection/_validation.py:536: FitFailedWarning: Estimator fit failed. The score on this train-test partition for these parameters will be set to nan. Details: \n",
            "numpy.linalg.LinAlgError: the leading minor of order 2 of 'b' is not positive definite. The factorization of 'b' could not be completed and no eigenvalues or eigenvectors were computed.\n",
            "\n",
            "  FitFailedWarning)\n",
            "/usr/local/lib/python3.7/dist-packages/sklearn/model_selection/_validation.py:536: FitFailedWarning: Estimator fit failed. The score on this train-test partition for these parameters will be set to nan. Details: \n",
            "numpy.linalg.LinAlgError: the leading minor of order 2 of 'b' is not positive definite. The factorization of 'b' could not be completed and no eigenvalues or eigenvectors were computed.\n",
            "\n",
            "  FitFailedWarning)\n",
            "/usr/local/lib/python3.7/dist-packages/sklearn/model_selection/_validation.py:536: FitFailedWarning: Estimator fit failed. The score on this train-test partition for these parameters will be set to nan. Details: \n",
            "numpy.linalg.LinAlgError: the leading minor of order 2 of 'b' is not positive definite. The factorization of 'b' could not be completed and no eigenvalues or eigenvectors were computed.\n",
            "\n",
            "  FitFailedWarning)\n",
            "/usr/local/lib/python3.7/dist-packages/sklearn/model_selection/_validation.py:536: FitFailedWarning: Estimator fit failed. The score on this train-test partition for these parameters will be set to nan. Details: \n",
            "numpy.linalg.LinAlgError: the leading minor of order 3 of 'b' is not positive definite. The factorization of 'b' could not be completed and no eigenvalues or eigenvectors were computed.\n",
            "\n",
            "  FitFailedWarning)\n",
            "/usr/local/lib/python3.7/dist-packages/sklearn/model_selection/_validation.py:536: FitFailedWarning: Estimator fit failed. The score on this train-test partition for these parameters will be set to nan. Details: \n",
            "numpy.linalg.LinAlgError: the leading minor of order 3 of 'b' is not positive definite. The factorization of 'b' could not be completed and no eigenvalues or eigenvectors were computed.\n",
            "\n",
            "  FitFailedWarning)\n"
          ]
        },
        {
          "output_type": "stream",
          "name": "stdout",
          "text": [
            "{'model__solver': 'svd', 'selection__k': 'all'}\n",
            "0.6547277936962751\n",
            "Classe prédite    1     2\n",
            "Classe réelle            \n",
            "1               980   556\n",
            "2               501  1105\n",
            "\n",
            "Score: 0.6635900700190961\n",
            "\n",
            "               precision    recall  f1-score   support\n",
            "\n",
            "           1       0.66      0.64      0.65      1536\n",
            "           2       0.67      0.69      0.68      1606\n",
            "\n",
            "    accuracy                           0.66      3142\n",
            "   macro avg       0.66      0.66      0.66      3142\n",
            "weighted avg       0.66      0.66      0.66      3142\n",
            "\n"
          ]
        },
        {
          "output_type": "stream",
          "name": "stderr",
          "text": [
            "/usr/local/lib/python3.7/dist-packages/sklearn/model_selection/_validation.py:536: FitFailedWarning: Estimator fit failed. The score on this train-test partition for these parameters will be set to nan. Details: \n",
            "numpy.linalg.LinAlgError: the leading minor of order 6 of 'b' is not positive definite. The factorization of 'b' could not be completed and no eigenvalues or eigenvectors were computed.\n",
            "\n",
            "  FitFailedWarning)\n",
            "/usr/local/lib/python3.7/dist-packages/sklearn/model_selection/_search.py:823: FutureWarning: The parameter 'iid' is deprecated in 0.22 and will be removed in 0.24.\n",
            "  \"removed in 0.24.\", FutureWarning\n"
          ]
        }
      ]
    },
    {
      "cell_type": "markdown",
      "metadata": {
        "id": "JhQJ7-F_126n"
      },
      "source": [
        "All 3 models have similar performances and the tuning doesn't provide a strong enhancement in the performance. In the following notebook we will focus on our ROI strategy and use the Logistic Regression as our preferred model for its combination of overall good performance and fast running time."
      ]
    }
  ]
}