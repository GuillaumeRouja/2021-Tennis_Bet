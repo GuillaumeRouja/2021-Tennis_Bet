{
  "nbformat": 4,
  "nbformat_minor": 0,
  "metadata": {
    "colab": {
      "name": "Tennis_bet_modelling.ipynb",
      "provenance": [],
      "collapsed_sections": []
    },
    "kernelspec": {
      "display_name": "Python 3",
      "name": "python3"
    },
    "language_info": {
      "name": "python"
    }
  },
  "cells": [
    {
      "cell_type": "code",
      "metadata": {
        "id": "sy8GHJ5upiee"
      },
      "source": [
        "import pandas as pd\n",
        "import numpy as np\n",
        "import seaborn as sns\n",
        "import matplotlib.pyplot as plt\n",
        "%matplotlib inline\n",
        " \n",
        "from datetime import datetime,timedelta\n",
        "import datetime as dt\n",
        "from sklearn.metrics import classification_report\n"
      ],
      "execution_count": 1,
      "outputs": []
    },
    {
      "cell_type": "code",
      "metadata": {
        "id": "j7_yXywj-a-J"
      },
      "source": [
        "# DATA Collection\n",
        "\n",
        "urls = ['https://raw.githubusercontent.com/GuillaumeRouja/2021-Tennis_Bet/main/Data/2010.csv','https://raw.githubusercontent.com/GuillaumeRouja/2021-Tennis_Bet/main/Data/2011.csv',\n",
        "        'https://raw.githubusercontent.com/GuillaumeRouja/2021-Tennis_Bet/main/Data/2012.csv','https://raw.githubusercontent.com/GuillaumeRouja/2021-Tennis_Bet/main/Data/2013.csv',\n",
        "        'https://raw.githubusercontent.com/GuillaumeRouja/2021-Tennis_Bet/main/Data/2014.csv','https://raw.githubusercontent.com/GuillaumeRouja/2021-Tennis_Bet/main/Data/2015.csv','https://raw.githubusercontent.com/GuillaumeRouja/2021-Tennis_Bet/main/Data/2016.csv',\n",
        "        'https://raw.githubusercontent.com/GuillaumeRouja/2021-Tennis_Bet/main/Data/2016.csv','https://raw.githubusercontent.com/GuillaumeRouja/2021-Tennis_Bet/main/Data/2017.csv',\n",
        "        'https://raw.githubusercontent.com/GuillaumeRouja/2021-Tennis_Bet/main/Data/2018.csv','https://raw.githubusercontent.com/GuillaumeRouja/2021-Tennis_Bet/main/Data/2019.csv',\n",
        "        'https://raw.githubusercontent.com/GuillaumeRouja/2021-Tennis_Bet/main/Data/2020.csv','https://raw.githubusercontent.com/GuillaumeRouja/2021-Tennis_Bet/main/Data/2021.csv']\n",
        "\n",
        "dfs = [pd.read_csv(url,sep=';') for url in urls]\n",
        "data = pd.concat(dfs, ignore_index=True)\n",
        "\n",
        "# Keep colums we need -> Only keep data known at game time \n",
        "\n",
        "data.drop(['WPts','LPts','W1','L1','W2','L2','W3','L3','W4','L4','W5','L5','Wsets','Lsets','EXW','EXL','LBW','LBL','SJW','SJL','MaxW','MaxL','AvgW','AvgL'],axis=1,inplace=True)\n",
        "\n",
        "#Format adjustment\n",
        "\n",
        "data.PSW= (data.PSW.replace(',','.', regex=True).astype(float))\n",
        "data.PSL= (data.PSL.replace(',','.', regex=True).astype(float))\n",
        "data.B365W= (data.B365W.replace(',','.', regex=True).astype(float))\n",
        "data.B365L= (data.B365L.replace(',','.', regex=True).astype(float)) \n",
        "\n",
        "data['Date'] = pd.to_datetime(data.Date,dayfirst=True)\n",
        "\n",
        "data.sort_values(['Date'], inplace=True)\n",
        "data=data.reset_index(drop=True)\n"
      ],
      "execution_count": 2,
      "outputs": []
    },
    {
      "cell_type": "markdown",
      "metadata": {
        "id": "EGvxy5ea7srR"
      },
      "source": [
        "# **CODE PROPRE**"
      ]
    },
    {
      "cell_type": "code",
      "metadata": {
        "colab": {
          "base_uri": "https://localhost:8080/",
          "height": 210
        },
        "id": "8M5UQRkK7oDP",
        "outputId": "f73283c1-df3c-47b7-f350-5d7a9691c45d"
      },
      "source": [
        "data.head(3)"
      ],
      "execution_count": 3,
      "outputs": [
        {
          "output_type": "execute_result",
          "data": {
            "text/html": [
              "<div>\n",
              "<style scoped>\n",
              "    .dataframe tbody tr th:only-of-type {\n",
              "        vertical-align: middle;\n",
              "    }\n",
              "\n",
              "    .dataframe tbody tr th {\n",
              "        vertical-align: top;\n",
              "    }\n",
              "\n",
              "    .dataframe thead th {\n",
              "        text-align: right;\n",
              "    }\n",
              "</style>\n",
              "<table border=\"1\" class=\"dataframe\">\n",
              "  <thead>\n",
              "    <tr style=\"text-align: right;\">\n",
              "      <th></th>\n",
              "      <th>ATP</th>\n",
              "      <th>Location</th>\n",
              "      <th>Tournament</th>\n",
              "      <th>Date</th>\n",
              "      <th>Series</th>\n",
              "      <th>Court</th>\n",
              "      <th>Surface</th>\n",
              "      <th>Round</th>\n",
              "      <th>Best of</th>\n",
              "      <th>Winner</th>\n",
              "      <th>Loser</th>\n",
              "      <th>WRank</th>\n",
              "      <th>LRank</th>\n",
              "      <th>Comment</th>\n",
              "      <th>B365W</th>\n",
              "      <th>B365L</th>\n",
              "      <th>PSW</th>\n",
              "      <th>PSL</th>\n",
              "    </tr>\n",
              "  </thead>\n",
              "  <tbody>\n",
              "    <tr>\n",
              "      <th>0</th>\n",
              "      <td>1</td>\n",
              "      <td>Brisbane</td>\n",
              "      <td>Brisbane International</td>\n",
              "      <td>2010-01-04</td>\n",
              "      <td>ATP250</td>\n",
              "      <td>Outdoor</td>\n",
              "      <td>Hard</td>\n",
              "      <td>1st Round</td>\n",
              "      <td>3</td>\n",
              "      <td>Gasquet R.</td>\n",
              "      <td>Nieminen J.</td>\n",
              "      <td>52.0</td>\n",
              "      <td>88.0</td>\n",
              "      <td>Completed</td>\n",
              "      <td>1.44</td>\n",
              "      <td>2.62</td>\n",
              "      <td>1.526</td>\n",
              "      <td>2.740</td>\n",
              "    </tr>\n",
              "    <tr>\n",
              "      <th>1</th>\n",
              "      <td>2</td>\n",
              "      <td>Chennai</td>\n",
              "      <td>Chennai Open</td>\n",
              "      <td>2010-01-04</td>\n",
              "      <td>ATP250</td>\n",
              "      <td>Outdoor</td>\n",
              "      <td>Hard</td>\n",
              "      <td>1st Round</td>\n",
              "      <td>3</td>\n",
              "      <td>Tipsarevic J.</td>\n",
              "      <td>Moya C.</td>\n",
              "      <td>38.0</td>\n",
              "      <td>446.0</td>\n",
              "      <td>Completed</td>\n",
              "      <td>1.40</td>\n",
              "      <td>2.75</td>\n",
              "      <td>1.433</td>\n",
              "      <td>3.110</td>\n",
              "    </tr>\n",
              "    <tr>\n",
              "      <th>2</th>\n",
              "      <td>2</td>\n",
              "      <td>Chennai</td>\n",
              "      <td>Chennai Open</td>\n",
              "      <td>2010-01-04</td>\n",
              "      <td>ATP250</td>\n",
              "      <td>Outdoor</td>\n",
              "      <td>Hard</td>\n",
              "      <td>1st Round</td>\n",
              "      <td>3</td>\n",
              "      <td>Giraldo S.</td>\n",
              "      <td>Phau B.</td>\n",
              "      <td>107.0</td>\n",
              "      <td>111.0</td>\n",
              "      <td>Completed</td>\n",
              "      <td>2.00</td>\n",
              "      <td>1.72</td>\n",
              "      <td>2.140</td>\n",
              "      <td>1.813</td>\n",
              "    </tr>\n",
              "  </tbody>\n",
              "</table>\n",
              "</div>"
            ],
            "text/plain": [
              "   ATP  Location              Tournament       Date  ... B365W B365L    PSW    PSL\n",
              "0    1  Brisbane  Brisbane International 2010-01-04  ...  1.44  2.62  1.526  2.740\n",
              "1    2   Chennai            Chennai Open 2010-01-04  ...  1.40  2.75  1.433  3.110\n",
              "2    2   Chennai            Chennai Open 2010-01-04  ...  2.00  1.72  2.140  1.813\n",
              "\n",
              "[3 rows x 18 columns]"
            ]
          },
          "metadata": {
            "tags": []
          },
          "execution_count": 3
        }
      ]
    },
    {
      "cell_type": "markdown",
      "metadata": {
        "id": "4SgIj3G42VQq"
      },
      "source": [
        "## **Data Pre-processing**"
      ]
    },
    {
      "cell_type": "markdown",
      "metadata": {
        "id": "r-YuUra90YHU"
      },
      "source": [
        "#### Timeframe selection"
      ]
    },
    {
      "cell_type": "code",
      "metadata": {
        "colab": {
          "base_uri": "https://localhost:8080/"
        },
        "id": "rYI0l2cccTOS",
        "outputId": "73b82881-945d-47bf-ae1b-919f079c02bc"
      },
      "source": [
        "# Given there are some duplicated lines in 2012 and data stop between 2013-11-11 to 2014-01-05, we'll start the analysis from 2015.\n",
        "\n",
        "# Data selection\n",
        "\n",
        "beg=datetime(2015,1,1) \n",
        "end=datetime(2021,12,31)\n",
        "\n",
        "indices=data[(data.Date>beg)&(data.Date<=end)].index\n",
        "data=data.iloc[indices,:]\n",
        "\n",
        "print(\"Number of games since Jan'2015: \",len(data))\n",
        "\n",
        "data.sort_values(['Date'], inplace=True)\n",
        "data=data.reset_index(drop=True)\n"
      ],
      "execution_count": 4,
      "outputs": [
        {
          "output_type": "stream",
          "text": [
            "Number of games since Jan'2015:  18783\n"
          ],
          "name": "stdout"
        }
      ]
    },
    {
      "cell_type": "markdown",
      "metadata": {
        "id": "0kxJXqAgWfPH"
      },
      "source": [
        "#### ELO Ranking Computing"
      ]
    },
    {
      "cell_type": "code",
      "metadata": {
        "colab": {
          "base_uri": "https://localhost:8080/"
        },
        "id": "JgMtrArRWW0a",
        "outputId": "452a7adb-e772-4e3d-9c53-be4fa11f7648"
      },
      "source": [
        "def compute_elo_rankings(data):\n",
        "    \"\"\"\n",
        "    Given the list of matches in chronological order, for each match, computes \n",
        "    the elo ranking of the 2 players at the beginning of the match\n",
        "    \n",
        "    \"\"\"\n",
        "    print(\"Elo rankings computing...\")\n",
        "    players=list(pd.Series(list(data.Winner)+list(data.Loser)).value_counts().index) # Gather all players from data\n",
        "    elo=pd.Series(np.ones(len(players))*1500,index=players) # Attribute Elo Ranking of 1500 to each player\n",
        "    ranking_elo=[(1500,1500)]\n",
        "    for i in range(1,len(data)):\n",
        "        w=data.iloc[i-1,:].Winner   # Select Winner and Loser of the previous game\n",
        "        l=data.iloc[i-1,:].Loser\n",
        "        elow=elo[w]  \n",
        "        elol=elo[l]\n",
        "        pwin=1 / (1 + 10 ** ((elol - elow) / 400))  # Win prob resulting from elo. Ex: elol = 1900, elow = 2000. Delta = 100 -> winner prob = 64%\n",
        "        K_win=32\n",
        "        K_los=32\n",
        "        new_elow=elow+K_win*(1-pwin) # The winner has his elo increased by K_win*(1-pwin). Ex: 1500 + 32*(1-0.64) = 1511.52. \n",
        "        new_elol=elol-K_los*(1-pwin) # A victory against a better ranked player grants more points.\n",
        "        elo[w]=new_elow\n",
        "        elo[l]=new_elol\n",
        "        ranking_elo.append((elo[data.iloc[i,:].Winner],elo[data.iloc[i,:].Loser])) \n",
        "        if i%3000==0:\n",
        "            print(str(i)+\" matches computed...\")\n",
        "    ranking_elo=pd.DataFrame(ranking_elo,columns=[\"elo_winner\",\"elo_loser\"]) \n",
        "    ranking_elo[\"p_elo_winner\"]=1 / (1 + 10 ** ((ranking_elo[\"elo_loser\"] - ranking_elo[\"elo_winner\"]) / 400))   \n",
        "    ranking_elo[\"p_elo_loser\"]=1 / (1 + 10 ** ((ranking_elo[\"elo_winner\"] - ranking_elo[\"elo_loser\"]) / 400))\n",
        "    return ranking_elo\n",
        "\n",
        "# Computing of the elo ranking of each player at the beginning of each match.\n",
        "elo_rankings = compute_elo_rankings(data)\n",
        "data = pd.concat([data,elo_rankings],1)\n"
      ],
      "execution_count": 5,
      "outputs": [
        {
          "output_type": "stream",
          "text": [
            "Elo rankings computing...\n",
            "3000 matches computed...\n",
            "6000 matches computed...\n",
            "9000 matches computed...\n",
            "12000 matches computed...\n",
            "15000 matches computed...\n",
            "18000 matches computed...\n"
          ],
          "name": "stdout"
        }
      ]
    },
    {
      "cell_type": "code",
      "metadata": {
        "colab": {
          "base_uri": "https://localhost:8080/",
          "height": 422
        },
        "id": "-pQAsdwmW5WG",
        "outputId": "b9e7d481-fd70-4c10-eb26-bb01bd92c18e"
      },
      "source": [
        "# Check elo ranking computing\n",
        "\n",
        "data[(data.Winner=='Federer R.')|(data.Loser=='Federer R.')].head(7)"
      ],
      "execution_count": 6,
      "outputs": [
        {
          "output_type": "execute_result",
          "data": {
            "text/html": [
              "<div>\n",
              "<style scoped>\n",
              "    .dataframe tbody tr th:only-of-type {\n",
              "        vertical-align: middle;\n",
              "    }\n",
              "\n",
              "    .dataframe tbody tr th {\n",
              "        vertical-align: top;\n",
              "    }\n",
              "\n",
              "    .dataframe thead th {\n",
              "        text-align: right;\n",
              "    }\n",
              "</style>\n",
              "<table border=\"1\" class=\"dataframe\">\n",
              "  <thead>\n",
              "    <tr style=\"text-align: right;\">\n",
              "      <th></th>\n",
              "      <th>ATP</th>\n",
              "      <th>Location</th>\n",
              "      <th>Tournament</th>\n",
              "      <th>Date</th>\n",
              "      <th>Series</th>\n",
              "      <th>Court</th>\n",
              "      <th>Surface</th>\n",
              "      <th>Round</th>\n",
              "      <th>Best of</th>\n",
              "      <th>Winner</th>\n",
              "      <th>Loser</th>\n",
              "      <th>WRank</th>\n",
              "      <th>LRank</th>\n",
              "      <th>Comment</th>\n",
              "      <th>B365W</th>\n",
              "      <th>B365L</th>\n",
              "      <th>PSW</th>\n",
              "      <th>PSL</th>\n",
              "      <th>elo_winner</th>\n",
              "      <th>elo_loser</th>\n",
              "      <th>p_elo_winner</th>\n",
              "      <th>p_elo_loser</th>\n",
              "    </tr>\n",
              "  </thead>\n",
              "  <tbody>\n",
              "    <tr>\n",
              "      <th>61</th>\n",
              "      <td>1</td>\n",
              "      <td>Brisbane</td>\n",
              "      <td>Brisbane International</td>\n",
              "      <td>2015-01-08</td>\n",
              "      <td>ATP250</td>\n",
              "      <td>Outdoor</td>\n",
              "      <td>Hard</td>\n",
              "      <td>2nd Round</td>\n",
              "      <td>3</td>\n",
              "      <td>Federer R.</td>\n",
              "      <td>Millman J.</td>\n",
              "      <td>2.0</td>\n",
              "      <td>153.0</td>\n",
              "      <td>Completed</td>\n",
              "      <td>1.06</td>\n",
              "      <td>10.00</td>\n",
              "      <td>1.07</td>\n",
              "      <td>10.25</td>\n",
              "      <td>1500.000000</td>\n",
              "      <td>1516.000000</td>\n",
              "      <td>0.476990</td>\n",
              "      <td>0.523010</td>\n",
              "    </tr>\n",
              "    <tr>\n",
              "      <th>72</th>\n",
              "      <td>1</td>\n",
              "      <td>Brisbane</td>\n",
              "      <td>Brisbane International</td>\n",
              "      <td>2015-01-09</td>\n",
              "      <td>ATP250</td>\n",
              "      <td>Outdoor</td>\n",
              "      <td>Hard</td>\n",
              "      <td>Quarterfinals</td>\n",
              "      <td>3</td>\n",
              "      <td>Federer R.</td>\n",
              "      <td>Duckworth J.</td>\n",
              "      <td>2.0</td>\n",
              "      <td>125.0</td>\n",
              "      <td>Completed</td>\n",
              "      <td>1.05</td>\n",
              "      <td>11.00</td>\n",
              "      <td>1.06</td>\n",
              "      <td>13.40</td>\n",
              "      <td>1516.736307</td>\n",
              "      <td>1532.000000</td>\n",
              "      <td>0.478048</td>\n",
              "      <td>0.521952</td>\n",
              "    </tr>\n",
              "    <tr>\n",
              "      <th>81</th>\n",
              "      <td>1</td>\n",
              "      <td>Brisbane</td>\n",
              "      <td>Brisbane International</td>\n",
              "      <td>2015-01-10</td>\n",
              "      <td>ATP250</td>\n",
              "      <td>Outdoor</td>\n",
              "      <td>Hard</td>\n",
              "      <td>Semifinals</td>\n",
              "      <td>3</td>\n",
              "      <td>Federer R.</td>\n",
              "      <td>Dimitrov G.</td>\n",
              "      <td>2.0</td>\n",
              "      <td>11.0</td>\n",
              "      <td>Completed</td>\n",
              "      <td>1.28</td>\n",
              "      <td>3.75</td>\n",
              "      <td>1.32</td>\n",
              "      <td>3.79</td>\n",
              "      <td>1533.438774</td>\n",
              "      <td>1533.438774</td>\n",
              "      <td>0.500000</td>\n",
              "      <td>0.500000</td>\n",
              "    </tr>\n",
              "    <tr>\n",
              "      <th>83</th>\n",
              "      <td>1</td>\n",
              "      <td>Brisbane</td>\n",
              "      <td>Brisbane International</td>\n",
              "      <td>2015-01-11</td>\n",
              "      <td>ATP250</td>\n",
              "      <td>Outdoor</td>\n",
              "      <td>Hard</td>\n",
              "      <td>The Final</td>\n",
              "      <td>3</td>\n",
              "      <td>Federer R.</td>\n",
              "      <td>Raonic M.</td>\n",
              "      <td>2.0</td>\n",
              "      <td>8.0</td>\n",
              "      <td>Completed</td>\n",
              "      <td>1.25</td>\n",
              "      <td>4.00</td>\n",
              "      <td>1.30</td>\n",
              "      <td>3.97</td>\n",
              "      <td>1549.438774</td>\n",
              "      <td>1549.438774</td>\n",
              "      <td>0.500000</td>\n",
              "      <td>0.500000</td>\n",
              "    </tr>\n",
              "    <tr>\n",
              "      <th>165</th>\n",
              "      <td>6</td>\n",
              "      <td>Melbourne</td>\n",
              "      <td>Australian Open</td>\n",
              "      <td>2015-01-19</td>\n",
              "      <td>Grand Slam</td>\n",
              "      <td>Outdoor</td>\n",
              "      <td>Hard</td>\n",
              "      <td>1st Round</td>\n",
              "      <td>5</td>\n",
              "      <td>Federer R.</td>\n",
              "      <td>Lu Y.H.</td>\n",
              "      <td>2.0</td>\n",
              "      <td>47.0</td>\n",
              "      <td>Completed</td>\n",
              "      <td>1.02</td>\n",
              "      <td>17.00</td>\n",
              "      <td>1.03</td>\n",
              "      <td>20.00</td>\n",
              "      <td>1565.438774</td>\n",
              "      <td>1513.188319</td>\n",
              "      <td>0.574633</td>\n",
              "      <td>0.425367</td>\n",
              "    </tr>\n",
              "    <tr>\n",
              "      <th>218</th>\n",
              "      <td>6</td>\n",
              "      <td>Melbourne</td>\n",
              "      <td>Australian Open</td>\n",
              "      <td>2015-01-21</td>\n",
              "      <td>Grand Slam</td>\n",
              "      <td>Outdoor</td>\n",
              "      <td>Hard</td>\n",
              "      <td>2nd Round</td>\n",
              "      <td>5</td>\n",
              "      <td>Federer R.</td>\n",
              "      <td>Bolelli S.</td>\n",
              "      <td>2.0</td>\n",
              "      <td>48.0</td>\n",
              "      <td>Completed</td>\n",
              "      <td>1.02</td>\n",
              "      <td>17.00</td>\n",
              "      <td>1.03</td>\n",
              "      <td>18.00</td>\n",
              "      <td>1579.050529</td>\n",
              "      <td>1529.287716</td>\n",
              "      <td>0.571129</td>\n",
              "      <td>0.428871</td>\n",
              "    </tr>\n",
              "    <tr>\n",
              "      <th>237</th>\n",
              "      <td>6</td>\n",
              "      <td>Melbourne</td>\n",
              "      <td>Australian Open</td>\n",
              "      <td>2015-01-23</td>\n",
              "      <td>Grand Slam</td>\n",
              "      <td>Outdoor</td>\n",
              "      <td>Hard</td>\n",
              "      <td>3rd Round</td>\n",
              "      <td>5</td>\n",
              "      <td>Seppi A.</td>\n",
              "      <td>Federer R.</td>\n",
              "      <td>46.0</td>\n",
              "      <td>2.0</td>\n",
              "      <td>Completed</td>\n",
              "      <td>17.00</td>\n",
              "      <td>1.02</td>\n",
              "      <td>23.50</td>\n",
              "      <td>1.02</td>\n",
              "      <td>1543.793749</td>\n",
              "      <td>1592.774410</td>\n",
              "      <td>0.429974</td>\n",
              "      <td>0.570026</td>\n",
              "    </tr>\n",
              "  </tbody>\n",
              "</table>\n",
              "</div>"
            ],
            "text/plain": [
              "     ATP   Location  ... p_elo_winner p_elo_loser\n",
              "61     1   Brisbane  ...     0.476990    0.523010\n",
              "72     1   Brisbane  ...     0.478048    0.521952\n",
              "81     1   Brisbane  ...     0.500000    0.500000\n",
              "83     1   Brisbane  ...     0.500000    0.500000\n",
              "165    6  Melbourne  ...     0.574633    0.425367\n",
              "218    6  Melbourne  ...     0.571129    0.428871\n",
              "237    6  Melbourne  ...     0.429974    0.570026\n",
              "\n",
              "[7 rows x 22 columns]"
            ]
          },
          "metadata": {
            "tags": []
          },
          "execution_count": 6
        }
      ]
    },
    {
      "cell_type": "code",
      "metadata": {
        "colab": {
          "base_uri": "https://localhost:8080/"
        },
        "id": "DhCUkpg4eVo6",
        "outputId": "6ec765c3-c3d2-4cea-dc8f-7242ba006f5f"
      },
      "source": [
        "data.info()"
      ],
      "execution_count": 7,
      "outputs": [
        {
          "output_type": "stream",
          "text": [
            "<class 'pandas.core.frame.DataFrame'>\n",
            "RangeIndex: 18783 entries, 0 to 18782\n",
            "Data columns (total 22 columns):\n",
            " #   Column        Non-Null Count  Dtype         \n",
            "---  ------        --------------  -----         \n",
            " 0   ATP           18783 non-null  int64         \n",
            " 1   Location      18783 non-null  object        \n",
            " 2   Tournament    18783 non-null  object        \n",
            " 3   Date          18783 non-null  datetime64[ns]\n",
            " 4   Series        18783 non-null  object        \n",
            " 5   Court         18783 non-null  object        \n",
            " 6   Surface       18783 non-null  object        \n",
            " 7   Round         18783 non-null  object        \n",
            " 8   Best of       18783 non-null  int64         \n",
            " 9   Winner        18783 non-null  object        \n",
            " 10  Loser         18783 non-null  object        \n",
            " 11  WRank         18773 non-null  float64       \n",
            " 12  LRank         18732 non-null  float64       \n",
            " 13  Comment       18783 non-null  object        \n",
            " 14  B365W         18727 non-null  float64       \n",
            " 15  B365L         18728 non-null  float64       \n",
            " 16  PSW           18706 non-null  float64       \n",
            " 17  PSL           18706 non-null  float64       \n",
            " 18  elo_winner    18783 non-null  float64       \n",
            " 19  elo_loser     18783 non-null  float64       \n",
            " 20  p_elo_winner  18783 non-null  float64       \n",
            " 21  p_elo_loser   18783 non-null  float64       \n",
            "dtypes: datetime64[ns](1), float64(10), int64(2), object(9)\n",
            "memory usage: 3.2+ MB\n"
          ],
          "name": "stdout"
        }
      ]
    },
    {
      "cell_type": "markdown",
      "metadata": {
        "id": "RNNwIJUi0mWH"
      },
      "source": [
        "#### Remove outliers and absurd values"
      ]
    },
    {
      "cell_type": "code",
      "metadata": {
        "id": "yKZ6rUSW078c"
      },
      "source": [
        "# Only use normal completed games\n",
        "\n",
        "data = data[data.Comment == 'Completed']\n",
        "data.drop('Comment',axis=1,inplace=True)\n",
        "\n",
        "# Remove Round Robin tournaments as they interfere with some cumulative stats calculations\n",
        "\n",
        "data = data[data.Round != 'Round Robin']\n",
        "\n",
        "# Odds need to be > 1\n",
        "\n",
        "data = data[(data.PSW >1)&(data.PSL>1)&(data.B365W>1)&(data.B365W>1)]\n",
        "\n",
        "# ATP rankings cannot be 0\n",
        "\n",
        "data = data[(data.WRank != 0) & (data.LRank != 0)]\n",
        "\n",
        "# Remove remaining NaNs\n",
        "\n",
        "data.dropna(axis=0,inplace=True)\n"
      ],
      "execution_count": 8,
      "outputs": []
    },
    {
      "cell_type": "code",
      "metadata": {
        "id": "28z6c3gSoiBy",
        "colab": {
          "base_uri": "https://localhost:8080/"
        },
        "outputId": "b3f81e59-ef8c-4cd6-f4ad-1c2b0f1df069"
      },
      "source": [
        "data.info()"
      ],
      "execution_count": 9,
      "outputs": [
        {
          "output_type": "stream",
          "text": [
            "<class 'pandas.core.frame.DataFrame'>\n",
            "Int64Index: 17892 entries, 0 to 18782\n",
            "Data columns (total 21 columns):\n",
            " #   Column        Non-Null Count  Dtype         \n",
            "---  ------        --------------  -----         \n",
            " 0   ATP           17892 non-null  int64         \n",
            " 1   Location      17892 non-null  object        \n",
            " 2   Tournament    17892 non-null  object        \n",
            " 3   Date          17892 non-null  datetime64[ns]\n",
            " 4   Series        17892 non-null  object        \n",
            " 5   Court         17892 non-null  object        \n",
            " 6   Surface       17892 non-null  object        \n",
            " 7   Round         17892 non-null  object        \n",
            " 8   Best of       17892 non-null  int64         \n",
            " 9   Winner        17892 non-null  object        \n",
            " 10  Loser         17892 non-null  object        \n",
            " 11  WRank         17892 non-null  float64       \n",
            " 12  LRank         17892 non-null  float64       \n",
            " 13  B365W         17892 non-null  float64       \n",
            " 14  B365L         17892 non-null  float64       \n",
            " 15  PSW           17892 non-null  float64       \n",
            " 16  PSL           17892 non-null  float64       \n",
            " 17  elo_winner    17892 non-null  float64       \n",
            " 18  elo_loser     17892 non-null  float64       \n",
            " 19  p_elo_winner  17892 non-null  float64       \n",
            " 20  p_elo_loser   17892 non-null  float64       \n",
            "dtypes: datetime64[ns](1), float64(10), int64(2), object(8)\n",
            "memory usage: 3.0+ MB\n"
          ],
          "name": "stdout"
        }
      ]
    },
    {
      "cell_type": "markdown",
      "metadata": {
        "id": "-4ZesFNNl4Ei"
      },
      "source": [
        "#### Create cumulative stats \n",
        "\n"
      ]
    },
    {
      "cell_type": "code",
      "metadata": {
        "id": "xlk6iMhg9ORU",
        "colab": {
          "base_uri": "https://localhost:8080/",
          "height": 204
        },
        "outputId": "d9e5808d-31d7-4a03-95f2-4305bddc0053"
      },
      "source": [
        "# Player dataset preparation\n",
        "\n",
        "# Step 1 -> Copy Data and add a counter for victorie and defeats\n",
        "\n",
        "data.reset_index(inplace=True)\n",
        "\n",
        "df1 = data.copy()\n",
        "df1['w']=1\n",
        "df1['l']=0\n",
        "\n",
        "# step 2 -> Select and concatenate the columns we need\n",
        "\n",
        "index=df1['index']\n",
        "winner=df1['Winner']\n",
        "loser=df1['Loser']\n",
        "surface=df1['Surface']\n",
        "w=df1['w']\n",
        "l=df1['l']\n",
        "date=df1['Date']\n",
        "\n",
        "df2 = pd.concat([index,winner,loser,surface,w,l,date], axis = 1)\n",
        "\n",
        "df2.head()"
      ],
      "execution_count": 10,
      "outputs": [
        {
          "output_type": "execute_result",
          "data": {
            "text/html": [
              "<div>\n",
              "<style scoped>\n",
              "    .dataframe tbody tr th:only-of-type {\n",
              "        vertical-align: middle;\n",
              "    }\n",
              "\n",
              "    .dataframe tbody tr th {\n",
              "        vertical-align: top;\n",
              "    }\n",
              "\n",
              "    .dataframe thead th {\n",
              "        text-align: right;\n",
              "    }\n",
              "</style>\n",
              "<table border=\"1\" class=\"dataframe\">\n",
              "  <thead>\n",
              "    <tr style=\"text-align: right;\">\n",
              "      <th></th>\n",
              "      <th>index</th>\n",
              "      <th>Winner</th>\n",
              "      <th>Loser</th>\n",
              "      <th>Surface</th>\n",
              "      <th>w</th>\n",
              "      <th>l</th>\n",
              "      <th>Date</th>\n",
              "    </tr>\n",
              "  </thead>\n",
              "  <tbody>\n",
              "    <tr>\n",
              "      <th>0</th>\n",
              "      <td>0</td>\n",
              "      <td>Muller G.</td>\n",
              "      <td>Roger-Vasselin E.</td>\n",
              "      <td>Hard</td>\n",
              "      <td>1</td>\n",
              "      <td>0</td>\n",
              "      <td>2015-01-05</td>\n",
              "    </tr>\n",
              "    <tr>\n",
              "      <th>1</th>\n",
              "      <td>1</td>\n",
              "      <td>Chardy J.</td>\n",
              "      <td>Golubev A.</td>\n",
              "      <td>Hard</td>\n",
              "      <td>1</td>\n",
              "      <td>0</td>\n",
              "      <td>2015-01-05</td>\n",
              "    </tr>\n",
              "    <tr>\n",
              "      <th>2</th>\n",
              "      <td>2</td>\n",
              "      <td>Tomic B.</td>\n",
              "      <td>Querrey S.</td>\n",
              "      <td>Hard</td>\n",
              "      <td>1</td>\n",
              "      <td>0</td>\n",
              "      <td>2015-01-05</td>\n",
              "    </tr>\n",
              "    <tr>\n",
              "      <th>3</th>\n",
              "      <td>3</td>\n",
              "      <td>Duckworth J.</td>\n",
              "      <td>Simon G.</td>\n",
              "      <td>Hard</td>\n",
              "      <td>1</td>\n",
              "      <td>0</td>\n",
              "      <td>2015-01-05</td>\n",
              "    </tr>\n",
              "    <tr>\n",
              "      <th>4</th>\n",
              "      <td>4</td>\n",
              "      <td>Coric B.</td>\n",
              "      <td>Haase R.</td>\n",
              "      <td>Hard</td>\n",
              "      <td>1</td>\n",
              "      <td>0</td>\n",
              "      <td>2015-01-05</td>\n",
              "    </tr>\n",
              "  </tbody>\n",
              "</table>\n",
              "</div>"
            ],
            "text/plain": [
              "   index        Winner              Loser Surface  w  l       Date\n",
              "0      0     Muller G.  Roger-Vasselin E.    Hard  1  0 2015-01-05\n",
              "1      1     Chardy J.         Golubev A.    Hard  1  0 2015-01-05\n",
              "2      2      Tomic B.         Querrey S.    Hard  1  0 2015-01-05\n",
              "3      3  Duckworth J.           Simon G.    Hard  1  0 2015-01-05\n",
              "4      4      Coric B.           Haase R.    Hard  1  0 2015-01-05"
            ]
          },
          "metadata": {
            "tags": []
          },
          "execution_count": 10
        }
      ]
    },
    {
      "cell_type": "code",
      "metadata": {
        "id": "4gpF2JAqGQt8"
      },
      "source": [
        "# step 3 -> Create Player dataframe : create a row for each player (double nb of lines)\n",
        "\n",
        "player=pd.concat([winner,loser], axis = 0)\n",
        "status=pd.concat([w,l], axis = 0)\n",
        "index=pd.concat([index,index], axis = 0)\n",
        "surface=pd.concat([surface,surface], axis = 0)\n",
        "date=pd.concat([date,date], axis = 0)\n",
        "\n",
        "df3 = pd.concat([index,player, status,surface,date], axis = 1)\n",
        "df3.columns = ['index','Player','Winner','Surface','Date']\n"
      ],
      "execution_count": 11,
      "outputs": []
    },
    {
      "cell_type": "code",
      "metadata": {
        "id": "Ci1sc0PzchXM",
        "colab": {
          "base_uri": "https://localhost:8080/",
          "height": 204
        },
        "outputId": "3b157116-096a-426e-e1f5-b87871fde848"
      },
      "source": [
        "df3.head()\n"
      ],
      "execution_count": 12,
      "outputs": [
        {
          "output_type": "execute_result",
          "data": {
            "text/html": [
              "<div>\n",
              "<style scoped>\n",
              "    .dataframe tbody tr th:only-of-type {\n",
              "        vertical-align: middle;\n",
              "    }\n",
              "\n",
              "    .dataframe tbody tr th {\n",
              "        vertical-align: top;\n",
              "    }\n",
              "\n",
              "    .dataframe thead th {\n",
              "        text-align: right;\n",
              "    }\n",
              "</style>\n",
              "<table border=\"1\" class=\"dataframe\">\n",
              "  <thead>\n",
              "    <tr style=\"text-align: right;\">\n",
              "      <th></th>\n",
              "      <th>index</th>\n",
              "      <th>Player</th>\n",
              "      <th>Winner</th>\n",
              "      <th>Surface</th>\n",
              "      <th>Date</th>\n",
              "    </tr>\n",
              "  </thead>\n",
              "  <tbody>\n",
              "    <tr>\n",
              "      <th>0</th>\n",
              "      <td>0</td>\n",
              "      <td>Muller G.</td>\n",
              "      <td>1</td>\n",
              "      <td>Hard</td>\n",
              "      <td>2015-01-05</td>\n",
              "    </tr>\n",
              "    <tr>\n",
              "      <th>1</th>\n",
              "      <td>1</td>\n",
              "      <td>Chardy J.</td>\n",
              "      <td>1</td>\n",
              "      <td>Hard</td>\n",
              "      <td>2015-01-05</td>\n",
              "    </tr>\n",
              "    <tr>\n",
              "      <th>2</th>\n",
              "      <td>2</td>\n",
              "      <td>Tomic B.</td>\n",
              "      <td>1</td>\n",
              "      <td>Hard</td>\n",
              "      <td>2015-01-05</td>\n",
              "    </tr>\n",
              "    <tr>\n",
              "      <th>3</th>\n",
              "      <td>3</td>\n",
              "      <td>Duckworth J.</td>\n",
              "      <td>1</td>\n",
              "      <td>Hard</td>\n",
              "      <td>2015-01-05</td>\n",
              "    </tr>\n",
              "    <tr>\n",
              "      <th>4</th>\n",
              "      <td>4</td>\n",
              "      <td>Coric B.</td>\n",
              "      <td>1</td>\n",
              "      <td>Hard</td>\n",
              "      <td>2015-01-05</td>\n",
              "    </tr>\n",
              "  </tbody>\n",
              "</table>\n",
              "</div>"
            ],
            "text/plain": [
              "   index        Player  Winner Surface       Date\n",
              "0      0     Muller G.       1    Hard 2015-01-05\n",
              "1      1     Chardy J.       1    Hard 2015-01-05\n",
              "2      2      Tomic B.       1    Hard 2015-01-05\n",
              "3      3  Duckworth J.       1    Hard 2015-01-05\n",
              "4      4      Coric B.       1    Hard 2015-01-05"
            ]
          },
          "metadata": {
            "tags": []
          },
          "execution_count": 12
        }
      ]
    },
    {
      "cell_type": "code",
      "metadata": {
        "id": "o0qEhRVy7CJ-"
      },
      "source": [
        "# Create 'Shape' indicator based on recent number of games played \n",
        "\n",
        "#def forme (row):\n",
        "  # if ((row['Played_R'] >= 4)):\n",
        "     # return 1\n",
        "   #elif ((row['Played_R'] >=3) & (row['Played_R'] < 4) & (row['Win_rate_R'] >= 0.5)):\n",
        "    #  return 2\n",
        "  # elif ((row['Played_R'] >=2) & (row['Played_R'] < 3) & (row['Win_rate_R'] > 0.5)):\n",
        "    #  return 3\n",
        "   #elif ((row['Played_R'] >=1) & (row['Played_R'] < 2) & (row['Win_rate_R'] > 0.5)):\n",
        "    #  return 4\n",
        "   #else:\n",
        "    #  return 5\n",
        "    \n",
        "#data_players['Shape'] = data_players.apply (lambda row: forme(row), axis=1)"
      ],
      "execution_count": 13,
      "outputs": []
    },
    {
      "cell_type": "code",
      "metadata": {
        "colab": {
          "base_uri": "https://localhost:8080/"
        },
        "id": "WtdjuIbx0DCC",
        "outputId": "57445ad9-77f3-45c9-b409-e12dd083d626"
      },
      "source": [
        "df3.info()\n",
        "print(df3.duplicated().sum())"
      ],
      "execution_count": 14,
      "outputs": [
        {
          "output_type": "stream",
          "text": [
            "<class 'pandas.core.frame.DataFrame'>\n",
            "Int64Index: 35784 entries, 0 to 17891\n",
            "Data columns (total 5 columns):\n",
            " #   Column   Non-Null Count  Dtype         \n",
            "---  ------   --------------  -----         \n",
            " 0   index    35784 non-null  int64         \n",
            " 1   Player   35784 non-null  object        \n",
            " 2   Winner   35784 non-null  int64         \n",
            " 3   Surface  35784 non-null  object        \n",
            " 4   Date     35784 non-null  datetime64[ns]\n",
            "dtypes: datetime64[ns](1), int64(2), object(2)\n",
            "memory usage: 1.6+ MB\n",
            "0\n"
          ],
          "name": "stdout"
        }
      ]
    },
    {
      "cell_type": "code",
      "metadata": {
        "id": "T_SeHQ15ryJH"
      },
      "source": [
        "# Collect and merge new data on players (Birthday + Strong hand) -> Idea not kept\n",
        "\n",
        "#url2 = 'https://raw.githubusercontent.com/GuillaumeRouja/2021-Tennis_Bet/main/Data/Player.csv'\n",
        "#player = pd.read_csv(url2)\n",
        "\n",
        "# Format players name so that they can be merged with data_players\n",
        "\n",
        "#player['Player'] = player['name'].str.split().str[1:].str.join(\" \").add(\" \"+player['name'].str[0].str[0].add(\".\"))\n",
        "#player.drop(['player_id','country','name'],axis=1,inplace=True)\n",
        "\n",
        "# Remove duplicated players and players with no birthday\n",
        "\n",
        "#player.drop_duplicates(subset='Player',keep='first',inplace=True)\n",
        "#player.dropna(axis=0,inplace=True)\n",
        "#player.Player.duplicated().sum()\n",
        "\n",
        "# Conversion to DateTime\n",
        "\n",
        "#player['birthday'] = pd.to_datetime(player.birthday)\n",
        "\n",
        "# Merging Birthday + Strong hand data\n",
        "\n",
        "#data_players=data_players.merge(right=player,on = \"Player\",how = \"left\")\n",
        "\n",
        "# Replace NaN in 'Strong Hand' with 'U' for 'unidentified\n",
        "\n",
        "#data_players.hand.fillna('U',inplace=True)"
      ],
      "execution_count": 15,
      "outputs": []
    },
    {
      "cell_type": "code",
      "metadata": {
        "colab": {
          "base_uri": "https://localhost:8080/",
          "height": 235
        },
        "id": "-016HNDZ0K5n",
        "outputId": "e0ad28b5-5fa6-4b7c-cd8a-6460d6e28a7b"
      },
      "source": [
        "# step 4 -> Pivot table \n",
        "\n",
        "df_players = pd.pivot_table(df3,index=['Player','index','Surface','Date'])\n",
        "df_players.head()"
      ],
      "execution_count": 16,
      "outputs": [
        {
          "output_type": "execute_result",
          "data": {
            "text/html": [
              "<div>\n",
              "<style scoped>\n",
              "    .dataframe tbody tr th:only-of-type {\n",
              "        vertical-align: middle;\n",
              "    }\n",
              "\n",
              "    .dataframe tbody tr th {\n",
              "        vertical-align: top;\n",
              "    }\n",
              "\n",
              "    .dataframe thead th {\n",
              "        text-align: right;\n",
              "    }\n",
              "</style>\n",
              "<table border=\"1\" class=\"dataframe\">\n",
              "  <thead>\n",
              "    <tr style=\"text-align: right;\">\n",
              "      <th></th>\n",
              "      <th></th>\n",
              "      <th></th>\n",
              "      <th></th>\n",
              "      <th>Winner</th>\n",
              "    </tr>\n",
              "    <tr>\n",
              "      <th>Player</th>\n",
              "      <th>index</th>\n",
              "      <th>Surface</th>\n",
              "      <th>Date</th>\n",
              "      <th></th>\n",
              "    </tr>\n",
              "  </thead>\n",
              "  <tbody>\n",
              "    <tr>\n",
              "      <th rowspan=\"5\" valign=\"top\">Ahouda A.</th>\n",
              "      <th>4248</th>\n",
              "      <th>Clay</th>\n",
              "      <th>2016-04-05</th>\n",
              "      <td>0</td>\n",
              "    </tr>\n",
              "    <tr>\n",
              "      <th>4259</th>\n",
              "      <th>Clay</th>\n",
              "      <th>2016-04-05</th>\n",
              "      <td>0</td>\n",
              "    </tr>\n",
              "    <tr>\n",
              "      <th>8690</th>\n",
              "      <th>Clay</th>\n",
              "      <th>2017-04-11</th>\n",
              "      <td>1</td>\n",
              "    </tr>\n",
              "    <tr>\n",
              "      <th>8716</th>\n",
              "      <th>Clay</th>\n",
              "      <th>2017-04-13</th>\n",
              "      <td>0</td>\n",
              "    </tr>\n",
              "    <tr>\n",
              "      <th>11335</th>\n",
              "      <th>Clay</th>\n",
              "      <th>2018-04-10</th>\n",
              "      <td>0</td>\n",
              "    </tr>\n",
              "  </tbody>\n",
              "</table>\n",
              "</div>"
            ],
            "text/plain": [
              "                                    Winner\n",
              "Player    index Surface Date              \n",
              "Ahouda A. 4248  Clay    2016-04-05       0\n",
              "          4259  Clay    2016-04-05       0\n",
              "          8690  Clay    2017-04-11       1\n",
              "          8716  Clay    2017-04-13       0\n",
              "          11335 Clay    2018-04-10       0"
            ]
          },
          "metadata": {
            "tags": []
          },
          "execution_count": 16
        }
      ]
    },
    {
      "cell_type": "code",
      "metadata": {
        "id": "ZqSYqgc30a9i"
      },
      "source": [
        "# step 5 -> Build Defeats counter where winner = 0.\n",
        "\n",
        "df_players['Loser']=df_players['Winner'].apply(lambda x: 0 if x ==1 else 1)"
      ],
      "execution_count": 17,
      "outputs": []
    },
    {
      "cell_type": "code",
      "metadata": {
        "colab": {
          "base_uri": "https://localhost:8080/",
          "height": 235
        },
        "id": "osauRZnC0bAL",
        "outputId": "2e01aaa2-80bd-4619-e276-83c4ebd609e6"
      },
      "source": [
        "df_players.head()"
      ],
      "execution_count": 18,
      "outputs": [
        {
          "output_type": "execute_result",
          "data": {
            "text/html": [
              "<div>\n",
              "<style scoped>\n",
              "    .dataframe tbody tr th:only-of-type {\n",
              "        vertical-align: middle;\n",
              "    }\n",
              "\n",
              "    .dataframe tbody tr th {\n",
              "        vertical-align: top;\n",
              "    }\n",
              "\n",
              "    .dataframe thead th {\n",
              "        text-align: right;\n",
              "    }\n",
              "</style>\n",
              "<table border=\"1\" class=\"dataframe\">\n",
              "  <thead>\n",
              "    <tr style=\"text-align: right;\">\n",
              "      <th></th>\n",
              "      <th></th>\n",
              "      <th></th>\n",
              "      <th></th>\n",
              "      <th>Winner</th>\n",
              "      <th>Loser</th>\n",
              "    </tr>\n",
              "    <tr>\n",
              "      <th>Player</th>\n",
              "      <th>index</th>\n",
              "      <th>Surface</th>\n",
              "      <th>Date</th>\n",
              "      <th></th>\n",
              "      <th></th>\n",
              "    </tr>\n",
              "  </thead>\n",
              "  <tbody>\n",
              "    <tr>\n",
              "      <th rowspan=\"5\" valign=\"top\">Ahouda A.</th>\n",
              "      <th>4248</th>\n",
              "      <th>Clay</th>\n",
              "      <th>2016-04-05</th>\n",
              "      <td>0</td>\n",
              "      <td>1</td>\n",
              "    </tr>\n",
              "    <tr>\n",
              "      <th>4259</th>\n",
              "      <th>Clay</th>\n",
              "      <th>2016-04-05</th>\n",
              "      <td>0</td>\n",
              "      <td>1</td>\n",
              "    </tr>\n",
              "    <tr>\n",
              "      <th>8690</th>\n",
              "      <th>Clay</th>\n",
              "      <th>2017-04-11</th>\n",
              "      <td>1</td>\n",
              "      <td>0</td>\n",
              "    </tr>\n",
              "    <tr>\n",
              "      <th>8716</th>\n",
              "      <th>Clay</th>\n",
              "      <th>2017-04-13</th>\n",
              "      <td>0</td>\n",
              "      <td>1</td>\n",
              "    </tr>\n",
              "    <tr>\n",
              "      <th>11335</th>\n",
              "      <th>Clay</th>\n",
              "      <th>2018-04-10</th>\n",
              "      <td>0</td>\n",
              "      <td>1</td>\n",
              "    </tr>\n",
              "  </tbody>\n",
              "</table>\n",
              "</div>"
            ],
            "text/plain": [
              "                                    Winner  Loser\n",
              "Player    index Surface Date                     \n",
              "Ahouda A. 4248  Clay    2016-04-05       0      1\n",
              "          4259  Clay    2016-04-05       0      1\n",
              "          8690  Clay    2017-04-11       1      0\n",
              "          8716  Clay    2017-04-13       0      1\n",
              "          11335 Clay    2018-04-10       0      1"
            ]
          },
          "metadata": {
            "tags": []
          },
          "execution_count": 18
        }
      ]
    },
    {
      "cell_type": "code",
      "metadata": {
        "id": "EcMjGHN_0bCZ"
      },
      "source": [
        "# step 6 -> Sort Players Dataframe by Date (preparation for cumulative variables)\n",
        "\n",
        "df_players.reset_index(inplace=True)\n",
        "df_players.set_index(['Date'], inplace=True)\n",
        "df_players.sort_values(['Date'], inplace=True)"
      ],
      "execution_count": 19,
      "outputs": []
    },
    {
      "cell_type": "code",
      "metadata": {
        "colab": {
          "base_uri": "https://localhost:8080/",
          "height": 235
        },
        "id": "6ggZMp410bFG",
        "outputId": "3efe05a5-4992-4054-87ac-4c2ea43395fb"
      },
      "source": [
        "df_players.head()"
      ],
      "execution_count": 20,
      "outputs": [
        {
          "output_type": "execute_result",
          "data": {
            "text/html": [
              "<div>\n",
              "<style scoped>\n",
              "    .dataframe tbody tr th:only-of-type {\n",
              "        vertical-align: middle;\n",
              "    }\n",
              "\n",
              "    .dataframe tbody tr th {\n",
              "        vertical-align: top;\n",
              "    }\n",
              "\n",
              "    .dataframe thead th {\n",
              "        text-align: right;\n",
              "    }\n",
              "</style>\n",
              "<table border=\"1\" class=\"dataframe\">\n",
              "  <thead>\n",
              "    <tr style=\"text-align: right;\">\n",
              "      <th></th>\n",
              "      <th>Player</th>\n",
              "      <th>index</th>\n",
              "      <th>Surface</th>\n",
              "      <th>Winner</th>\n",
              "      <th>Loser</th>\n",
              "    </tr>\n",
              "    <tr>\n",
              "      <th>Date</th>\n",
              "      <th></th>\n",
              "      <th></th>\n",
              "      <th></th>\n",
              "      <th></th>\n",
              "      <th></th>\n",
              "    </tr>\n",
              "  </thead>\n",
              "  <tbody>\n",
              "    <tr>\n",
              "      <th>2015-01-05</th>\n",
              "      <td>Duckworth J.</td>\n",
              "      <td>3</td>\n",
              "      <td>Hard</td>\n",
              "      <td>1</td>\n",
              "      <td>0</td>\n",
              "    </tr>\n",
              "    <tr>\n",
              "      <th>2015-01-05</th>\n",
              "      <td>Kokkinakis T.</td>\n",
              "      <td>6</td>\n",
              "      <td>Hard</td>\n",
              "      <td>1</td>\n",
              "      <td>0</td>\n",
              "    </tr>\n",
              "    <tr>\n",
              "      <th>2015-01-05</th>\n",
              "      <td>Becker B.</td>\n",
              "      <td>11</td>\n",
              "      <td>Hard</td>\n",
              "      <td>0</td>\n",
              "      <td>1</td>\n",
              "    </tr>\n",
              "    <tr>\n",
              "      <th>2015-01-05</th>\n",
              "      <td>Karlovic I.</td>\n",
              "      <td>12</td>\n",
              "      <td>Hard</td>\n",
              "      <td>1</td>\n",
              "      <td>0</td>\n",
              "    </tr>\n",
              "    <tr>\n",
              "      <th>2015-01-05</th>\n",
              "      <td>Coric B.</td>\n",
              "      <td>4</td>\n",
              "      <td>Hard</td>\n",
              "      <td>1</td>\n",
              "      <td>0</td>\n",
              "    </tr>\n",
              "  </tbody>\n",
              "</table>\n",
              "</div>"
            ],
            "text/plain": [
              "                   Player  index Surface  Winner  Loser\n",
              "Date                                                   \n",
              "2015-01-05   Duckworth J.      3    Hard       1      0\n",
              "2015-01-05  Kokkinakis T.      6    Hard       1      0\n",
              "2015-01-05      Becker B.     11    Hard       0      1\n",
              "2015-01-05    Karlovic I.     12    Hard       1      0\n",
              "2015-01-05       Coric B.      4    Hard       1      0"
            ]
          },
          "metadata": {
            "tags": []
          },
          "execution_count": 20
        }
      ]
    },
    {
      "cell_type": "code",
      "metadata": {
        "id": "YlK_hQ7b0hOl"
      },
      "source": [
        "# Step 7 : Build cumlative stats\n",
        "\n",
        "df_surface = df_players.copy()\n",
        "\n",
        "# step 7a -> Cumulative wins/defeats (Rolling sum on recent days removing game of the day because result still unknown)\n",
        "\n",
        "df_players['Wins_R']=df_players.groupby('Player')['Winner'].transform(lambda x: x.rolling('3000D').sum()).fillna(0)-df_players['Winner']  # NB days can be changed if needed\n",
        "df_players['Defeats_R']=df_players.groupby('Player')['Loser'].transform(lambda x: x.rolling('3000D').sum()).fillna(0)-df_players['Loser'] # NB days can be changed if needed\n",
        "df_players['Played_R']=df_players['Wins_R']+df_players['Defeats_R']\n",
        "df_players['WinRate_R']=df_players['Wins_R']/df_players['Played_R']\n",
        "df_players['WinRate_R'].fillna(0,inplace=True)"
      ],
      "execution_count": 21,
      "outputs": []
    },
    {
      "cell_type": "code",
      "metadata": {
        "colab": {
          "base_uri": "https://localhost:8080/",
          "height": 297
        },
        "id": "3HTK2NVG0hRA",
        "outputId": "dcfcb6c8-77f9-40ea-f25d-4e406db1ebee"
      },
      "source": [
        "# check\n",
        "\n",
        "df_players[(df_players.Player=='Federer R.')|(df_players.Player=='Federer R.')].head(7)"
      ],
      "execution_count": 22,
      "outputs": [
        {
          "output_type": "execute_result",
          "data": {
            "text/html": [
              "<div>\n",
              "<style scoped>\n",
              "    .dataframe tbody tr th:only-of-type {\n",
              "        vertical-align: middle;\n",
              "    }\n",
              "\n",
              "    .dataframe tbody tr th {\n",
              "        vertical-align: top;\n",
              "    }\n",
              "\n",
              "    .dataframe thead th {\n",
              "        text-align: right;\n",
              "    }\n",
              "</style>\n",
              "<table border=\"1\" class=\"dataframe\">\n",
              "  <thead>\n",
              "    <tr style=\"text-align: right;\">\n",
              "      <th></th>\n",
              "      <th>Player</th>\n",
              "      <th>index</th>\n",
              "      <th>Surface</th>\n",
              "      <th>Winner</th>\n",
              "      <th>Loser</th>\n",
              "      <th>Wins_R</th>\n",
              "      <th>Defeats_R</th>\n",
              "      <th>Played_R</th>\n",
              "      <th>WinRate_R</th>\n",
              "    </tr>\n",
              "    <tr>\n",
              "      <th>Date</th>\n",
              "      <th></th>\n",
              "      <th></th>\n",
              "      <th></th>\n",
              "      <th></th>\n",
              "      <th></th>\n",
              "      <th></th>\n",
              "      <th></th>\n",
              "      <th></th>\n",
              "      <th></th>\n",
              "    </tr>\n",
              "  </thead>\n",
              "  <tbody>\n",
              "    <tr>\n",
              "      <th>2015-01-08</th>\n",
              "      <td>Federer R.</td>\n",
              "      <td>61</td>\n",
              "      <td>Hard</td>\n",
              "      <td>1</td>\n",
              "      <td>0</td>\n",
              "      <td>0</td>\n",
              "      <td>0</td>\n",
              "      <td>0</td>\n",
              "      <td>0.0</td>\n",
              "    </tr>\n",
              "    <tr>\n",
              "      <th>2015-01-09</th>\n",
              "      <td>Federer R.</td>\n",
              "      <td>72</td>\n",
              "      <td>Hard</td>\n",
              "      <td>1</td>\n",
              "      <td>0</td>\n",
              "      <td>1</td>\n",
              "      <td>0</td>\n",
              "      <td>1</td>\n",
              "      <td>1.0</td>\n",
              "    </tr>\n",
              "    <tr>\n",
              "      <th>2015-01-10</th>\n",
              "      <td>Federer R.</td>\n",
              "      <td>81</td>\n",
              "      <td>Hard</td>\n",
              "      <td>1</td>\n",
              "      <td>0</td>\n",
              "      <td>2</td>\n",
              "      <td>0</td>\n",
              "      <td>2</td>\n",
              "      <td>1.0</td>\n",
              "    </tr>\n",
              "    <tr>\n",
              "      <th>2015-01-11</th>\n",
              "      <td>Federer R.</td>\n",
              "      <td>83</td>\n",
              "      <td>Hard</td>\n",
              "      <td>1</td>\n",
              "      <td>0</td>\n",
              "      <td>3</td>\n",
              "      <td>0</td>\n",
              "      <td>3</td>\n",
              "      <td>1.0</td>\n",
              "    </tr>\n",
              "    <tr>\n",
              "      <th>2015-01-19</th>\n",
              "      <td>Federer R.</td>\n",
              "      <td>165</td>\n",
              "      <td>Hard</td>\n",
              "      <td>1</td>\n",
              "      <td>0</td>\n",
              "      <td>4</td>\n",
              "      <td>0</td>\n",
              "      <td>4</td>\n",
              "      <td>1.0</td>\n",
              "    </tr>\n",
              "    <tr>\n",
              "      <th>2015-01-21</th>\n",
              "      <td>Federer R.</td>\n",
              "      <td>218</td>\n",
              "      <td>Hard</td>\n",
              "      <td>1</td>\n",
              "      <td>0</td>\n",
              "      <td>5</td>\n",
              "      <td>0</td>\n",
              "      <td>5</td>\n",
              "      <td>1.0</td>\n",
              "    </tr>\n",
              "    <tr>\n",
              "      <th>2015-01-23</th>\n",
              "      <td>Federer R.</td>\n",
              "      <td>237</td>\n",
              "      <td>Hard</td>\n",
              "      <td>0</td>\n",
              "      <td>1</td>\n",
              "      <td>6</td>\n",
              "      <td>0</td>\n",
              "      <td>6</td>\n",
              "      <td>1.0</td>\n",
              "    </tr>\n",
              "  </tbody>\n",
              "</table>\n",
              "</div>"
            ],
            "text/plain": [
              "                Player  index Surface  ...  Defeats_R  Played_R  WinRate_R\n",
              "Date                                   ...                                \n",
              "2015-01-08  Federer R.     61    Hard  ...          0         0        0.0\n",
              "2015-01-09  Federer R.     72    Hard  ...          0         1        1.0\n",
              "2015-01-10  Federer R.     81    Hard  ...          0         2        1.0\n",
              "2015-01-11  Federer R.     83    Hard  ...          0         3        1.0\n",
              "2015-01-19  Federer R.    165    Hard  ...          0         4        1.0\n",
              "2015-01-21  Federer R.    218    Hard  ...          0         5        1.0\n",
              "2015-01-23  Federer R.    237    Hard  ...          0         6        1.0\n",
              "\n",
              "[7 rows x 9 columns]"
            ]
          },
          "metadata": {
            "tags": []
          },
          "execution_count": 22
        }
      ]
    },
    {
      "cell_type": "code",
      "metadata": {
        "colab": {
          "base_uri": "https://localhost:8080/"
        },
        "id": "o4uhvNGi0hTV",
        "outputId": "404159ba-00bd-4203-cfc4-c6e00527c3d5"
      },
      "source": [
        "# # step 7b -> Cumulative wins/defeats by surface\n",
        "\n",
        "df_surface.Surface.value_counts()"
      ],
      "execution_count": 23,
      "outputs": [
        {
          "output_type": "execute_result",
          "data": {
            "text/plain": [
              "Hard     20032\n",
              "Clay     11466\n",
              "Grass     4286\n",
              "Name: Surface, dtype: int64"
            ]
          },
          "metadata": {
            "tags": []
          },
          "execution_count": 23
        }
      ]
    },
    {
      "cell_type": "code",
      "metadata": {
        "id": "4TkEjf510hVn"
      },
      "source": [
        "df_surface['Wins_R']=df_surface.groupby(['Player','Surface'])['Winner'].transform(lambda x: x.rolling('3000D').sum()).fillna(0)-df_surface['Winner']  # NB days can be changed if needed\n",
        "df_surface['Defeats_R']=df_surface.groupby(['Player','Surface'])['Loser'].transform(lambda x: x.rolling('3000D').sum()).fillna(0)-df_surface['Loser'] # NB days can be changed if needed\n",
        "df_surface['Played_R']=df_surface['Wins_R']+df_surface['Defeats_R']\n",
        "df_surface['WinRate_R']=df_surface['Wins_R']/df_surface['Played_R']\n",
        "df_surface['WinRate_R'].fillna(0,inplace=True)"
      ],
      "execution_count": 24,
      "outputs": []
    },
    {
      "cell_type": "code",
      "metadata": {
        "colab": {
          "base_uri": "https://localhost:8080/",
          "height": 235
        },
        "id": "RwoMWNnU0hXx",
        "outputId": "b25113f6-c0a8-40ec-8a0a-8fe5d8bf1976"
      },
      "source": [
        "# check\n",
        "\n",
        "df_surface[(df_players.Player=='Federer R.')|(df_players.Player=='Federer R.')].head()"
      ],
      "execution_count": 25,
      "outputs": [
        {
          "output_type": "execute_result",
          "data": {
            "text/html": [
              "<div>\n",
              "<style scoped>\n",
              "    .dataframe tbody tr th:only-of-type {\n",
              "        vertical-align: middle;\n",
              "    }\n",
              "\n",
              "    .dataframe tbody tr th {\n",
              "        vertical-align: top;\n",
              "    }\n",
              "\n",
              "    .dataframe thead th {\n",
              "        text-align: right;\n",
              "    }\n",
              "</style>\n",
              "<table border=\"1\" class=\"dataframe\">\n",
              "  <thead>\n",
              "    <tr style=\"text-align: right;\">\n",
              "      <th></th>\n",
              "      <th>Player</th>\n",
              "      <th>index</th>\n",
              "      <th>Surface</th>\n",
              "      <th>Winner</th>\n",
              "      <th>Loser</th>\n",
              "      <th>Wins_R</th>\n",
              "      <th>Defeats_R</th>\n",
              "      <th>Played_R</th>\n",
              "      <th>WinRate_R</th>\n",
              "    </tr>\n",
              "    <tr>\n",
              "      <th>Date</th>\n",
              "      <th></th>\n",
              "      <th></th>\n",
              "      <th></th>\n",
              "      <th></th>\n",
              "      <th></th>\n",
              "      <th></th>\n",
              "      <th></th>\n",
              "      <th></th>\n",
              "      <th></th>\n",
              "    </tr>\n",
              "  </thead>\n",
              "  <tbody>\n",
              "    <tr>\n",
              "      <th>2015-01-08</th>\n",
              "      <td>Federer R.</td>\n",
              "      <td>61</td>\n",
              "      <td>Hard</td>\n",
              "      <td>1</td>\n",
              "      <td>0</td>\n",
              "      <td>0</td>\n",
              "      <td>0</td>\n",
              "      <td>0</td>\n",
              "      <td>0.0</td>\n",
              "    </tr>\n",
              "    <tr>\n",
              "      <th>2015-01-09</th>\n",
              "      <td>Federer R.</td>\n",
              "      <td>72</td>\n",
              "      <td>Hard</td>\n",
              "      <td>1</td>\n",
              "      <td>0</td>\n",
              "      <td>1</td>\n",
              "      <td>0</td>\n",
              "      <td>1</td>\n",
              "      <td>1.0</td>\n",
              "    </tr>\n",
              "    <tr>\n",
              "      <th>2015-01-10</th>\n",
              "      <td>Federer R.</td>\n",
              "      <td>81</td>\n",
              "      <td>Hard</td>\n",
              "      <td>1</td>\n",
              "      <td>0</td>\n",
              "      <td>2</td>\n",
              "      <td>0</td>\n",
              "      <td>2</td>\n",
              "      <td>1.0</td>\n",
              "    </tr>\n",
              "    <tr>\n",
              "      <th>2015-01-11</th>\n",
              "      <td>Federer R.</td>\n",
              "      <td>83</td>\n",
              "      <td>Hard</td>\n",
              "      <td>1</td>\n",
              "      <td>0</td>\n",
              "      <td>3</td>\n",
              "      <td>0</td>\n",
              "      <td>3</td>\n",
              "      <td>1.0</td>\n",
              "    </tr>\n",
              "    <tr>\n",
              "      <th>2015-01-19</th>\n",
              "      <td>Federer R.</td>\n",
              "      <td>165</td>\n",
              "      <td>Hard</td>\n",
              "      <td>1</td>\n",
              "      <td>0</td>\n",
              "      <td>4</td>\n",
              "      <td>0</td>\n",
              "      <td>4</td>\n",
              "      <td>1.0</td>\n",
              "    </tr>\n",
              "  </tbody>\n",
              "</table>\n",
              "</div>"
            ],
            "text/plain": [
              "                Player  index Surface  ...  Defeats_R  Played_R  WinRate_R\n",
              "Date                                   ...                                \n",
              "2015-01-08  Federer R.     61    Hard  ...          0         0        0.0\n",
              "2015-01-09  Federer R.     72    Hard  ...          0         1        1.0\n",
              "2015-01-10  Federer R.     81    Hard  ...          0         2        1.0\n",
              "2015-01-11  Federer R.     83    Hard  ...          0         3        1.0\n",
              "2015-01-19  Federer R.    165    Hard  ...          0         4        1.0\n",
              "\n",
              "[5 rows x 9 columns]"
            ]
          },
          "metadata": {
            "tags": []
          },
          "execution_count": 25
        }
      ]
    },
    {
      "cell_type": "code",
      "metadata": {
        "id": "Bvit0xdO0haM"
      },
      "source": [
        "# step 8 Prepare'df_players' and 'df_surface' for merge with Data\n",
        "\n",
        "# A. Sort Dataframe (same as Data)\n",
        "\n",
        "df_players.sort_values(['index','Loser'], inplace=True)\n",
        "df_surface.sort_values(['index','Loser'], inplace=True)\n",
        "\n",
        "# B. Take every other line of df_Players/df_Surface to reduce the dataframe by half // Data\n",
        "\n",
        "Players_merge = pd.DataFrame({'Winner':df_players['Player'].iloc[::2].values, 'Loser':df_players['Player'].iloc[1::2].values,\n",
        "                        'Winner_wins_R':df_players['Wins_R'].iloc[::2].values, 'Loser_wins_R':df_players['Wins_R'].iloc[1::2].values,\n",
        "                        'Winner_defeats_R':df_players['Defeats_R'].iloc[::2].values, 'Loser_defeats_R':df_players['Defeats_R'].iloc[1::2].values,\n",
        "                        'Winner_Played_R':df_players['Played_R'].iloc[::2].values, 'Loser_Played_R':df_players['Played_R'].iloc[1::2].values,\n",
        "                        'Winner_WinRate_R':df_players['WinRate_R'].iloc[::2].values, 'Loser_WinRate_R':df_players['WinRate_R'].iloc[1::2].values,\n",
        "                        'Winner_wins_S':df_surface['Wins_R'].iloc[::2].values, 'Loser_wins_S':df_surface['Wins_R'].iloc[1::2].values,\n",
        "                        'Winner_defeats_S':df_surface['Defeats_R'].iloc[::2].values, 'Loser_defeats_S':df_surface['Defeats_R'].iloc[1::2].values,\n",
        "                        'Winner_Played_S':df_surface['Played_R'].iloc[::2].values, 'Loser_Played_S':df_surface['Played_R'].iloc[1::2].values,\n",
        "                        'Winner_WinRate_S':df_surface['WinRate_R'].iloc[::2].values, 'Loser_WinRate_S':df_surface['WinRate_R'].iloc[1::2].values,\n",
        "                        'index':df_players['index'].iloc[1::2].values})"
      ],
      "execution_count": 26,
      "outputs": []
    },
    {
      "cell_type": "code",
      "metadata": {
        "colab": {
          "base_uri": "https://localhost:8080/",
          "height": 326
        },
        "id": "uGh4sESm0hcG",
        "outputId": "b181b445-214e-482b-bc87-502c58cbb3cf"
      },
      "source": [
        "Players_merge.head()"
      ],
      "execution_count": 27,
      "outputs": [
        {
          "output_type": "execute_result",
          "data": {
            "text/html": [
              "<div>\n",
              "<style scoped>\n",
              "    .dataframe tbody tr th:only-of-type {\n",
              "        vertical-align: middle;\n",
              "    }\n",
              "\n",
              "    .dataframe tbody tr th {\n",
              "        vertical-align: top;\n",
              "    }\n",
              "\n",
              "    .dataframe thead th {\n",
              "        text-align: right;\n",
              "    }\n",
              "</style>\n",
              "<table border=\"1\" class=\"dataframe\">\n",
              "  <thead>\n",
              "    <tr style=\"text-align: right;\">\n",
              "      <th></th>\n",
              "      <th>Winner</th>\n",
              "      <th>Loser</th>\n",
              "      <th>Winner_wins_R</th>\n",
              "      <th>Loser_wins_R</th>\n",
              "      <th>Winner_defeats_R</th>\n",
              "      <th>Loser_defeats_R</th>\n",
              "      <th>Winner_Played_R</th>\n",
              "      <th>Loser_Played_R</th>\n",
              "      <th>Winner_WinRate_R</th>\n",
              "      <th>Loser_WinRate_R</th>\n",
              "      <th>Winner_wins_S</th>\n",
              "      <th>Loser_wins_S</th>\n",
              "      <th>Winner_defeats_S</th>\n",
              "      <th>Loser_defeats_S</th>\n",
              "      <th>Winner_Played_S</th>\n",
              "      <th>Loser_Played_S</th>\n",
              "      <th>Winner_WinRate_S</th>\n",
              "      <th>Loser_WinRate_S</th>\n",
              "      <th>index</th>\n",
              "    </tr>\n",
              "  </thead>\n",
              "  <tbody>\n",
              "    <tr>\n",
              "      <th>0</th>\n",
              "      <td>Muller G.</td>\n",
              "      <td>Roger-Vasselin E.</td>\n",
              "      <td>0</td>\n",
              "      <td>0</td>\n",
              "      <td>0</td>\n",
              "      <td>0</td>\n",
              "      <td>0</td>\n",
              "      <td>0</td>\n",
              "      <td>0.0</td>\n",
              "      <td>0.0</td>\n",
              "      <td>0</td>\n",
              "      <td>0</td>\n",
              "      <td>0</td>\n",
              "      <td>0</td>\n",
              "      <td>0</td>\n",
              "      <td>0</td>\n",
              "      <td>0.0</td>\n",
              "      <td>0.0</td>\n",
              "      <td>0</td>\n",
              "    </tr>\n",
              "    <tr>\n",
              "      <th>1</th>\n",
              "      <td>Chardy J.</td>\n",
              "      <td>Golubev A.</td>\n",
              "      <td>0</td>\n",
              "      <td>0</td>\n",
              "      <td>0</td>\n",
              "      <td>0</td>\n",
              "      <td>0</td>\n",
              "      <td>0</td>\n",
              "      <td>0.0</td>\n",
              "      <td>0.0</td>\n",
              "      <td>0</td>\n",
              "      <td>0</td>\n",
              "      <td>0</td>\n",
              "      <td>0</td>\n",
              "      <td>0</td>\n",
              "      <td>0</td>\n",
              "      <td>0.0</td>\n",
              "      <td>0.0</td>\n",
              "      <td>1</td>\n",
              "    </tr>\n",
              "    <tr>\n",
              "      <th>2</th>\n",
              "      <td>Tomic B.</td>\n",
              "      <td>Querrey S.</td>\n",
              "      <td>0</td>\n",
              "      <td>0</td>\n",
              "      <td>0</td>\n",
              "      <td>0</td>\n",
              "      <td>0</td>\n",
              "      <td>0</td>\n",
              "      <td>0.0</td>\n",
              "      <td>0.0</td>\n",
              "      <td>0</td>\n",
              "      <td>0</td>\n",
              "      <td>0</td>\n",
              "      <td>0</td>\n",
              "      <td>0</td>\n",
              "      <td>0</td>\n",
              "      <td>0.0</td>\n",
              "      <td>0.0</td>\n",
              "      <td>2</td>\n",
              "    </tr>\n",
              "    <tr>\n",
              "      <th>3</th>\n",
              "      <td>Duckworth J.</td>\n",
              "      <td>Simon G.</td>\n",
              "      <td>0</td>\n",
              "      <td>0</td>\n",
              "      <td>0</td>\n",
              "      <td>0</td>\n",
              "      <td>0</td>\n",
              "      <td>0</td>\n",
              "      <td>0.0</td>\n",
              "      <td>0.0</td>\n",
              "      <td>0</td>\n",
              "      <td>0</td>\n",
              "      <td>0</td>\n",
              "      <td>0</td>\n",
              "      <td>0</td>\n",
              "      <td>0</td>\n",
              "      <td>0.0</td>\n",
              "      <td>0.0</td>\n",
              "      <td>3</td>\n",
              "    </tr>\n",
              "    <tr>\n",
              "      <th>4</th>\n",
              "      <td>Coric B.</td>\n",
              "      <td>Haase R.</td>\n",
              "      <td>0</td>\n",
              "      <td>0</td>\n",
              "      <td>0</td>\n",
              "      <td>0</td>\n",
              "      <td>0</td>\n",
              "      <td>0</td>\n",
              "      <td>0.0</td>\n",
              "      <td>0.0</td>\n",
              "      <td>0</td>\n",
              "      <td>0</td>\n",
              "      <td>0</td>\n",
              "      <td>0</td>\n",
              "      <td>0</td>\n",
              "      <td>0</td>\n",
              "      <td>0.0</td>\n",
              "      <td>0.0</td>\n",
              "      <td>4</td>\n",
              "    </tr>\n",
              "  </tbody>\n",
              "</table>\n",
              "</div>"
            ],
            "text/plain": [
              "         Winner              Loser  ...  Loser_WinRate_S  index\n",
              "0     Muller G.  Roger-Vasselin E.  ...              0.0      0\n",
              "1     Chardy J.         Golubev A.  ...              0.0      1\n",
              "2      Tomic B.         Querrey S.  ...              0.0      2\n",
              "3  Duckworth J.           Simon G.  ...              0.0      3\n",
              "4      Coric B.           Haase R.  ...              0.0      4\n",
              "\n",
              "[5 rows x 19 columns]"
            ]
          },
          "metadata": {
            "tags": []
          },
          "execution_count": 27
        }
      ]
    },
    {
      "cell_type": "code",
      "metadata": {
        "colab": {
          "base_uri": "https://localhost:8080/",
          "height": 309
        },
        "id": "irzL9gOm1JIS",
        "outputId": "7b90af72-724f-4680-c5cf-b40fd16519fe"
      },
      "source": [
        "#Check\n",
        "\n",
        "Players_merge[(Players_merge.Winner=='Federer R.')|(Players_merge.Loser=='Federer R.')].head()"
      ],
      "execution_count": 28,
      "outputs": [
        {
          "output_type": "execute_result",
          "data": {
            "text/html": [
              "<div>\n",
              "<style scoped>\n",
              "    .dataframe tbody tr th:only-of-type {\n",
              "        vertical-align: middle;\n",
              "    }\n",
              "\n",
              "    .dataframe tbody tr th {\n",
              "        vertical-align: top;\n",
              "    }\n",
              "\n",
              "    .dataframe thead th {\n",
              "        text-align: right;\n",
              "    }\n",
              "</style>\n",
              "<table border=\"1\" class=\"dataframe\">\n",
              "  <thead>\n",
              "    <tr style=\"text-align: right;\">\n",
              "      <th></th>\n",
              "      <th>Winner</th>\n",
              "      <th>Loser</th>\n",
              "      <th>Winner_wins_R</th>\n",
              "      <th>Loser_wins_R</th>\n",
              "      <th>Winner_defeats_R</th>\n",
              "      <th>Loser_defeats_R</th>\n",
              "      <th>Winner_Played_R</th>\n",
              "      <th>Loser_Played_R</th>\n",
              "      <th>Winner_WinRate_R</th>\n",
              "      <th>Loser_WinRate_R</th>\n",
              "      <th>Winner_wins_S</th>\n",
              "      <th>Loser_wins_S</th>\n",
              "      <th>Winner_defeats_S</th>\n",
              "      <th>Loser_defeats_S</th>\n",
              "      <th>Winner_Played_S</th>\n",
              "      <th>Loser_Played_S</th>\n",
              "      <th>Winner_WinRate_S</th>\n",
              "      <th>Loser_WinRate_S</th>\n",
              "      <th>index</th>\n",
              "    </tr>\n",
              "  </thead>\n",
              "  <tbody>\n",
              "    <tr>\n",
              "      <th>59</th>\n",
              "      <td>Federer R.</td>\n",
              "      <td>Millman J.</td>\n",
              "      <td>0</td>\n",
              "      <td>1</td>\n",
              "      <td>0</td>\n",
              "      <td>0</td>\n",
              "      <td>0</td>\n",
              "      <td>1</td>\n",
              "      <td>0.0</td>\n",
              "      <td>1.0</td>\n",
              "      <td>0</td>\n",
              "      <td>1</td>\n",
              "      <td>0</td>\n",
              "      <td>0</td>\n",
              "      <td>0</td>\n",
              "      <td>1</td>\n",
              "      <td>0.0</td>\n",
              "      <td>1.0</td>\n",
              "      <td>61</td>\n",
              "    </tr>\n",
              "    <tr>\n",
              "      <th>70</th>\n",
              "      <td>Federer R.</td>\n",
              "      <td>Duckworth J.</td>\n",
              "      <td>1</td>\n",
              "      <td>2</td>\n",
              "      <td>0</td>\n",
              "      <td>0</td>\n",
              "      <td>1</td>\n",
              "      <td>2</td>\n",
              "      <td>1.0</td>\n",
              "      <td>1.0</td>\n",
              "      <td>1</td>\n",
              "      <td>2</td>\n",
              "      <td>0</td>\n",
              "      <td>0</td>\n",
              "      <td>1</td>\n",
              "      <td>2</td>\n",
              "      <td>1.0</td>\n",
              "      <td>1.0</td>\n",
              "      <td>72</td>\n",
              "    </tr>\n",
              "    <tr>\n",
              "      <th>79</th>\n",
              "      <td>Federer R.</td>\n",
              "      <td>Dimitrov G.</td>\n",
              "      <td>2</td>\n",
              "      <td>2</td>\n",
              "      <td>0</td>\n",
              "      <td>0</td>\n",
              "      <td>2</td>\n",
              "      <td>2</td>\n",
              "      <td>1.0</td>\n",
              "      <td>1.0</td>\n",
              "      <td>2</td>\n",
              "      <td>2</td>\n",
              "      <td>0</td>\n",
              "      <td>0</td>\n",
              "      <td>2</td>\n",
              "      <td>2</td>\n",
              "      <td>1.0</td>\n",
              "      <td>1.0</td>\n",
              "      <td>81</td>\n",
              "    </tr>\n",
              "    <tr>\n",
              "      <th>81</th>\n",
              "      <td>Federer R.</td>\n",
              "      <td>Raonic M.</td>\n",
              "      <td>3</td>\n",
              "      <td>3</td>\n",
              "      <td>0</td>\n",
              "      <td>0</td>\n",
              "      <td>3</td>\n",
              "      <td>3</td>\n",
              "      <td>1.0</td>\n",
              "      <td>1.0</td>\n",
              "      <td>3</td>\n",
              "      <td>3</td>\n",
              "      <td>0</td>\n",
              "      <td>0</td>\n",
              "      <td>3</td>\n",
              "      <td>3</td>\n",
              "      <td>1.0</td>\n",
              "      <td>1.0</td>\n",
              "      <td>83</td>\n",
              "    </tr>\n",
              "    <tr>\n",
              "      <th>161</th>\n",
              "      <td>Federer R.</td>\n",
              "      <td>Lu Y.H.</td>\n",
              "      <td>4</td>\n",
              "      <td>3</td>\n",
              "      <td>0</td>\n",
              "      <td>2</td>\n",
              "      <td>4</td>\n",
              "      <td>5</td>\n",
              "      <td>1.0</td>\n",
              "      <td>0.6</td>\n",
              "      <td>4</td>\n",
              "      <td>3</td>\n",
              "      <td>0</td>\n",
              "      <td>2</td>\n",
              "      <td>4</td>\n",
              "      <td>5</td>\n",
              "      <td>1.0</td>\n",
              "      <td>0.6</td>\n",
              "      <td>165</td>\n",
              "    </tr>\n",
              "  </tbody>\n",
              "</table>\n",
              "</div>"
            ],
            "text/plain": [
              "         Winner         Loser  ...  Loser_WinRate_S  index\n",
              "59   Federer R.    Millman J.  ...              1.0     61\n",
              "70   Federer R.  Duckworth J.  ...              1.0     72\n",
              "79   Federer R.   Dimitrov G.  ...              1.0     81\n",
              "81   Federer R.     Raonic M.  ...              1.0     83\n",
              "161  Federer R.       Lu Y.H.  ...              0.6    165\n",
              "\n",
              "[5 rows x 19 columns]"
            ]
          },
          "metadata": {
            "tags": []
          },
          "execution_count": 28
        }
      ]
    },
    {
      "cell_type": "code",
      "metadata": {
        "id": "5K81k1PC1Lpv"
      },
      "source": [
        "# step 9 -> Merging Data with Players on: index, Loser, Winner \n",
        "\n",
        "Players_merge.rename(columns={'index': 'index_t', 'Winner': 'Winner_t', 'Loser': 'Loser_t'},inplace=True)\n",
        "data=pd.concat([data,Players_merge], axis = 1)\n",
        "data.drop(['index_t','Winner_t','Loser_t'],axis=1,inplace=True)"
      ],
      "execution_count": 29,
      "outputs": []
    },
    {
      "cell_type": "code",
      "metadata": {
        "colab": {
          "base_uri": "https://localhost:8080/",
          "height": 326
        },
        "id": "JKMCR_8y1Lsi",
        "outputId": "3d8687b7-1621-48d6-ba8d-c91d246299df"
      },
      "source": [
        "#Check\n",
        "\n",
        "data[(data.Winner=='Federer R.')|(data.Loser=='Federer R.')].head()"
      ],
      "execution_count": 30,
      "outputs": [
        {
          "output_type": "execute_result",
          "data": {
            "text/html": [
              "<div>\n",
              "<style scoped>\n",
              "    .dataframe tbody tr th:only-of-type {\n",
              "        vertical-align: middle;\n",
              "    }\n",
              "\n",
              "    .dataframe tbody tr th {\n",
              "        vertical-align: top;\n",
              "    }\n",
              "\n",
              "    .dataframe thead th {\n",
              "        text-align: right;\n",
              "    }\n",
              "</style>\n",
              "<table border=\"1\" class=\"dataframe\">\n",
              "  <thead>\n",
              "    <tr style=\"text-align: right;\">\n",
              "      <th></th>\n",
              "      <th>index</th>\n",
              "      <th>ATP</th>\n",
              "      <th>Location</th>\n",
              "      <th>Tournament</th>\n",
              "      <th>Date</th>\n",
              "      <th>Series</th>\n",
              "      <th>Court</th>\n",
              "      <th>Surface</th>\n",
              "      <th>Round</th>\n",
              "      <th>Best of</th>\n",
              "      <th>Winner</th>\n",
              "      <th>Loser</th>\n",
              "      <th>WRank</th>\n",
              "      <th>LRank</th>\n",
              "      <th>B365W</th>\n",
              "      <th>B365L</th>\n",
              "      <th>PSW</th>\n",
              "      <th>PSL</th>\n",
              "      <th>elo_winner</th>\n",
              "      <th>elo_loser</th>\n",
              "      <th>p_elo_winner</th>\n",
              "      <th>p_elo_loser</th>\n",
              "      <th>Winner_wins_R</th>\n",
              "      <th>Loser_wins_R</th>\n",
              "      <th>Winner_defeats_R</th>\n",
              "      <th>Loser_defeats_R</th>\n",
              "      <th>Winner_Played_R</th>\n",
              "      <th>Loser_Played_R</th>\n",
              "      <th>Winner_WinRate_R</th>\n",
              "      <th>Loser_WinRate_R</th>\n",
              "      <th>Winner_wins_S</th>\n",
              "      <th>Loser_wins_S</th>\n",
              "      <th>Winner_defeats_S</th>\n",
              "      <th>Loser_defeats_S</th>\n",
              "      <th>Winner_Played_S</th>\n",
              "      <th>Loser_Played_S</th>\n",
              "      <th>Winner_WinRate_S</th>\n",
              "      <th>Loser_WinRate_S</th>\n",
              "    </tr>\n",
              "  </thead>\n",
              "  <tbody>\n",
              "    <tr>\n",
              "      <th>59</th>\n",
              "      <td>61</td>\n",
              "      <td>1</td>\n",
              "      <td>Brisbane</td>\n",
              "      <td>Brisbane International</td>\n",
              "      <td>2015-01-08</td>\n",
              "      <td>ATP250</td>\n",
              "      <td>Outdoor</td>\n",
              "      <td>Hard</td>\n",
              "      <td>2nd Round</td>\n",
              "      <td>3</td>\n",
              "      <td>Federer R.</td>\n",
              "      <td>Millman J.</td>\n",
              "      <td>2.0</td>\n",
              "      <td>153.0</td>\n",
              "      <td>1.06</td>\n",
              "      <td>10.00</td>\n",
              "      <td>1.07</td>\n",
              "      <td>10.25</td>\n",
              "      <td>1500.000000</td>\n",
              "      <td>1516.000000</td>\n",
              "      <td>0.476990</td>\n",
              "      <td>0.523010</td>\n",
              "      <td>0</td>\n",
              "      <td>1</td>\n",
              "      <td>0</td>\n",
              "      <td>0</td>\n",
              "      <td>0</td>\n",
              "      <td>1</td>\n",
              "      <td>0.0</td>\n",
              "      <td>1.0</td>\n",
              "      <td>0</td>\n",
              "      <td>1</td>\n",
              "      <td>0</td>\n",
              "      <td>0</td>\n",
              "      <td>0</td>\n",
              "      <td>1</td>\n",
              "      <td>0.0</td>\n",
              "      <td>1.0</td>\n",
              "    </tr>\n",
              "    <tr>\n",
              "      <th>70</th>\n",
              "      <td>72</td>\n",
              "      <td>1</td>\n",
              "      <td>Brisbane</td>\n",
              "      <td>Brisbane International</td>\n",
              "      <td>2015-01-09</td>\n",
              "      <td>ATP250</td>\n",
              "      <td>Outdoor</td>\n",
              "      <td>Hard</td>\n",
              "      <td>Quarterfinals</td>\n",
              "      <td>3</td>\n",
              "      <td>Federer R.</td>\n",
              "      <td>Duckworth J.</td>\n",
              "      <td>2.0</td>\n",
              "      <td>125.0</td>\n",
              "      <td>1.05</td>\n",
              "      <td>11.00</td>\n",
              "      <td>1.06</td>\n",
              "      <td>13.40</td>\n",
              "      <td>1516.736307</td>\n",
              "      <td>1532.000000</td>\n",
              "      <td>0.478048</td>\n",
              "      <td>0.521952</td>\n",
              "      <td>1</td>\n",
              "      <td>2</td>\n",
              "      <td>0</td>\n",
              "      <td>0</td>\n",
              "      <td>1</td>\n",
              "      <td>2</td>\n",
              "      <td>1.0</td>\n",
              "      <td>1.0</td>\n",
              "      <td>1</td>\n",
              "      <td>2</td>\n",
              "      <td>0</td>\n",
              "      <td>0</td>\n",
              "      <td>1</td>\n",
              "      <td>2</td>\n",
              "      <td>1.0</td>\n",
              "      <td>1.0</td>\n",
              "    </tr>\n",
              "    <tr>\n",
              "      <th>79</th>\n",
              "      <td>81</td>\n",
              "      <td>1</td>\n",
              "      <td>Brisbane</td>\n",
              "      <td>Brisbane International</td>\n",
              "      <td>2015-01-10</td>\n",
              "      <td>ATP250</td>\n",
              "      <td>Outdoor</td>\n",
              "      <td>Hard</td>\n",
              "      <td>Semifinals</td>\n",
              "      <td>3</td>\n",
              "      <td>Federer R.</td>\n",
              "      <td>Dimitrov G.</td>\n",
              "      <td>2.0</td>\n",
              "      <td>11.0</td>\n",
              "      <td>1.28</td>\n",
              "      <td>3.75</td>\n",
              "      <td>1.32</td>\n",
              "      <td>3.79</td>\n",
              "      <td>1533.438774</td>\n",
              "      <td>1533.438774</td>\n",
              "      <td>0.500000</td>\n",
              "      <td>0.500000</td>\n",
              "      <td>2</td>\n",
              "      <td>2</td>\n",
              "      <td>0</td>\n",
              "      <td>0</td>\n",
              "      <td>2</td>\n",
              "      <td>2</td>\n",
              "      <td>1.0</td>\n",
              "      <td>1.0</td>\n",
              "      <td>2</td>\n",
              "      <td>2</td>\n",
              "      <td>0</td>\n",
              "      <td>0</td>\n",
              "      <td>2</td>\n",
              "      <td>2</td>\n",
              "      <td>1.0</td>\n",
              "      <td>1.0</td>\n",
              "    </tr>\n",
              "    <tr>\n",
              "      <th>81</th>\n",
              "      <td>83</td>\n",
              "      <td>1</td>\n",
              "      <td>Brisbane</td>\n",
              "      <td>Brisbane International</td>\n",
              "      <td>2015-01-11</td>\n",
              "      <td>ATP250</td>\n",
              "      <td>Outdoor</td>\n",
              "      <td>Hard</td>\n",
              "      <td>The Final</td>\n",
              "      <td>3</td>\n",
              "      <td>Federer R.</td>\n",
              "      <td>Raonic M.</td>\n",
              "      <td>2.0</td>\n",
              "      <td>8.0</td>\n",
              "      <td>1.25</td>\n",
              "      <td>4.00</td>\n",
              "      <td>1.30</td>\n",
              "      <td>3.97</td>\n",
              "      <td>1549.438774</td>\n",
              "      <td>1549.438774</td>\n",
              "      <td>0.500000</td>\n",
              "      <td>0.500000</td>\n",
              "      <td>3</td>\n",
              "      <td>3</td>\n",
              "      <td>0</td>\n",
              "      <td>0</td>\n",
              "      <td>3</td>\n",
              "      <td>3</td>\n",
              "      <td>1.0</td>\n",
              "      <td>1.0</td>\n",
              "      <td>3</td>\n",
              "      <td>3</td>\n",
              "      <td>0</td>\n",
              "      <td>0</td>\n",
              "      <td>3</td>\n",
              "      <td>3</td>\n",
              "      <td>1.0</td>\n",
              "      <td>1.0</td>\n",
              "    </tr>\n",
              "    <tr>\n",
              "      <th>161</th>\n",
              "      <td>165</td>\n",
              "      <td>6</td>\n",
              "      <td>Melbourne</td>\n",
              "      <td>Australian Open</td>\n",
              "      <td>2015-01-19</td>\n",
              "      <td>Grand Slam</td>\n",
              "      <td>Outdoor</td>\n",
              "      <td>Hard</td>\n",
              "      <td>1st Round</td>\n",
              "      <td>5</td>\n",
              "      <td>Federer R.</td>\n",
              "      <td>Lu Y.H.</td>\n",
              "      <td>2.0</td>\n",
              "      <td>47.0</td>\n",
              "      <td>1.02</td>\n",
              "      <td>17.00</td>\n",
              "      <td>1.03</td>\n",
              "      <td>20.00</td>\n",
              "      <td>1565.438774</td>\n",
              "      <td>1513.188319</td>\n",
              "      <td>0.574633</td>\n",
              "      <td>0.425367</td>\n",
              "      <td>4</td>\n",
              "      <td>3</td>\n",
              "      <td>0</td>\n",
              "      <td>2</td>\n",
              "      <td>4</td>\n",
              "      <td>5</td>\n",
              "      <td>1.0</td>\n",
              "      <td>0.6</td>\n",
              "      <td>4</td>\n",
              "      <td>3</td>\n",
              "      <td>0</td>\n",
              "      <td>2</td>\n",
              "      <td>4</td>\n",
              "      <td>5</td>\n",
              "      <td>1.0</td>\n",
              "      <td>0.6</td>\n",
              "    </tr>\n",
              "  </tbody>\n",
              "</table>\n",
              "</div>"
            ],
            "text/plain": [
              "     index  ATP   Location  ... Loser_Played_S Winner_WinRate_S Loser_WinRate_S\n",
              "59      61    1   Brisbane  ...              1              0.0             1.0\n",
              "70      72    1   Brisbane  ...              2              1.0             1.0\n",
              "79      81    1   Brisbane  ...              2              1.0             1.0\n",
              "81      83    1   Brisbane  ...              3              1.0             1.0\n",
              "161    165    6  Melbourne  ...              5              1.0             0.6\n",
              "\n",
              "[5 rows x 38 columns]"
            ]
          },
          "metadata": {
            "tags": []
          },
          "execution_count": 30
        }
      ]
    },
    {
      "cell_type": "markdown",
      "metadata": {
        "id": "2Bj4JTciX8rM"
      },
      "source": [
        "#### Remove Winners / Losers -> Replace with P1 and P2 taken randomly "
      ]
    },
    {
      "cell_type": "code",
      "metadata": {
        "id": "gxoYxwOgYpaB"
      },
      "source": [
        "# Values of Player 1 and 2 are taken randomly\n",
        "\n",
        "# First we create Player 1\n",
        "\n",
        "v = data[['Winner', 'Loser']].values\n",
        "ix = np.random.randint(0,v.shape[1],data.shape[0])\n",
        "data['P1'] = np.take_along_axis(v, ix[:,None], 1)\n",
        "\n",
        "# Then Player 2 \n",
        "\n",
        "data['P2'] = np.where(data.P1 == data.Winner,data.Loser, data.Winner)\n",
        "\n",
        "# We then allocate all the attributes by checking the position of P1/P2 vs Winner/Loser on each line:\n",
        "\n",
        "data['P1_Rank']=np.where(data.P1 == data.Winner,data.WRank,data.LRank)\n",
        "data['P2_Rank']=np.where(data.P2 == data.Winner,data.WRank,data.LRank)\n",
        "\n",
        "data['P1_Elo']=np.where(data.P1 == data.Winner,data.elo_winner,data.elo_loser)\n",
        "data['P2_Elo']=np.where(data.P2 == data.Winner,data.elo_winner,data.elo_loser)\n",
        "\n",
        "data['P1_p_Elo']=np.where(data.P1 == data.Winner,data.p_elo_winner,data.p_elo_loser)\n",
        "data['P2_p_Elo']=np.where(data.P2 == data.Winner,data.p_elo_winner,data.p_elo_loser)\n",
        "\n",
        "data['P1_Odds_Pin']=np.where(data.P1 == data.Winner,data.PSW,data.PSL)\n",
        "data['P2_Odds_Pin']=np.where(data.P2 == data.Winner,data.PSW,data.PSL)\n",
        "\n",
        "data['P1_Odds_B365']=np.where(data.P1 == data.Winner,data.B365W,data.B365L)\n",
        "data['P2_Odds_B365']=np.where(data.P2 == data.Winner,data.B365W,data.B365L)\n",
        "\n",
        "data['P1_Wins']=np.where(data.P1 == data.Winner,data.Winner_wins_R,data.Loser_wins_R)\n",
        "data['P2_Wins']=np.where(data.P2 == data.Winner,data.Winner_wins_R,data.Loser_wins_R)\n",
        "\n",
        "data['P1_Defeats']=np.where(data.P1 == data.Winner,data.Winner_defeats_R,data.Loser_defeats_R)\n",
        "data['P2_Defeats']=np.where(data.P2 == data.Winner,data.Winner_defeats_R,data.Loser_defeats_R)\n",
        "\n",
        "data['P1_Played']=np.where(data.P1 == data.Winner,data.Winner_Played_R,data.Loser_Played_R)\n",
        "data['P2_Played']=np.where(data.P2 == data.Winner,data.Winner_Played_R,data.Loser_Played_R)\n",
        "\n",
        "data['P1_WinRate']=np.where(data.P1 == data.Winner,data.Winner_WinRate_R,data.Loser_WinRate_R)\n",
        "data['P2_WinRate']=np.where(data.P2 == data.Winner,data.Winner_WinRate_R,data.Loser_WinRate_R)\n",
        "\n",
        "data['P1_Surface_Wins']=np.where(data.P1 == data.Winner,data.Winner_wins_S,data.Loser_wins_S)\n",
        "data['P2_Surface_Wins']=np.where(data.P2 == data.Winner,data.Winner_wins_S,data.Loser_wins_S)\n",
        "\n",
        "data['P1_Surface_Defeats']=np.where(data.P1 == data.Winner,data.Winner_defeats_S,data.Loser_defeats_S)\n",
        "data['P2_Surface_Defeats']=np.where(data.P2 == data.Winner,data.Winner_defeats_S,data.Loser_defeats_S)\n",
        "\n",
        "data['P1_Surface_Played']=np.where(data.P1 == data.Winner,data.Winner_Played_S,data.Loser_Played_S)\n",
        "data['P2_Surface_Played']=np.where(data.P2 == data.Winner,data.Winner_Played_S,data.Loser_Played_S)\n",
        "\n",
        "data['P1_Surface_WinRate']=np.where(data.P1 == data.Winner,data.Winner_WinRate_S,data.Loser_WinRate_S)\n",
        "data['P2_Surface_WinRate']=np.where(data.P2 == data.Winner,data.Winner_WinRate_S,data.Loser_WinRate_S)\n",
        "\n",
        "\n",
        "#data['P1_Shape']=np.where(data.P1 == data.Winner,data.Winner_Shape,data.Loser_Shape)\n",
        "#data['P2_Shape']=np.where(data.P2 == data.Winner,data.Winner_Shape,data.Loser_Shape)\n",
        "\n",
        "#data['P1_Birthday']=np.where(data.P1 == data.Winner,data.Winner_Birthday,data.Loser_Birthday)\n",
        "#data['P2_Birthday']=np.where(data.P2 == data.Winner,data.Winner_Birthday,data.Loser_Birthday)\n",
        "\n",
        "#data['P1_Hand']=np.where(data.P1 == data.Winner,data.Winner_Hand,data.Loser_Hand)\n",
        "#data['P2_Hand']=np.where(data.P2 == data.Winner,data.Winner_Hand,data.Loser_Hand)\n"
      ],
      "execution_count": 31,
      "outputs": []
    },
    {
      "cell_type": "markdown",
      "metadata": {
        "id": "yDbTBzpwjasD"
      },
      "source": [
        "#### Target variable preparation"
      ]
    },
    {
      "cell_type": "code",
      "metadata": {
        "id": "cCZYLWA0T7Ca"
      },
      "source": [
        "# Code '1' if player 1 wins, '2' if player 2 wins -> classification task\n",
        "\n",
        "data['Won']=np.where(data.P1 == data.Winner,1,2)\n"
      ],
      "execution_count": 32,
      "outputs": []
    },
    {
      "cell_type": "code",
      "metadata": {
        "id": "JK_w4U8j4A9b"
      },
      "source": [
        "# Next, we remove the columns we don't need\n",
        "\n",
        "data.drop('WRank',axis=1,inplace=True) \n",
        "data.drop('LRank',axis=1,inplace=True) \n",
        "data.drop('PSL',axis=1,inplace=True)\n",
        "data.drop('PSW',axis=1,inplace=True)\n",
        "data.drop('B365W',axis=1,inplace=True)\n",
        "data.drop('B365L',axis=1,inplace=True)\n",
        "data.drop('elo_winner',axis=1,inplace=True)\n",
        "data.drop('elo_loser',axis=1,inplace=True)\n",
        "data.drop('p_elo_winner',axis=1,inplace=True)\n",
        "data.drop('p_elo_loser',axis=1,inplace=True)\n",
        "\n",
        "data.drop('Loser',axis=1,inplace=True)\n",
        "data.drop('Winner',axis=1,inplace=True)\n",
        "\n",
        "data.drop('Winner_wins_R',axis=1,inplace=True)\n",
        "data.drop('Loser_wins_R',axis=1,inplace=True)\n",
        "data.drop('Winner_defeats_R',axis=1,inplace=True)\n",
        "data.drop('Loser_defeats_R',axis=1,inplace=True)\n",
        "data.drop('Winner_Played_R',axis=1,inplace=True)\n",
        "data.drop('Loser_Played_R',axis=1,inplace=True)\n",
        "data.drop('Winner_WinRate_R',axis=1,inplace=True)\n",
        "data.drop('Loser_WinRate_R',axis=1,inplace=True)\n",
        "\n",
        "data.drop('Winner_wins_S',axis=1,inplace=True)\n",
        "data.drop('Loser_wins_S',axis=1,inplace=True)\n",
        "data.drop('Winner_defeats_S',axis=1,inplace=True)\n",
        "data.drop('Loser_defeats_S',axis=1,inplace=True)\n",
        "data.drop('Winner_Played_S',axis=1,inplace=True)\n",
        "data.drop('Loser_Played_S',axis=1,inplace=True)\n",
        "data.drop('Winner_WinRate_S',axis=1,inplace=True)\n",
        "data.drop('Loser_WinRate_S',axis=1,inplace=True)"
      ],
      "execution_count": 33,
      "outputs": []
    },
    {
      "cell_type": "code",
      "metadata": {
        "id": "PUOUjDL2wm-a"
      },
      "source": [
        "# Reorder Columns -> Winner at the end\n",
        "\n",
        "cols = list(data.columns.values) # Make a list of all of the columns in the df\n",
        "cols.pop(cols.index('Won')) # Remove 'Winner' from list\n",
        "data = data[cols+['Won']] # change dataframe with Winner at the end\n",
        "\n",
        "# Adjusting Columns width\n",
        "\n",
        "pd.set_option('max_colwidth', 13)"
      ],
      "execution_count": 34,
      "outputs": []
    },
    {
      "cell_type": "code",
      "metadata": {
        "id": "yiVBFKlnKw8R",
        "colab": {
          "base_uri": "https://localhost:8080/",
          "height": 422
        },
        "outputId": "da70fa6e-98d9-4583-9d23-96e11f89bef8"
      },
      "source": [
        "# Checks - Gasquet\n",
        "\n",
        "data[(data.P1=='Gasquet R.')|(data.P2=='Gasquet R.')].head(7)\n"
      ],
      "execution_count": 35,
      "outputs": [
        {
          "output_type": "execute_result",
          "data": {
            "text/html": [
              "<div>\n",
              "<style scoped>\n",
              "    .dataframe tbody tr th:only-of-type {\n",
              "        vertical-align: middle;\n",
              "    }\n",
              "\n",
              "    .dataframe tbody tr th {\n",
              "        vertical-align: top;\n",
              "    }\n",
              "\n",
              "    .dataframe thead th {\n",
              "        text-align: right;\n",
              "    }\n",
              "</style>\n",
              "<table border=\"1\" class=\"dataframe\">\n",
              "  <thead>\n",
              "    <tr style=\"text-align: right;\">\n",
              "      <th></th>\n",
              "      <th>index</th>\n",
              "      <th>ATP</th>\n",
              "      <th>Location</th>\n",
              "      <th>Tournament</th>\n",
              "      <th>Date</th>\n",
              "      <th>Series</th>\n",
              "      <th>Court</th>\n",
              "      <th>Surface</th>\n",
              "      <th>Round</th>\n",
              "      <th>Best of</th>\n",
              "      <th>P1</th>\n",
              "      <th>P2</th>\n",
              "      <th>P1_Rank</th>\n",
              "      <th>P2_Rank</th>\n",
              "      <th>P1_Elo</th>\n",
              "      <th>P2_Elo</th>\n",
              "      <th>P1_p_Elo</th>\n",
              "      <th>P2_p_Elo</th>\n",
              "      <th>P1_Odds_Pin</th>\n",
              "      <th>P2_Odds_Pin</th>\n",
              "      <th>P1_Odds_B365</th>\n",
              "      <th>P2_Odds_B365</th>\n",
              "      <th>P1_Wins</th>\n",
              "      <th>P2_Wins</th>\n",
              "      <th>P1_Defeats</th>\n",
              "      <th>P2_Defeats</th>\n",
              "      <th>P1_Played</th>\n",
              "      <th>P2_Played</th>\n",
              "      <th>P1_WinRate</th>\n",
              "      <th>P2_WinRate</th>\n",
              "      <th>P1_Surface_Wins</th>\n",
              "      <th>P2_Surface_Wins</th>\n",
              "      <th>P1_Surface_Defeats</th>\n",
              "      <th>P2_Surface_Defeats</th>\n",
              "      <th>P1_Surface_Played</th>\n",
              "      <th>P2_Surface_Played</th>\n",
              "      <th>P1_Surface_WinRate</th>\n",
              "      <th>P2_Surface_WinRate</th>\n",
              "      <th>Won</th>\n",
              "    </tr>\n",
              "  </thead>\n",
              "  <tbody>\n",
              "    <tr>\n",
              "      <th>8</th>\n",
              "      <td>9</td>\n",
              "      <td>3</td>\n",
              "      <td>Doha</td>\n",
              "      <td>Qatar Exx...</td>\n",
              "      <td>2015-01-05</td>\n",
              "      <td>ATP250</td>\n",
              "      <td>Outdoor</td>\n",
              "      <td>Hard</td>\n",
              "      <td>1st Round</td>\n",
              "      <td>3</td>\n",
              "      <td>Gasquet R.</td>\n",
              "      <td>Andujar P.</td>\n",
              "      <td>26.0</td>\n",
              "      <td>41.0</td>\n",
              "      <td>1500.000000</td>\n",
              "      <td>1500.000000</td>\n",
              "      <td>0.500000</td>\n",
              "      <td>0.500000</td>\n",
              "      <td>1.24</td>\n",
              "      <td>4.44</td>\n",
              "      <td>1.20</td>\n",
              "      <td>4.33</td>\n",
              "      <td>0</td>\n",
              "      <td>0</td>\n",
              "      <td>0</td>\n",
              "      <td>0</td>\n",
              "      <td>0</td>\n",
              "      <td>0</td>\n",
              "      <td>0.000000</td>\n",
              "      <td>0.000000</td>\n",
              "      <td>0</td>\n",
              "      <td>0</td>\n",
              "      <td>0</td>\n",
              "      <td>0</td>\n",
              "      <td>0</td>\n",
              "      <td>0</td>\n",
              "      <td>0.000000</td>\n",
              "      <td>0.000000</td>\n",
              "      <td>1</td>\n",
              "    </tr>\n",
              "    <tr>\n",
              "      <th>52</th>\n",
              "      <td>54</td>\n",
              "      <td>3</td>\n",
              "      <td>Doha</td>\n",
              "      <td>Qatar Exx...</td>\n",
              "      <td>2015-01-07</td>\n",
              "      <td>ATP250</td>\n",
              "      <td>Outdoor</td>\n",
              "      <td>Hard</td>\n",
              "      <td>2nd Round</td>\n",
              "      <td>3</td>\n",
              "      <td>Gasquet R.</td>\n",
              "      <td>Bolelli S.</td>\n",
              "      <td>26.0</td>\n",
              "      <td>52.0</td>\n",
              "      <td>1516.000000</td>\n",
              "      <td>1516.000000</td>\n",
              "      <td>0.500000</td>\n",
              "      <td>0.500000</td>\n",
              "      <td>1.28</td>\n",
              "      <td>4.14</td>\n",
              "      <td>1.25</td>\n",
              "      <td>3.75</td>\n",
              "      <td>1</td>\n",
              "      <td>1</td>\n",
              "      <td>0</td>\n",
              "      <td>0</td>\n",
              "      <td>1</td>\n",
              "      <td>1</td>\n",
              "      <td>1.000000</td>\n",
              "      <td>1.000000</td>\n",
              "      <td>1</td>\n",
              "      <td>1</td>\n",
              "      <td>0</td>\n",
              "      <td>0</td>\n",
              "      <td>1</td>\n",
              "      <td>1</td>\n",
              "      <td>1.000000</td>\n",
              "      <td>1.000000</td>\n",
              "      <td>1</td>\n",
              "    </tr>\n",
              "    <tr>\n",
              "      <th>57</th>\n",
              "      <td>59</td>\n",
              "      <td>3</td>\n",
              "      <td>Doha</td>\n",
              "      <td>Qatar Exx...</td>\n",
              "      <td>2015-01-08</td>\n",
              "      <td>ATP250</td>\n",
              "      <td>Outdoor</td>\n",
              "      <td>Hard</td>\n",
              "      <td>Quarterfi...</td>\n",
              "      <td>3</td>\n",
              "      <td>Berdych T.</td>\n",
              "      <td>Gasquet R.</td>\n",
              "      <td>7.0</td>\n",
              "      <td>26.0</td>\n",
              "      <td>1532.000000</td>\n",
              "      <td>1532.000000</td>\n",
              "      <td>0.500000</td>\n",
              "      <td>0.500000</td>\n",
              "      <td>1.43</td>\n",
              "      <td>3.12</td>\n",
              "      <td>1.40</td>\n",
              "      <td>2.75</td>\n",
              "      <td>2</td>\n",
              "      <td>2</td>\n",
              "      <td>0</td>\n",
              "      <td>0</td>\n",
              "      <td>2</td>\n",
              "      <td>2</td>\n",
              "      <td>1.000000</td>\n",
              "      <td>1.000000</td>\n",
              "      <td>2</td>\n",
              "      <td>2</td>\n",
              "      <td>0</td>\n",
              "      <td>0</td>\n",
              "      <td>2</td>\n",
              "      <td>2</td>\n",
              "      <td>1.000000</td>\n",
              "      <td>1.000000</td>\n",
              "      <td>1</td>\n",
              "    </tr>\n",
              "    <tr>\n",
              "      <th>141</th>\n",
              "      <td>144</td>\n",
              "      <td>6</td>\n",
              "      <td>Melbourne</td>\n",
              "      <td>Australia...</td>\n",
              "      <td>2015-01-19</td>\n",
              "      <td>Grand Slam</td>\n",
              "      <td>Outdoor</td>\n",
              "      <td>Hard</td>\n",
              "      <td>1st Round</td>\n",
              "      <td>5</td>\n",
              "      <td>Gasquet R.</td>\n",
              "      <td>Berlocq C.</td>\n",
              "      <td>28.0</td>\n",
              "      <td>70.0</td>\n",
              "      <td>1516.000000</td>\n",
              "      <td>1484.000000</td>\n",
              "      <td>0.545922</td>\n",
              "      <td>0.454078</td>\n",
              "      <td>1.08</td>\n",
              "      <td>10.15</td>\n",
              "      <td>1.08</td>\n",
              "      <td>8.00</td>\n",
              "      <td>2</td>\n",
              "      <td>0</td>\n",
              "      <td>1</td>\n",
              "      <td>1</td>\n",
              "      <td>3</td>\n",
              "      <td>1</td>\n",
              "      <td>0.666667</td>\n",
              "      <td>0.000000</td>\n",
              "      <td>2</td>\n",
              "      <td>0</td>\n",
              "      <td>1</td>\n",
              "      <td>1</td>\n",
              "      <td>3</td>\n",
              "      <td>1</td>\n",
              "      <td>0.666667</td>\n",
              "      <td>0.000000</td>\n",
              "      <td>1</td>\n",
              "    </tr>\n",
              "    <tr>\n",
              "      <th>201</th>\n",
              "      <td>208</td>\n",
              "      <td>6</td>\n",
              "      <td>Melbourne</td>\n",
              "      <td>Australia...</td>\n",
              "      <td>2015-01-21</td>\n",
              "      <td>Grand Slam</td>\n",
              "      <td>Outdoor</td>\n",
              "      <td>Hard</td>\n",
              "      <td>2nd Round</td>\n",
              "      <td>5</td>\n",
              "      <td>Duckworth J.</td>\n",
              "      <td>Gasquet R.</td>\n",
              "      <td>120.0</td>\n",
              "      <td>28.0</td>\n",
              "      <td>1530.593510</td>\n",
              "      <td>1530.530498</td>\n",
              "      <td>0.500091</td>\n",
              "      <td>0.499909</td>\n",
              "      <td>7.04</td>\n",
              "      <td>1.13</td>\n",
              "      <td>9.00</td>\n",
              "      <td>1.07</td>\n",
              "      <td>3</td>\n",
              "      <td>3</td>\n",
              "      <td>1</td>\n",
              "      <td>1</td>\n",
              "      <td>4</td>\n",
              "      <td>4</td>\n",
              "      <td>0.750000</td>\n",
              "      <td>0.750000</td>\n",
              "      <td>3</td>\n",
              "      <td>3</td>\n",
              "      <td>1</td>\n",
              "      <td>1</td>\n",
              "      <td>4</td>\n",
              "      <td>4</td>\n",
              "      <td>0.750000</td>\n",
              "      <td>0.750000</td>\n",
              "      <td>2</td>\n",
              "    </tr>\n",
              "    <tr>\n",
              "      <th>231</th>\n",
              "      <td>239</td>\n",
              "      <td>6</td>\n",
              "      <td>Melbourne</td>\n",
              "      <td>Australia...</td>\n",
              "      <td>2015-01-23</td>\n",
              "      <td>Grand Slam</td>\n",
              "      <td>Outdoor</td>\n",
              "      <td>Hard</td>\n",
              "      <td>3rd Round</td>\n",
              "      <td>5</td>\n",
              "      <td>Gasquet R.</td>\n",
              "      <td>Anderson K.</td>\n",
              "      <td>28.0</td>\n",
              "      <td>15.0</td>\n",
              "      <td>1546.533400</td>\n",
              "      <td>1535.680117</td>\n",
              "      <td>0.515614</td>\n",
              "      <td>0.484386</td>\n",
              "      <td>1.59</td>\n",
              "      <td>2.56</td>\n",
              "      <td>1.50</td>\n",
              "      <td>2.50</td>\n",
              "      <td>4</td>\n",
              "      <td>4</td>\n",
              "      <td>1</td>\n",
              "      <td>2</td>\n",
              "      <td>5</td>\n",
              "      <td>6</td>\n",
              "      <td>0.800000</td>\n",
              "      <td>0.666667</td>\n",
              "      <td>4</td>\n",
              "      <td>4</td>\n",
              "      <td>1</td>\n",
              "      <td>2</td>\n",
              "      <td>5</td>\n",
              "      <td>6</td>\n",
              "      <td>0.800000</td>\n",
              "      <td>0.666667</td>\n",
              "      <td>2</td>\n",
              "    </tr>\n",
              "    <tr>\n",
              "      <th>293</th>\n",
              "      <td>302</td>\n",
              "      <td>7</td>\n",
              "      <td>Montpellier</td>\n",
              "      <td>Open Sud ...</td>\n",
              "      <td>2015-02-04</td>\n",
              "      <td>ATP250</td>\n",
              "      <td>Indoor</td>\n",
              "      <td>Hard</td>\n",
              "      <td>2nd Round</td>\n",
              "      <td>3</td>\n",
              "      <td>Gasquet R.</td>\n",
              "      <td>Pouille L.</td>\n",
              "      <td>28.0</td>\n",
              "      <td>115.0</td>\n",
              "      <td>1530.033751</td>\n",
              "      <td>1516.360103</td>\n",
              "      <td>0.519668</td>\n",
              "      <td>0.480332</td>\n",
              "      <td>1.21</td>\n",
              "      <td>5.02</td>\n",
              "      <td>1.18</td>\n",
              "      <td>4.50</td>\n",
              "      <td>4</td>\n",
              "      <td>3</td>\n",
              "      <td>2</td>\n",
              "      <td>2</td>\n",
              "      <td>6</td>\n",
              "      <td>5</td>\n",
              "      <td>0.666667</td>\n",
              "      <td>0.600000</td>\n",
              "      <td>4</td>\n",
              "      <td>3</td>\n",
              "      <td>2</td>\n",
              "      <td>2</td>\n",
              "      <td>6</td>\n",
              "      <td>5</td>\n",
              "      <td>0.666667</td>\n",
              "      <td>0.600000</td>\n",
              "      <td>1</td>\n",
              "    </tr>\n",
              "  </tbody>\n",
              "</table>\n",
              "</div>"
            ],
            "text/plain": [
              "     index  ATP     Location  ... P1_Surface_WinRate P2_Surface_WinRate Won\n",
              "8        9    3         Doha  ...      0.000000           0.000000        1\n",
              "52      54    3         Doha  ...      1.000000           1.000000        1\n",
              "57      59    3         Doha  ...      1.000000           1.000000        1\n",
              "141    144    6    Melbourne  ...      0.666667           0.000000        1\n",
              "201    208    6    Melbourne  ...      0.750000           0.750000        2\n",
              "231    239    6    Melbourne  ...      0.800000           0.666667        2\n",
              "293    302    7  Montpellier  ...      0.666667           0.600000        1\n",
              "\n",
              "[7 rows x 39 columns]"
            ]
          },
          "metadata": {
            "tags": []
          },
          "execution_count": 35
        }
      ]
    },
    {
      "cell_type": "code",
      "metadata": {
        "id": "UIIcs9TjI3WI"
      },
      "source": [
        "# Additional variables for data analysis\n",
        "\n",
        "data['Year']=data.Date.dt.year\n",
        "data['Month']=data.Date.dt.month"
      ],
      "execution_count": 36,
      "outputs": []
    },
    {
      "cell_type": "code",
      "metadata": {
        "id": "BAhvWg37I_p0",
        "colab": {
          "base_uri": "https://localhost:8080/",
          "height": 326
        },
        "outputId": "1fdc4351-9226-4010-e6e4-7294d15b5952"
      },
      "source": [
        "data.tail()"
      ],
      "execution_count": 37,
      "outputs": [
        {
          "output_type": "execute_result",
          "data": {
            "text/html": [
              "<div>\n",
              "<style scoped>\n",
              "    .dataframe tbody tr th:only-of-type {\n",
              "        vertical-align: middle;\n",
              "    }\n",
              "\n",
              "    .dataframe tbody tr th {\n",
              "        vertical-align: top;\n",
              "    }\n",
              "\n",
              "    .dataframe thead th {\n",
              "        text-align: right;\n",
              "    }\n",
              "</style>\n",
              "<table border=\"1\" class=\"dataframe\">\n",
              "  <thead>\n",
              "    <tr style=\"text-align: right;\">\n",
              "      <th></th>\n",
              "      <th>index</th>\n",
              "      <th>ATP</th>\n",
              "      <th>Location</th>\n",
              "      <th>Tournament</th>\n",
              "      <th>Date</th>\n",
              "      <th>Series</th>\n",
              "      <th>Court</th>\n",
              "      <th>Surface</th>\n",
              "      <th>Round</th>\n",
              "      <th>Best of</th>\n",
              "      <th>P1</th>\n",
              "      <th>P2</th>\n",
              "      <th>P1_Rank</th>\n",
              "      <th>P2_Rank</th>\n",
              "      <th>P1_Elo</th>\n",
              "      <th>P2_Elo</th>\n",
              "      <th>P1_p_Elo</th>\n",
              "      <th>P2_p_Elo</th>\n",
              "      <th>P1_Odds_Pin</th>\n",
              "      <th>P2_Odds_Pin</th>\n",
              "      <th>P1_Odds_B365</th>\n",
              "      <th>P2_Odds_B365</th>\n",
              "      <th>P1_Wins</th>\n",
              "      <th>P2_Wins</th>\n",
              "      <th>P1_Defeats</th>\n",
              "      <th>P2_Defeats</th>\n",
              "      <th>P1_Played</th>\n",
              "      <th>P2_Played</th>\n",
              "      <th>P1_WinRate</th>\n",
              "      <th>P2_WinRate</th>\n",
              "      <th>P1_Surface_Wins</th>\n",
              "      <th>P2_Surface_Wins</th>\n",
              "      <th>P1_Surface_Defeats</th>\n",
              "      <th>P2_Surface_Defeats</th>\n",
              "      <th>P1_Surface_Played</th>\n",
              "      <th>P2_Surface_Played</th>\n",
              "      <th>P1_Surface_WinRate</th>\n",
              "      <th>P2_Surface_WinRate</th>\n",
              "      <th>Won</th>\n",
              "      <th>Year</th>\n",
              "      <th>Month</th>\n",
              "    </tr>\n",
              "  </thead>\n",
              "  <tbody>\n",
              "    <tr>\n",
              "      <th>17887</th>\n",
              "      <td>18778</td>\n",
              "      <td>43</td>\n",
              "      <td>Atlanta</td>\n",
              "      <td>BB&amp;T Atla...</td>\n",
              "      <td>2021-07-31</td>\n",
              "      <td>ATP250</td>\n",
              "      <td>Outdoor</td>\n",
              "      <td>Hard</td>\n",
              "      <td>Semifinals</td>\n",
              "      <td>3</td>\n",
              "      <td>Ruusuvuor...</td>\n",
              "      <td>Nakashima B.</td>\n",
              "      <td>78.0</td>\n",
              "      <td>115.0</td>\n",
              "      <td>1576.997553</td>\n",
              "      <td>1634.368645</td>\n",
              "      <td>0.418179</td>\n",
              "      <td>0.581821</td>\n",
              "      <td>1.87</td>\n",
              "      <td>2.04</td>\n",
              "      <td>1.72</td>\n",
              "      <td>2.10</td>\n",
              "      <td>17</td>\n",
              "      <td>10</td>\n",
              "      <td>20</td>\n",
              "      <td>5</td>\n",
              "      <td>37</td>\n",
              "      <td>15</td>\n",
              "      <td>0.459459</td>\n",
              "      <td>0.666667</td>\n",
              "      <td>15</td>\n",
              "      <td>10</td>\n",
              "      <td>12</td>\n",
              "      <td>4</td>\n",
              "      <td>27</td>\n",
              "      <td>14</td>\n",
              "      <td>0.555556</td>\n",
              "      <td>0.714286</td>\n",
              "      <td>2</td>\n",
              "      <td>2021</td>\n",
              "      <td>7</td>\n",
              "    </tr>\n",
              "    <tr>\n",
              "      <th>17888</th>\n",
              "      <td>18779</td>\n",
              "      <td>43</td>\n",
              "      <td>Atlanta</td>\n",
              "      <td>BB&amp;T Atla...</td>\n",
              "      <td>2021-07-31</td>\n",
              "      <td>ATP250</td>\n",
              "      <td>Outdoor</td>\n",
              "      <td>Hard</td>\n",
              "      <td>Quarterfi...</td>\n",
              "      <td>3</td>\n",
              "      <td>Isner J.</td>\n",
              "      <td>O Connell C.</td>\n",
              "      <td>35.0</td>\n",
              "      <td>132.0</td>\n",
              "      <td>1727.484451</td>\n",
              "      <td>1493.560442</td>\n",
              "      <td>0.793569</td>\n",
              "      <td>0.206431</td>\n",
              "      <td>1.45</td>\n",
              "      <td>3.00</td>\n",
              "      <td>1.50</td>\n",
              "      <td>2.62</td>\n",
              "      <td>224</td>\n",
              "      <td>5</td>\n",
              "      <td>133</td>\n",
              "      <td>9</td>\n",
              "      <td>357</td>\n",
              "      <td>14</td>\n",
              "      <td>0.627451</td>\n",
              "      <td>0.357143</td>\n",
              "      <td>158</td>\n",
              "      <td>5</td>\n",
              "      <td>92</td>\n",
              "      <td>6</td>\n",
              "      <td>250</td>\n",
              "      <td>11</td>\n",
              "      <td>0.632000</td>\n",
              "      <td>0.454545</td>\n",
              "      <td>1</td>\n",
              "      <td>2021</td>\n",
              "      <td>7</td>\n",
              "    </tr>\n",
              "    <tr>\n",
              "      <th>17889</th>\n",
              "      <td>18780</td>\n",
              "      <td>44</td>\n",
              "      <td>Kitzbuhel</td>\n",
              "      <td>Generali ...</td>\n",
              "      <td>2021-07-31</td>\n",
              "      <td>ATP250</td>\n",
              "      <td>Outdoor</td>\n",
              "      <td>Clay</td>\n",
              "      <td>The Final</td>\n",
              "      <td>3</td>\n",
              "      <td>Martinez P.</td>\n",
              "      <td>Ruud C.</td>\n",
              "      <td>97.0</td>\n",
              "      <td>14.0</td>\n",
              "      <td>1588.980269</td>\n",
              "      <td>1828.530975</td>\n",
              "      <td>0.201175</td>\n",
              "      <td>0.798825</td>\n",
              "      <td>3.93</td>\n",
              "      <td>1.30</td>\n",
              "      <td>3.40</td>\n",
              "      <td>1.33</td>\n",
              "      <td>19</td>\n",
              "      <td>78</td>\n",
              "      <td>22</td>\n",
              "      <td>53</td>\n",
              "      <td>41</td>\n",
              "      <td>131</td>\n",
              "      <td>0.463415</td>\n",
              "      <td>0.595420</td>\n",
              "      <td>13</td>\n",
              "      <td>67</td>\n",
              "      <td>15</td>\n",
              "      <td>28</td>\n",
              "      <td>28</td>\n",
              "      <td>95</td>\n",
              "      <td>0.464286</td>\n",
              "      <td>0.705263</td>\n",
              "      <td>2</td>\n",
              "      <td>2021</td>\n",
              "      <td>7</td>\n",
              "    </tr>\n",
              "    <tr>\n",
              "      <th>17890</th>\n",
              "      <td>18781</td>\n",
              "      <td>43</td>\n",
              "      <td>Atlanta</td>\n",
              "      <td>BB&amp;T Atla...</td>\n",
              "      <td>2021-08-01</td>\n",
              "      <td>ATP250</td>\n",
              "      <td>Outdoor</td>\n",
              "      <td>Hard</td>\n",
              "      <td>Semifinals</td>\n",
              "      <td>3</td>\n",
              "      <td>Fritz T.</td>\n",
              "      <td>Isner J.</td>\n",
              "      <td>42.0</td>\n",
              "      <td>35.0</td>\n",
              "      <td>1700.511202</td>\n",
              "      <td>1734.090240</td>\n",
              "      <td>0.451826</td>\n",
              "      <td>0.548174</td>\n",
              "      <td>1.88</td>\n",
              "      <td>2.03</td>\n",
              "      <td>1.80</td>\n",
              "      <td>2.00</td>\n",
              "      <td>121</td>\n",
              "      <td>226</td>\n",
              "      <td>129</td>\n",
              "      <td>133</td>\n",
              "      <td>250</td>\n",
              "      <td>359</td>\n",
              "      <td>0.484000</td>\n",
              "      <td>0.629526</td>\n",
              "      <td>92</td>\n",
              "      <td>160</td>\n",
              "      <td>89</td>\n",
              "      <td>92</td>\n",
              "      <td>181</td>\n",
              "      <td>252</td>\n",
              "      <td>0.508287</td>\n",
              "      <td>0.634921</td>\n",
              "      <td>2</td>\n",
              "      <td>2021</td>\n",
              "      <td>8</td>\n",
              "    </tr>\n",
              "    <tr>\n",
              "      <th>17891</th>\n",
              "      <td>18782</td>\n",
              "      <td>43</td>\n",
              "      <td>Atlanta</td>\n",
              "      <td>BB&amp;T Atla...</td>\n",
              "      <td>2021-08-01</td>\n",
              "      <td>ATP250</td>\n",
              "      <td>Outdoor</td>\n",
              "      <td>Hard</td>\n",
              "      <td>The Final</td>\n",
              "      <td>3</td>\n",
              "      <td>Nakashima B.</td>\n",
              "      <td>Isner J.</td>\n",
              "      <td>115.0</td>\n",
              "      <td>35.0</td>\n",
              "      <td>1647.750363</td>\n",
              "      <td>1748.548665</td>\n",
              "      <td>0.358877</td>\n",
              "      <td>0.641123</td>\n",
              "      <td>2.11</td>\n",
              "      <td>1.82</td>\n",
              "      <td>2.00</td>\n",
              "      <td>1.80</td>\n",
              "      <td>11</td>\n",
              "      <td>225</td>\n",
              "      <td>5</td>\n",
              "      <td>133</td>\n",
              "      <td>16</td>\n",
              "      <td>358</td>\n",
              "      <td>0.687500</td>\n",
              "      <td>0.628492</td>\n",
              "      <td>11</td>\n",
              "      <td>159</td>\n",
              "      <td>4</td>\n",
              "      <td>92</td>\n",
              "      <td>15</td>\n",
              "      <td>251</td>\n",
              "      <td>0.733333</td>\n",
              "      <td>0.633466</td>\n",
              "      <td>2</td>\n",
              "      <td>2021</td>\n",
              "      <td>8</td>\n",
              "    </tr>\n",
              "  </tbody>\n",
              "</table>\n",
              "</div>"
            ],
            "text/plain": [
              "       index  ATP   Location  ... Won  Year Month\n",
              "17887  18778   43    Atlanta  ...   2  2021     7\n",
              "17888  18779   43    Atlanta  ...   1  2021     7\n",
              "17889  18780   44  Kitzbuhel  ...   2  2021     7\n",
              "17890  18781   43    Atlanta  ...   2  2021     8\n",
              "17891  18782   43    Atlanta  ...   2  2021     8\n",
              "\n",
              "[5 rows x 41 columns]"
            ]
          },
          "metadata": {
            "tags": []
          },
          "execution_count": 37
        }
      ]
    },
    {
      "cell_type": "code",
      "metadata": {
        "colab": {
          "base_uri": "https://localhost:8080/"
        },
        "id": "bzVfgPXThe_T",
        "outputId": "c7709fc9-817f-48aa-c549-9fc502f3b88d"
      },
      "source": [
        "data.info()"
      ],
      "execution_count": 38,
      "outputs": [
        {
          "output_type": "stream",
          "text": [
            "<class 'pandas.core.frame.DataFrame'>\n",
            "RangeIndex: 17892 entries, 0 to 17891\n",
            "Data columns (total 41 columns):\n",
            " #   Column              Non-Null Count  Dtype         \n",
            "---  ------              --------------  -----         \n",
            " 0   index               17892 non-null  int64         \n",
            " 1   ATP                 17892 non-null  int64         \n",
            " 2   Location            17892 non-null  object        \n",
            " 3   Tournament          17892 non-null  object        \n",
            " 4   Date                17892 non-null  datetime64[ns]\n",
            " 5   Series              17892 non-null  object        \n",
            " 6   Court               17892 non-null  object        \n",
            " 7   Surface             17892 non-null  object        \n",
            " 8   Round               17892 non-null  object        \n",
            " 9   Best of             17892 non-null  int64         \n",
            " 10  P1                  17892 non-null  object        \n",
            " 11  P2                  17892 non-null  object        \n",
            " 12  P1_Rank             17892 non-null  float64       \n",
            " 13  P2_Rank             17892 non-null  float64       \n",
            " 14  P1_Elo              17892 non-null  float64       \n",
            " 15  P2_Elo              17892 non-null  float64       \n",
            " 16  P1_p_Elo            17892 non-null  float64       \n",
            " 17  P2_p_Elo            17892 non-null  float64       \n",
            " 18  P1_Odds_Pin         17892 non-null  float64       \n",
            " 19  P2_Odds_Pin         17892 non-null  float64       \n",
            " 20  P1_Odds_B365        17892 non-null  float64       \n",
            " 21  P2_Odds_B365        17892 non-null  float64       \n",
            " 22  P1_Wins             17892 non-null  int64         \n",
            " 23  P2_Wins             17892 non-null  int64         \n",
            " 24  P1_Defeats          17892 non-null  int64         \n",
            " 25  P2_Defeats          17892 non-null  int64         \n",
            " 26  P1_Played           17892 non-null  int64         \n",
            " 27  P2_Played           17892 non-null  int64         \n",
            " 28  P1_WinRate          17892 non-null  float64       \n",
            " 29  P2_WinRate          17892 non-null  float64       \n",
            " 30  P1_Surface_Wins     17892 non-null  int64         \n",
            " 31  P2_Surface_Wins     17892 non-null  int64         \n",
            " 32  P1_Surface_Defeats  17892 non-null  int64         \n",
            " 33  P2_Surface_Defeats  17892 non-null  int64         \n",
            " 34  P1_Surface_Played   17892 non-null  int64         \n",
            " 35  P2_Surface_Played   17892 non-null  int64         \n",
            " 36  P1_Surface_WinRate  17892 non-null  float64       \n",
            " 37  P2_Surface_WinRate  17892 non-null  float64       \n",
            " 38  Won                 17892 non-null  int64         \n",
            " 39  Year                17892 non-null  int64         \n",
            " 40  Month               17892 non-null  int64         \n",
            "dtypes: datetime64[ns](1), float64(14), int64(18), object(8)\n",
            "memory usage: 5.6+ MB\n"
          ],
          "name": "stdout"
        }
      ]
    },
    {
      "cell_type": "code",
      "metadata": {
        "id": "qdbVFcNNdAzH"
      },
      "source": [
        "\n",
        "# Data selection\n",
        "\n",
        "data.drop('P1_WinRate',axis=1,inplace=True)\n",
        "data.drop('P2_WinRate',axis=1,inplace=True)\n",
        "data.drop('P1_Played',axis=1,inplace=True)\n",
        "data.drop('P2_Played',axis=1,inplace=True)\n",
        "data.drop('P1_Wins',axis=1,inplace=True)\n",
        "data.drop('P2_Wins',axis=1,inplace=True)\n",
        "data.drop('P1_Defeats',axis=1,inplace=True)\n",
        "data.drop('P2_Defeats',axis=1,inplace=True)\n",
        "\n",
        "data.drop('P1_Surface_WinRate',axis=1,inplace=True)\n",
        "data.drop('P2_Surface_WinRate',axis=1,inplace=True)\n",
        "data.drop('P1_Surface_Played',axis=1,inplace=True)\n",
        "data.drop('P2_Surface_Played',axis=1,inplace=True)\n",
        "data.drop('P1_Surface_Wins',axis=1,inplace=True)\n",
        "data.drop('P2_Surface_Wins',axis=1,inplace=True)\n",
        "data.drop('P1_Surface_Defeats',axis=1,inplace=True)\n",
        "data.drop('P2_Surface_Defeats',axis=1,inplace=True)\n",
        "\n",
        "data.drop('ATP',axis=1,inplace=True)\n",
        "data.drop('index',axis=1,inplace=True)\n",
        "data.drop('Location',axis=1,inplace=True)\n",
        "data.drop('Round',axis=1,inplace=True)\n",
        "data.drop('Best of',axis=1,inplace=True)\n",
        "data.drop('Tournament',axis=1,inplace=True)\n",
        "data.drop('Date',axis=1,inplace=True)\n",
        "data.drop('Series',axis=1,inplace=True)\n",
        "data.drop('Court',axis=1,inplace=True)\n",
        "data.drop('Surface',axis=1,inplace=True)\n",
        "data.drop('P1',axis=1,inplace=True)\n",
        "data.drop('P2',axis=1,inplace=True)\n",
        "data.drop('Year',axis=1,inplace=True)\n",
        "data.drop('Month',axis=1,inplace=True)\n",
        "\n",
        "data.drop('P1_Elo',axis=1,inplace=True)\n",
        "data.drop('P2_Elo',axis=1,inplace=True)\n",
        "data.drop('P1_p_Elo',axis=1,inplace=True)\n",
        "data.drop('P2_p_Elo',axis=1,inplace=True)\n",
        "#data.drop('P1_Rank',axis=1,inplace=True)\n",
        "#data.drop('P2_Rank',axis=1,inplace=True)\n",
        "data.drop('P1_Odds_B365',axis=1,inplace=True)\n",
        "data.drop('P2_Odds_B365',axis=1,inplace=True)\n",
        "data.drop('P1_Odds_Pin',axis=1,inplace=True)\n",
        "data.drop('P2_Odds_Pin',axis=1,inplace=True)"
      ],
      "execution_count": 39,
      "outputs": []
    },
    {
      "cell_type": "code",
      "metadata": {
        "id": "m0ohB_0V1E3H"
      },
      "source": [
        "# Categorical data transformed in numeric data -> use a copy of the Dataframe\n",
        "\n",
        "#data_M = data.copy() # -> No impact on Data\n",
        "\n",
        "#data_M[\"Location\"] = data_M[\"Location\"].astype('category')\n",
        "#data_M[\"Location\"] = data_M[\"Location\"].cat.codes\n",
        "#data_M[\"Tournament\"] = data_M[\"Tournament\"].astype('category')\n",
        "#data_M[\"Tournament\"] = data_M[\"Tournament\"].cat.codes\n",
        "#data_M[\"Date\"] = data_M[\"Date\"].astype('category')\n",
        "#data_M[\"Date\"] = data_M[\"Date\"].cat.codes\n",
        "#data_M[\"Series\"] = data_M[\"Series\"].astype('category')\n",
        "#data_M[\"Series\"] = data_M[\"Series\"].cat.codes\n",
        "#data_M[\"Court\"] = data_M[\"Court\"].astype('category')\n",
        "#data_M[\"Court\"] = data_M[\"Court\"].cat.codes\n",
        "#data_M[\"Surface\"] = data_M[\"Surface\"].astype('category')\n",
        "#data_M[\"Surface\"] = data_M[\"Surface\"].cat.codes\n",
        "#data_M[\"Round\"] = data_M[\"Round\"].astype('category')\n",
        "#data_M[\"Round\"] = data_M[\"Round\"].cat.codes\n",
        "#data_M[\"P1\"] = data_M[\"P1\"].astype('category')\n",
        "#data_M[\"P1\"] = data_M[\"P1\"].cat.codes\n",
        "#data_M[\"P2\"] = data_M[\"P2\"].astype('category')\n",
        "#data_M[\"P2\"] = data_M[\"P2\"].cat.codes\n",
        "#data_M[\"P1_Hand\"] = data_M[\"P1_Hand\"].astype('category')\n",
        "#data_M[\"P1_Hand\"] = data_M[\"P1_Hand\"].cat.codes\n",
        "#data_M[\"P2_Hand\"] = data_M[\"P2_Hand\"].astype('category')\n",
        "#data_M[\"P2_Hand\"] = data_M[\"P2_Hand\"].cat.codes\n",
        "\n"
      ],
      "execution_count": 40,
      "outputs": []
    },
    {
      "cell_type": "code",
      "metadata": {
        "id": "pgY_SpazQJTE",
        "colab": {
          "base_uri": "https://localhost:8080/",
          "height": 1000
        },
        "outputId": "151f4327-8ea5-463f-987f-2a021107152e"
      },
      "source": [
        "# Heatmap \n",
        "\n",
        "plt.figure(figsize=(30,30))\n",
        "correlation = data.corr()\n",
        "sns.heatmap(correlation,  annot=True, cmap=\"RdBu_r\", center =0);\n",
        "plt.show()"
      ],
      "execution_count": 41,
      "outputs": [
        {
          "output_type": "display_data",
          "data": {
            "image/png": "[encoded data removed]",
            "text/plain": [
              "<Figure size 2160x2160 with 2 Axes>"
            ]
          },
          "metadata": {
            "tags": [],
            "needs_background": "light"
          }
        }
      ]
    },
    {
      "cell_type": "markdown",
      "metadata": {
        "id": "az85mg7JWhWy"
      },
      "source": [
        "#### Data Split and normalization"
      ]
    },
    {
      "cell_type": "code",
      "metadata": {
        "id": "SgCJMsYtWm7P"
      },
      "source": [
        "# Split data and target \n",
        "\n",
        "DATA = data.drop('Won',axis=1)\n",
        "TARGET = data['Won']"
      ],
      "execution_count": 42,
      "outputs": []
    },
    {
      "cell_type": "code",
      "metadata": {
        "id": "O2aj1VZ8Wm9x"
      },
      "source": [
        "# Split train/test\n",
        "\n",
        "from sklearn.model_selection import train_test_split\n",
        "\n",
        "X_train,X_test,y_train,y_test=train_test_split(DATA,TARGET,test_size=0.2,random_state=10)"
      ],
      "execution_count": 43,
      "outputs": []
    },
    {
      "cell_type": "code",
      "metadata": {
        "id": "dtPtW8rqGaa8"
      },
      "source": [
        "# Dataset balancing\n",
        "\n",
        "#from imblearn.over_sampling import RandomOverSampler \n",
        "\n",
        "#ros = RandomOverSampler(random_state=42)\n",
        "\n",
        "#X_train, y_train = ros.fit_resample(X_train, y_train)"
      ],
      "execution_count": 44,
      "outputs": []
    },
    {
      "cell_type": "code",
      "metadata": {
        "id": "Npxs7gSDxH4P"
      },
      "source": [
        "# Normalization\n",
        "\n",
        "#from sklearn.preprocessing import StandardScaler\n",
        "from sklearn.preprocessing import QuantileTransformer\n",
        "\n",
        "qt = QuantileTransformer(random_state=0)\n",
        "scaler=qt.fit(X_train)\n",
        "X_train_scaled = scaler.transform(X_train)\n",
        "X_test = scaler.transform(X_test)"
      ],
      "execution_count": 45,
      "outputs": []
    },
    {
      "cell_type": "code",
      "metadata": {
        "id": "DWw-3I5XUh-8"
      },
      "source": [
        "#from sklearn import preprocessing\n",
        "\n",
        "#scaler = preprocessing.StandardScaler().fit(X_train)\n",
        "#X_train_scaled = scaler.transform(X_train)\n",
        "#X_test = scaler.transform(X_test)"
      ],
      "execution_count": 46,
      "outputs": []
    },
    {
      "cell_type": "markdown",
      "metadata": {
        "id": "vSDiC4tjSkH-"
      },
      "source": [
        "## **Model Selection**"
      ]
    },
    {
      "cell_type": "code",
      "metadata": {
        "id": "xpXq8lIlY92H",
        "colab": {
          "base_uri": "https://localhost:8080/"
        },
        "outputId": "5db68f8f-6be9-40e3-85ce-86c57659e25c"
      },
      "source": [
        "from sklearn import linear_model\n",
        "\n",
        "# Model training\n",
        "\n",
        "clf=linear_model.LogisticRegression(random_state=10)\n",
        "clf.fit(X_train_scaled,y_train)\n",
        "\n",
        "# Model assessment\n",
        "\n",
        "y_pred = clf.predict(X_test)\n",
        "\n",
        "# Confusion Matrix \n",
        "\n",
        "cm = pd.crosstab(y_test, y_pred, rownames=['Classe réelle'], colnames=['Classe prédite'])\n",
        "print(cm)\n",
        "\n",
        "# Score\n",
        "\n",
        "print('\\n''Score:',clf.score(X_test, y_test))\n",
        "\n",
        "#Classification report\n",
        "\n",
        "print('\\n',classification_report(y_test, y_pred))\n"
      ],
      "execution_count": 47,
      "outputs": [
        {
          "output_type": "stream",
          "text": [
            "Classe prédite     1     2\n",
            "Classe réelle             \n",
            "1               1206   603\n",
            "2                620  1150\n",
            "\n",
            "Score: 0.6582844369935736\n",
            "\n",
            "               precision    recall  f1-score   support\n",
            "\n",
            "           1       0.66      0.67      0.66      1809\n",
            "           2       0.66      0.65      0.65      1770\n",
            "\n",
            "    accuracy                           0.66      3579\n",
            "   macro avg       0.66      0.66      0.66      3579\n",
            "weighted avg       0.66      0.66      0.66      3579\n",
            "\n"
          ],
          "name": "stdout"
        }
      ]
    },
    {
      "cell_type": "code",
      "metadata": {
        "colab": {
          "base_uri": "https://localhost:8080/",
          "height": 142
        },
        "id": "6CQaKZ0cW_TD",
        "outputId": "c16ec341-5a7a-4974-fb47-e156d7808d76"
      },
      "source": [
        "probs = clf.predict_proba(X_test)\n",
        "\n",
        "y_preds = np.where(probs[:,1]>0.6,2,1)\n",
        "\n",
        "\n",
        "cm = pd.crosstab(y_test, y_preds, rownames=['Classe réelle'], colnames=['Classe prédite'])\n",
        "cm\n",
        "\n"
      ],
      "execution_count": 48,
      "outputs": [
        {
          "output_type": "execute_result",
          "data": {
            "text/html": [
              "<div>\n",
              "<style scoped>\n",
              "    .dataframe tbody tr th:only-of-type {\n",
              "        vertical-align: middle;\n",
              "    }\n",
              "\n",
              "    .dataframe tbody tr th {\n",
              "        vertical-align: top;\n",
              "    }\n",
              "\n",
              "    .dataframe thead th {\n",
              "        text-align: right;\n",
              "    }\n",
              "</style>\n",
              "<table border=\"1\" class=\"dataframe\">\n",
              "  <thead>\n",
              "    <tr style=\"text-align: right;\">\n",
              "      <th>Classe prédite</th>\n",
              "      <th>1</th>\n",
              "      <th>2</th>\n",
              "    </tr>\n",
              "    <tr>\n",
              "      <th>Classe réelle</th>\n",
              "      <th></th>\n",
              "      <th></th>\n",
              "    </tr>\n",
              "  </thead>\n",
              "  <tbody>\n",
              "    <tr>\n",
              "      <th>1</th>\n",
              "      <td>1486</td>\n",
              "      <td>323</td>\n",
              "    </tr>\n",
              "    <tr>\n",
              "      <th>2</th>\n",
              "      <td>999</td>\n",
              "      <td>771</td>\n",
              "    </tr>\n",
              "  </tbody>\n",
              "</table>\n",
              "</div>"
            ],
            "text/plain": [
              "Classe prédite     1    2\n",
              "Classe réelle            \n",
              "1               1486  323\n",
              "2                999  771"
            ]
          },
          "metadata": {
            "tags": []
          },
          "execution_count": 48
        }
      ]
    },
    {
      "cell_type": "code",
      "metadata": {
        "id": "1fNzUNLLYUi3"
      },
      "source": [
        "#PAS SUR \n",
        "\n",
        "from sklearn.metrics import roc_curve, auc\n",
        "fpr, tpr, seuils = roc_curve(y_test, probs[:,1], pos_label=1)\n",
        "\n",
        "roc_auc = auc(tpr, fpr)\n"
      ],
      "execution_count": 49,
      "outputs": []
    },
    {
      "cell_type": "code",
      "metadata": {
        "colab": {
          "base_uri": "https://localhost:8080/",
          "height": 295
        },
        "id": "DnwsOpNZXZ1i",
        "outputId": "ab3cc50f-074f-4211-9e38-fa81842038e5"
      },
      "source": [
        "import matplotlib.pylab as plt\n",
        "\n",
        "plt.plot(tpr, fpr, color='orange',\n",
        "         lw=2, label='Modèle clf (auc = %0.2f)' % roc_auc)\n",
        "plt.plot([0, 1], [0, 1], color='navy', lw=2, linestyle='--', label='Aléatoire (auc = 0.5)')\n",
        "plt.xlim([0.0, 1.0])\n",
        "plt.ylim([0.0, 1.05])\n",
        "plt.xlabel('Taux faux positifs')\n",
        "plt.ylabel('Taux vrais positifs')\n",
        "plt.title('Courbe ROC')\n",
        "plt.legend(loc=\"lower right\")\n",
        "plt.show()"
      ],
      "execution_count": 50,
      "outputs": [
        {
          "output_type": "display_data",
          "data": {
            "image/png": "[encoded data removed]",
            "text/plain": [
              "<Figure size 432x288 with 1 Axes>"
            ]
          },
          "metadata": {
            "tags": [],
            "needs_background": "light"
          }
        }
      ]
    },
    {
      "cell_type": "code",
      "metadata": {
        "id": "cUWVAee7WrgQ",
        "colab": {
          "base_uri": "https://localhost:8080/"
        },
        "outputId": "cb38a524-edda-45bb-b645-c8c366998965"
      },
      "source": [
        "# Prediction of a new instance\n",
        "\n",
        "Xnew = [[43,130],[67,107],[50,67],[107,103],[65,107],[3,50],[36,113],[3,192],[21,65]]\n",
        "                                                    \n",
        "Xnew = scaler.transform(Xnew)\n",
        "\n",
        "# make a prediction\n",
        "\n",
        "ypred = clf.predict(Xnew)\n",
        "\n",
        "print(\"Prediction:\",ypred)\n",
        "\n",
        "ynew_prob = clf.predict_proba(Xnew)\n",
        "\n",
        "print(\"Predicted=%s\" % (ynew_prob))"
      ],
      "execution_count": 51,
      "outputs": [
        {
          "output_type": "stream",
          "text": [
            "Prediction: [1 1 1 1 1 1 1 1 1]\n",
            "Predicted=[[0.72110098 0.27889902]\n",
            " [0.61016984 0.38983016]\n",
            " [0.56844884 0.43155116]\n",
            " [0.50000844 0.49999156]\n",
            " [0.6166277  0.3833723 ]\n",
            " [0.71290961 0.28709039]\n",
            " [0.72926876 0.27073124]\n",
            " [0.86623085 0.13376915]\n",
            " [0.68669471 0.31330529]]\n"
          ],
          "name": "stdout"
        }
      ]
    },
    {
      "cell_type": "code",
      "metadata": {
        "id": "LJlzIgvFxcgr",
        "colab": {
          "base_uri": "https://localhost:8080/",
          "height": 428
        },
        "outputId": "4a72e005-ba65-4638-954f-1430e6517819"
      },
      "source": [
        "# Weights\n",
        "\n",
        "plt.figure(figsize=(7,7))\n",
        "\n",
        "pd.Series(clf.coef_[0], X_train.columns).sort_values(ascending=False).plot(kind='barh');"
      ],
      "execution_count": 52,
      "outputs": [
        {
          "output_type": "display_data",
          "data": {
            "image/png": "[encoded data removed]",
            "text/plain": [
              "<Figure size 504x504 with 1 Axes>"
            ]
          },
          "metadata": {
            "tags": [],
            "needs_background": "light"
          }
        }
      ]
    },
    {
      "cell_type": "code",
      "metadata": {
        "id": "hFJHdLi6S1RX",
        "colab": {
          "base_uri": "https://localhost:8080/"
        },
        "outputId": "fdc2297f-da1f-4eda-93e9-6e1b740d401b"
      },
      "source": [
        "from sklearn import svm\n",
        "\n",
        "clf = svm.SVC()\n",
        "clf.fit(X_train_scaled, y_train) \n",
        "y_pred = clf.predict(X_test) \n",
        "cm = pd.crosstab(y_test, y_pred, rownames=['Classe réelle'], colnames=['Classe prédite'])\n",
        "print(cm)\n",
        "print('\\n''Score:',clf.score(X_test, y_test))\n",
        "print('\\n',classification_report(y_test, y_pred))"
      ],
      "execution_count": 53,
      "outputs": [
        {
          "output_type": "stream",
          "text": [
            "Classe prédite     1     2\n",
            "Classe réelle             \n",
            "1               1233   576\n",
            "2                648  1122\n",
            "\n",
            "Score: 0.6580050293378038\n",
            "\n",
            "               precision    recall  f1-score   support\n",
            "\n",
            "           1       0.66      0.68      0.67      1809\n",
            "           2       0.66      0.63      0.65      1770\n",
            "\n",
            "    accuracy                           0.66      3579\n",
            "   macro avg       0.66      0.66      0.66      3579\n",
            "weighted avg       0.66      0.66      0.66      3579\n",
            "\n"
          ],
          "name": "stdout"
        }
      ]
    },
    {
      "cell_type": "code",
      "metadata": {
        "id": "o_m6v5LJtjOW",
        "colab": {
          "base_uri": "https://localhost:8080/"
        },
        "outputId": "dcafd615-778d-4d2f-de77-42f63ebc26fc"
      },
      "source": [
        "from sklearn import ensemble\n",
        "\n",
        "clf = ensemble.RandomForestClassifier(n_jobs = -1, random_state = 321)\n",
        "clf.fit(X_train_scaled, y_train)\n",
        "y_pred = clf.predict(X_test)\n",
        "cm = pd.crosstab(y_test, y_pred, rownames=['Classe réelle'], colnames=['Classe prédite'])\n",
        "print(cm)\n",
        "print('\\n''Score:',clf.score(X_test, y_test))\n",
        "print('\\n',classification_report(y_test, y_pred))"
      ],
      "execution_count": 54,
      "outputs": [
        {
          "output_type": "stream",
          "text": [
            "Classe prédite     1     2\n",
            "Classe réelle             \n",
            "1               1134   675\n",
            "2                679  1091\n",
            "\n",
            "Score: 0.621682034087734\n",
            "\n",
            "               precision    recall  f1-score   support\n",
            "\n",
            "           1       0.63      0.63      0.63      1809\n",
            "           2       0.62      0.62      0.62      1770\n",
            "\n",
            "    accuracy                           0.62      3579\n",
            "   macro avg       0.62      0.62      0.62      3579\n",
            "weighted avg       0.62      0.62      0.62      3579\n",
            "\n"
          ],
          "name": "stdout"
        }
      ]
    },
    {
      "cell_type": "code",
      "metadata": {
        "id": "Efs_HeKJJw7y",
        "colab": {
          "base_uri": "https://localhost:8080/"
        },
        "outputId": "1cd33c05-11e0-415d-8eb6-04d0c44957f4"
      },
      "source": [
        "\n",
        "from sklearn.tree import DecisionTreeClassifier\n",
        "\n",
        "clf = DecisionTreeClassifier(criterion=\"entropy\",max_depth=3,random_state=123)\n",
        "clf.fit(X_train_scaled, y_train)\n",
        "y_pred = clf.predict(X_test)\n",
        "cm = pd.crosstab(y_test, y_pred, rownames=['Classe réelle'], colnames=['Classe prédite'])\n",
        "print(cm)\n",
        "print('\\n''Score:',clf.score(X_test, y_test))\n",
        "print('\\n',classification_report(y_test, y_pred))"
      ],
      "execution_count": 55,
      "outputs": [
        {
          "output_type": "stream",
          "text": [
            "Classe prédite     1     2\n",
            "Classe réelle             \n",
            "1               1141   668\n",
            "2                651  1119\n",
            "\n",
            "Score: 0.6314613020396759\n",
            "\n",
            "               precision    recall  f1-score   support\n",
            "\n",
            "           1       0.64      0.63      0.63      1809\n",
            "           2       0.63      0.63      0.63      1770\n",
            "\n",
            "    accuracy                           0.63      3579\n",
            "   macro avg       0.63      0.63      0.63      3579\n",
            "weighted avg       0.63      0.63      0.63      3579\n",
            "\n"
          ],
          "name": "stdout"
        }
      ]
    },
    {
      "cell_type": "code",
      "metadata": {
        "id": "gUyLDYm-rpoD",
        "colab": {
          "base_uri": "https://localhost:8080/",
          "height": 683
        },
        "outputId": "5dc18cde-5857-48cd-b4e2-b77217f973ac"
      },
      "source": [
        "# Features importance\n",
        "\n",
        "from sklearn.tree import plot_tree\n",
        "\n",
        "plt.figure(figsize=(15,12))\n",
        "plot_tree(clf, feature_names = X_train.columns.tolist(), filled=True); #proportion=True"
      ],
      "execution_count": 56,
      "outputs": [
        {
          "output_type": "display_data",
          "data": {
            "image/png": "[encoded data removed]",
            "text/plain": [
              "<Figure size 1080x864 with 1 Axes>"
            ]
          },
          "metadata": {
            "tags": [],
            "needs_background": "light"
          }
        }
      ]
    },
    {
      "cell_type": "code",
      "metadata": {
        "id": "xyL0FtSlrpwg",
        "colab": {
          "base_uri": "https://localhost:8080/",
          "height": 265
        },
        "outputId": "4a8f8f71-c2ab-4f97-eaaa-aad8ce1b6e41"
      },
      "source": [
        "# 3 main features\n",
        "\n",
        "feat_importances = pd.Series(clf.feature_importances_, index=X_train.columns)\n",
        "feat_importances.nlargest(3).plot(kind = 'barh');"
      ],
      "execution_count": 57,
      "outputs": [
        {
          "output_type": "display_data",
          "data": {
            "image/png": "[encoded data removed]",
            "text/plain": [
              "<Figure size 432x288 with 1 Axes>"
            ]
          },
          "metadata": {
            "tags": [],
            "needs_background": "light"
          }
        }
      ]
    },
    {
      "cell_type": "code",
      "metadata": {
        "id": "-xX9y2RpBXa4",
        "colab": {
          "base_uri": "https://localhost:8080/"
        },
        "outputId": "c001973e-ab06-4f19-99ff-d97518654c59"
      },
      "source": [
        "from sklearn.discriminant_analysis import LinearDiscriminantAnalysis\n",
        "\n",
        "# Model training\n",
        "\n",
        "clf = LinearDiscriminantAnalysis()\n",
        "clf.fit(X_train_scaled, y_train)\n",
        "y_pred = clf.predict(X_test)\n",
        "cm = pd.crosstab(y_test, y_pred, rownames=['Classe réelle'], colnames=['Classe prédite'])\n",
        "print(cm)\n",
        "print('\\n''Score:',clf.score(X_test, y_test))\n",
        "print('\\n',classification_report(y_test, y_pred))"
      ],
      "execution_count": 58,
      "outputs": [
        {
          "output_type": "stream",
          "text": [
            "Classe prédite     1     2\n",
            "Classe réelle             \n",
            "1               1205   604\n",
            "2                621  1149\n",
            "\n",
            "Score: 0.6577256216820341\n",
            "\n",
            "               precision    recall  f1-score   support\n",
            "\n",
            "           1       0.66      0.67      0.66      1809\n",
            "           2       0.66      0.65      0.65      1770\n",
            "\n",
            "    accuracy                           0.66      3579\n",
            "   macro avg       0.66      0.66      0.66      3579\n",
            "weighted avg       0.66      0.66      0.66      3579\n",
            "\n"
          ],
          "name": "stdout"
        }
      ]
    },
    {
      "cell_type": "code",
      "metadata": {
        "id": "xeLCgS1IB4O3",
        "colab": {
          "base_uri": "https://localhost:8080/"
        },
        "outputId": "60c8ab7a-f3dd-4b48-c868-e7f40fec94a2"
      },
      "source": [
        "from sklearn.discriminant_analysis import QuadraticDiscriminantAnalysis\n",
        "\n",
        "clf = QuadraticDiscriminantAnalysis()\n",
        "clf.fit(X_train_scaled, y_train)\n",
        "y_pred = clf.predict(X_test)\n",
        "cm = pd.crosstab(y_test, y_pred, rownames=['Classe réelle'], colnames=['Classe prédite'])\n",
        "print(cm)\n",
        "print('\\n''Score:',clf.score(X_test, y_test))\n",
        "print('\\n',classification_report(y_test, y_pred))"
      ],
      "execution_count": 59,
      "outputs": [
        {
          "output_type": "stream",
          "text": [
            "Classe prédite     1     2\n",
            "Classe réelle             \n",
            "1               1221   588\n",
            "2                627  1143\n",
            "\n",
            "Score: 0.6605196982397318\n",
            "\n",
            "               precision    recall  f1-score   support\n",
            "\n",
            "           1       0.66      0.67      0.67      1809\n",
            "           2       0.66      0.65      0.65      1770\n",
            "\n",
            "    accuracy                           0.66      3579\n",
            "   macro avg       0.66      0.66      0.66      3579\n",
            "weighted avg       0.66      0.66      0.66      3579\n",
            "\n"
          ],
          "name": "stdout"
        }
      ]
    },
    {
      "cell_type": "code",
      "metadata": {
        "id": "5lOMAWbwDXiF",
        "colab": {
          "base_uri": "https://localhost:8080/"
        },
        "outputId": "ae1429ae-b7d1-45b6-9d7e-1110c4c9e36b"
      },
      "source": [
        "from lightgbm.sklearn import LGBMClassifier\n",
        "\n",
        "clf = LGBMClassifier()\n",
        "clf.fit(X_train_scaled, y_train)\n",
        "y_pred = clf.predict(X_test)\n",
        "cm = pd.crosstab(y_test, y_pred, rownames=['Classe réelle'], colnames=['Classe prédite'])\n",
        "print(cm)\n",
        "print('\\n''Score:',clf.score(X_test, y_test))\n",
        "print('\\n',classification_report(y_test, y_pred))"
      ],
      "execution_count": 60,
      "outputs": [
        {
          "output_type": "stream",
          "text": [
            "Classe prédite     1     2\n",
            "Classe réelle             \n",
            "1               1185   624\n",
            "2                658  1112\n",
            "\n",
            "Score: 0.6417993853031573\n",
            "\n",
            "               precision    recall  f1-score   support\n",
            "\n",
            "           1       0.64      0.66      0.65      1809\n",
            "           2       0.64      0.63      0.63      1770\n",
            "\n",
            "    accuracy                           0.64      3579\n",
            "   macro avg       0.64      0.64      0.64      3579\n",
            "weighted avg       0.64      0.64      0.64      3579\n",
            "\n"
          ],
          "name": "stdout"
        }
      ]
    },
    {
      "cell_type": "markdown",
      "metadata": {
        "id": "lZlV57G87Q6w"
      },
      "source": [
        "# **TESTS / WORK IN PROGRESS** "
      ]
    },
    {
      "cell_type": "markdown",
      "metadata": {
        "id": "WHss267E7Vvm"
      },
      "source": [
        ""
      ]
    },
    {
      "cell_type": "markdown",
      "metadata": {
        "id": "thIqrafs7WSN"
      },
      "source": [
        "## ARTHUR"
      ]
    },
    {
      "cell_type": "markdown",
      "metadata": {
        "id": "WhKR-K17Nk5I"
      },
      "source": [
        "Regression logistique"
      ]
    },
    {
      "cell_type": "code",
      "metadata": {
        "id": "kGGMUYSTh5ZN"
      },
      "source": [
        "#from sklearn import linear_model\n",
        "#df_RL=data_M\n",
        "#df_RL=df_RL.drop('index', axis=1)\n",
        "#df_RL=df_RL.drop('Date', axis=1)\n",
        "#df_RL=df_RL.drop('P1', axis=1)\n",
        "#df_RL=df_RL.drop('P2', axis=1)\n",
        "#df_RL.Won=df_RL['Won'].apply(lambda x: 0 if x ==1 else 1)\n",
        "\n",
        "#DATA = df_RL.drop('Won',axis=1)\n",
        "#TARGET = df_RL['Won']\n",
        "\n",
        "#from sklearn.model_selection import train_test_split\n",
        "\n",
        "#X_train,X_test,y_train,y_test=train_test_split(DATA,TARGET,test_size=0.2)\n",
        "\n",
        "\n",
        "#clf = linear_model.LogisticRegression(C = 1.0)\n",
        "#clf.fit(X_train, y_train)"
      ],
      "execution_count": 61,
      "outputs": []
    },
    {
      "cell_type": "code",
      "metadata": {
        "id": "gvmibRH0xPYw"
      },
      "source": [
        "#y_pred = clf.predict(X_test)\n",
        "\n",
        "# Calcul de la matrice de confusion \n",
        "\n",
        "## Méthode 1 : à l'aide de sklearn\n",
        "\n",
        "#from sklearn.metrics import confusion_matrix \n",
        "\n",
        "#cm = confusion_matrix(y_test,y_pred)\n",
        "#print(cm)"
      ],
      "execution_count": 62,
      "outputs": []
    },
    {
      "cell_type": "code",
      "metadata": {
        "id": "NZfePivTC5XO"
      },
      "source": [
        "#probs = clf.predict_proba(X_test)\n",
        "#probs"
      ],
      "execution_count": 63,
      "outputs": []
    },
    {
      "cell_type": "code",
      "metadata": {
        "id": "98oDdBj6W848"
      },
      "source": [
        "#url1 = 'https://raw.githubusercontent.com/GuillaumeRouja/2021-Tennis_Bet/main/Data/Match.csv'\n",
        "#match = pd.read_csv(url1)\n",
        "#url2 = 'https://raw.githubusercontent.com/GuillaumeRouja/2021-Tennis_Bet/main/Data/Player.csv'\n",
        "#player = pd.read_csv(url2)\n",
        "#url3 = 'https://raw.githubusercontent.com/GuillaumeRouja/2021-Tennis_Bet/main/Data/Stats.csv'\n",
        "#stats = pd.read_csv(url3)"
      ],
      "execution_count": 64,
      "outputs": []
    },
    {
      "cell_type": "code",
      "metadata": {
        "id": "gOxQGfliXAV5"
      },
      "source": [
        "#match.head()"
      ],
      "execution_count": 65,
      "outputs": []
    },
    {
      "cell_type": "code",
      "metadata": {
        "id": "hr7MsVxSXvNB"
      },
      "source": [
        "#player.head()"
      ],
      "execution_count": 66,
      "outputs": []
    },
    {
      "cell_type": "code",
      "metadata": {
        "id": "rDl-HqUEo49e"
      },
      "source": [
        "#player.info()"
      ],
      "execution_count": 67,
      "outputs": []
    },
    {
      "cell_type": "code",
      "metadata": {
        "id": "6vUn2r5WXvaM",
        "colab": {
          "base_uri": "https://localhost:8080/"
        },
        "outputId": "33633144-2408-49c2-f13b-493340c2b0a0"
      },
      "source": [
        "#stats.head()\n",
        "probs[:,1]"
      ],
      "execution_count": 68,
      "outputs": [
        {
          "output_type": "execute_result",
          "data": {
            "text/plain": [
              "array([0.37634192, 0.30291459, 0.50039732, ..., 0.45752693, 0.62333461,\n",
              "       0.67248012])"
            ]
          },
          "metadata": {
            "tags": []
          },
          "execution_count": 68
        }
      ]
    },
    {
      "cell_type": "code",
      "metadata": {
        "id": "_45913vdaby0",
        "colab": {
          "base_uri": "https://localhost:8080/",
          "height": 204
        },
        "outputId": "6f3688ce-d16b-4074-fd4c-74a6877dc20f"
      },
      "source": [
        "#Calcul du ROI \n",
        "#On rattache les prédicitons\n",
        "\n",
        "y_pred.shape\n",
        "data_ROI=data.iloc[-3075:,:]\n",
        "data_ROI.head()"
      ],
      "execution_count": 69,
      "outputs": [
        {
          "output_type": "execute_result",
          "data": {
            "text/html": [
              "<div>\n",
              "<style scoped>\n",
              "    .dataframe tbody tr th:only-of-type {\n",
              "        vertical-align: middle;\n",
              "    }\n",
              "\n",
              "    .dataframe tbody tr th {\n",
              "        vertical-align: top;\n",
              "    }\n",
              "\n",
              "    .dataframe thead th {\n",
              "        text-align: right;\n",
              "    }\n",
              "</style>\n",
              "<table border=\"1\" class=\"dataframe\">\n",
              "  <thead>\n",
              "    <tr style=\"text-align: right;\">\n",
              "      <th></th>\n",
              "      <th>P1_Rank</th>\n",
              "      <th>P2_Rank</th>\n",
              "      <th>Won</th>\n",
              "    </tr>\n",
              "  </thead>\n",
              "  <tbody>\n",
              "    <tr>\n",
              "      <th>14817</th>\n",
              "      <td>6.0</td>\n",
              "      <td>13.0</td>\n",
              "      <td>1</td>\n",
              "    </tr>\n",
              "    <tr>\n",
              "      <th>14818</th>\n",
              "      <td>4.0</td>\n",
              "      <td>6.0</td>\n",
              "      <td>1</td>\n",
              "    </tr>\n",
              "    <tr>\n",
              "      <th>14819</th>\n",
              "      <td>20.0</td>\n",
              "      <td>111.0</td>\n",
              "      <td>1</td>\n",
              "    </tr>\n",
              "    <tr>\n",
              "      <th>14820</th>\n",
              "      <td>56.0</td>\n",
              "      <td>36.0</td>\n",
              "      <td>2</td>\n",
              "    </tr>\n",
              "    <tr>\n",
              "      <th>14821</th>\n",
              "      <td>51.0</td>\n",
              "      <td>152.0</td>\n",
              "      <td>2</td>\n",
              "    </tr>\n",
              "  </tbody>\n",
              "</table>\n",
              "</div>"
            ],
            "text/plain": [
              "       P1_Rank  P2_Rank  Won\n",
              "14817      6.0     13.0    1\n",
              "14818      4.0      6.0    1\n",
              "14819     20.0    111.0    1\n",
              "14820     56.0     36.0    2\n",
              "14821     51.0    152.0    2"
            ]
          },
          "metadata": {
            "tags": []
          },
          "execution_count": 69
        }
      ]
    },
    {
      "cell_type": "code",
      "metadata": {
        "id": "57xboaaQcGJ2",
        "colab": {
          "base_uri": "https://localhost:8080/",
          "height": 374
        },
        "outputId": "dcb28b95-d691-4285-d724-c065634548ac"
      },
      "source": [
        "#On ajoute les poids de la RL\n",
        "data_ROI['Prediction']=y_pred.tolist()\n",
        "data_ROI['Proba_1']=probs[:,1].tolist()\n",
        "data_ROI['Proba_2']=probs[:,0].tolist()\n",
        "data_ROI.head(5)\n",
        "\n",
        "ROI=data_ROI[max(data_ROI.Proba_1,data_ROI.Proba_2) > 0.9]\n",
        "ROI.head()"
      ],
      "execution_count": 70,
      "outputs": [
        {
          "output_type": "error",
          "ename": "ValueError",
          "evalue": "ignored",
          "traceback": [
            "\u001b[0;31m---------------------------------------------------------------------------\u001b[0m",
            "\u001b[0;31mValueError\u001b[0m                                Traceback (most recent call last)",
            "\u001b[0;32m<ipython-input-70-9aa6ddc78df7>\u001b[0m in \u001b[0;36m<module>\u001b[0;34m()\u001b[0m\n\u001b[1;32m      1\u001b[0m \u001b[0;31m#On ajoute les poids de la RL\u001b[0m\u001b[0;34m\u001b[0m\u001b[0;34m\u001b[0m\u001b[0;34m\u001b[0m\u001b[0m\n\u001b[0;32m----> 2\u001b[0;31m \u001b[0mdata_ROI\u001b[0m\u001b[0;34m[\u001b[0m\u001b[0;34m'Prediction'\u001b[0m\u001b[0;34m]\u001b[0m\u001b[0;34m=\u001b[0m\u001b[0my_pred\u001b[0m\u001b[0;34m.\u001b[0m\u001b[0mtolist\u001b[0m\u001b[0;34m(\u001b[0m\u001b[0;34m)\u001b[0m\u001b[0;34m\u001b[0m\u001b[0;34m\u001b[0m\u001b[0m\n\u001b[0m\u001b[1;32m      3\u001b[0m \u001b[0mdata_ROI\u001b[0m\u001b[0;34m[\u001b[0m\u001b[0;34m'Proba_1'\u001b[0m\u001b[0;34m]\u001b[0m\u001b[0;34m=\u001b[0m\u001b[0mprobs\u001b[0m\u001b[0;34m[\u001b[0m\u001b[0;34m:\u001b[0m\u001b[0;34m,\u001b[0m\u001b[0;36m1\u001b[0m\u001b[0;34m]\u001b[0m\u001b[0;34m.\u001b[0m\u001b[0mtolist\u001b[0m\u001b[0;34m(\u001b[0m\u001b[0;34m)\u001b[0m\u001b[0;34m\u001b[0m\u001b[0;34m\u001b[0m\u001b[0m\n\u001b[1;32m      4\u001b[0m \u001b[0mdata_ROI\u001b[0m\u001b[0;34m[\u001b[0m\u001b[0;34m'Proba_2'\u001b[0m\u001b[0;34m]\u001b[0m\u001b[0;34m=\u001b[0m\u001b[0mprobs\u001b[0m\u001b[0;34m[\u001b[0m\u001b[0;34m:\u001b[0m\u001b[0;34m,\u001b[0m\u001b[0;36m0\u001b[0m\u001b[0;34m]\u001b[0m\u001b[0;34m.\u001b[0m\u001b[0mtolist\u001b[0m\u001b[0;34m(\u001b[0m\u001b[0;34m)\u001b[0m\u001b[0;34m\u001b[0m\u001b[0;34m\u001b[0m\u001b[0m\n\u001b[1;32m      5\u001b[0m \u001b[0mdata_ROI\u001b[0m\u001b[0;34m.\u001b[0m\u001b[0mhead\u001b[0m\u001b[0;34m(\u001b[0m\u001b[0;36m5\u001b[0m\u001b[0;34m)\u001b[0m\u001b[0;34m\u001b[0m\u001b[0;34m\u001b[0m\u001b[0m\n",
            "\u001b[0;32m/usr/local/lib/python3.7/dist-packages/pandas/core/frame.py\u001b[0m in \u001b[0;36m__setitem__\u001b[0;34m(self, key, value)\u001b[0m\n\u001b[1;32m   3042\u001b[0m         \u001b[0;32melse\u001b[0m\u001b[0;34m:\u001b[0m\u001b[0;34m\u001b[0m\u001b[0;34m\u001b[0m\u001b[0m\n\u001b[1;32m   3043\u001b[0m             \u001b[0;31m# set column\u001b[0m\u001b[0;34m\u001b[0m\u001b[0;34m\u001b[0m\u001b[0;34m\u001b[0m\u001b[0m\n\u001b[0;32m-> 3044\u001b[0;31m             \u001b[0mself\u001b[0m\u001b[0;34m.\u001b[0m\u001b[0m_set_item\u001b[0m\u001b[0;34m(\u001b[0m\u001b[0mkey\u001b[0m\u001b[0;34m,\u001b[0m \u001b[0mvalue\u001b[0m\u001b[0;34m)\u001b[0m\u001b[0;34m\u001b[0m\u001b[0;34m\u001b[0m\u001b[0m\n\u001b[0m\u001b[1;32m   3045\u001b[0m \u001b[0;34m\u001b[0m\u001b[0m\n\u001b[1;32m   3046\u001b[0m     \u001b[0;32mdef\u001b[0m \u001b[0m_setitem_slice\u001b[0m\u001b[0;34m(\u001b[0m\u001b[0mself\u001b[0m\u001b[0;34m,\u001b[0m \u001b[0mkey\u001b[0m\u001b[0;34m:\u001b[0m \u001b[0mslice\u001b[0m\u001b[0;34m,\u001b[0m \u001b[0mvalue\u001b[0m\u001b[0;34m)\u001b[0m\u001b[0;34m:\u001b[0m\u001b[0;34m\u001b[0m\u001b[0;34m\u001b[0m\u001b[0m\n",
            "\u001b[0;32m/usr/local/lib/python3.7/dist-packages/pandas/core/frame.py\u001b[0m in \u001b[0;36m_set_item\u001b[0;34m(self, key, value)\u001b[0m\n\u001b[1;32m   3118\u001b[0m         \"\"\"\n\u001b[1;32m   3119\u001b[0m         \u001b[0mself\u001b[0m\u001b[0;34m.\u001b[0m\u001b[0m_ensure_valid_index\u001b[0m\u001b[0;34m(\u001b[0m\u001b[0mvalue\u001b[0m\u001b[0;34m)\u001b[0m\u001b[0;34m\u001b[0m\u001b[0;34m\u001b[0m\u001b[0m\n\u001b[0;32m-> 3120\u001b[0;31m         \u001b[0mvalue\u001b[0m \u001b[0;34m=\u001b[0m \u001b[0mself\u001b[0m\u001b[0;34m.\u001b[0m\u001b[0m_sanitize_column\u001b[0m\u001b[0;34m(\u001b[0m\u001b[0mkey\u001b[0m\u001b[0;34m,\u001b[0m \u001b[0mvalue\u001b[0m\u001b[0;34m)\u001b[0m\u001b[0;34m\u001b[0m\u001b[0;34m\u001b[0m\u001b[0m\n\u001b[0m\u001b[1;32m   3121\u001b[0m         \u001b[0mNDFrame\u001b[0m\u001b[0;34m.\u001b[0m\u001b[0m_set_item\u001b[0m\u001b[0;34m(\u001b[0m\u001b[0mself\u001b[0m\u001b[0;34m,\u001b[0m \u001b[0mkey\u001b[0m\u001b[0;34m,\u001b[0m \u001b[0mvalue\u001b[0m\u001b[0;34m)\u001b[0m\u001b[0;34m\u001b[0m\u001b[0;34m\u001b[0m\u001b[0m\n\u001b[1;32m   3122\u001b[0m \u001b[0;34m\u001b[0m\u001b[0m\n",
            "\u001b[0;32m/usr/local/lib/python3.7/dist-packages/pandas/core/frame.py\u001b[0m in \u001b[0;36m_sanitize_column\u001b[0;34m(self, key, value, broadcast)\u001b[0m\n\u001b[1;32m   3766\u001b[0m \u001b[0;34m\u001b[0m\u001b[0m\n\u001b[1;32m   3767\u001b[0m             \u001b[0;31m# turn me into an ndarray\u001b[0m\u001b[0;34m\u001b[0m\u001b[0;34m\u001b[0m\u001b[0;34m\u001b[0m\u001b[0m\n\u001b[0;32m-> 3768\u001b[0;31m             \u001b[0mvalue\u001b[0m \u001b[0;34m=\u001b[0m \u001b[0msanitize_index\u001b[0m\u001b[0;34m(\u001b[0m\u001b[0mvalue\u001b[0m\u001b[0;34m,\u001b[0m \u001b[0mself\u001b[0m\u001b[0;34m.\u001b[0m\u001b[0mindex\u001b[0m\u001b[0;34m)\u001b[0m\u001b[0;34m\u001b[0m\u001b[0;34m\u001b[0m\u001b[0m\n\u001b[0m\u001b[1;32m   3769\u001b[0m             \u001b[0;32mif\u001b[0m \u001b[0;32mnot\u001b[0m \u001b[0misinstance\u001b[0m\u001b[0;34m(\u001b[0m\u001b[0mvalue\u001b[0m\u001b[0;34m,\u001b[0m \u001b[0;34m(\u001b[0m\u001b[0mnp\u001b[0m\u001b[0;34m.\u001b[0m\u001b[0mndarray\u001b[0m\u001b[0;34m,\u001b[0m \u001b[0mIndex\u001b[0m\u001b[0;34m)\u001b[0m\u001b[0;34m)\u001b[0m\u001b[0;34m:\u001b[0m\u001b[0;34m\u001b[0m\u001b[0;34m\u001b[0m\u001b[0m\n\u001b[1;32m   3770\u001b[0m                 \u001b[0;32mif\u001b[0m \u001b[0misinstance\u001b[0m\u001b[0;34m(\u001b[0m\u001b[0mvalue\u001b[0m\u001b[0;34m,\u001b[0m \u001b[0mlist\u001b[0m\u001b[0;34m)\u001b[0m \u001b[0;32mand\u001b[0m \u001b[0mlen\u001b[0m\u001b[0;34m(\u001b[0m\u001b[0mvalue\u001b[0m\u001b[0;34m)\u001b[0m \u001b[0;34m>\u001b[0m \u001b[0;36m0\u001b[0m\u001b[0;34m:\u001b[0m\u001b[0;34m\u001b[0m\u001b[0;34m\u001b[0m\u001b[0m\n",
            "\u001b[0;32m/usr/local/lib/python3.7/dist-packages/pandas/core/internals/construction.py\u001b[0m in \u001b[0;36msanitize_index\u001b[0;34m(data, index)\u001b[0m\n\u001b[1;32m    746\u001b[0m     \u001b[0;32mif\u001b[0m \u001b[0mlen\u001b[0m\u001b[0;34m(\u001b[0m\u001b[0mdata\u001b[0m\u001b[0;34m)\u001b[0m \u001b[0;34m!=\u001b[0m \u001b[0mlen\u001b[0m\u001b[0;34m(\u001b[0m\u001b[0mindex\u001b[0m\u001b[0;34m)\u001b[0m\u001b[0;34m:\u001b[0m\u001b[0;34m\u001b[0m\u001b[0;34m\u001b[0m\u001b[0m\n\u001b[1;32m    747\u001b[0m         raise ValueError(\n\u001b[0;32m--> 748\u001b[0;31m             \u001b[0;34m\"Length of values \"\u001b[0m\u001b[0;34m\u001b[0m\u001b[0;34m\u001b[0m\u001b[0m\n\u001b[0m\u001b[1;32m    749\u001b[0m             \u001b[0;34mf\"({len(data)}) \"\u001b[0m\u001b[0;34m\u001b[0m\u001b[0;34m\u001b[0m\u001b[0m\n\u001b[1;32m    750\u001b[0m             \u001b[0;34m\"does not match length of index \"\u001b[0m\u001b[0;34m\u001b[0m\u001b[0;34m\u001b[0m\u001b[0m\n",
            "\u001b[0;31mValueError\u001b[0m: Length of values (3579) does not match length of index (3075)"
          ]
        }
      ]
    },
    {
      "cell_type": "code",
      "metadata": {
        "id": "yr8myK33dsHl"
      },
      "source": [
        "# Création de la variable Succès\n",
        "data_ROI['Success']=data_ROI['Prediction']\n",
        "\n",
        "for k in range(data_ROI.shape[0]):\n",
        "  if data_ROI.iloc[k,38]==data_ROI.iloc[k,39]:\n",
        "    data_ROI.iloc[k,42]=1\n",
        "  else:\n",
        "    data_ROI.iloc[k,42]=0\n",
        "\n",
        "data_ROI.head(5)"
      ],
      "execution_count": null,
      "outputs": []
    },
    {
      "cell_type": "code",
      "metadata": {
        "id": "CzbHA8UEjBP2"
      },
      "source": [
        "#Création des variables de gain 365 et Pinacles\n",
        "data_ROI[\"gain_Pin\"]=1\n",
        "\n",
        "for k in range(data_ROI.shape[0]):\n",
        "  if data_ROI.iloc[k,38]==1:\n",
        "    data_ROI.iloc[k,43]=data_ROI.iloc[k,18]*data_ROI.iloc[k,42]\n",
        "  else:\n",
        "    data_ROI.iloc[k,43]=data_ROI.iloc[k,19]*data_ROI.iloc[k,42]\n",
        "\n",
        "\n",
        "data_ROI[\"gain_Pin\"]=data_ROI[\"gain_Pin\"].apply(lambda x: -1 if x ==0 else x)\n",
        "\n",
        "data_ROI[\"gain_365\"]=1\n",
        "\n",
        "for k in range(data_ROI.shape[0]):\n",
        "  if data_ROI.iloc[k,38]==1:\n",
        "    data_ROI.iloc[k,44]=data_ROI.iloc[k,20]*data_ROI.iloc[k,42]\n",
        "  else:\n",
        "    data_ROI.iloc[k,44]=data_ROI.iloc[k,21]*data_ROI.iloc[k,42]\n",
        "\n",
        "\n",
        "data_ROI[\"gain_365\"]=data_ROI[\"gain_365\"].apply(lambda x: -1 if x ==0 else x)"
      ],
      "execution_count": null,
      "outputs": []
    },
    {
      "cell_type": "code",
      "metadata": {
        "id": "RgJxnW0klYnB"
      },
      "source": [
        "data_ROI.head(5)\n",
        "\n"
      ],
      "execution_count": null,
      "outputs": []
    },
    {
      "cell_type": "code",
      "metadata": {
        "id": "JHjrT9F_m9Q4"
      },
      "source": [
        "#Créer le graph en filtrant sur les Probas\n",
        "#Nouvelle colonne max prob et tracer vecteur gain\n",
        "\n",
        "gain=0\n",
        "vecteur_gain=()\n",
        "\n",
        "for i in range(0,1,0.1):\n",
        "  ROI=data_ROI[max(data_ROI.Proba_1,data_ROI.Proba_2) > i]\n",
        "  for k in range(ROI.shape[0]):\n",
        "    gain+=ROI.iloc[k,43]\n",
        "  vecteur_gain.append(gain)\n",
        "  gain=0\n",
        "\n",
        "vecteur_gain"
      ],
      "execution_count": null,
      "outputs": []
    },
    {
      "cell_type": "markdown",
      "metadata": {
        "id": "ACdWq2dT7aYt"
      },
      "source": [
        "## GUILLAUME"
      ]
    },
    {
      "cell_type": "markdown",
      "metadata": {
        "id": "-BlHW0t51tSd"
      },
      "source": [
        "**LOGISTIC REGRESSION OPTIMIZATION**"
      ]
    },
    {
      "cell_type": "code",
      "metadata": {
        "id": "R1gy5EUhoWa8"
      },
      "source": [
        "from sklearn.linear_model import LogisticRegression\n",
        "from sklearn.feature_selection import SelectKBest\n",
        "from sklearn.pipeline import Pipeline\n",
        "from sklearn.model_selection import GridSearchCV"
      ],
      "execution_count": null,
      "outputs": []
    },
    {
      "cell_type": "code",
      "metadata": {
        "id": "_uKT8knKmHlJ"
      },
      "source": [
        "X_train,X_test,y_train,y_test=train_test_split(DATA,TARGET,test_size=0.2,random_state=10)\n",
        "\n",
        "scaler = preprocessing.StandardScaler()  # Normalization\n",
        "selector = SelectKBest()   # Best features selection\n",
        "lr = LogisticRegression()               \n",
        "\n",
        "pipe = Pipeline([ ('scaling', scaler), \n",
        "                 ('selection', selector),      \n",
        "                 ('model', lr)])           \n",
        "\n",
        "param_grid = {\n",
        "    'selection__k' : [1, 2, 3, 4, 5, 'all'],  \n",
        "    'model__solver' : ['lbfgs', 'liblinear'], \n",
        "    'model__C': [10**(i) for i in range(-4,3)]    \n",
        "}\n",
        "\n",
        "grid = GridSearchCV(estimator = pipe, param_grid = param_grid, cv = 5, iid = True) # GridSearchCV instantiation\n",
        "\n",
        "grid.fit(X_train,y_train)  \n",
        "\n",
        "print(grid.best_params_) # Best parameters\n",
        "print(grid.best_score_) # Best cross validation score\n",
        "\n",
        "# Model assessment\n",
        "\n",
        "y_pred = grid.predict(X_test)\n",
        "\n",
        "# Confusion Matrix \n",
        "\n",
        "cm = pd.crosstab(y_test, y_pred, rownames=['Classe réelle'], colnames=['Classe prédite'])\n",
        "print(cm)\n",
        "\n",
        "# Score\n",
        "\n",
        "print('\\n''Score:',grid.score(X_test, y_test))\n",
        "\n",
        "#Classification report\n",
        "\n",
        "print('\\n',classification_report(y_test, y_pred))\n",
        "      \n",
        "\n",
        "\n",
        "\n"
      ],
      "execution_count": null,
      "outputs": []
    },
    {
      "cell_type": "code",
      "metadata": {
        "id": "TV_csgpXCNyF"
      },
      "source": [
        "#Arthur Courbe ROC\n",
        "\n"
      ],
      "execution_count": null,
      "outputs": []
    },
    {
      "cell_type": "markdown",
      "metadata": {
        "id": "Kfm53JqQ16No"
      },
      "source": [
        "**SVC OPTIMIZATION**"
      ]
    },
    {
      "cell_type": "code",
      "metadata": {
        "id": "VZO6b_xT1qkR"
      },
      "source": [
        "#X_train,X_test,y_train,y_test=train_test_split(DATA,TARGET,test_size=0.2,random_state=10)\n",
        "\n",
        "#scaler = QuantileTransformer()  # Normalization\n",
        "#SVM = svm.SVC()             \n",
        "\n",
        "#pipe = Pipeline([ ('scaling', scaler),    \n",
        "                 #('model', SVM)])           \n",
        "\n",
        "#param_grid = {\n",
        "    #'model__kernel' : ['rbf', 'linear'], \n",
        "    #'model__C': [10**(i) for i in range(-4,3)]   \n",
        "#}\n",
        "\n",
        "#grid = GridSearchCV(estimator = pipe, param_grid = param_grid, cv = 5, iid = True) # GridSearchCV instantiation\n",
        "\n",
        "#grid.fit(X_train,y_train)  \n",
        "\n",
        "#print(grid.best_params_) # Best parameters\n",
        "#print(grid.best_score_) # Best cross validation score\n",
        "\n",
        "# Model assessment\n",
        "\n",
        "#y_pred = grid.predict(X_test)\n",
        "\n",
        "# Confusion Matrix \n",
        "\n",
        "#cm = pd.crosstab(y_test, y_pred, rownames=['Classe réelle'], colnames=['Classe prédite'])\n",
        "#print(cm)\n",
        "\n",
        "# Score\n",
        "\n",
        "#print('\\n''Score:',grid.score(X_test, y_test))\n",
        "\n",
        "#Classification report\n",
        "\n",
        "#print('\\n',classification_report(y_test, y_pred))"
      ],
      "execution_count": null,
      "outputs": []
    },
    {
      "cell_type": "markdown",
      "metadata": {
        "id": "J8j-SO3Jr5v5"
      },
      "source": [
        "**LINEAR DISCRIMINANT ANALYSIS OPTIMISATION**"
      ]
    },
    {
      "cell_type": "code",
      "metadata": {
        "id": "-Ioad-gorw7r"
      },
      "source": [
        "X_train,X_test,y_train,y_test=train_test_split(DATA,TARGET,test_size=0.2,random_state=10)\n",
        "\n",
        "#scaler = StandardScaler()\n",
        "scaler = QuantileTransformer()  # Normalization\n",
        "selector = SelectKBest()   # Best features selection\n",
        "ld = LinearDiscriminantAnalysis()            \n",
        "\n",
        "pipe = Pipeline([ ('scaling', scaler), \n",
        "                 ('selection', selector),      \n",
        "                 ('model', ld)])           \n",
        "\n",
        "param_grid = {\n",
        "    'selection__k' : [4, 5, 'all'],  \n",
        "    'model__solver' : ['svd', 'lsqr', 'eigen']   \n",
        "}\n",
        "\n",
        "grid = GridSearchCV(estimator = pipe, param_grid = param_grid, cv = 5, iid = True) # GridSearchCV instantiation\n",
        "\n",
        "grid.fit(X_train,y_train)  \n",
        "\n",
        "print(grid.best_params_) # Best parameters\n",
        "print(grid.best_score_) # Best cross validation score\n",
        "\n",
        "# Model assessment\n",
        "\n",
        "y_pred = grid.predict(X_test)\n",
        "\n",
        "# Confusion Matrix \n",
        "\n",
        "cm = pd.crosstab(y_test, y_pred, rownames=['Classe réelle'], colnames=['Classe prédite'])\n",
        "print(cm)\n",
        "\n",
        "# Score\n",
        "\n",
        "print('\\n''Score:',grid.score(X_test, y_test))\n",
        "\n",
        "#Classification report\n",
        "\n",
        "print('\\n',classification_report(y_test, y_pred))"
      ],
      "execution_count": null,
      "outputs": []
    },
    {
      "cell_type": "markdown",
      "metadata": {
        "id": "CQkP_nuevLfk"
      },
      "source": [
        "**LGBM OPTIMZATION**"
      ]
    },
    {
      "cell_type": "code",
      "metadata": {
        "id": "UGcDqxcc2GcX"
      },
      "source": [
        "#!pip install optuna"
      ],
      "execution_count": null,
      "outputs": []
    },
    {
      "cell_type": "code",
      "metadata": {
        "id": "Cp4ZyB93vI_R"
      },
      "source": [
        "#import optuna\n",
        "\n",
        "#def objective(trial):\n",
        "\n",
        "  #X_train,X_test,y_train,y_test=train_test_split(DATA,TARGET,test_size=0.2,random_state=10)\n",
        "\n",
        "  #scaler = QuantileTransformer()  # Normalization\n",
        "  #selector = SelectKBest()   # Best features selection\n",
        "  #lgbm = LGBMClassifier()           \n",
        "\n",
        "  #pipe = Pipeline([ ('scaling', scaler), \n",
        "                 #('selection', selector),      \n",
        "                 #('model', lgbm)])           \n",
        "\n",
        "  #param_grid = {\n",
        "    #'selection__k' : [4, 5, 'all'],  \n",
        "    #'model__max_depth' : trial.suggest_int(\"model__max_depth\",2, 6),   \n",
        "    #'model__learning_rate' : trial.suggest_loguniform(\"model__learning_rate\", 1e-4, 10),\n",
        "    #'model__n_estimators' : trial.suggest_int(\"n_estimators\", 1, 400),\n",
        "    #'model__min_split_gain' : trial.suggest_uniform(\"min_split_gain\", 0, 1),\n",
        "    #'model__device' : 'gpu'\n",
        "  #}\n",
        "\n",
        "  #grid = GridSearchCV(estimator = pipe, param_grid = param_grid, cv = 5, iid = True) # GridSearchCV instantiation\n",
        "\n",
        "  #grid.fit(X_train,y_train)  \n",
        "\n",
        "  #print(grid.best_params_) # Best parameters\n",
        "  #print(grid.best_score_) # Best cross validation score\n",
        "\n",
        "  #return grid.best_score_\n",
        "\n",
        "#study = optuna.create_study(direction='minimize')\n",
        "#study.optimize(objective, n_trials=100)  # Specify the number of trials.\n",
        "\n",
        "# Model assessment\n",
        "\n",
        "#y_pred = grid.predict(X_test)\n",
        "\n",
        "# Confusion Matrix \n",
        "\n",
        "#cm = pd.crosstab(y_test, y_pred, rownames=['Classe réelle'], colnames=['Classe prédite'])\n",
        "#print(cm)\n",
        "\n",
        "# Score\n",
        "\n",
        "#print('\\n''Score:',grid.score(X_test, y_test))\n",
        "\n",
        "#Classification report\n",
        "\n",
        "#print('\\n',classification_report(y_test, y_pred))"
      ],
      "execution_count": null,
      "outputs": []
    },
    {
      "cell_type": "code",
      "metadata": {
        "id": "zT3TwHoR4rd3"
      },
      "source": [
        "\n",
        "X_train,X_test,y_train,y_test=train_test_split(DATA,TARGET,test_size=0.2,random_state=10)\n",
        "\n",
        "scaler = QuantileTransformer()  # Normalization\n",
        "selector = SelectKBest()   # Best features selection\n",
        "lgbm = LGBMClassifier()           \n",
        "\n",
        "pipe = Pipeline([ ('scaling', scaler),       \n",
        "                 ('model', lgbm)])           \n",
        "\n",
        "param_grid = { \n",
        "    'model__max_depth' : [19],   \n",
        "    'model__learning_rate' : [0.295],\n",
        "    'model__gamma':[0.8],\n",
        "    'model__lambda':[0],\n",
        "    'model__alpha':[2],\n",
        "    'model__num_rounds':[300],\n",
        "    'model__early_stop':[5],\n",
        "  }\n",
        "\n",
        "grid = GridSearchCV(estimator = pipe, param_grid = param_grid, cv = 5, iid = True) # GridSearchCV instantiation\n",
        "\n",
        "grid.fit(X_train,y_train)  \n",
        "\n",
        "print(grid.best_params_) # Best parameters\n",
        "print(grid.best_score_) # Best cross validation score\n",
        "\n",
        "# Model assessment\n",
        "\n",
        "y_pred = grid.predict(X_test)\n",
        "\n",
        "# Confusion Matrix \n",
        "\n",
        "cm = pd.crosstab(y_test, y_pred, rownames=['Classe réelle'], colnames=['Classe prédite'])\n",
        "print(cm)\n",
        "\n",
        "# Score\n",
        "\n",
        "print('\\n''Score:',grid.score(X_test, y_test))\n",
        "\n",
        "#Classification report\n",
        "\n",
        "print('\\n',classification_report(y_test, y_pred))"
      ],
      "execution_count": null,
      "outputs": []
    },
    {
      "cell_type": "code",
      "metadata": {
        "id": "4nvGSvD10TcN"
      },
      "source": [
        "\n",
        "#n_col = len(data_M.columns) \n",
        "\n",
        "#fig, axs = plt.subplots(nrows = n_col)\n",
        "\n",
        "#for variable, ax in zip(data_M.columns, axs):\n",
        "    #sns.violinplot(x = 'Won', y = variable, data = data_M, ax = ax)\n",
        "    #ax.set_title(variable)\n",
        "    \n",
        "    \n",
        "#fig.set_size_inches(16, 300)"
      ],
      "execution_count": null,
      "outputs": []
    },
    {
      "cell_type": "code",
      "metadata": {
        "id": "5AbmuT_E257A"
      },
      "source": [
        "\n",
        "# TO TEST - creation of dataframe columns in a cleaner way\n",
        "\n",
        "#---------------------\n",
        "#def some_func(x):\n",
        " # a = 1\n",
        "  #b = 2\n",
        "  #return a,b \n",
        "\n",
        "#df[['column1','column2']] = df.apply(some_func,axis=1, result_type ='expand')\n",
        "#---------------------"
      ],
      "execution_count": null,
      "outputs": []
    },
    {
      "cell_type": "code",
      "metadata": {
        "id": "NOlx27Kh8wXl"
      },
      "source": [
        "\n",
        "\n",
        "\n",
        "# EXPERIMENTS 2 # Grouping by classes\n",
        "\n",
        "# Let's try divide the ATP rankings into 4 categories\n",
        "\n",
        "#data['P1_Rank_classes']=pd.qcut(data['P1_Rank'],labels=[1,2,3,4],q=4)\n",
        "#data['P2_Rank_classes']=pd.qcut(data['P2_Rank'],labels=[1,2,3,4],q=4)\n",
        "#data[\"P1_Rank_classes\"] = data[\"P1_Rank_classes\"].astype('category')\n",
        "#data[\"P1_Rank_classes\"] = data[\"P1_Rank_classes\"].cat.codes\n",
        "#data[\"P2_Rank_classes\"] = data[\"P2_Rank_classes\"].astype('category')\n",
        "#data[\"P2_Rank_classes\"] = data[\"P2_Rank_classes\"].cat.codes\n",
        "#data.drop('P1_Rank',axis=1,inplace=True)\n",
        "#data.drop('P2_Rank',axis=1,inplace=True)\n",
        "#charges_classes = pd.qcut(df.total_charges, labels=[1,2,3,4,5,6,7,8]q=8)\n",
        "\n",
        "# EXPERIMENTS 3 # Keep most frequent players in the dataset.\n",
        "\n",
        "# Get those players\n",
        "\n",
        "#most_frequent_P1 = data['P1'].value_counts()[:300].index.tolist()\n",
        "#most_frequent_P2 = data['P2'].value_counts()[:300].index.tolist()\n",
        "\n",
        "# Dataframe is filtered to only take the most productive players\n",
        "\n",
        "#data=data[data['P1'].isin(most_frequent_P1)&data['P2'].isin(most_frequent_P2)]\n",
        "\n",
        "\n",
        "# EXPERIMENT 4 # Create \"Month variable\"\n",
        "\n",
        "#data['Month'] = data.Date\n",
        "#data['Month'] = data.Month.apply(lambda x: x[:-3])\n",
        "#data['Month'] = pd.to_datetime(data.Month)"
      ],
      "execution_count": null,
      "outputs": []
    },
    {
      "cell_type": "code",
      "metadata": {
        "id": "N2jOXjV8jrdC"
      },
      "source": [
        "#import xgboost as xgb -> lgbm is preferred \n",
        "\n",
        "#X_train,X_test,y_train,y_test=train_test_split(DATA,TARGET,test_size=0.2,random_state=10)\n",
        "\n",
        "# Variable encoding:\n",
        "#y_train = [0 if x == 1 else 1 for x in y_train]\n",
        "#y_test = [0 if x == 1 else 1 for x in y_test]\n",
        "\n",
        "# Training parameters\n",
        "#params = {'objective': 'binary:logistic', 'max_depth': 6}\n",
        "\n",
        "# DMatrix preparation\n",
        "#dtrain = xgb.DMatrix(X_train, label=y_train)\n",
        "#dtest =  xgb.DMatrix(data = X_test, label = y_test)\n",
        "\n",
        "# Model training\n",
        "#clf = xgb.train(params, dtrain, 200)\n",
        "\n",
        "# Model assessment\n",
        "\n",
        "#probs = clf.predict(dtest)\n",
        "#preds = [0 if x<0.5 else 1 for x in probs]\n",
        "\n",
        "#print(classification_report(y_test, preds))"
      ],
      "execution_count": null,
      "outputs": []
    },
    {
      "cell_type": "code",
      "metadata": {
        "id": "aNyinwjK8wZv"
      },
      "source": [
        "# Validation croisée imbriquée (Nested CV) \n",
        "\n",
        "#from sklearn.model_selection import GridSearchCV, cross_val_score\n",
        "#from sklearn.linear_model import LogisticRegression\n",
        "#from sklearn.ensemble import RandomForestClassifier\n",
        "#from sklearn.svm import SVC\n",
        "\n",
        "#clf_lr = LogisticRegression (random_state=22, max_iter=2000)\n",
        "#clf_rf = RandomForestClassifier (random_state=22)\n",
        "#clf_svc = SVC (random_state=22)\n",
        "\n",
        "#param_grid_lr  = {'solver': ['liblinear', 'lbfgs'],\n",
        "                     #'C': np.logspace(-4,2,9)}\n",
        "\n",
        "#param_grid_rf  = {'n_estimators': [10, 50, 100, 250, 500, 1000],\n",
        "                     #'min_samples_leaf': [1, 3, 5],\n",
        "                     #'max_features': ['sqrt', 'log2']}\n",
        "\n",
        "#param_grid_svc = {'kernel': ['rbf'],'C': np.logspace(-4, 4, 9),'gamma': np.logspace(-4, 0, 4)},{'kernel': ['linear'],'C': np.logspace(-4, 4, 9)}\n",
        "                     \n",
        "\n",
        "#gridcvs = {}\n",
        "\n",
        "#for pgrid, clf, name in zip((param_grid_lr,\n",
        "                             #param_grid_rf, param_grid_svc),\n",
        "                            #(clf_lr, clf_rf, clf_svc),\n",
        "                            #('LogisticRegression', 'RF', 'SVM')):\n",
        "    #gcv = GridSearchCV(clf,\n",
        "                       #pgrid,\n",
        "                       #cv=3,\n",
        "                       #refit=True)\n",
        "    #gridcvs[name] = gcv\n",
        "\n",
        "#from sklearn.model_selection import StratifiedKFold\n",
        "\n",
        "#outer_cv = StratifiedKFold(n_splits=3, shuffle=True)\n",
        "#outer_scores = {}\n",
        "\n",
        "#for name, gs in gridcvs.items():\n",
        "    #nested_score = cross_val_score(gs, \n",
        "                                   #X_train, \n",
        "                                   #y_train, \n",
        "                                   #cv=outer_cv)\n",
        "    #outer_scores[name] = nested_score\n",
        "    #print(f'{name}: outer accuracy {100*nested_score.mean():.2f} +/- {100*nested_score.std():.2f}')"
      ],
      "execution_count": null,
      "outputs": []
    },
    {
      "cell_type": "code",
      "metadata": {
        "id": "vQ-CgACe8wdR"
      },
      "source": [
        "#from skater.core.explanations import Interpretation\n",
        "#from skater.model import InMemoryModel\n",
        "\n",
        "#interpreter = Interpretation(X_train, feature_names=X_train.columns)\n",
        "\n",
        "#def predict_xg(x):\n",
        "   # return pd.DataFrame(clf.predict(xgb.DMatrix(x)))\n",
        "\n",
        "#model = InMemoryModel(predict_xg, examples = X_train)\n",
        "\n",
        "\n",
        "#plt.figure(figsize=(20,12))\n",
        "                  \n",
        "#plots = interpreter.feature_importance.plot_feature_importance(model, ascending=True);\n",
        "\n",
        "#interpreter.partial_dependence.plot_partial_dependence(['P1_Elo'], model, grid_resolution=100,\n",
        "                                                      # with_variance=True, figsize = (6, 4));\n",
        "\n",
        "#import shap\n",
        "\n",
        "#explainer = shap.TreeExplainer(clf)\n",
        "#shap_values = explainer.shap_values(X_test)\n",
        "#print('Expected Value:', explainer.expected_value)\n",
        "\n",
        "#pd.DataFrame(shap_values).head()\n",
        "\n",
        "#shap.summary_plot(shap_values, X_test, plot_type=\"bar\")\n",
        "#shap.summary_plot(shap_values, X_test)"
      ],
      "execution_count": null,
      "outputs": []
    },
    {
      "cell_type": "code",
      "metadata": {
        "id": "HiIlItE18HiC"
      },
      "source": [
        ""
      ],
      "execution_count": null,
      "outputs": []
    },
    {
      "cell_type": "markdown",
      "metadata": {
        "id": "E_ikBzvC7asf"
      },
      "source": [
        "## WILL"
      ]
    },
    {
      "cell_type": "code",
      "metadata": {
        "id": "Ih5n2kk5GBM0"
      },
      "source": [
        ""
      ],
      "execution_count": null,
      "outputs": []
    },
    {
      "cell_type": "code",
      "metadata": {
        "id": "dPgA64tmW1fu"
      },
      "source": [
        ""
      ],
      "execution_count": null,
      "outputs": []
    }
  ]
}