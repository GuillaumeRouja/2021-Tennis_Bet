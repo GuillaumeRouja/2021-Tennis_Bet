{
  "nbformat": 4,
  "nbformat_minor": 0,
  "metadata": {
    "colab": {
      "name": "ATP_bet_ROI.ipynb",
      "provenance": [],
      "collapsed_sections": []
    },
    "kernelspec": {
      "display_name": "Python 3",
      "name": "python3"
    },
    "language_info": {
      "name": "python"
    }
  },
  "cells": [
    {
      "cell_type": "code",
      "metadata": {
        "id": "sy8GHJ5upiee"
      },
      "source": [
        "import pandas as pd\n",
        "import numpy as np\n",
        "import seaborn as sns\n",
        "import matplotlib.pyplot as plt\n",
        "%matplotlib inline\n",
        " \n",
        "from datetime import datetime,timedelta\n",
        "import datetime as dt\n",
        "from sklearn.metrics import classification_report\n",
        "\n",
        "import warnings\n",
        "warnings.filterwarnings(\"ignore\", category=FutureWarning)\n",
        "pd.options.mode.chained_assignment = None  # default='warn'"
      ],
      "execution_count": 1,
      "outputs": []
    },
    {
      "cell_type": "code",
      "metadata": {
        "id": "j7_yXywj-a-J"
      },
      "source": [
        "# DATA Collection\n",
        "\n",
        "urls = ['https://raw.githubusercontent.com/GuillaumeRouja/2021-Tennis_Bet/main/Data/2010.csv','https://raw.githubusercontent.com/GuillaumeRouja/2021-Tennis_Bet/main/Data/2011.csv',\n",
        "        'https://raw.githubusercontent.com/GuillaumeRouja/2021-Tennis_Bet/main/Data/2012.csv','https://raw.githubusercontent.com/GuillaumeRouja/2021-Tennis_Bet/main/Data/2013.csv',\n",
        "        'https://raw.githubusercontent.com/GuillaumeRouja/2021-Tennis_Bet/main/Data/2014.csv','https://raw.githubusercontent.com/GuillaumeRouja/2021-Tennis_Bet/main/Data/2015.csv',\n",
        "        'https://raw.githubusercontent.com/GuillaumeRouja/2021-Tennis_Bet/main/Data/2016.csv','https://raw.githubusercontent.com/GuillaumeRouja/2021-Tennis_Bet/main/Data/2017.csv',\n",
        "        'https://raw.githubusercontent.com/GuillaumeRouja/2021-Tennis_Bet/main/Data/2018.csv','https://raw.githubusercontent.com/GuillaumeRouja/2021-Tennis_Bet/main/Data/2019.csv',\n",
        "        'https://raw.githubusercontent.com/GuillaumeRouja/2021-Tennis_Bet/main/Data/2020.csv','https://raw.githubusercontent.com/GuillaumeRouja/2021-Tennis_Bet/main/Data/2021.csv']\n",
        "\n",
        "dfs = [pd.read_csv(url,sep=';') for url in urls]\n",
        "data = pd.concat(dfs, ignore_index=True)\n",
        "\n",
        "data.drop(['WPts','LPts','W1','L1','W2','L2','W3','L3','W4','L4','W5','L5','Wsets','Lsets','EXW','EXL','LBW','LBL','SJW','SJL','MaxW','MaxL','AvgW','AvgL'],axis=1,inplace=True)\n",
        "data.PSW= (data.PSW.replace(',','.', regex=True).astype(float))\n",
        "data.PSL= (data.PSL.replace(',','.', regex=True).astype(float))\n",
        "data.B365W= (data.B365W.replace(',','.', regex=True).astype(float))\n",
        "data.B365L= (data.B365L.replace(',','.', regex=True).astype(float)) \n",
        "\n",
        "data['Date'] = pd.to_datetime(data.Date,dayfirst=True)\n",
        "\n",
        "data.sort_values(['Date'], inplace=True)\n",
        "data=data.reset_index(drop=True)\n"
      ],
      "execution_count": 2,
      "outputs": []
    },
    {
      "cell_type": "markdown",
      "metadata": {
        "id": "4SgIj3G42VQq"
      },
      "source": [
        "## **Data Pre-processing**"
      ]
    },
    {
      "cell_type": "markdown",
      "metadata": {
        "id": "r-YuUra90YHU"
      },
      "source": [
        "#### Timeframe selection"
      ]
    },
    {
      "cell_type": "code",
      "metadata": {
        "id": "rYI0l2cccTOS"
      },
      "source": [
        "beg=datetime(2015,1,1) \n",
        "end=datetime(2021,12,31)\n",
        "\n",
        "indices=data[(data.Date>beg)&(data.Date<=end)].index\n",
        "data=data.iloc[indices,:]\n",
        "\n",
        "data.sort_values(['Date'], inplace=True)\n",
        "data=data.reset_index(drop=True)\n"
      ],
      "execution_count": 3,
      "outputs": []
    },
    {
      "cell_type": "markdown",
      "metadata": {
        "id": "0kxJXqAgWfPH"
      },
      "source": [
        "#### ELO Ranking Computing"
      ]
    },
    {
      "cell_type": "code",
      "metadata": {
        "colab": {
          "base_uri": "https://localhost:8080/"
        },
        "id": "JgMtrArRWW0a",
        "outputId": "5f004468-c476-4f72-d17e-815e70c53219"
      },
      "source": [
        "def compute_elo_rankings(data):\n",
        "    \"\"\"\n",
        "    Given the list of matches in chronological order, for each match, computes \n",
        "    the elo ranking of the 2 players at the beginning of the match\n",
        "    \n",
        "    \"\"\"\n",
        "    print(\"Elo rankings computing...\")\n",
        "    players=list(pd.Series(list(data.Winner)+list(data.Loser)).value_counts().index) # Gather all players from data\n",
        "    elo=pd.Series(np.ones(len(players))*1500,index=players) # Attribute Elo Ranking of 1500 to each player\n",
        "    ranking_elo=[(1500,1500)]\n",
        "    for i in range(1,len(data)):\n",
        "        w=data.iloc[i-1,:].Winner   # Select Winner and Loser of the previous game\n",
        "        l=data.iloc[i-1,:].Loser\n",
        "        elow=elo[w]  \n",
        "        elol=elo[l]\n",
        "        pwin=1 / (1 + 10 ** ((elol - elow) / 400))  # Win prob resulting from elo. Ex: elol = 1900, elow = 2000. Delta = 100 -> winner prob = 64%\n",
        "        K_win=32\n",
        "        K_los=32\n",
        "        new_elow=elow+K_win*(1-pwin) # The winner has his elo increased by K_win*(1-pwin). Ex: 1500 + 32*(1-0.64) = 1511.52. \n",
        "        new_elol=elol-K_los*(1-pwin) # A victory against a better ranked player grants more points.\n",
        "        elo[w]=new_elow\n",
        "        elo[l]=new_elol\n",
        "        ranking_elo.append((elo[data.iloc[i,:].Winner],elo[data.iloc[i,:].Loser])) \n",
        "        if i%3000==0:\n",
        "            print(str(i)+\" matches computed...\")\n",
        "    ranking_elo=pd.DataFrame(ranking_elo,columns=[\"elo_winner\",\"elo_loser\"]) \n",
        "    ranking_elo[\"p_elo_winner\"]=1 / (1 + 10 ** ((ranking_elo[\"elo_loser\"] - ranking_elo[\"elo_winner\"]) / 400))   \n",
        "    ranking_elo[\"p_elo_loser\"]=1 / (1 + 10 ** ((ranking_elo[\"elo_winner\"] - ranking_elo[\"elo_loser\"]) / 400))\n",
        "    return ranking_elo\n",
        "\n",
        "# Computing of the elo ranking of each player at the beginning of each match.\n",
        "elo_rankings = compute_elo_rankings(data)\n",
        "data = pd.concat([data,elo_rankings],1)\n"
      ],
      "execution_count": 4,
      "outputs": [
        {
          "output_type": "stream",
          "name": "stdout",
          "text": [
            "Elo rankings computing...\n",
            "3000 matches computed...\n",
            "6000 matches computed...\n",
            "9000 matches computed...\n",
            "12000 matches computed...\n",
            "15000 matches computed...\n"
          ]
        }
      ]
    },
    {
      "cell_type": "markdown",
      "metadata": {
        "id": "RNNwIJUi0mWH"
      },
      "source": [
        "#### Remove outliers and absurd values"
      ]
    },
    {
      "cell_type": "code",
      "metadata": {
        "id": "yKZ6rUSW078c"
      },
      "source": [
        "data = data[data.Comment == 'Completed']\n",
        "data.drop('Comment',axis=1,inplace=True)\n",
        "data = data[data.Round != 'Round Robin']\n",
        "data = data[(data.PSW >1)&(data.PSL>1)&(data.B365W>1)&(data.B365W>1)]\n",
        "data = data[(data.WRank != 0) & (data.LRank != 0)]\n",
        "data.dropna(axis=0,inplace=True)\n"
      ],
      "execution_count": 5,
      "outputs": []
    },
    {
      "cell_type": "markdown",
      "metadata": {
        "id": "-4ZesFNNl4Ei"
      },
      "source": [
        "#### Create cumulative stats \n",
        "\n"
      ]
    },
    {
      "cell_type": "code",
      "metadata": {
        "id": "xlk6iMhg9ORU"
      },
      "source": [
        "data.reset_index(inplace=True)\n",
        "\n",
        "df1 = data.copy()\n",
        "df1['w']=1\n",
        "df1['l']=0\n",
        "\n",
        "index=df1['index']\n",
        "winner=df1['Winner']\n",
        "loser=df1['Loser']\n",
        "surface=df1['Surface']\n",
        "w=df1['w']\n",
        "l=df1['l']\n",
        "date=df1['Date']\n",
        "\n",
        "player=pd.concat([winner,loser], axis = 0)\n",
        "status=pd.concat([w,l], axis = 0)\n",
        "index=pd.concat([index,index], axis = 0)\n",
        "surface=pd.concat([surface,surface], axis = 0)\n",
        "date=pd.concat([date,date], axis = 0)\n",
        "\n",
        "df3 = pd.concat([index,player, status,surface,date], axis = 1)\n",
        "df3.columns = ['index','Player','Winner','Surface','Date']\n",
        "\n",
        "df_players = pd.pivot_table(df3,index=['Player','index','Surface','Date'])\n",
        "df_players['Loser']=df_players['Winner'].apply(lambda x: 0 if x ==1 else 1)\n",
        "\n",
        "df_players.reset_index(inplace=True)\n",
        "df_players.set_index(['Date'], inplace=True)\n",
        "df_players.sort_values(['Date'], inplace=True)\n",
        "\n",
        "df_surface = df_players.copy()\n",
        "\n",
        "df_players['Wins_R']=df_players.groupby('Player')['Winner'].transform(lambda x: x.rolling('3000D').sum()).fillna(0)-df_players['Winner']  # NB days can be changed if needed\n",
        "df_players['Defeats_R']=df_players.groupby('Player')['Loser'].transform(lambda x: x.rolling('3000D').sum()).fillna(0)-df_players['Loser'] # NB days can be changed if needed\n",
        "df_players['Played_R']=df_players['Wins_R']+df_players['Defeats_R']\n",
        "df_players['WinRate_R']=df_players['Wins_R']/df_players['Played_R']\n",
        "df_players['WinRate_R'].fillna(0,inplace=True)\n",
        "\n",
        "df_surface['Wins_R']=df_surface.groupby(['Player','Surface'])['Winner'].transform(lambda x: x.rolling('3000D').sum()).fillna(0)-df_surface['Winner']  # NB days can be changed if needed\n",
        "df_surface['Defeats_R']=df_surface.groupby(['Player','Surface'])['Loser'].transform(lambda x: x.rolling('3000D').sum()).fillna(0)-df_surface['Loser'] # NB days can be changed if needed\n",
        "df_surface['Played_R']=df_surface['Wins_R']+df_surface['Defeats_R']\n",
        "df_surface['WinRate_R']=df_surface['Wins_R']/df_surface['Played_R']\n",
        "df_surface['WinRate_R'].fillna(0,inplace=True)\n",
        "\n",
        "df_players.sort_values(['index','Loser'], inplace=True)\n",
        "df_surface.sort_values(['index','Loser'], inplace=True)\n",
        "\n",
        "Players_merge = pd.DataFrame({'Winner':df_players['Player'].iloc[::2].values, 'Loser':df_players['Player'].iloc[1::2].values,\n",
        "                        'Winner_wins_R':df_players['Wins_R'].iloc[::2].values, 'Loser_wins_R':df_players['Wins_R'].iloc[1::2].values,\n",
        "                        'Winner_defeats_R':df_players['Defeats_R'].iloc[::2].values, 'Loser_defeats_R':df_players['Defeats_R'].iloc[1::2].values,\n",
        "                        'Winner_Played_R':df_players['Played_R'].iloc[::2].values, 'Loser_Played_R':df_players['Played_R'].iloc[1::2].values,\n",
        "                        'Winner_WinRate_R':df_players['WinRate_R'].iloc[::2].values, 'Loser_WinRate_R':df_players['WinRate_R'].iloc[1::2].values,\n",
        "                        'Winner_wins_S':df_surface['Wins_R'].iloc[::2].values, 'Loser_wins_S':df_surface['Wins_R'].iloc[1::2].values,\n",
        "                        'Winner_defeats_S':df_surface['Defeats_R'].iloc[::2].values, 'Loser_defeats_S':df_surface['Defeats_R'].iloc[1::2].values,\n",
        "                        'Winner_Played_S':df_surface['Played_R'].iloc[::2].values, 'Loser_Played_S':df_surface['Played_R'].iloc[1::2].values,\n",
        "                        'Winner_WinRate_S':df_surface['WinRate_R'].iloc[::2].values, 'Loser_WinRate_S':df_surface['WinRate_R'].iloc[1::2].values,\n",
        "                        'index':df_players['index'].iloc[1::2].values})\n",
        "\n",
        "Players_merge.rename(columns={'index': 'index_t', 'Winner': 'Winner_t', 'Loser': 'Loser_t'},inplace=True)\n",
        "data=pd.concat([data,Players_merge], axis = 1)\n",
        "data.drop(['index_t','Winner_t','Loser_t'],axis=1,inplace=True)"
      ],
      "execution_count": 6,
      "outputs": []
    },
    {
      "cell_type": "markdown",
      "metadata": {
        "id": "2Bj4JTciX8rM"
      },
      "source": [
        "#### Remove Winners / Losers -> Replace with P1 and P2 taken randomly "
      ]
    },
    {
      "cell_type": "code",
      "metadata": {
        "id": "gxoYxwOgYpaB"
      },
      "source": [
        "\n",
        "v = data[['Winner', 'Loser']].values\n",
        "ix = np.random.randint(0,v.shape[1],data.shape[0])\n",
        "data['P1'] = np.take_along_axis(v, ix[:,None], 1)\n",
        "\n",
        "data['P2'] = np.where(data.P1 == data.Winner,data.Loser, data.Winner)\n",
        "\n",
        "data['P1_Rank']=np.where(data.P1 == data.Winner,data.WRank,data.LRank)\n",
        "data['P2_Rank']=np.where(data.P2 == data.Winner,data.WRank,data.LRank)\n",
        "\n",
        "data['P1_Elo']=np.where(data.P1 == data.Winner,data.elo_winner,data.elo_loser)\n",
        "data['P2_Elo']=np.where(data.P2 == data.Winner,data.elo_winner,data.elo_loser)\n",
        "\n",
        "data['P1_p_Elo']=np.where(data.P1 == data.Winner,data.p_elo_winner,data.p_elo_loser)\n",
        "data['P2_p_Elo']=np.where(data.P2 == data.Winner,data.p_elo_winner,data.p_elo_loser)\n",
        "\n",
        "data['P1_Odds_Pin']=np.where(data.P1 == data.Winner,data.PSW,data.PSL)\n",
        "data['P2_Odds_Pin']=np.where(data.P2 == data.Winner,data.PSW,data.PSL)\n",
        "\n",
        "data['P1_Odds_B365']=np.where(data.P1 == data.Winner,data.B365W,data.B365L)\n",
        "data['P2_Odds_B365']=np.where(data.P2 == data.Winner,data.B365W,data.B365L)\n",
        "\n",
        "data['P1_Wins']=np.where(data.P1 == data.Winner,data.Winner_wins_R,data.Loser_wins_R)\n",
        "data['P2_Wins']=np.where(data.P2 == data.Winner,data.Winner_wins_R,data.Loser_wins_R)\n",
        "\n",
        "data['P1_Defeats']=np.where(data.P1 == data.Winner,data.Winner_defeats_R,data.Loser_defeats_R)\n",
        "data['P2_Defeats']=np.where(data.P2 == data.Winner,data.Winner_defeats_R,data.Loser_defeats_R)\n",
        "\n",
        "data['P1_Played']=np.where(data.P1 == data.Winner,data.Winner_Played_R,data.Loser_Played_R)\n",
        "data['P2_Played']=np.where(data.P2 == data.Winner,data.Winner_Played_R,data.Loser_Played_R)\n",
        "\n",
        "data['P1_WinRate']=np.where(data.P1 == data.Winner,data.Winner_WinRate_R,data.Loser_WinRate_R)\n",
        "data['P2_WinRate']=np.where(data.P2 == data.Winner,data.Winner_WinRate_R,data.Loser_WinRate_R)\n",
        "\n",
        "data['P1_Surface_Wins']=np.where(data.P1 == data.Winner,data.Winner_wins_S,data.Loser_wins_S)\n",
        "data['P2_Surface_Wins']=np.where(data.P2 == data.Winner,data.Winner_wins_S,data.Loser_wins_S)\n",
        "\n",
        "data['P1_Surface_Defeats']=np.where(data.P1 == data.Winner,data.Winner_defeats_S,data.Loser_defeats_S)\n",
        "data['P2_Surface_Defeats']=np.where(data.P2 == data.Winner,data.Winner_defeats_S,data.Loser_defeats_S)\n",
        "\n",
        "data['P1_Surface_Played']=np.where(data.P1 == data.Winner,data.Winner_Played_S,data.Loser_Played_S)\n",
        "data['P2_Surface_Played']=np.where(data.P2 == data.Winner,data.Winner_Played_S,data.Loser_Played_S)\n",
        "\n",
        "data['P1_Surface_WinRate']=np.where(data.P1 == data.Winner,data.Winner_WinRate_S,data.Loser_WinRate_S)\n",
        "data['P2_Surface_WinRate']=np.where(data.P2 == data.Winner,data.Winner_WinRate_S,data.Loser_WinRate_S)\n"
      ],
      "execution_count": 7,
      "outputs": []
    },
    {
      "cell_type": "markdown",
      "metadata": {
        "id": "yDbTBzpwjasD"
      },
      "source": [
        "#### Target variable preparation"
      ]
    },
    {
      "cell_type": "code",
      "metadata": {
        "id": "cCZYLWA0T7Ca"
      },
      "source": [
        "data['Won']=np.where(data.P1 == data.Winner,1,2)\n",
        " \n",
        "data.drop(['WRank','LRank','PSL','PSW','B365W','B365L','elo_winner','elo_loser','p_elo_winner','p_elo_loser','Loser','Winner',\n",
        "           'Winner_wins_R','Loser_wins_R','Winner_defeats_R','Loser_defeats_R','Winner_Played_R','Loser_Played_R','Winner_WinRate_R','Loser_WinRate_R',\n",
        "           'Winner_wins_S','Loser_wins_S','Winner_defeats_S','Loser_defeats_S','Winner_Played_S','Loser_Played_S','Winner_WinRate_S','Loser_WinRate_S'],axis=1,inplace=True)"
      ],
      "execution_count": 8,
      "outputs": []
    },
    {
      "cell_type": "code",
      "metadata": {
        "id": "PUOUjDL2wm-a"
      },
      "source": [
        "cols = list(data.columns.values) # Make a list of all of the columns in the df\n",
        "cols.pop(cols.index('Won')) # Remove 'Winner' from list\n",
        "data = data[cols+['Won']] # change dataframe with Winner at the end\n",
        "\n",
        "pd.set_option('max_colwidth', 13)"
      ],
      "execution_count": 9,
      "outputs": []
    },
    {
      "cell_type": "code",
      "metadata": {
        "id": "UIIcs9TjI3WI"
      },
      "source": [
        "data['Year']=data.Date.dt.year\n",
        "data['Month']=data.Date.dt.month"
      ],
      "execution_count": 10,
      "outputs": []
    },
    {
      "cell_type": "markdown",
      "metadata": {
        "id": "QqVhCXPvhk0m"
      },
      "source": [
        "**SCENARIO 1 : BET ON HIGHEST ODDS ONLY**"
      ]
    },
    {
      "cell_type": "code",
      "metadata": {
        "id": "9UDuzFpQjd_h"
      },
      "source": [
        "# Features selection\n",
        "\n",
        "data1=data[['Year','Month','P1_Odds_Pin','P2_Odds_Pin','Won']]\n",
        "\n",
        "# We bet on higher odds\n",
        "\n",
        "data1['Bets_P1']=np.where(data1['P1_Odds_Pin'] >data1 ['P2_Odds_Pin'],1,0)\n",
        "data1['Bets_P2']=np.where(data1['P2_Odds_Pin'] >data1 ['P1_Odds_Pin'],2,0)\n",
        "\n",
        "# Counter of bets and bets won\n",
        "\n",
        "data1['Bets']=np.where((data1['Bets_P1'] == 1)|(data1['Bets_P2'] == 2),1,0)\n",
        "data1['Wins']=np.where((data1['Bets_P1'] == data1['Won'])|(data1['Bets_P2']== data1['Won']),1,0)\n",
        "                           \n",
        "# Profit\n",
        "\n",
        "data1['P1_$']=np.where((data1['Bets_P1'] == data1['Won']),data1['P1_Odds_Pin'],0)\n",
        "data1['P2_$']=np.where((data1['Bets_P2'] == data1['Won']),data1['P2_Odds_Pin'],0)  \n",
        "data1['Net_Profit']=data1['P1_$']+data1['P2_$']-data1['Bets']"
      ],
      "execution_count": 11,
      "outputs": []
    },
    {
      "cell_type": "code",
      "metadata": {
        "colab": {
          "base_uri": "https://localhost:8080/",
          "height": 204
        },
        "id": "lC0-7q1ApTto",
        "outputId": "11a0dc7a-3d31-4bc4-d11e-2cd4d5712aea"
      },
      "source": [
        "data1.head()"
      ],
      "execution_count": 12,
      "outputs": [
        {
          "output_type": "execute_result",
          "data": {
            "text/html": [
              "<div>\n",
              "<style scoped>\n",
              "    .dataframe tbody tr th:only-of-type {\n",
              "        vertical-align: middle;\n",
              "    }\n",
              "\n",
              "    .dataframe tbody tr th {\n",
              "        vertical-align: top;\n",
              "    }\n",
              "\n",
              "    .dataframe thead th {\n",
              "        text-align: right;\n",
              "    }\n",
              "</style>\n",
              "<table border=\"1\" class=\"dataframe\">\n",
              "  <thead>\n",
              "    <tr style=\"text-align: right;\">\n",
              "      <th></th>\n",
              "      <th>Year</th>\n",
              "      <th>Month</th>\n",
              "      <th>P1_Odds_Pin</th>\n",
              "      <th>P2_Odds_Pin</th>\n",
              "      <th>Won</th>\n",
              "      <th>Bets_P1</th>\n",
              "      <th>Bets_P2</th>\n",
              "      <th>Bets</th>\n",
              "      <th>Wins</th>\n",
              "      <th>P1_$</th>\n",
              "      <th>P2_$</th>\n",
              "      <th>Net_Profit</th>\n",
              "    </tr>\n",
              "  </thead>\n",
              "  <tbody>\n",
              "    <tr>\n",
              "      <th>0</th>\n",
              "      <td>2015</td>\n",
              "      <td>1</td>\n",
              "      <td>1.81</td>\n",
              "      <td>2.10</td>\n",
              "      <td>1</td>\n",
              "      <td>0</td>\n",
              "      <td>2</td>\n",
              "      <td>1</td>\n",
              "      <td>0</td>\n",
              "      <td>0.0</td>\n",
              "      <td>0.00</td>\n",
              "      <td>-1.00</td>\n",
              "    </tr>\n",
              "    <tr>\n",
              "      <th>1</th>\n",
              "      <td>2015</td>\n",
              "      <td>1</td>\n",
              "      <td>1.34</td>\n",
              "      <td>3.50</td>\n",
              "      <td>1</td>\n",
              "      <td>0</td>\n",
              "      <td>2</td>\n",
              "      <td>1</td>\n",
              "      <td>0</td>\n",
              "      <td>0.0</td>\n",
              "      <td>0.00</td>\n",
              "      <td>-1.00</td>\n",
              "    </tr>\n",
              "    <tr>\n",
              "      <th>2</th>\n",
              "      <td>2015</td>\n",
              "      <td>1</td>\n",
              "      <td>1.53</td>\n",
              "      <td>2.67</td>\n",
              "      <td>2</td>\n",
              "      <td>0</td>\n",
              "      <td>2</td>\n",
              "      <td>1</td>\n",
              "      <td>1</td>\n",
              "      <td>0.0</td>\n",
              "      <td>2.67</td>\n",
              "      <td>1.67</td>\n",
              "    </tr>\n",
              "    <tr>\n",
              "      <th>3</th>\n",
              "      <td>2015</td>\n",
              "      <td>1</td>\n",
              "      <td>1.23</td>\n",
              "      <td>4.67</td>\n",
              "      <td>2</td>\n",
              "      <td>0</td>\n",
              "      <td>2</td>\n",
              "      <td>1</td>\n",
              "      <td>1</td>\n",
              "      <td>0.0</td>\n",
              "      <td>4.67</td>\n",
              "      <td>3.67</td>\n",
              "    </tr>\n",
              "    <tr>\n",
              "      <th>4</th>\n",
              "      <td>2015</td>\n",
              "      <td>1</td>\n",
              "      <td>1.57</td>\n",
              "      <td>2.55</td>\n",
              "      <td>1</td>\n",
              "      <td>0</td>\n",
              "      <td>2</td>\n",
              "      <td>1</td>\n",
              "      <td>0</td>\n",
              "      <td>0.0</td>\n",
              "      <td>0.00</td>\n",
              "      <td>-1.00</td>\n",
              "    </tr>\n",
              "  </tbody>\n",
              "</table>\n",
              "</div>"
            ],
            "text/plain": [
              "   Year  Month  P1_Odds_Pin  P2_Odds_Pin  ...  Wins  P1_$  P2_$  Net_Profit\n",
              "0  2015      1         1.81         2.10  ...     0   0.0  0.00       -1.00\n",
              "1  2015      1         1.34         3.50  ...     0   0.0  0.00       -1.00\n",
              "2  2015      1         1.53         2.67  ...     1   0.0  2.67        1.67\n",
              "3  2015      1         1.23         4.67  ...     1   0.0  4.67        3.67\n",
              "4  2015      1         1.57         2.55  ...     0   0.0  0.00       -1.00\n",
              "\n",
              "[5 rows x 12 columns]"
            ]
          },
          "metadata": {},
          "execution_count": 12
        }
      ]
    },
    {
      "cell_type": "code",
      "metadata": {
        "colab": {
          "base_uri": "https://localhost:8080/",
          "height": 349
        },
        "id": "0InCXHJ8lIyC",
        "outputId": "fb4fdef5-b53b-459a-aba5-9c822403a4b9"
      },
      "source": [
        "# Let's now plot the ROI\n",
        "\n",
        "Pyear1= data1.groupby(by='Year').Net_Profit.sum()\n",
        "print('Overall Profit:',\"%.2f\" % Pyear1.sum(),'\\n')\n",
        "print('ROI:',\"{0:.1%}\".format(Pyear1.sum()/data1['Bets'].sum()),'\\n')\n",
        "\n",
        "plt.bar(Pyear1.index, Pyear1.values)\n",
        "\n",
        "plt.ylabel('Profit')\n",
        "plt.xticks([2015,2016,2017,2018,2019,2020,2021], ['2015','2016','2017','2018','2019','2020','2021'])\n",
        "\n",
        "plt.title('Profit by year in value (bet=1)');"
      ],
      "execution_count": 13,
      "outputs": [
        {
          "output_type": "stream",
          "name": "stdout",
          "text": [
            "Overall Profit: -893.65 \n",
            "\n",
            "ROI: -5.7% \n",
            "\n"
          ]
        },
        {
          "output_type": "display_data",
          "data": {
            "image/png": "[encoded data removed]",
            "text/plain": [
              "<Figure size 432x288 with 1 Axes>"
            ]
          },
          "metadata": {
            "needs_background": "light"
          }
        }
      ]
    },
    {
      "cell_type": "markdown",
      "metadata": {
        "id": "PIhLahCrsTtd"
      },
      "source": [
        "**SCENARIO 2 : BET ON ALL GAMES BASED ON OUR BEST PREDICTIONS**"
      ]
    },
    {
      "cell_type": "code",
      "metadata": {
        "id": "mUEp9mebsHaR"
      },
      "source": [
        "# Features selection\n",
        "\n",
        "data2=data[['Year','Month','P1_Surface_WinRate','P2_Surface_WinRate','P1_p_Elo','P2_p_Elo','P1_Rank','P2_Rank','P1_Odds_Pin','P2_Odds_Pin','Won']]\n"
      ],
      "execution_count": 14,
      "outputs": []
    },
    {
      "cell_type": "code",
      "metadata": {
        "id": "SgCJMsYtWm7P"
      },
      "source": [
        "# Data split, normalization, preparation of predictions dataframe\n",
        "\n",
        "from sklearn.model_selection import train_test_split\n",
        "from sklearn.preprocessing import QuantileTransformer\n",
        "\n",
        "DATA = data2.drop('Won',axis=1)\n",
        "TARGET = data2['Won']\n",
        "\n",
        "X_train,X_test,y_train,y_test=train_test_split(DATA,TARGET,test_size=0.2,random_state=10)\n",
        "\n",
        "df1 = X_test.copy()  \n",
        "df1 =pd.concat([df1,y_test], axis = 1) # Preparation of the dataframe that combines : data + odds + predictions + results\n",
        "\n",
        "df1.drop(['P1_Surface_WinRate','P2_Surface_WinRate','P1_p_Elo','P2_p_Elo','P1_Rank','P2_Rank'],axis=1,inplace=True) # we do not need the features in our prediction dataframe\n",
        "\n",
        "X_train.drop(['P1_Odds_Pin','P2_Odds_Pin','Year','Month'],axis=1,inplace=True) # We don't want to use bookmaker odds to train our model\n",
        "X_test.drop(['P1_Odds_Pin','P2_Odds_Pin','Year','Month'],axis=1,inplace=True)\n",
        "\n",
        "from sklearn.preprocessing import QuantileTransformer\n",
        "\n",
        "qt = QuantileTransformer(random_state=0)\n",
        "scaler=qt.fit(X_train)\n",
        "X_train_scaled = scaler.transform(X_train)\n",
        "X_test = scaler.transform(X_test)\n"
      ],
      "execution_count": 15,
      "outputs": []
    },
    {
      "cell_type": "markdown",
      "metadata": {
        "id": "jQTK8fQJf-QO"
      },
      "source": [
        "As explained in the previous notebook, we chose the Logistic Regression as the preferred method: combination of high accuracy and fast execution"
      ]
    },
    {
      "cell_type": "code",
      "metadata": {
        "colab": {
          "base_uri": "https://localhost:8080/"
        },
        "id": "xpXq8lIlY92H",
        "outputId": "0e7f1b79-0b92-420c-c0d9-e00870ad55ef"
      },
      "source": [
        "from sklearn import linear_model\n",
        "\n",
        "# Model training\n",
        "\n",
        "clf=linear_model.LogisticRegression(random_state=10)\n",
        "clf.fit(X_train_scaled,y_train)\n",
        "\n",
        "# Model assessment\n",
        "\n",
        "y_pred = clf.predict(X_test)\n",
        "\n",
        "# Confusion Matrix \n",
        "\n",
        "cm = pd.crosstab(y_test, y_pred, rownames=['Classe réelle'], colnames=['Classe prédite'])\n",
        "print(cm)\n",
        "\n",
        "# Score\n",
        "\n",
        "print('\\n''Score:',\"%.2f\" % clf.score(X_test, y_test))\n",
        "\n",
        "#Classification report\n",
        "\n",
        "print('\\n',classification_report(y_test, y_pred))\n"
      ],
      "execution_count": 16,
      "outputs": [
        {
          "output_type": "stream",
          "name": "stdout",
          "text": [
            "Classe prédite     1     2\n",
            "Classe réelle             \n",
            "1               1034   578\n",
            "2                531  1020\n",
            "\n",
            "Score: 0.65\n",
            "\n",
            "               precision    recall  f1-score   support\n",
            "\n",
            "           1       0.66      0.64      0.65      1612\n",
            "           2       0.64      0.66      0.65      1551\n",
            "\n",
            "    accuracy                           0.65      3163\n",
            "   macro avg       0.65      0.65      0.65      3163\n",
            "weighted avg       0.65      0.65      0.65      3163\n",
            "\n"
          ]
        }
      ]
    },
    {
      "cell_type": "code",
      "metadata": {
        "colab": {
          "base_uri": "https://localhost:8080/",
          "height": 204
        },
        "id": "orB6bo5sVKL5",
        "outputId": "9ced6dae-8b3b-4c95-acd6-08f626ac7620"
      },
      "source": [
        "# Gathering elements for predictions template\n",
        "\n",
        "preds=pd.DataFrame(clf.predict_proba(X_test))\n",
        "\n",
        "preds.reset_index(inplace=True)\n",
        "df1.reset_index(inplace=True)\n",
        "preds.drop('index',axis=1,inplace=True)\n",
        "df1.drop('index',axis=1,inplace=True)\n",
        "\n",
        "df1=pd.concat([df1,preds], axis = 1)\n",
        "df1.rename(columns={0: \"P1_prob\", 1: \"P2_prob\"},inplace=True)\n",
        "\n",
        "df1.head()"
      ],
      "execution_count": 17,
      "outputs": [
        {
          "output_type": "execute_result",
          "data": {
            "text/html": [
              "<div>\n",
              "<style scoped>\n",
              "    .dataframe tbody tr th:only-of-type {\n",
              "        vertical-align: middle;\n",
              "    }\n",
              "\n",
              "    .dataframe tbody tr th {\n",
              "        vertical-align: top;\n",
              "    }\n",
              "\n",
              "    .dataframe thead th {\n",
              "        text-align: right;\n",
              "    }\n",
              "</style>\n",
              "<table border=\"1\" class=\"dataframe\">\n",
              "  <thead>\n",
              "    <tr style=\"text-align: right;\">\n",
              "      <th></th>\n",
              "      <th>Year</th>\n",
              "      <th>Month</th>\n",
              "      <th>P1_Odds_Pin</th>\n",
              "      <th>P2_Odds_Pin</th>\n",
              "      <th>Won</th>\n",
              "      <th>P1_prob</th>\n",
              "      <th>P2_prob</th>\n",
              "    </tr>\n",
              "  </thead>\n",
              "  <tbody>\n",
              "    <tr>\n",
              "      <th>0</th>\n",
              "      <td>2015</td>\n",
              "      <td>5</td>\n",
              "      <td>4.81</td>\n",
              "      <td>1.23</td>\n",
              "      <td>2</td>\n",
              "      <td>0.315539</td>\n",
              "      <td>0.684461</td>\n",
              "    </tr>\n",
              "    <tr>\n",
              "      <th>1</th>\n",
              "      <td>2018</td>\n",
              "      <td>6</td>\n",
              "      <td>1.42</td>\n",
              "      <td>3.11</td>\n",
              "      <td>1</td>\n",
              "      <td>0.750773</td>\n",
              "      <td>0.249227</td>\n",
              "    </tr>\n",
              "    <tr>\n",
              "      <th>2</th>\n",
              "      <td>2016</td>\n",
              "      <td>5</td>\n",
              "      <td>1.37</td>\n",
              "      <td>3.30</td>\n",
              "      <td>2</td>\n",
              "      <td>0.681644</td>\n",
              "      <td>0.318356</td>\n",
              "    </tr>\n",
              "    <tr>\n",
              "      <th>3</th>\n",
              "      <td>2016</td>\n",
              "      <td>8</td>\n",
              "      <td>2.07</td>\n",
              "      <td>1.86</td>\n",
              "      <td>2</td>\n",
              "      <td>0.525535</td>\n",
              "      <td>0.474465</td>\n",
              "    </tr>\n",
              "    <tr>\n",
              "      <th>4</th>\n",
              "      <td>2016</td>\n",
              "      <td>6</td>\n",
              "      <td>2.72</td>\n",
              "      <td>1.53</td>\n",
              "      <td>2</td>\n",
              "      <td>0.241254</td>\n",
              "      <td>0.758746</td>\n",
              "    </tr>\n",
              "  </tbody>\n",
              "</table>\n",
              "</div>"
            ],
            "text/plain": [
              "   Year  Month  P1_Odds_Pin  P2_Odds_Pin  Won   P1_prob   P2_prob\n",
              "0  2015      5         4.81         1.23    2  0.315539  0.684461\n",
              "1  2018      6         1.42         3.11    1  0.750773  0.249227\n",
              "2  2016      5         1.37         3.30    2  0.681644  0.318356\n",
              "3  2016      8         2.07         1.86    2  0.525535  0.474465\n",
              "4  2016      6         2.72         1.53    2  0.241254  0.758746"
            ]
          },
          "metadata": {},
          "execution_count": 17
        }
      ]
    },
    {
      "cell_type": "code",
      "metadata": {
        "id": "eFnQdlBfVaXO"
      },
      "source": [
        "# We bet on the higher probability win according to our prediction\n",
        "\n",
        "df1['Bets_P1']=np.where(df1['P1_prob'] >df1 ['P2_prob'],1,0)\n",
        "df1['Bets_P2']=np.where(df1['P2_prob'] >df1 ['P1_prob'],2,0)\n",
        "\n",
        "# Counter of bets and bets won\n",
        "\n",
        "df1['Bets']=np.where((df1['Bets_P1'] == 1)|(df1['Bets_P2'] == 2),1,0)\n",
        "df1['Wins']=np.where((df1['Bets_P1'] == df1['Won'])|(df1['Bets_P2']== df1['Won']),1,0)\n",
        "                           \n",
        "# Profit\n",
        "\n",
        "df1['P1_$']=np.where((df1['Bets_P1'] == df1['Won']),df1['P1_Odds_Pin'],0)\n",
        "df1['P2_$']=np.where((df1['Bets_P2'] == df1['Won']),df1['P2_Odds_Pin'],0)  \n",
        "df1['Net_Profit']=df1['P1_$']+df1['P2_$']-df1['Bets']"
      ],
      "execution_count": 18,
      "outputs": []
    },
    {
      "cell_type": "code",
      "metadata": {
        "colab": {
          "base_uri": "https://localhost:8080/",
          "height": 204
        },
        "id": "9ijHqtcrZVf0",
        "outputId": "6dd0004b-3111-447f-f691-29be601270a6"
      },
      "source": [
        "df1.head()"
      ],
      "execution_count": 19,
      "outputs": [
        {
          "output_type": "execute_result",
          "data": {
            "text/html": [
              "<div>\n",
              "<style scoped>\n",
              "    .dataframe tbody tr th:only-of-type {\n",
              "        vertical-align: middle;\n",
              "    }\n",
              "\n",
              "    .dataframe tbody tr th {\n",
              "        vertical-align: top;\n",
              "    }\n",
              "\n",
              "    .dataframe thead th {\n",
              "        text-align: right;\n",
              "    }\n",
              "</style>\n",
              "<table border=\"1\" class=\"dataframe\">\n",
              "  <thead>\n",
              "    <tr style=\"text-align: right;\">\n",
              "      <th></th>\n",
              "      <th>Year</th>\n",
              "      <th>Month</th>\n",
              "      <th>P1_Odds_Pin</th>\n",
              "      <th>P2_Odds_Pin</th>\n",
              "      <th>Won</th>\n",
              "      <th>P1_prob</th>\n",
              "      <th>P2_prob</th>\n",
              "      <th>Bets_P1</th>\n",
              "      <th>Bets_P2</th>\n",
              "      <th>Bets</th>\n",
              "      <th>Wins</th>\n",
              "      <th>P1_$</th>\n",
              "      <th>P2_$</th>\n",
              "      <th>Net_Profit</th>\n",
              "    </tr>\n",
              "  </thead>\n",
              "  <tbody>\n",
              "    <tr>\n",
              "      <th>0</th>\n",
              "      <td>2015</td>\n",
              "      <td>5</td>\n",
              "      <td>4.81</td>\n",
              "      <td>1.23</td>\n",
              "      <td>2</td>\n",
              "      <td>0.315539</td>\n",
              "      <td>0.684461</td>\n",
              "      <td>0</td>\n",
              "      <td>2</td>\n",
              "      <td>1</td>\n",
              "      <td>1</td>\n",
              "      <td>0.00</td>\n",
              "      <td>1.23</td>\n",
              "      <td>0.23</td>\n",
              "    </tr>\n",
              "    <tr>\n",
              "      <th>1</th>\n",
              "      <td>2018</td>\n",
              "      <td>6</td>\n",
              "      <td>1.42</td>\n",
              "      <td>3.11</td>\n",
              "      <td>1</td>\n",
              "      <td>0.750773</td>\n",
              "      <td>0.249227</td>\n",
              "      <td>1</td>\n",
              "      <td>0</td>\n",
              "      <td>1</td>\n",
              "      <td>1</td>\n",
              "      <td>1.42</td>\n",
              "      <td>0.00</td>\n",
              "      <td>0.42</td>\n",
              "    </tr>\n",
              "    <tr>\n",
              "      <th>2</th>\n",
              "      <td>2016</td>\n",
              "      <td>5</td>\n",
              "      <td>1.37</td>\n",
              "      <td>3.30</td>\n",
              "      <td>2</td>\n",
              "      <td>0.681644</td>\n",
              "      <td>0.318356</td>\n",
              "      <td>1</td>\n",
              "      <td>0</td>\n",
              "      <td>1</td>\n",
              "      <td>0</td>\n",
              "      <td>0.00</td>\n",
              "      <td>0.00</td>\n",
              "      <td>-1.00</td>\n",
              "    </tr>\n",
              "    <tr>\n",
              "      <th>3</th>\n",
              "      <td>2016</td>\n",
              "      <td>8</td>\n",
              "      <td>2.07</td>\n",
              "      <td>1.86</td>\n",
              "      <td>2</td>\n",
              "      <td>0.525535</td>\n",
              "      <td>0.474465</td>\n",
              "      <td>1</td>\n",
              "      <td>0</td>\n",
              "      <td>1</td>\n",
              "      <td>0</td>\n",
              "      <td>0.00</td>\n",
              "      <td>0.00</td>\n",
              "      <td>-1.00</td>\n",
              "    </tr>\n",
              "    <tr>\n",
              "      <th>4</th>\n",
              "      <td>2016</td>\n",
              "      <td>6</td>\n",
              "      <td>2.72</td>\n",
              "      <td>1.53</td>\n",
              "      <td>2</td>\n",
              "      <td>0.241254</td>\n",
              "      <td>0.758746</td>\n",
              "      <td>0</td>\n",
              "      <td>2</td>\n",
              "      <td>1</td>\n",
              "      <td>1</td>\n",
              "      <td>0.00</td>\n",
              "      <td>1.53</td>\n",
              "      <td>0.53</td>\n",
              "    </tr>\n",
              "  </tbody>\n",
              "</table>\n",
              "</div>"
            ],
            "text/plain": [
              "   Year  Month  P1_Odds_Pin  P2_Odds_Pin  ...  Wins  P1_$  P2_$  Net_Profit\n",
              "0  2015      5         4.81         1.23  ...     1  0.00  1.23        0.23\n",
              "1  2018      6         1.42         3.11  ...     1  1.42  0.00        0.42\n",
              "2  2016      5         1.37         3.30  ...     0  0.00  0.00       -1.00\n",
              "3  2016      8         2.07         1.86  ...     0  0.00  0.00       -1.00\n",
              "4  2016      6         2.72         1.53  ...     1  0.00  1.53        0.53\n",
              "\n",
              "[5 rows x 14 columns]"
            ]
          },
          "metadata": {},
          "execution_count": 19
        }
      ]
    },
    {
      "cell_type": "code",
      "metadata": {
        "colab": {
          "base_uri": "https://localhost:8080/",
          "height": 349
        },
        "id": "KJxze-YSZVlk",
        "outputId": "2cd7974f-df84-491d-ba5b-b17e95da686c"
      },
      "source": [
        "# Let's now plot the ROI\n",
        "\n",
        "Pyear2= df1.groupby(by='Year').Net_Profit.sum()\n",
        "print('Overall Profit:',\"%.2f\" % Pyear2.sum(),'\\n')\n",
        "print('ROI:',\"{0:.1%}\".format(Pyear2.sum()/df1['Bets'].sum()),'\\n')\n",
        "\n",
        "plt.bar(Pyear2.index, Pyear2.values)\n",
        "\n",
        "plt.ylabel('Profit')\n",
        "plt.xticks([2015,2016,2017,2018,2019,2020,2021], ['2015','2016','2017','2018','2019','2020','2021'])\n",
        "\n",
        "plt.title('Profit by year in value (bet=1)');"
      ],
      "execution_count": 20,
      "outputs": [
        {
          "output_type": "stream",
          "name": "stdout",
          "text": [
            "Overall Profit: -106.87 \n",
            "\n",
            "ROI: -3.4% \n",
            "\n"
          ]
        },
        {
          "output_type": "display_data",
          "data": {
            "image/png": "[encoded data removed]",
            "text/plain": [
              "<Figure size 432x288 with 1 Axes>"
            ]
          },
          "metadata": {
            "needs_background": "light"
          }
        }
      ]
    },
    {
      "cell_type": "markdown",
      "metadata": {
        "id": "PXp42ZCgbNpw"
      },
      "source": [
        "ROI is better than in Scenario 1 but remains negative"
      ]
    },
    {
      "cell_type": "markdown",
      "metadata": {
        "id": "eP7DitVAyi0M"
      },
      "source": [
        "**SCENARIO 3 : BUILD A DECISION THRESHOLD BASED ON THE COMPARISON BETWEEN OUR PREDICTIONS AND THE BOOKMAKER ONES**"
      ]
    },
    {
      "cell_type": "markdown",
      "metadata": {
        "id": "vWDN8j87zMPe"
      },
      "source": [
        "The main drive when building a model is to make it as efficient and close to the truth as possible without overfitting too much. What if we were not looking for the best model but just an 'ok' one and instead focus on the 'kind' of variables we want to feed it with?"
      ]
    },
    {
      "cell_type": "markdown",
      "metadata": {
        "id": "o0PlmLINzxHF"
      },
      "source": [
        "Predicting the victory of a player over the other is done by using a combination of variables, some of which could be thought as 'static' (like the rank of the player) when others are more dynamic (recent wins, injuries, etc)."
      ]
    },
    {
      "cell_type": "markdown",
      "metadata": {
        "id": "1BPYu8IO0Vnb"
      },
      "source": [
        "Most of the time, those features converge but in other circumstances they may diverge -> We will try to build on that idea in order to build an efficient ROI forecast.\n"
      ]
    },
    {
      "cell_type": "markdown",
      "metadata": {
        "id": "RBTwi4Wp1tEy"
      },
      "source": [
        "So the first thing we want to do is to build a very simple model that will only focus on 'Static features' and we will use the ATP rank to do so. NB: There is a possibility that a slightly different or more complex one works as well but we won't focus on that research specifically in this notebook."
      ]
    },
    {
      "cell_type": "code",
      "metadata": {
        "id": "RGnF4PQ3yH8d"
      },
      "source": [
        "# Features selection\n",
        "\n",
        "data3=data[['Year','Month','P1_Rank','P2_Rank','P1_Odds_Pin','P2_Odds_Pin','P1_Odds_B365','P2_Odds_B365','Won']]\n"
      ],
      "execution_count": 21,
      "outputs": []
    },
    {
      "cell_type": "code",
      "metadata": {
        "id": "YVCb4GQz2w2G"
      },
      "source": [
        "# Data split, normalization, preparation of predictions dataframe\n",
        "\n",
        "from sklearn.model_selection import train_test_split\n",
        "from sklearn.preprocessing import QuantileTransformer\n",
        "\n",
        "DATA = data3.drop('Won',axis=1)\n",
        "TARGET = data3['Won']\n",
        "\n",
        "# This time we separate the train and test set by chronological order.\n",
        "# We will only select a small portion of the dataset to place our bets so it is preferable to keep a continous timeline to assess our predictions.\n",
        "# Otherwise, given the small number of bets, the variance may be very high from one test set to another.\n",
        "\n",
        "X_train=DATA[:10000]\n",
        "y_train=TARGET[:10000]\n",
        "X_test=DATA[10000:]\n",
        "y_test=TARGET[10000:]\n",
        "\n",
        "\n",
        "df2 = X_test.copy()  \n",
        "df2 =pd.concat([df2,y_test], axis = 1) # Preparation of the dataframe that combines : data + odds + predictions + results\n",
        "\n",
        "df2.drop(['P1_Rank','P2_Rank'],axis=1,inplace=True) # we do not need the features in our prediction dataframe\n",
        "\n",
        "X_train.drop(['P1_Odds_Pin','P2_Odds_Pin','P1_Odds_B365','P2_Odds_B365','Year','Month'],axis=1,inplace=True) # We don't want to use bookmaker odds to train our model\n",
        "X_test.drop(['P1_Odds_Pin','P2_Odds_Pin','P1_Odds_B365','P2_Odds_B365','Year','Month'],axis=1,inplace=True)\n",
        "\n",
        "from sklearn.preprocessing import QuantileTransformer\n",
        "\n",
        "qt = QuantileTransformer(random_state=0)\n",
        "scaler=qt.fit(X_train)\n",
        "X_train_scaled = scaler.transform(X_train)\n",
        "X_test = scaler.transform(X_test)"
      ],
      "execution_count": 22,
      "outputs": []
    },
    {
      "cell_type": "code",
      "metadata": {
        "colab": {
          "base_uri": "https://localhost:8080/"
        },
        "id": "v3Pnk-tnxNuK",
        "outputId": "a227a449-0f5a-4854-a2f3-0252c4acc8ef"
      },
      "source": [
        "from sklearn import linear_model\n",
        "\n",
        "# Model training\n",
        "\n",
        "clf=linear_model.LogisticRegression(random_state=10)\n",
        "clf.fit(X_train_scaled,y_train)\n",
        "\n",
        "# Model assessment\n",
        "\n",
        "y_pred = clf.predict(X_test)\n",
        "\n",
        "# Confusion Matrix \n",
        "\n",
        "cm = pd.crosstab(y_test, y_pred, rownames=['Classe réelle'], colnames=['Classe prédite'])\n",
        "print(cm)\n",
        "\n",
        "# Score\n",
        "\n",
        "print('\\n''Score:',\"%.2f\" % clf.score(X_test, y_test))\n",
        "\n",
        "#Classification report\n",
        "\n",
        "print('\\n',classification_report(y_test, y_pred))"
      ],
      "execution_count": 23,
      "outputs": [
        {
          "output_type": "stream",
          "name": "stdout",
          "text": [
            "Classe prédite     1     2\n",
            "Classe réelle             \n",
            "1               1858  1082\n",
            "2               1100  1771\n",
            "\n",
            "Score: 0.62\n",
            "\n",
            "               precision    recall  f1-score   support\n",
            "\n",
            "           1       0.63      0.63      0.63      2940\n",
            "           2       0.62      0.62      0.62      2871\n",
            "\n",
            "    accuracy                           0.62      5811\n",
            "   macro avg       0.62      0.62      0.62      5811\n",
            "weighted avg       0.62      0.62      0.62      5811\n",
            "\n"
          ]
        }
      ]
    },
    {
      "cell_type": "code",
      "metadata": {
        "colab": {
          "base_uri": "https://localhost:8080/",
          "height": 204
        },
        "id": "mhq-9mJ8xNw7",
        "outputId": "259f8b73-0cc4-4a26-e55e-9321d8b6490d"
      },
      "source": [
        "# Gathering elements for predictions template\n",
        "\n",
        "preds=pd.DataFrame(clf.predict_proba(X_test))\n",
        "\n",
        "preds.reset_index(inplace=True)\n",
        "df2.reset_index(inplace=True)\n",
        "preds.drop('index',axis=1,inplace=True)\n",
        "df2.drop('index',axis=1,inplace=True)\n",
        "\n",
        "df2=pd.concat([df2,preds], axis = 1)\n",
        "df2.rename(columns={0: \"P1_prob\", 1: \"P2_prob\"},inplace=True)\n",
        "\n",
        "df2.head()"
      ],
      "execution_count": 24,
      "outputs": [
        {
          "output_type": "execute_result",
          "data": {
            "text/html": [
              "<div>\n",
              "<style scoped>\n",
              "    .dataframe tbody tr th:only-of-type {\n",
              "        vertical-align: middle;\n",
              "    }\n",
              "\n",
              "    .dataframe tbody tr th {\n",
              "        vertical-align: top;\n",
              "    }\n",
              "\n",
              "    .dataframe thead th {\n",
              "        text-align: right;\n",
              "    }\n",
              "</style>\n",
              "<table border=\"1\" class=\"dataframe\">\n",
              "  <thead>\n",
              "    <tr style=\"text-align: right;\">\n",
              "      <th></th>\n",
              "      <th>Year</th>\n",
              "      <th>Month</th>\n",
              "      <th>P1_Odds_Pin</th>\n",
              "      <th>P2_Odds_Pin</th>\n",
              "      <th>P1_Odds_B365</th>\n",
              "      <th>P2_Odds_B365</th>\n",
              "      <th>Won</th>\n",
              "      <th>P1_prob</th>\n",
              "      <th>P2_prob</th>\n",
              "    </tr>\n",
              "  </thead>\n",
              "  <tbody>\n",
              "    <tr>\n",
              "      <th>0</th>\n",
              "      <td>2018</td>\n",
              "      <td>10</td>\n",
              "      <td>2.04</td>\n",
              "      <td>1.87</td>\n",
              "      <td>1.83</td>\n",
              "      <td>1.83</td>\n",
              "      <td>2</td>\n",
              "      <td>0.465936</td>\n",
              "      <td>0.534064</td>\n",
              "    </tr>\n",
              "    <tr>\n",
              "      <th>1</th>\n",
              "      <td>2018</td>\n",
              "      <td>10</td>\n",
              "      <td>2.40</td>\n",
              "      <td>1.65</td>\n",
              "      <td>2.37</td>\n",
              "      <td>1.53</td>\n",
              "      <td>2</td>\n",
              "      <td>0.270806</td>\n",
              "      <td>0.729194</td>\n",
              "    </tr>\n",
              "    <tr>\n",
              "      <th>2</th>\n",
              "      <td>2018</td>\n",
              "      <td>11</td>\n",
              "      <td>2.24</td>\n",
              "      <td>1.75</td>\n",
              "      <td>2.10</td>\n",
              "      <td>1.72</td>\n",
              "      <td>2</td>\n",
              "      <td>0.518341</td>\n",
              "      <td>0.481659</td>\n",
              "    </tr>\n",
              "    <tr>\n",
              "      <th>3</th>\n",
              "      <td>2018</td>\n",
              "      <td>11</td>\n",
              "      <td>1.15</td>\n",
              "      <td>6.61</td>\n",
              "      <td>1.12</td>\n",
              "      <td>6.00</td>\n",
              "      <td>1</td>\n",
              "      <td>0.550333</td>\n",
              "      <td>0.449667</td>\n",
              "    </tr>\n",
              "    <tr>\n",
              "      <th>4</th>\n",
              "      <td>2018</td>\n",
              "      <td>11</td>\n",
              "      <td>3.29</td>\n",
              "      <td>1.40</td>\n",
              "      <td>3.20</td>\n",
              "      <td>1.36</td>\n",
              "      <td>2</td>\n",
              "      <td>0.341804</td>\n",
              "      <td>0.658196</td>\n",
              "    </tr>\n",
              "  </tbody>\n",
              "</table>\n",
              "</div>"
            ],
            "text/plain": [
              "   Year  Month  P1_Odds_Pin  P2_Odds_Pin  ...  P2_Odds_B365  Won   P1_prob   P2_prob\n",
              "0  2018     10         2.04         1.87  ...          1.83    2  0.465936  0.534064\n",
              "1  2018     10         2.40         1.65  ...          1.53    2  0.270806  0.729194\n",
              "2  2018     11         2.24         1.75  ...          1.72    2  0.518341  0.481659\n",
              "3  2018     11         1.15         6.61  ...          6.00    1  0.550333  0.449667\n",
              "4  2018     11         3.29         1.40  ...          1.36    2  0.341804  0.658196\n",
              "\n",
              "[5 rows x 9 columns]"
            ]
          },
          "metadata": {},
          "execution_count": 24
        }
      ]
    },
    {
      "cell_type": "markdown",
      "metadata": {
        "id": "_541jjvMyy6L"
      },
      "source": [
        "At this stage we want to build a decision threshold that will test our predictions based on 'static' features against the bookmaker predictions that include both 'static' and 'dynamic' features.\n"
      ]
    },
    {
      "cell_type": "markdown",
      "metadata": {
        "id": "c29V5NDwzJK6"
      },
      "source": [
        "Despite it includes some other factors like the bookmaker profit and some bias linked to the number of bets on the player, we find the formula: '(1/odds)' is a correct approximate of the bookmaker expected player winrate. At least sufficiently good for the purpose of our comparison. So we compute those new columns."
      ]
    },
    {
      "cell_type": "code",
      "metadata": {
        "colab": {
          "base_uri": "https://localhost:8080/",
          "height": 204
        },
        "id": "isVFG7ckxN02",
        "outputId": "8a1ff73a-e776-4db5-d9d6-9421fa853d3c"
      },
      "source": [
        "# Decision Threshold computing\n",
        "\n",
        "df2['P1_Proba_Pin']=1/df2['P1_Odds_Pin']\n",
        "df2['P2_Proba_Pin']=1/df2['P2_Odds_Pin']\n",
        "df2['P1_DT_Pin']=df2['P1_prob']/df2['P1_Proba_Pin']\n",
        "df2['P2_DT_Pin']=df2['P2_prob']/df2['P2_Proba_Pin']\n",
        "\n",
        "df2['P1_Proba_B365']=1/df2['P1_Odds_B365']\n",
        "df2['P2_Proba_B365']=1/df2['P2_Odds_B365']\n",
        "df2['P1_DT_B365']=df2['P1_prob']/df2['P1_Proba_B365']\n",
        "df2['P2_DT_B365']=df2['P2_prob']/df2['P2_Proba_B365']\n",
        "\n",
        "df2.head()"
      ],
      "execution_count": 25,
      "outputs": [
        {
          "output_type": "execute_result",
          "data": {
            "text/html": [
              "<div>\n",
              "<style scoped>\n",
              "    .dataframe tbody tr th:only-of-type {\n",
              "        vertical-align: middle;\n",
              "    }\n",
              "\n",
              "    .dataframe tbody tr th {\n",
              "        vertical-align: top;\n",
              "    }\n",
              "\n",
              "    .dataframe thead th {\n",
              "        text-align: right;\n",
              "    }\n",
              "</style>\n",
              "<table border=\"1\" class=\"dataframe\">\n",
              "  <thead>\n",
              "    <tr style=\"text-align: right;\">\n",
              "      <th></th>\n",
              "      <th>Year</th>\n",
              "      <th>Month</th>\n",
              "      <th>P1_Odds_Pin</th>\n",
              "      <th>P2_Odds_Pin</th>\n",
              "      <th>P1_Odds_B365</th>\n",
              "      <th>P2_Odds_B365</th>\n",
              "      <th>Won</th>\n",
              "      <th>P1_prob</th>\n",
              "      <th>P2_prob</th>\n",
              "      <th>P1_Proba_Pin</th>\n",
              "      <th>P2_Proba_Pin</th>\n",
              "      <th>P1_DT_Pin</th>\n",
              "      <th>P2_DT_Pin</th>\n",
              "      <th>P1_Proba_B365</th>\n",
              "      <th>P2_Proba_B365</th>\n",
              "      <th>P1_DT_B365</th>\n",
              "      <th>P2_DT_B365</th>\n",
              "    </tr>\n",
              "  </thead>\n",
              "  <tbody>\n",
              "    <tr>\n",
              "      <th>0</th>\n",
              "      <td>2018</td>\n",
              "      <td>10</td>\n",
              "      <td>2.04</td>\n",
              "      <td>1.87</td>\n",
              "      <td>1.83</td>\n",
              "      <td>1.83</td>\n",
              "      <td>2</td>\n",
              "      <td>0.465936</td>\n",
              "      <td>0.534064</td>\n",
              "      <td>0.490196</td>\n",
              "      <td>0.534759</td>\n",
              "      <td>0.950509</td>\n",
              "      <td>0.998701</td>\n",
              "      <td>0.546448</td>\n",
              "      <td>0.546448</td>\n",
              "      <td>0.852662</td>\n",
              "      <td>0.977338</td>\n",
              "    </tr>\n",
              "    <tr>\n",
              "      <th>1</th>\n",
              "      <td>2018</td>\n",
              "      <td>10</td>\n",
              "      <td>2.40</td>\n",
              "      <td>1.65</td>\n",
              "      <td>2.37</td>\n",
              "      <td>1.53</td>\n",
              "      <td>2</td>\n",
              "      <td>0.270806</td>\n",
              "      <td>0.729194</td>\n",
              "      <td>0.416667</td>\n",
              "      <td>0.606061</td>\n",
              "      <td>0.649935</td>\n",
              "      <td>1.203170</td>\n",
              "      <td>0.421941</td>\n",
              "      <td>0.653595</td>\n",
              "      <td>0.641811</td>\n",
              "      <td>1.115666</td>\n",
              "    </tr>\n",
              "    <tr>\n",
              "      <th>2</th>\n",
              "      <td>2018</td>\n",
              "      <td>11</td>\n",
              "      <td>2.24</td>\n",
              "      <td>1.75</td>\n",
              "      <td>2.10</td>\n",
              "      <td>1.72</td>\n",
              "      <td>2</td>\n",
              "      <td>0.518341</td>\n",
              "      <td>0.481659</td>\n",
              "      <td>0.446429</td>\n",
              "      <td>0.571429</td>\n",
              "      <td>1.161084</td>\n",
              "      <td>0.842903</td>\n",
              "      <td>0.476190</td>\n",
              "      <td>0.581395</td>\n",
              "      <td>1.088516</td>\n",
              "      <td>0.828454</td>\n",
              "    </tr>\n",
              "    <tr>\n",
              "      <th>3</th>\n",
              "      <td>2018</td>\n",
              "      <td>11</td>\n",
              "      <td>1.15</td>\n",
              "      <td>6.61</td>\n",
              "      <td>1.12</td>\n",
              "      <td>6.00</td>\n",
              "      <td>1</td>\n",
              "      <td>0.550333</td>\n",
              "      <td>0.449667</td>\n",
              "      <td>0.869565</td>\n",
              "      <td>0.151286</td>\n",
              "      <td>0.632883</td>\n",
              "      <td>2.972301</td>\n",
              "      <td>0.892857</td>\n",
              "      <td>0.166667</td>\n",
              "      <td>0.616373</td>\n",
              "      <td>2.698004</td>\n",
              "    </tr>\n",
              "    <tr>\n",
              "      <th>4</th>\n",
              "      <td>2018</td>\n",
              "      <td>11</td>\n",
              "      <td>3.29</td>\n",
              "      <td>1.40</td>\n",
              "      <td>3.20</td>\n",
              "      <td>1.36</td>\n",
              "      <td>2</td>\n",
              "      <td>0.341804</td>\n",
              "      <td>0.658196</td>\n",
              "      <td>0.303951</td>\n",
              "      <td>0.714286</td>\n",
              "      <td>1.124535</td>\n",
              "      <td>0.921475</td>\n",
              "      <td>0.312500</td>\n",
              "      <td>0.735294</td>\n",
              "      <td>1.093772</td>\n",
              "      <td>0.895147</td>\n",
              "    </tr>\n",
              "  </tbody>\n",
              "</table>\n",
              "</div>"
            ],
            "text/plain": [
              "   Year  Month  P1_Odds_Pin  ...  P2_Proba_B365  P1_DT_B365  P2_DT_B365\n",
              "0  2018     10         2.04  ...      0.546448     0.852662    0.977338\n",
              "1  2018     10         2.40  ...      0.653595     0.641811    1.115666\n",
              "2  2018     11         2.24  ...      0.581395     1.088516    0.828454\n",
              "3  2018     11         1.15  ...      0.166667     0.616373    2.698004\n",
              "4  2018     11         3.29  ...      0.735294     1.093772    0.895147\n",
              "\n",
              "[5 rows x 17 columns]"
            ]
          },
          "metadata": {},
          "execution_count": 25
        }
      ]
    },
    {
      "cell_type": "markdown",
      "metadata": {
        "id": "Kdo3R_T3CU3I"
      },
      "source": [
        "From there we want to find the right interval where the expected ROI will be positive and stable enough.\n"
      ]
    },
    {
      "cell_type": "code",
      "metadata": {
        "id": "1pImXBr_MDjT"
      },
      "source": [
        "# Pinnacle Threshold search loop\n",
        "\n",
        "profitp=0\n",
        "roip=0\n",
        "profit_listp=[]\n",
        "roi_listp=[]\n",
        "thresholdp=[]\n",
        "Nb_matchp=[]\n",
        "\n",
        "df2['BetsPin']=0\n",
        "\n",
        "for h in np.arange(0.5,0.75,0.05): # threshold loop\n",
        "    \n",
        "    for i in np.arange(0.8,1.2,0.2): # odds delta loop\n",
        "        \n",
        "        for j in np.arange(1.2,1.6,0.2): # min oddds Loop\n",
        "        \n",
        "            for k in range(df2.shape[0]): # dataset lines loop\n",
        "\n",
        "                if (df2.iloc[k,11] <h) & (df2.iloc[k,2] >j) & (df2.iloc[k,2] <5) & (np.abs(df2.iloc[k,2]-df2.iloc[k,3])>i):\n",
        "                  df2.iloc[k,17] = 1 # If all 3 conditions are met --> bet on P1\n",
        "\n",
        "                elif (df2.iloc[k,12] <h) & (df2.iloc[k,3] >j) & (df2.iloc[k,3] <5) & (np.abs(df2.iloc[k,2]-df2.iloc[k,3])>i):\n",
        "                  df2.iloc[k,17] = 2 # If all 3 conditions are met --> bet on P2\n",
        "\n",
        "                else:\n",
        "                  df2.iloc[k,17] = 0 # No bets\n",
        "\n",
        "            ROIp = df2[(df2['BetsPin'] ==1)|(df2['BetsPin'] ==2)] # new datasets limited to the games we bet on\n",
        "            ROIp['profit']=0\n",
        "\n",
        "            for k in range(ROIp.shape[0]): # dataset lines loop\n",
        "                if (ROIp.iloc[k,6]==ROIp.iloc[k,17]) & (ROIp.iloc[k,17] == 1): # if bet on player 1 is won\n",
        "                  ROIp.iloc[k,18]=ROIp.iloc[k,2] # profit = P1 odd\n",
        "                elif (ROIp.iloc[k,6]==ROIp.iloc[k,17]) & (ROIp.iloc[k,17] == 2): # if bet on player 2 is won\n",
        "                  ROIp.iloc[k,18]=ROIp.iloc[k,3] # profit = P2 odd\n",
        "                else:\n",
        "                  ROIp.iloc[k,18]= 0 \n",
        "\n",
        "                profitp+=ROIp.iloc[k,18]-1\n",
        "                roip=profitp/ROIp.shape[0]\n",
        "\n",
        "            t='cf:'+str(\"%.2f\" % h)+'-'+'dta:'+str(\"%.2f\" % i)+'-'+'odd:'+str(\"%.2f\" % j)\n",
        "            thresholdp.append(t)\n",
        "            \n",
        "            roi_listp.append(roip)\n",
        "            profit_listp.append(profitp)\n",
        "            Nb_matchp.append(ROIp.shape[0])\n",
        "            profitp=0\n",
        "            roip=0\n",
        "            t=0\n",
        "\n",
        "\n"
      ],
      "execution_count": 26,
      "outputs": []
    },
    {
      "cell_type": "code",
      "metadata": {
        "id": "UxY1foexTwnD"
      },
      "source": [
        "# Bet365 Threshold search loop\n",
        "\n",
        "profitb=0\n",
        "roib=0\n",
        "profit_listb=[]\n",
        "roi_listb=[]\n",
        "thresholdb=[]\n",
        "Nb_matchb=[]\n",
        "\n",
        "df2['BetsB365']= 0 \n",
        "\n",
        "for h in np.arange(0.5,0.75,0.05): # threshold loop\n",
        "    \n",
        "    for i in np.arange(0.8,1.2,0.2): # odds delta loop\n",
        "        \n",
        "        for j in np.arange(1.2,1.6,0.2): # min oddds Loop\n",
        "        \n",
        "            for k in range(df2.shape[0]): # dataset lines loop\n",
        "                \n",
        "                if (df2.iloc[k,15] <h) & (df2.iloc[k,4] >j) & (df2.iloc[k,4] <5) & (np.abs(df2.iloc[k,4]-df2.iloc[k,5])>i):\n",
        "                  df2.iloc[k,18] = 1 # If all 3 conditions are met --> bet on P1\n",
        "                \n",
        "                elif (df2.iloc[k,16] <h) & (df2.iloc[k,5] >j) & (df2.iloc[k,5] <5) & (np.abs(df2.iloc[k,4]-df2.iloc[k,5])>i):\n",
        "                  df2.iloc[k,18] = 2 # If all 3 conditions are met --> bet on P2\n",
        "\n",
        "                else:\n",
        "                  df2.iloc[k,18] = 0 # No bets\n",
        "                \n",
        "            ROIb = df2[(df2['BetsB365'] ==1)|(df2['BetsB365'] ==2)] # new datasets limited to the games we bet on\n",
        "            ROIb['profit']=0\n",
        "\n",
        "            for k in range(ROIb.shape[0]): # dataset lines loop\n",
        "                if (ROIb.iloc[k,6]==ROIb.iloc[k,18]) & (ROIb.iloc[k,18] == 1): # if bet on player 1 is won\n",
        "                  ROIb.iloc[k,19]=ROIb.iloc[k,4] # profit = P1 odd\n",
        "                elif (ROIb.iloc[k,6]==ROIb.iloc[k,18]) & (ROIb.iloc[k,18] == 2): # if bet on player 2 is won\n",
        "                  ROIb.iloc[k,19]=ROIb.iloc[k,5] # profit = P2 odd\n",
        "                else:\n",
        "                  ROIb.iloc[k,19]= 0 \n",
        "                \n",
        "                profitb+=ROIb.iloc[k,19]-1\n",
        "                roib=profitb/ROIb.shape[0]\n",
        "\n",
        "            t='cf:'+str(\"%.2f\" % h)+'-'+'dta:'+str(\"%.2f\" % i)+'-'+'odd:'+str(\"%.2f\" % j)\n",
        "            thresholdb.append(t)\n",
        "            \n",
        "            roi_listb.append(roib)\n",
        "            profit_listb.append(profitb)\n",
        "            Nb_matchb.append(ROIb.shape[0])\n",
        "            profitb=0\n",
        "            roib=0\n",
        "            t=0"
      ],
      "execution_count": 27,
      "outputs": []
    },
    {
      "cell_type": "code",
      "metadata": {
        "colab": {
          "base_uri": "https://localhost:8080/",
          "height": 616
        },
        "id": "q6hmU5qEvsfT",
        "outputId": "d913a360-b7fd-4934-c9d0-1894b58b6695"
      },
      "source": [
        "plt.figure(figsize = (16, 8))\n",
        "\n",
        "plt.grid(True)\n",
        "\n",
        "plt.plot(thresholdp,profit_listp,label='Pinnacle')\n",
        "plt.plot(thresholdb,profit_listb,label='Bet365')\n",
        "\n",
        "plt.title('Profit evolution based on thresholds')\n",
        "\n",
        "plt.xticks(rotation=90);\n",
        "plt.ylabel('Profit')\n",
        "plt.legend();"
      ],
      "execution_count": 28,
      "outputs": [
        {
          "output_type": "display_data",
          "data": {
            "image/png": "[encoded data removed]",
            "text/plain": [
              "<Figure size 1152x576 with 1 Axes>"
            ]
          },
          "metadata": {
            "needs_background": "light"
          }
        }
      ]
    },
    {
      "cell_type": "code",
      "metadata": {
        "colab": {
          "base_uri": "https://localhost:8080/",
          "height": 616
        },
        "id": "-fYVblFoxIDp",
        "outputId": "7c763de7-eb61-438f-bc62-bc07b1ae17f8"
      },
      "source": [
        "plt.figure(figsize = (16, 8))\n",
        "\n",
        "plt.grid(True)\n",
        "\n",
        "plt.plot(thresholdp,roi_listp,label='Pinnacle')\n",
        "plt.plot(thresholdb,roi_listb,label='Bet365')\n",
        "\n",
        "plt.title('ROI evolution based on thresholds')\n",
        "\n",
        "plt.xticks(rotation=90);\n",
        "plt.ylabel('ROI')\n",
        "plt.legend();"
      ],
      "execution_count": 29,
      "outputs": [
        {
          "output_type": "display_data",
          "data": {
            "image/png": "[encoded data removed]",
            "text/plain": [
              "<Figure size 1152x576 with 1 Axes>"
            ]
          },
          "metadata": {
            "needs_background": "light"
          }
        }
      ]
    },
    {
      "cell_type": "code",
      "metadata": {
        "colab": {
          "base_uri": "https://localhost:8080/",
          "height": 616
        },
        "id": "w1a1Yf4hT4qv",
        "outputId": "651eec37-9627-47ce-d781-336c15b1dba0"
      },
      "source": [
        "plt.figure(figsize = (16, 8))\n",
        "\n",
        "plt.grid(True)\n",
        "\n",
        "plt.plot(thresholdp,Nb_matchp,label='Pinnacle')\n",
        "plt.plot(thresholdb,Nb_matchb,label='Bet365')\n",
        "\n",
        "plt.title('Number of games we bet on based on threshold')\n",
        "\n",
        "plt.xticks(rotation=90);\n",
        "plt.ylabel('NB Games')\n",
        "plt.legend();"
      ],
      "execution_count": 30,
      "outputs": [
        {
          "output_type": "display_data",
          "data": {
            "image/png": "[encoded data removed]",
            "text/plain": [
              "<Figure size 1152x576 with 1 Axes>"
            ]
          },
          "metadata": {
            "needs_background": "light"
          }
        }
      ]
    },
    {
      "cell_type": "markdown",
      "metadata": {
        "id": "CCLObkoXT7-F"
      },
      "source": [
        "After running a few threshold tests, it seems the below parameters are a good compromise between a reasonable number of games and a sufficiently high ROI. Let's now analyze the profit distribution accross the years for this set of parameters. We will select the most generous of the 2 bookmakers."
      ]
    },
    {
      "cell_type": "code",
      "metadata": {
        "id": "GnWCFI91F16Y"
      },
      "source": [
        "df2['Bets_P1']=np.where((df2['P1_DT_Pin'] <0.65) & \n",
        "                           (df2['P1_Odds_Pin'] >1.2) & \n",
        "                           (df2['P1_Odds_Pin'] <5) &\n",
        "                           (np.abs(df2['P1_Odds_Pin']-df2['P2_Odds_Pin'])>1),1,0)\n",
        "\n",
        "df2['Bets_P2']=np.where((df2['P2_DT_Pin'] <0.65) & \n",
        "                           (df2['P2_Odds_Pin'] >1.2) & \n",
        "                           (df2['P2_Odds_Pin'] <5) &\n",
        "                           (np.abs(df2['P1_Odds_Pin']-df2['P2_Odds_Pin'])>1),2,0)"
      ],
      "execution_count": 31,
      "outputs": []
    },
    {
      "cell_type": "code",
      "metadata": {
        "id": "LwL38F4OF19Q"
      },
      "source": [
        "# Counter of bets and bets won\n",
        "\n",
        "df2['Bets']=np.where((df2['Bets_P1'] == 1)|(df2['Bets_P2'] == 2),1,0)\n",
        "df2['Wins']=np.where((df2['Bets_P1'] == df2['Won'])|(df2['Bets_P2']== df2['Won']),1,0)\n",
        "                           "
      ],
      "execution_count": 32,
      "outputs": []
    },
    {
      "cell_type": "code",
      "metadata": {
        "id": "AyXTVOrOF1_e"
      },
      "source": [
        "# Profit\n",
        "\n",
        "df2['P1_$']=np.where((df2['Bets_P1'] == df2['Won']),df2['P1_Odds_Pin'],0)\n",
        "df2['P2_$']=np.where((df2['Bets_P2'] == df2['Won']),df2['P2_Odds_Pin'],0)  \n",
        "df2['Net_Profit']=df2['P1_$']+df2['P2_$']-df2['Bets']"
      ],
      "execution_count": 33,
      "outputs": []
    },
    {
      "cell_type": "code",
      "metadata": {
        "id": "HvJbytLZF2B3",
        "colab": {
          "base_uri": "https://localhost:8080/",
          "height": 224
        },
        "outputId": "8233a176-f891-454b-89fc-d35c07ff7891"
      },
      "source": [
        "df2.head()"
      ],
      "execution_count": 34,
      "outputs": [
        {
          "output_type": "execute_result",
          "data": {
            "text/html": [
              "<div>\n",
              "<style scoped>\n",
              "    .dataframe tbody tr th:only-of-type {\n",
              "        vertical-align: middle;\n",
              "    }\n",
              "\n",
              "    .dataframe tbody tr th {\n",
              "        vertical-align: top;\n",
              "    }\n",
              "\n",
              "    .dataframe thead th {\n",
              "        text-align: right;\n",
              "    }\n",
              "</style>\n",
              "<table border=\"1\" class=\"dataframe\">\n",
              "  <thead>\n",
              "    <tr style=\"text-align: right;\">\n",
              "      <th></th>\n",
              "      <th>Year</th>\n",
              "      <th>Month</th>\n",
              "      <th>P1_Odds_Pin</th>\n",
              "      <th>P2_Odds_Pin</th>\n",
              "      <th>P1_Odds_B365</th>\n",
              "      <th>P2_Odds_B365</th>\n",
              "      <th>Won</th>\n",
              "      <th>P1_prob</th>\n",
              "      <th>P2_prob</th>\n",
              "      <th>P1_Proba_Pin</th>\n",
              "      <th>P2_Proba_Pin</th>\n",
              "      <th>P1_DT_Pin</th>\n",
              "      <th>P2_DT_Pin</th>\n",
              "      <th>P1_Proba_B365</th>\n",
              "      <th>P2_Proba_B365</th>\n",
              "      <th>P1_DT_B365</th>\n",
              "      <th>P2_DT_B365</th>\n",
              "      <th>BetsPin</th>\n",
              "      <th>BetsB365</th>\n",
              "      <th>Bets_P1</th>\n",
              "      <th>Bets_P2</th>\n",
              "      <th>Bets</th>\n",
              "      <th>Wins</th>\n",
              "      <th>P1_$</th>\n",
              "      <th>P2_$</th>\n",
              "      <th>Net_Profit</th>\n",
              "    </tr>\n",
              "  </thead>\n",
              "  <tbody>\n",
              "    <tr>\n",
              "      <th>0</th>\n",
              "      <td>2018</td>\n",
              "      <td>10</td>\n",
              "      <td>2.04</td>\n",
              "      <td>1.87</td>\n",
              "      <td>1.83</td>\n",
              "      <td>1.83</td>\n",
              "      <td>2</td>\n",
              "      <td>0.465936</td>\n",
              "      <td>0.534064</td>\n",
              "      <td>0.490196</td>\n",
              "      <td>0.534759</td>\n",
              "      <td>0.950509</td>\n",
              "      <td>0.998701</td>\n",
              "      <td>0.546448</td>\n",
              "      <td>0.546448</td>\n",
              "      <td>0.852662</td>\n",
              "      <td>0.977338</td>\n",
              "      <td>0</td>\n",
              "      <td>0</td>\n",
              "      <td>0</td>\n",
              "      <td>0</td>\n",
              "      <td>0</td>\n",
              "      <td>0</td>\n",
              "      <td>0.0</td>\n",
              "      <td>0.0</td>\n",
              "      <td>0.0</td>\n",
              "    </tr>\n",
              "    <tr>\n",
              "      <th>1</th>\n",
              "      <td>2018</td>\n",
              "      <td>10</td>\n",
              "      <td>2.40</td>\n",
              "      <td>1.65</td>\n",
              "      <td>2.37</td>\n",
              "      <td>1.53</td>\n",
              "      <td>2</td>\n",
              "      <td>0.270806</td>\n",
              "      <td>0.729194</td>\n",
              "      <td>0.416667</td>\n",
              "      <td>0.606061</td>\n",
              "      <td>0.649935</td>\n",
              "      <td>1.203170</td>\n",
              "      <td>0.421941</td>\n",
              "      <td>0.653595</td>\n",
              "      <td>0.641811</td>\n",
              "      <td>1.115666</td>\n",
              "      <td>0</td>\n",
              "      <td>0</td>\n",
              "      <td>0</td>\n",
              "      <td>0</td>\n",
              "      <td>0</td>\n",
              "      <td>0</td>\n",
              "      <td>0.0</td>\n",
              "      <td>0.0</td>\n",
              "      <td>0.0</td>\n",
              "    </tr>\n",
              "    <tr>\n",
              "      <th>2</th>\n",
              "      <td>2018</td>\n",
              "      <td>11</td>\n",
              "      <td>2.24</td>\n",
              "      <td>1.75</td>\n",
              "      <td>2.10</td>\n",
              "      <td>1.72</td>\n",
              "      <td>2</td>\n",
              "      <td>0.518341</td>\n",
              "      <td>0.481659</td>\n",
              "      <td>0.446429</td>\n",
              "      <td>0.571429</td>\n",
              "      <td>1.161084</td>\n",
              "      <td>0.842903</td>\n",
              "      <td>0.476190</td>\n",
              "      <td>0.581395</td>\n",
              "      <td>1.088516</td>\n",
              "      <td>0.828454</td>\n",
              "      <td>0</td>\n",
              "      <td>0</td>\n",
              "      <td>0</td>\n",
              "      <td>0</td>\n",
              "      <td>0</td>\n",
              "      <td>0</td>\n",
              "      <td>0.0</td>\n",
              "      <td>0.0</td>\n",
              "      <td>0.0</td>\n",
              "    </tr>\n",
              "    <tr>\n",
              "      <th>3</th>\n",
              "      <td>2018</td>\n",
              "      <td>11</td>\n",
              "      <td>1.15</td>\n",
              "      <td>6.61</td>\n",
              "      <td>1.12</td>\n",
              "      <td>6.00</td>\n",
              "      <td>1</td>\n",
              "      <td>0.550333</td>\n",
              "      <td>0.449667</td>\n",
              "      <td>0.869565</td>\n",
              "      <td>0.151286</td>\n",
              "      <td>0.632883</td>\n",
              "      <td>2.972301</td>\n",
              "      <td>0.892857</td>\n",
              "      <td>0.166667</td>\n",
              "      <td>0.616373</td>\n",
              "      <td>2.698004</td>\n",
              "      <td>0</td>\n",
              "      <td>0</td>\n",
              "      <td>0</td>\n",
              "      <td>0</td>\n",
              "      <td>0</td>\n",
              "      <td>0</td>\n",
              "      <td>0.0</td>\n",
              "      <td>0.0</td>\n",
              "      <td>0.0</td>\n",
              "    </tr>\n",
              "    <tr>\n",
              "      <th>4</th>\n",
              "      <td>2018</td>\n",
              "      <td>11</td>\n",
              "      <td>3.29</td>\n",
              "      <td>1.40</td>\n",
              "      <td>3.20</td>\n",
              "      <td>1.36</td>\n",
              "      <td>2</td>\n",
              "      <td>0.341804</td>\n",
              "      <td>0.658196</td>\n",
              "      <td>0.303951</td>\n",
              "      <td>0.714286</td>\n",
              "      <td>1.124535</td>\n",
              "      <td>0.921475</td>\n",
              "      <td>0.312500</td>\n",
              "      <td>0.735294</td>\n",
              "      <td>1.093772</td>\n",
              "      <td>0.895147</td>\n",
              "      <td>0</td>\n",
              "      <td>0</td>\n",
              "      <td>0</td>\n",
              "      <td>0</td>\n",
              "      <td>0</td>\n",
              "      <td>0</td>\n",
              "      <td>0.0</td>\n",
              "      <td>0.0</td>\n",
              "      <td>0.0</td>\n",
              "    </tr>\n",
              "  </tbody>\n",
              "</table>\n",
              "</div>"
            ],
            "text/plain": [
              "   Year  Month  P1_Odds_Pin  P2_Odds_Pin  ...  Wins  P1_$  P2_$  Net_Profit\n",
              "0  2018     10         2.04         1.87  ...     0   0.0   0.0         0.0\n",
              "1  2018     10         2.40         1.65  ...     0   0.0   0.0         0.0\n",
              "2  2018     11         2.24         1.75  ...     0   0.0   0.0         0.0\n",
              "3  2018     11         1.15         6.61  ...     0   0.0   0.0         0.0\n",
              "4  2018     11         3.29         1.40  ...     0   0.0   0.0         0.0\n",
              "\n",
              "[5 rows x 26 columns]"
            ]
          },
          "metadata": {},
          "execution_count": 34
        }
      ]
    },
    {
      "cell_type": "code",
      "metadata": {
        "id": "oOxOM3JgF2ED",
        "colab": {
          "base_uri": "https://localhost:8080/",
          "height": 349
        },
        "outputId": "cbf8b057-d427-41e0-ebda-112844448a45"
      },
      "source": [
        "# Let's now plot the ROI\n",
        "\n",
        "Pyear3= df2.groupby(by=['Year']).Net_Profit.sum()\n",
        "print('Overall Profit:',\"%.2f\" % Pyear3.sum(),'\\n')\n",
        "print('ROI:',\"{0:.1%}\".format(Pyear3.sum()/df2['Bets'].sum()),'\\n')\n",
        "\n",
        "plt.bar(Pyear3.index, Pyear3.values)\n",
        "\n",
        "plt.ylabel('Profit')\n",
        "plt.xticks([2018,2019,2020,2021], ['2018','2019','2020','2021'])\n",
        "\n",
        "plt.title('Profit by year in value (bet=1)');"
      ],
      "execution_count": 35,
      "outputs": [
        {
          "output_type": "stream",
          "name": "stdout",
          "text": [
            "Overall Profit: 41.49 \n",
            "\n",
            "ROI: 9.7% \n",
            "\n"
          ]
        },
        {
          "output_type": "display_data",
          "data": {
            "image/png": "[encoded data removed]",
            "text/plain": [
              "<Figure size 432x288 with 1 Axes>"
            ]
          },
          "metadata": {
            "needs_background": "light"
          }
        }
      ]
    },
    {
      "cell_type": "markdown",
      "metadata": {
        "id": "3YEpuv7qtnLK"
      },
      "source": [
        "With this approach, the ROI seems fairly solid across recent years.\n",
        "We are still looking at other options and strategies to refine the strategy, one of them could be to place higher bets where our confidence is the highest.\n"
      ]
    },
    {
      "cell_type": "code",
      "metadata": {
        "id": "j_OmgzVNao5c"
      },
      "source": [
        ""
      ],
      "execution_count": 35,
      "outputs": []
    }
  ]
}