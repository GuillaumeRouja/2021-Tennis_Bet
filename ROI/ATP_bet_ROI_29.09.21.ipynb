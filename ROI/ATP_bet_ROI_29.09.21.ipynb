{
  "nbformat": 4,
  "nbformat_minor": 0,
  "metadata": {
    "colab": {
      "name": "ATP_bet_ROI.ipynb",
      "provenance": [],
      "collapsed_sections": []
    },
    "kernelspec": {
      "display_name": "Python 3",
      "name": "python3"
    },
    "language_info": {
      "name": "python"
    }
  },
  "cells": [
    {
      "cell_type": "code",
      "metadata": {
        "id": "sy8GHJ5upiee"
      },
      "source": [
        "import pandas as pd\n",
        "import numpy as np\n",
        "import seaborn as sns\n",
        "import matplotlib.pyplot as plt\n",
        "%matplotlib inline\n",
        " \n",
        "from datetime import datetime,timedelta\n",
        "import datetime as dt\n",
        "from sklearn.metrics import classification_report\n",
        "\n",
        "import warnings\n",
        "warnings.filterwarnings(\"ignore\", category=FutureWarning)\n",
        "pd.options.mode.chained_assignment = None  # default='warn'"
      ],
      "execution_count": 1,
      "outputs": []
    },
    {
      "cell_type": "code",
      "metadata": {
        "id": "j7_yXywj-a-J"
      },
      "source": [
        "# DATA Collection\n",
        "\n",
        "urls = ['https://raw.githubusercontent.com/GuillaumeRouja/2021-Tennis_Bet/main/Data/2010.csv','https://raw.githubusercontent.com/GuillaumeRouja/2021-Tennis_Bet/main/Data/2011.csv',\n",
        "        'https://raw.githubusercontent.com/GuillaumeRouja/2021-Tennis_Bet/main/Data/2012.csv','https://raw.githubusercontent.com/GuillaumeRouja/2021-Tennis_Bet/main/Data/2013.csv',\n",
        "        'https://raw.githubusercontent.com/GuillaumeRouja/2021-Tennis_Bet/main/Data/2014.csv','https://raw.githubusercontent.com/GuillaumeRouja/2021-Tennis_Bet/main/Data/2015.csv',\n",
        "        'https://raw.githubusercontent.com/GuillaumeRouja/2021-Tennis_Bet/main/Data/2016.csv','https://raw.githubusercontent.com/GuillaumeRouja/2021-Tennis_Bet/main/Data/2017.csv',\n",
        "        'https://raw.githubusercontent.com/GuillaumeRouja/2021-Tennis_Bet/main/Data/2018.csv','https://raw.githubusercontent.com/GuillaumeRouja/2021-Tennis_Bet/main/Data/2019.csv',\n",
        "        'https://raw.githubusercontent.com/GuillaumeRouja/2021-Tennis_Bet/main/Data/2020.csv','https://raw.githubusercontent.com/GuillaumeRouja/2021-Tennis_Bet/main/Data/2021.csv']\n",
        "\n",
        "dfs = [pd.read_csv(url,sep=';') for url in urls]\n",
        "data = pd.concat(dfs, ignore_index=True)\n",
        "\n",
        "data.drop(['WPts','LPts','W1','L1','W2','L2','W3','L3','W4','L4','W5','L5','Wsets','Lsets','EXW','EXL','LBW','LBL','SJW','SJL','MaxW','MaxL','AvgW','AvgL'],axis=1,inplace=True)\n",
        "data.PSW= (data.PSW.replace(',','.', regex=True).astype(float))\n",
        "data.PSL= (data.PSL.replace(',','.', regex=True).astype(float))\n",
        "data.B365W= (data.B365W.replace(',','.', regex=True).astype(float))\n",
        "data.B365L= (data.B365L.replace(',','.', regex=True).astype(float)) \n",
        "\n",
        "data['Date'] = pd.to_datetime(data.Date,dayfirst=True)\n",
        "\n",
        "data.sort_values(['Date'], inplace=True)\n",
        "data=data.reset_index(drop=True)\n"
      ],
      "execution_count": 2,
      "outputs": []
    },
    {
      "cell_type": "markdown",
      "metadata": {
        "id": "4SgIj3G42VQq"
      },
      "source": [
        "## **Data Pre-processing**"
      ]
    },
    {
      "cell_type": "markdown",
      "metadata": {
        "id": "r-YuUra90YHU"
      },
      "source": [
        "#### Timeframe selection"
      ]
    },
    {
      "cell_type": "code",
      "metadata": {
        "id": "rYI0l2cccTOS"
      },
      "source": [
        "beg=datetime(2015,1,1) \n",
        "end=datetime(2021,12,31)\n",
        "\n",
        "indices=data[(data.Date>beg)&(data.Date<=end)].index\n",
        "data=data.iloc[indices,:]\n",
        "\n",
        "data.sort_values(['Date'], inplace=True)\n",
        "data=data.reset_index(drop=True)\n"
      ],
      "execution_count": 3,
      "outputs": []
    },
    {
      "cell_type": "markdown",
      "metadata": {
        "id": "0kxJXqAgWfPH"
      },
      "source": [
        "#### ELO Ranking Computing"
      ]
    },
    {
      "cell_type": "code",
      "metadata": {
        "colab": {
          "base_uri": "https://localhost:8080/"
        },
        "id": "JgMtrArRWW0a",
        "outputId": "9b8ecd78-7fc0-460e-e939-d544602b5518"
      },
      "source": [
        "def compute_elo_rankings(data):\n",
        "    \"\"\"\n",
        "    Given the list of matches in chronological order, for each match, computes \n",
        "    the elo ranking of the 2 players at the beginning of the match\n",
        "    \n",
        "    \"\"\"\n",
        "    print(\"Elo rankings computing...\")\n",
        "    players=list(pd.Series(list(data.Winner)+list(data.Loser)).value_counts().index) # Gather all players from data\n",
        "    elo=pd.Series(np.ones(len(players))*1500,index=players) # Attribute Elo Ranking of 1500 to each player\n",
        "    ranking_elo=[(1500,1500)]\n",
        "    for i in range(1,len(data)):\n",
        "        w=data.iloc[i-1,:].Winner   # Select Winner and Loser of the previous game\n",
        "        l=data.iloc[i-1,:].Loser\n",
        "        elow=elo[w]  \n",
        "        elol=elo[l]\n",
        "        pwin=1 / (1 + 10 ** ((elol - elow) / 400))  # Win prob resulting from elo. Ex: elol = 1900, elow = 2000. Delta = 100 -> winner prob = 64%\n",
        "        K_win=32\n",
        "        K_los=32\n",
        "        new_elow=elow+K_win*(1-pwin) # The winner has his elo increased by K_win*(1-pwin). Ex: 1500 + 32*(1-0.64) = 1511.52. \n",
        "        new_elol=elol-K_los*(1-pwin) # A victory against a better ranked player grants more points.\n",
        "        elo[w]=new_elow\n",
        "        elo[l]=new_elol\n",
        "        ranking_elo.append((elo[data.iloc[i,:].Winner],elo[data.iloc[i,:].Loser])) \n",
        "        if i%3000==0:\n",
        "            print(str(i)+\" matches computed...\")\n",
        "    ranking_elo=pd.DataFrame(ranking_elo,columns=[\"elo_winner\",\"elo_loser\"]) \n",
        "    ranking_elo[\"p_elo_winner\"]=1 / (1 + 10 ** ((ranking_elo[\"elo_loser\"] - ranking_elo[\"elo_winner\"]) / 400))   \n",
        "    ranking_elo[\"p_elo_loser\"]=1 / (1 + 10 ** ((ranking_elo[\"elo_winner\"] - ranking_elo[\"elo_loser\"]) / 400))\n",
        "    return ranking_elo\n",
        "\n",
        "# Computing of the elo ranking of each player at the beginning of each match.\n",
        "elo_rankings = compute_elo_rankings(data)\n",
        "data = pd.concat([data,elo_rankings],1)\n"
      ],
      "execution_count": 4,
      "outputs": [
        {
          "output_type": "stream",
          "name": "stdout",
          "text": [
            "Elo rankings computing...\n",
            "3000 matches computed...\n",
            "6000 matches computed...\n",
            "9000 matches computed...\n",
            "12000 matches computed...\n",
            "15000 matches computed...\n"
          ]
        }
      ]
    },
    {
      "cell_type": "markdown",
      "metadata": {
        "id": "RNNwIJUi0mWH"
      },
      "source": [
        "#### Remove outliers and absurd values"
      ]
    },
    {
      "cell_type": "code",
      "metadata": {
        "id": "yKZ6rUSW078c"
      },
      "source": [
        "data = data[data.Comment == 'Completed']\n",
        "data.drop('Comment',axis=1,inplace=True)\n",
        "data = data[data.Round != 'Round Robin']\n",
        "data = data[(data.PSW >1)&(data.PSL>1)&(data.B365W>1)&(data.B365W>1)]\n",
        "data = data[(data.WRank != 0) & (data.LRank != 0)]\n",
        "data.dropna(axis=0,inplace=True)\n"
      ],
      "execution_count": 5,
      "outputs": []
    },
    {
      "cell_type": "markdown",
      "metadata": {
        "id": "-4ZesFNNl4Ei"
      },
      "source": [
        "#### Create cumulative stats \n",
        "\n"
      ]
    },
    {
      "cell_type": "code",
      "metadata": {
        "id": "xlk6iMhg9ORU"
      },
      "source": [
        "data.reset_index(inplace=True)\n",
        "\n",
        "df1 = data.copy()\n",
        "df1['w']=1\n",
        "df1['l']=0\n",
        "\n",
        "index=df1['index']\n",
        "winner=df1['Winner']\n",
        "loser=df1['Loser']\n",
        "surface=df1['Surface']\n",
        "w=df1['w']\n",
        "l=df1['l']\n",
        "date=df1['Date']\n",
        "\n",
        "df2 = pd.concat([index,winner,loser,surface,w,l,date], axis = 1)\n",
        "\n",
        "player=pd.concat([winner,loser], axis = 0)\n",
        "status=pd.concat([w,l], axis = 0)\n",
        "index=pd.concat([index,index], axis = 0)\n",
        "surface=pd.concat([surface,surface], axis = 0)\n",
        "date=pd.concat([date,date], axis = 0)\n",
        "\n",
        "df3 = pd.concat([index,player, status,surface,date], axis = 1)\n",
        "df3.columns = ['index','Player','Winner','Surface','Date']\n",
        "\n",
        "df_players = pd.pivot_table(df3,index=['Player','index','Surface','Date'])\n",
        "df_players['Loser']=df_players['Winner'].apply(lambda x: 0 if x ==1 else 1)\n",
        "\n",
        "df_players.reset_index(inplace=True)\n",
        "df_players.set_index(['Date'], inplace=True)\n",
        "df_players.sort_values(['Date'], inplace=True)\n",
        "\n",
        "df_surface = df_players.copy()\n",
        "\n",
        "df_players['Wins_R']=df_players.groupby('Player')['Winner'].transform(lambda x: x.rolling('3000D').sum()).fillna(0)-df_players['Winner']  # NB days can be changed if needed\n",
        "df_players['Defeats_R']=df_players.groupby('Player')['Loser'].transform(lambda x: x.rolling('3000D').sum()).fillna(0)-df_players['Loser'] # NB days can be changed if needed\n",
        "df_players['Played_R']=df_players['Wins_R']+df_players['Defeats_R']\n",
        "df_players['WinRate_R']=df_players['Wins_R']/df_players['Played_R']\n",
        "df_players['WinRate_R'].fillna(0,inplace=True)\n",
        "\n",
        "df_surface['Wins_R']=df_surface.groupby(['Player','Surface'])['Winner'].transform(lambda x: x.rolling('3000D').sum()).fillna(0)-df_surface['Winner']  # NB days can be changed if needed\n",
        "df_surface['Defeats_R']=df_surface.groupby(['Player','Surface'])['Loser'].transform(lambda x: x.rolling('3000D').sum()).fillna(0)-df_surface['Loser'] # NB days can be changed if needed\n",
        "df_surface['Played_R']=df_surface['Wins_R']+df_surface['Defeats_R']\n",
        "df_surface['WinRate_R']=df_surface['Wins_R']/df_surface['Played_R']\n",
        "df_surface['WinRate_R'].fillna(0,inplace=True)\n",
        "\n",
        "df_players.sort_values(['index','Loser'], inplace=True)\n",
        "df_surface.sort_values(['index','Loser'], inplace=True)\n",
        "\n",
        "Players_merge = pd.DataFrame({'Winner':df_players['Player'].iloc[::2].values, 'Loser':df_players['Player'].iloc[1::2].values,\n",
        "                        'Winner_wins_R':df_players['Wins_R'].iloc[::2].values, 'Loser_wins_R':df_players['Wins_R'].iloc[1::2].values,\n",
        "                        'Winner_defeats_R':df_players['Defeats_R'].iloc[::2].values, 'Loser_defeats_R':df_players['Defeats_R'].iloc[1::2].values,\n",
        "                        'Winner_Played_R':df_players['Played_R'].iloc[::2].values, 'Loser_Played_R':df_players['Played_R'].iloc[1::2].values,\n",
        "                        'Winner_WinRate_R':df_players['WinRate_R'].iloc[::2].values, 'Loser_WinRate_R':df_players['WinRate_R'].iloc[1::2].values,\n",
        "                        'Winner_wins_S':df_surface['Wins_R'].iloc[::2].values, 'Loser_wins_S':df_surface['Wins_R'].iloc[1::2].values,\n",
        "                        'Winner_defeats_S':df_surface['Defeats_R'].iloc[::2].values, 'Loser_defeats_S':df_surface['Defeats_R'].iloc[1::2].values,\n",
        "                        'Winner_Played_S':df_surface['Played_R'].iloc[::2].values, 'Loser_Played_S':df_surface['Played_R'].iloc[1::2].values,\n",
        "                        'Winner_WinRate_S':df_surface['WinRate_R'].iloc[::2].values, 'Loser_WinRate_S':df_surface['WinRate_R'].iloc[1::2].values,\n",
        "                        'index':df_players['index'].iloc[1::2].values})\n",
        "\n",
        "Players_merge.rename(columns={'index': 'index_t', 'Winner': 'Winner_t', 'Loser': 'Loser_t'},inplace=True)\n",
        "data=pd.concat([data,Players_merge], axis = 1)\n",
        "data.drop(['index_t','Winner_t','Loser_t'],axis=1,inplace=True)"
      ],
      "execution_count": 6,
      "outputs": []
    },
    {
      "cell_type": "markdown",
      "metadata": {
        "id": "2Bj4JTciX8rM"
      },
      "source": [
        "#### Remove Winners / Losers -> Replace with P1 and P2 taken randomly "
      ]
    },
    {
      "cell_type": "code",
      "metadata": {
        "id": "gxoYxwOgYpaB"
      },
      "source": [
        "\n",
        "v = data[['Winner', 'Loser']].values\n",
        "ix = np.random.randint(0,v.shape[1],data.shape[0])\n",
        "data['P1'] = np.take_along_axis(v, ix[:,None], 1)\n",
        "\n",
        "data['P2'] = np.where(data.P1 == data.Winner,data.Loser, data.Winner)\n",
        "\n",
        "data['P1_Rank']=np.where(data.P1 == data.Winner,data.WRank,data.LRank)\n",
        "data['P2_Rank']=np.where(data.P2 == data.Winner,data.WRank,data.LRank)\n",
        "\n",
        "data['P1_Elo']=np.where(data.P1 == data.Winner,data.elo_winner,data.elo_loser)\n",
        "data['P2_Elo']=np.where(data.P2 == data.Winner,data.elo_winner,data.elo_loser)\n",
        "\n",
        "data['P1_p_Elo']=np.where(data.P1 == data.Winner,data.p_elo_winner,data.p_elo_loser)\n",
        "data['P2_p_Elo']=np.where(data.P2 == data.Winner,data.p_elo_winner,data.p_elo_loser)\n",
        "\n",
        "data['P1_Odds_Pin']=np.where(data.P1 == data.Winner,data.PSW,data.PSL)\n",
        "data['P2_Odds_Pin']=np.where(data.P2 == data.Winner,data.PSW,data.PSL)\n",
        "\n",
        "data['P1_Odds_B365']=np.where(data.P1 == data.Winner,data.B365W,data.B365L)\n",
        "data['P2_Odds_B365']=np.where(data.P2 == data.Winner,data.B365W,data.B365L)\n",
        "\n",
        "data['P1_Wins']=np.where(data.P1 == data.Winner,data.Winner_wins_R,data.Loser_wins_R)\n",
        "data['P2_Wins']=np.where(data.P2 == data.Winner,data.Winner_wins_R,data.Loser_wins_R)\n",
        "\n",
        "data['P1_Defeats']=np.where(data.P1 == data.Winner,data.Winner_defeats_R,data.Loser_defeats_R)\n",
        "data['P2_Defeats']=np.where(data.P2 == data.Winner,data.Winner_defeats_R,data.Loser_defeats_R)\n",
        "\n",
        "data['P1_Played']=np.where(data.P1 == data.Winner,data.Winner_Played_R,data.Loser_Played_R)\n",
        "data['P2_Played']=np.where(data.P2 == data.Winner,data.Winner_Played_R,data.Loser_Played_R)\n",
        "\n",
        "data['P1_WinRate']=np.where(data.P1 == data.Winner,data.Winner_WinRate_R,data.Loser_WinRate_R)\n",
        "data['P2_WinRate']=np.where(data.P2 == data.Winner,data.Winner_WinRate_R,data.Loser_WinRate_R)\n",
        "\n",
        "data['P1_Surface_Wins']=np.where(data.P1 == data.Winner,data.Winner_wins_S,data.Loser_wins_S)\n",
        "data['P2_Surface_Wins']=np.where(data.P2 == data.Winner,data.Winner_wins_S,data.Loser_wins_S)\n",
        "\n",
        "data['P1_Surface_Defeats']=np.where(data.P1 == data.Winner,data.Winner_defeats_S,data.Loser_defeats_S)\n",
        "data['P2_Surface_Defeats']=np.where(data.P2 == data.Winner,data.Winner_defeats_S,data.Loser_defeats_S)\n",
        "\n",
        "data['P1_Surface_Played']=np.where(data.P1 == data.Winner,data.Winner_Played_S,data.Loser_Played_S)\n",
        "data['P2_Surface_Played']=np.where(data.P2 == data.Winner,data.Winner_Played_S,data.Loser_Played_S)\n",
        "\n",
        "data['P1_Surface_WinRate']=np.where(data.P1 == data.Winner,data.Winner_WinRate_S,data.Loser_WinRate_S)\n",
        "data['P2_Surface_WinRate']=np.where(data.P2 == data.Winner,data.Winner_WinRate_S,data.Loser_WinRate_S)\n"
      ],
      "execution_count": 7,
      "outputs": []
    },
    {
      "cell_type": "markdown",
      "metadata": {
        "id": "yDbTBzpwjasD"
      },
      "source": [
        "#### Target variable preparation"
      ]
    },
    {
      "cell_type": "code",
      "metadata": {
        "id": "cCZYLWA0T7Ca"
      },
      "source": [
        "data['Won']=np.where(data.P1 == data.Winner,1,2)\n",
        " \n",
        "data.drop(['WRank','LRank','PSL','PSW','B365W','B365L','elo_winner','elo_loser','p_elo_winner','p_elo_loser','Loser','Winner',\n",
        "           'Winner_wins_R','Loser_wins_R','Winner_defeats_R','Loser_defeats_R','Winner_Played_R','Loser_Played_R','Winner_WinRate_R','Loser_WinRate_R',\n",
        "           'Winner_wins_S','Loser_wins_S','Winner_defeats_S','Loser_defeats_S','Winner_Played_S','Loser_Played_S','Winner_WinRate_S','Loser_WinRate_S'],axis=1,inplace=True)"
      ],
      "execution_count": 8,
      "outputs": []
    },
    {
      "cell_type": "code",
      "metadata": {
        "id": "PUOUjDL2wm-a"
      },
      "source": [
        "cols = list(data.columns.values) # Make a list of all of the columns in the df\n",
        "cols.pop(cols.index('Won')) # Remove 'Winner' from list\n",
        "data = data[cols+['Won']] # change dataframe with Winner at the end\n",
        "\n",
        "pd.set_option('max_colwidth', 13)"
      ],
      "execution_count": 9,
      "outputs": []
    },
    {
      "cell_type": "code",
      "metadata": {
        "id": "UIIcs9TjI3WI"
      },
      "source": [
        "data['Year']=data.Date.dt.year\n",
        "data['Month']=data.Date.dt.month"
      ],
      "execution_count": 10,
      "outputs": []
    },
    {
      "cell_type": "code",
      "metadata": {
        "colab": {
          "base_uri": "https://localhost:8080/",
          "height": 330
        },
        "id": "0tiHCbQR5epy",
        "outputId": "fa2036b3-07a5-470e-bc05-7dd300f87dcc"
      },
      "source": [
        "data_4_ROI=data.copy()\n",
        "data_4_ROI.tail()"
      ],
      "execution_count": 11,
      "outputs": [
        {
          "output_type": "execute_result",
          "data": {
            "text/html": [
              "<div>\n",
              "<style scoped>\n",
              "    .dataframe tbody tr th:only-of-type {\n",
              "        vertical-align: middle;\n",
              "    }\n",
              "\n",
              "    .dataframe tbody tr th {\n",
              "        vertical-align: top;\n",
              "    }\n",
              "\n",
              "    .dataframe thead th {\n",
              "        text-align: right;\n",
              "    }\n",
              "</style>\n",
              "<table border=\"1\" class=\"dataframe\">\n",
              "  <thead>\n",
              "    <tr style=\"text-align: right;\">\n",
              "      <th></th>\n",
              "      <th>index</th>\n",
              "      <th>ATP</th>\n",
              "      <th>Location</th>\n",
              "      <th>Tournament</th>\n",
              "      <th>Date</th>\n",
              "      <th>Series</th>\n",
              "      <th>Court</th>\n",
              "      <th>Surface</th>\n",
              "      <th>Round</th>\n",
              "      <th>Best of</th>\n",
              "      <th>P1</th>\n",
              "      <th>P2</th>\n",
              "      <th>P1_Rank</th>\n",
              "      <th>P2_Rank</th>\n",
              "      <th>P1_Elo</th>\n",
              "      <th>P2_Elo</th>\n",
              "      <th>P1_p_Elo</th>\n",
              "      <th>P2_p_Elo</th>\n",
              "      <th>P1_Odds_Pin</th>\n",
              "      <th>P2_Odds_Pin</th>\n",
              "      <th>P1_Odds_B365</th>\n",
              "      <th>P2_Odds_B365</th>\n",
              "      <th>P1_Wins</th>\n",
              "      <th>P2_Wins</th>\n",
              "      <th>P1_Defeats</th>\n",
              "      <th>P2_Defeats</th>\n",
              "      <th>P1_Played</th>\n",
              "      <th>P2_Played</th>\n",
              "      <th>P1_WinRate</th>\n",
              "      <th>P2_WinRate</th>\n",
              "      <th>P1_Surface_Wins</th>\n",
              "      <th>P2_Surface_Wins</th>\n",
              "      <th>P1_Surface_Defeats</th>\n",
              "      <th>P2_Surface_Defeats</th>\n",
              "      <th>P1_Surface_Played</th>\n",
              "      <th>P2_Surface_Played</th>\n",
              "      <th>P1_Surface_WinRate</th>\n",
              "      <th>P2_Surface_WinRate</th>\n",
              "      <th>Won</th>\n",
              "      <th>Year</th>\n",
              "      <th>Month</th>\n",
              "    </tr>\n",
              "  </thead>\n",
              "  <tbody>\n",
              "    <tr>\n",
              "      <th>15701</th>\n",
              "      <td>16475</td>\n",
              "      <td>49</td>\n",
              "      <td>New York</td>\n",
              "      <td>US Open</td>\n",
              "      <td>2021-09-08</td>\n",
              "      <td>Grand Slam</td>\n",
              "      <td>Outdoor</td>\n",
              "      <td>Hard</td>\n",
              "      <td>Quarterfi...</td>\n",
              "      <td>5</td>\n",
              "      <td>Harris L.</td>\n",
              "      <td>Zverev A.</td>\n",
              "      <td>46.0</td>\n",
              "      <td>4.0</td>\n",
              "      <td>1703.441883</td>\n",
              "      <td>1967.301571</td>\n",
              "      <td>0.179624</td>\n",
              "      <td>0.820376</td>\n",
              "      <td>6.90</td>\n",
              "      <td>1.14</td>\n",
              "      <td>6.00</td>\n",
              "      <td>1.12</td>\n",
              "      <td>41</td>\n",
              "      <td>259</td>\n",
              "      <td>40</td>\n",
              "      <td>112</td>\n",
              "      <td>81</td>\n",
              "      <td>371</td>\n",
              "      <td>0.506173</td>\n",
              "      <td>0.698113</td>\n",
              "      <td>33</td>\n",
              "      <td>147</td>\n",
              "      <td>28</td>\n",
              "      <td>66</td>\n",
              "      <td>61</td>\n",
              "      <td>213</td>\n",
              "      <td>0.540984</td>\n",
              "      <td>0.690141</td>\n",
              "      <td>2</td>\n",
              "      <td>2021</td>\n",
              "      <td>9</td>\n",
              "    </tr>\n",
              "    <tr>\n",
              "      <th>15702</th>\n",
              "      <td>16476</td>\n",
              "      <td>49</td>\n",
              "      <td>New York</td>\n",
              "      <td>US Open</td>\n",
              "      <td>2021-09-09</td>\n",
              "      <td>Grand Slam</td>\n",
              "      <td>Outdoor</td>\n",
              "      <td>Hard</td>\n",
              "      <td>Quarterfi...</td>\n",
              "      <td>5</td>\n",
              "      <td>Berrettin...</td>\n",
              "      <td>Djokovic N.</td>\n",
              "      <td>8.0</td>\n",
              "      <td>1.0</td>\n",
              "      <td>1909.649603</td>\n",
              "      <td>2128.466902</td>\n",
              "      <td>0.221040</td>\n",
              "      <td>0.778960</td>\n",
              "      <td>7.81</td>\n",
              "      <td>1.12</td>\n",
              "      <td>7.00</td>\n",
              "      <td>1.10</td>\n",
              "      <td>103</td>\n",
              "      <td>331</td>\n",
              "      <td>54</td>\n",
              "      <td>45</td>\n",
              "      <td>157</td>\n",
              "      <td>376</td>\n",
              "      <td>0.656051</td>\n",
              "      <td>0.880319</td>\n",
              "      <td>39</td>\n",
              "      <td>193</td>\n",
              "      <td>30</td>\n",
              "      <td>24</td>\n",
              "      <td>69</td>\n",
              "      <td>217</td>\n",
              "      <td>0.565217</td>\n",
              "      <td>0.889401</td>\n",
              "      <td>2</td>\n",
              "      <td>2021</td>\n",
              "      <td>9</td>\n",
              "    </tr>\n",
              "    <tr>\n",
              "      <th>15703</th>\n",
              "      <td>16477</td>\n",
              "      <td>49</td>\n",
              "      <td>New York</td>\n",
              "      <td>US Open</td>\n",
              "      <td>2021-09-10</td>\n",
              "      <td>Grand Slam</td>\n",
              "      <td>Outdoor</td>\n",
              "      <td>Hard</td>\n",
              "      <td>Semifinals</td>\n",
              "      <td>5</td>\n",
              "      <td>Medvedev D.</td>\n",
              "      <td>Auger-Ali...</td>\n",
              "      <td>2.0</td>\n",
              "      <td>15.0</td>\n",
              "      <td>1974.037478</td>\n",
              "      <td>1803.902012</td>\n",
              "      <td>0.726985</td>\n",
              "      <td>0.273015</td>\n",
              "      <td>1.17</td>\n",
              "      <td>5.95</td>\n",
              "      <td>1.16</td>\n",
              "      <td>5.00</td>\n",
              "      <td>181</td>\n",
              "      <td>87</td>\n",
              "      <td>84</td>\n",
              "      <td>63</td>\n",
              "      <td>265</td>\n",
              "      <td>150</td>\n",
              "      <td>0.683019</td>\n",
              "      <td>0.580000</td>\n",
              "      <td>141</td>\n",
              "      <td>52</td>\n",
              "      <td>51</td>\n",
              "      <td>37</td>\n",
              "      <td>192</td>\n",
              "      <td>89</td>\n",
              "      <td>0.734375</td>\n",
              "      <td>0.584270</td>\n",
              "      <td>1</td>\n",
              "      <td>2021</td>\n",
              "      <td>9</td>\n",
              "    </tr>\n",
              "    <tr>\n",
              "      <th>15704</th>\n",
              "      <td>16478</td>\n",
              "      <td>49</td>\n",
              "      <td>New York</td>\n",
              "      <td>US Open</td>\n",
              "      <td>2021-09-11</td>\n",
              "      <td>Grand Slam</td>\n",
              "      <td>Outdoor</td>\n",
              "      <td>Hard</td>\n",
              "      <td>Semifinals</td>\n",
              "      <td>5</td>\n",
              "      <td>Zverev A.</td>\n",
              "      <td>Djokovic N.</td>\n",
              "      <td>4.0</td>\n",
              "      <td>1.0</td>\n",
              "      <td>1973.049533</td>\n",
              "      <td>2135.540195</td>\n",
              "      <td>0.281836</td>\n",
              "      <td>0.718164</td>\n",
              "      <td>3.14</td>\n",
              "      <td>1.42</td>\n",
              "      <td>3.00</td>\n",
              "      <td>1.40</td>\n",
              "      <td>260</td>\n",
              "      <td>332</td>\n",
              "      <td>112</td>\n",
              "      <td>45</td>\n",
              "      <td>372</td>\n",
              "      <td>377</td>\n",
              "      <td>0.698925</td>\n",
              "      <td>0.880637</td>\n",
              "      <td>148</td>\n",
              "      <td>194</td>\n",
              "      <td>66</td>\n",
              "      <td>24</td>\n",
              "      <td>214</td>\n",
              "      <td>218</td>\n",
              "      <td>0.691589</td>\n",
              "      <td>0.889908</td>\n",
              "      <td>2</td>\n",
              "      <td>2021</td>\n",
              "      <td>9</td>\n",
              "    </tr>\n",
              "    <tr>\n",
              "      <th>15705</th>\n",
              "      <td>16479</td>\n",
              "      <td>49</td>\n",
              "      <td>New York</td>\n",
              "      <td>US Open</td>\n",
              "      <td>2021-09-12</td>\n",
              "      <td>Grand Slam</td>\n",
              "      <td>Outdoor</td>\n",
              "      <td>Hard</td>\n",
              "      <td>The Final</td>\n",
              "      <td>5</td>\n",
              "      <td>Medvedev D.</td>\n",
              "      <td>Djokovic N.</td>\n",
              "      <td>2.0</td>\n",
              "      <td>1.0</td>\n",
              "      <td>1982.773962</td>\n",
              "      <td>2144.558955</td>\n",
              "      <td>0.282659</td>\n",
              "      <td>0.717341</td>\n",
              "      <td>3.14</td>\n",
              "      <td>1.42</td>\n",
              "      <td>3.00</td>\n",
              "      <td>1.40</td>\n",
              "      <td>182</td>\n",
              "      <td>333</td>\n",
              "      <td>84</td>\n",
              "      <td>45</td>\n",
              "      <td>266</td>\n",
              "      <td>378</td>\n",
              "      <td>0.684211</td>\n",
              "      <td>0.880952</td>\n",
              "      <td>142</td>\n",
              "      <td>195</td>\n",
              "      <td>51</td>\n",
              "      <td>24</td>\n",
              "      <td>193</td>\n",
              "      <td>219</td>\n",
              "      <td>0.735751</td>\n",
              "      <td>0.890411</td>\n",
              "      <td>1</td>\n",
              "      <td>2021</td>\n",
              "      <td>9</td>\n",
              "    </tr>\n",
              "  </tbody>\n",
              "</table>\n",
              "</div>"
            ],
            "text/plain": [
              "       index  ATP  Location Tournament  ... P2_Surface_WinRate Won  Year Month\n",
              "15701  16475   49  New York    US Open  ...      0.690141        2  2021     9\n",
              "15702  16476   49  New York    US Open  ...      0.889401        2  2021     9\n",
              "15703  16477   49  New York    US Open  ...      0.584270        1  2021     9\n",
              "15704  16478   49  New York    US Open  ...      0.889908        2  2021     9\n",
              "15705  16479   49  New York    US Open  ...      0.890411        1  2021     9\n",
              "\n",
              "[5 rows x 41 columns]"
            ]
          },
          "metadata": {},
          "execution_count": 11
        }
      ]
    },
    {
      "cell_type": "markdown",
      "metadata": {
        "id": "QqVhCXPvhk0m"
      },
      "source": [
        "**SCENARIO 1 : BET ON HIGHEST ODDS ONLY**"
      ]
    },
    {
      "cell_type": "code",
      "metadata": {
        "id": "9UDuzFpQjd_h"
      },
      "source": [
        "# Features selection\n",
        "\n",
        "data1=data[['Year','Month','P1_Odds_Pin','P2_Odds_Pin','Won']].copy()\n",
        "\n",
        "# We bet on higher odds\n",
        "\n",
        "data1['Bets_P1']=np.where(data1['P1_Odds_Pin'] >data1 ['P2_Odds_Pin'],1,0)\n",
        "data1['Bets_P2']=np.where(data1['P2_Odds_Pin'] >data1 ['P1_Odds_Pin'],2,0)\n",
        "\n",
        "# Counter of bets and bets won\n",
        "\n",
        "data1['Bets']=np.where((data1['Bets_P1'] == 1)|(data1['Bets_P2'] == 2),1,0)\n",
        "data1['Wins']=np.where((data1['Bets_P1'] == data1['Won'])|(data1['Bets_P2']== data1['Won']),1,0)\n",
        "                           \n",
        "# Profit\n",
        "\n",
        "data1['P1_$']=np.where((data1['Bets_P1'] == data1['Won']),data1['P1_Odds_Pin'],0)\n",
        "data1['P2_$']=np.where((data1['Bets_P2'] == data1['Won']),data1['P2_Odds_Pin'],0)  \n",
        "data1['Net_Profit']=data1['P1_$']+data1['P2_$']-data1['Bets']"
      ],
      "execution_count": 12,
      "outputs": []
    },
    {
      "cell_type": "code",
      "metadata": {
        "colab": {
          "base_uri": "https://localhost:8080/",
          "height": 206
        },
        "id": "lC0-7q1ApTto",
        "outputId": "f50be8a2-d7f0-4269-e2fc-f474769bbf2e"
      },
      "source": [
        "data1.head()"
      ],
      "execution_count": 13,
      "outputs": [
        {
          "output_type": "execute_result",
          "data": {
            "text/html": [
              "<div>\n",
              "<style scoped>\n",
              "    .dataframe tbody tr th:only-of-type {\n",
              "        vertical-align: middle;\n",
              "    }\n",
              "\n",
              "    .dataframe tbody tr th {\n",
              "        vertical-align: top;\n",
              "    }\n",
              "\n",
              "    .dataframe thead th {\n",
              "        text-align: right;\n",
              "    }\n",
              "</style>\n",
              "<table border=\"1\" class=\"dataframe\">\n",
              "  <thead>\n",
              "    <tr style=\"text-align: right;\">\n",
              "      <th></th>\n",
              "      <th>Year</th>\n",
              "      <th>Month</th>\n",
              "      <th>P1_Odds_Pin</th>\n",
              "      <th>P2_Odds_Pin</th>\n",
              "      <th>Won</th>\n",
              "      <th>Bets_P1</th>\n",
              "      <th>Bets_P2</th>\n",
              "      <th>Bets</th>\n",
              "      <th>Wins</th>\n",
              "      <th>P1_$</th>\n",
              "      <th>P2_$</th>\n",
              "      <th>Net_Profit</th>\n",
              "    </tr>\n",
              "  </thead>\n",
              "  <tbody>\n",
              "    <tr>\n",
              "      <th>0</th>\n",
              "      <td>2015</td>\n",
              "      <td>1</td>\n",
              "      <td>2.65</td>\n",
              "      <td>1.53</td>\n",
              "      <td>2</td>\n",
              "      <td>1</td>\n",
              "      <td>0</td>\n",
              "      <td>1</td>\n",
              "      <td>0</td>\n",
              "      <td>0.0</td>\n",
              "      <td>0.00</td>\n",
              "      <td>-1.00</td>\n",
              "    </tr>\n",
              "    <tr>\n",
              "      <th>1</th>\n",
              "      <td>2015</td>\n",
              "      <td>1</td>\n",
              "      <td>3.50</td>\n",
              "      <td>1.34</td>\n",
              "      <td>2</td>\n",
              "      <td>1</td>\n",
              "      <td>0</td>\n",
              "      <td>1</td>\n",
              "      <td>0</td>\n",
              "      <td>0.0</td>\n",
              "      <td>0.00</td>\n",
              "      <td>-1.00</td>\n",
              "    </tr>\n",
              "    <tr>\n",
              "      <th>2</th>\n",
              "      <td>2015</td>\n",
              "      <td>1</td>\n",
              "      <td>1.65</td>\n",
              "      <td>2.37</td>\n",
              "      <td>1</td>\n",
              "      <td>0</td>\n",
              "      <td>2</td>\n",
              "      <td>1</td>\n",
              "      <td>0</td>\n",
              "      <td>0.0</td>\n",
              "      <td>0.00</td>\n",
              "      <td>-1.00</td>\n",
              "    </tr>\n",
              "    <tr>\n",
              "      <th>3</th>\n",
              "      <td>2015</td>\n",
              "      <td>1</td>\n",
              "      <td>1.23</td>\n",
              "      <td>4.67</td>\n",
              "      <td>2</td>\n",
              "      <td>0</td>\n",
              "      <td>2</td>\n",
              "      <td>1</td>\n",
              "      <td>1</td>\n",
              "      <td>0.0</td>\n",
              "      <td>4.67</td>\n",
              "      <td>3.67</td>\n",
              "    </tr>\n",
              "    <tr>\n",
              "      <th>4</th>\n",
              "      <td>2015</td>\n",
              "      <td>1</td>\n",
              "      <td>2.10</td>\n",
              "      <td>1.81</td>\n",
              "      <td>2</td>\n",
              "      <td>1</td>\n",
              "      <td>0</td>\n",
              "      <td>1</td>\n",
              "      <td>0</td>\n",
              "      <td>0.0</td>\n",
              "      <td>0.00</td>\n",
              "      <td>-1.00</td>\n",
              "    </tr>\n",
              "  </tbody>\n",
              "</table>\n",
              "</div>"
            ],
            "text/plain": [
              "   Year  Month  P1_Odds_Pin  P2_Odds_Pin  ...  Wins  P1_$  P2_$  Net_Profit\n",
              "0  2015      1         2.65         1.53  ...     0   0.0  0.00       -1.00\n",
              "1  2015      1         3.50         1.34  ...     0   0.0  0.00       -1.00\n",
              "2  2015      1         1.65         2.37  ...     0   0.0  0.00       -1.00\n",
              "3  2015      1         1.23         4.67  ...     1   0.0  4.67        3.67\n",
              "4  2015      1         2.10         1.81  ...     0   0.0  0.00       -1.00\n",
              "\n",
              "[5 rows x 12 columns]"
            ]
          },
          "metadata": {},
          "execution_count": 13
        }
      ]
    },
    {
      "cell_type": "code",
      "metadata": {
        "colab": {
          "base_uri": "https://localhost:8080/",
          "height": 364
        },
        "id": "0InCXHJ8lIyC",
        "outputId": "270121cd-66dd-4391-97f3-bb9ffd026cba"
      },
      "source": [
        "# Let's now plot the ROI\n",
        "\n",
        "Pyear1= data1.groupby(by='Year').Net_Profit.sum()\n",
        "print('Overall Profit:',\"%.2f\" % Pyear1.sum(),'\\n')\n",
        "print('ROI:',\"{0:.1%}\".format(Pyear1.sum()/data1['Bets'].sum()),'\\n')\n",
        "\n",
        "Pyear1.plot.bar();"
      ],
      "execution_count": 14,
      "outputs": [
        {
          "output_type": "stream",
          "name": "stdout",
          "text": [
            "Overall Profit: -876.14 \n",
            "\n",
            "ROI: -5.6% \n",
            "\n"
          ]
        },
        {
          "output_type": "display_data",
          "data": {
            "image/png": "[encoded data removed]",
            "text/plain": [
              "<Figure size 432x288 with 1 Axes>"
            ]
          },
          "metadata": {
            "needs_background": "light"
          }
        }
      ]
    },
    {
      "cell_type": "markdown",
      "metadata": {
        "id": "PIhLahCrsTtd"
      },
      "source": [
        "**SCENARIO 2 : BET ON ALL GAMES BASED ON OUR BEST PREDICTIONS**"
      ]
    },
    {
      "cell_type": "code",
      "metadata": {
        "id": "mUEp9mebsHaR"
      },
      "source": [
        "# Features selection\n",
        "\n",
        "data2=data[['Year','Month','P1_Surface_WinRate','P2_Surface_WinRate','P1_p_Elo','P2_p_Elo','P1_Rank','P2_Rank','P1_Odds_Pin','P2_Odds_Pin','Won']].copy()\n"
      ],
      "execution_count": 15,
      "outputs": []
    },
    {
      "cell_type": "code",
      "metadata": {
        "id": "SgCJMsYtWm7P"
      },
      "source": [
        "# Data split, normalization, preparation of predictions dataframe\n",
        "\n",
        "from sklearn.model_selection import train_test_split\n",
        "from sklearn.preprocessing import QuantileTransformer\n",
        "\n",
        "DATA = data2.drop('Won',axis=1)\n",
        "TARGET = data2['Won']\n",
        "\n",
        "X_train,X_test,y_train,y_test=train_test_split(DATA,TARGET,test_size=0.2,random_state=10)\n",
        "\n",
        "df1 = X_test.copy()  \n",
        "df1 =pd.concat([df1,y_test], axis = 1) # Preparation of the dataframe that combines : data + odds + predictions + results\n",
        "\n",
        "df1.drop(['P1_Surface_WinRate','P2_Surface_WinRate','P1_p_Elo','P2_p_Elo','P1_Rank','P2_Rank'],axis=1,inplace=True) # we do not need the features in our prediction dataframe\n",
        "\n",
        "X_train.drop(['P1_Odds_Pin','P2_Odds_Pin','Year','Month'],axis=1,inplace=True) # We don't want to use bookmaker odds to train our model\n",
        "X_test.drop(['P1_Odds_Pin','P2_Odds_Pin','Year','Month'],axis=1,inplace=True)\n",
        "\n",
        "from sklearn.preprocessing import QuantileTransformer\n",
        "\n",
        "qt = QuantileTransformer(random_state=0)\n",
        "scaler=qt.fit(X_train)\n",
        "X_train_scaled = scaler.transform(X_train)\n",
        "X_test = scaler.transform(X_test)\n"
      ],
      "execution_count": 16,
      "outputs": []
    },
    {
      "cell_type": "markdown",
      "metadata": {
        "id": "jQTK8fQJf-QO"
      },
      "source": [
        "As explained in the previous notebook, we chose the Logistic Regression as the preferred method: combination of high accuracy and fast execution"
      ]
    },
    {
      "cell_type": "code",
      "metadata": {
        "colab": {
          "base_uri": "https://localhost:8080/"
        },
        "id": "xpXq8lIlY92H",
        "outputId": "2819b068-4bcb-477a-88b0-757a551a023b"
      },
      "source": [
        "from sklearn import linear_model\n",
        "\n",
        "# Model training\n",
        "\n",
        "clf=linear_model.LogisticRegression(random_state=10)\n",
        "clf.fit(X_train_scaled,y_train)\n",
        "\n",
        "# Model assessment\n",
        "\n",
        "y_pred = clf.predict(X_test)\n",
        "\n",
        "# Confusion Matrix \n",
        "\n",
        "cm = pd.crosstab(y_test, y_pred, rownames=['Classe réelle'], colnames=['Classe prédite'])\n",
        "print(cm)\n",
        "\n",
        "# Score\n",
        "\n",
        "print('\\n''Score:',\"%.2f\" % clf.score(X_test, y_test))\n",
        "\n",
        "#Classification report\n",
        "\n",
        "print('\\n',classification_report(y_test, y_pred))\n"
      ],
      "execution_count": 17,
      "outputs": [
        {
          "output_type": "stream",
          "name": "stdout",
          "text": [
            "Classe prédite     1     2\n",
            "Classe réelle             \n",
            "1               1028   540\n",
            "2                512  1062\n",
            "\n",
            "Score: 0.67\n",
            "\n",
            "               precision    recall  f1-score   support\n",
            "\n",
            "           1       0.67      0.66      0.66      1568\n",
            "           2       0.66      0.67      0.67      1574\n",
            "\n",
            "    accuracy                           0.67      3142\n",
            "   macro avg       0.67      0.67      0.67      3142\n",
            "weighted avg       0.67      0.67      0.67      3142\n",
            "\n"
          ]
        }
      ]
    },
    {
      "cell_type": "code",
      "metadata": {
        "colab": {
          "base_uri": "https://localhost:8080/",
          "height": 206
        },
        "id": "orB6bo5sVKL5",
        "outputId": "f4860698-ac99-427f-815f-7a017fab821b"
      },
      "source": [
        "# Gathering elements for predictions template\n",
        "\n",
        "preds=pd.DataFrame(clf.predict_proba(X_test))\n",
        "\n",
        "preds.reset_index(inplace=True)\n",
        "df1.reset_index(inplace=True)\n",
        "preds.drop('index',axis=1,inplace=True)\n",
        "df1.drop('index',axis=1,inplace=True)\n",
        "\n",
        "df1=pd.concat([df1,preds], axis = 1)\n",
        "df1.rename(columns={0: \"P1_prob\", 1: \"P2_prob\"},inplace=True)\n",
        "\n",
        "df1.head()"
      ],
      "execution_count": 18,
      "outputs": [
        {
          "output_type": "execute_result",
          "data": {
            "text/html": [
              "<div>\n",
              "<style scoped>\n",
              "    .dataframe tbody tr th:only-of-type {\n",
              "        vertical-align: middle;\n",
              "    }\n",
              "\n",
              "    .dataframe tbody tr th {\n",
              "        vertical-align: top;\n",
              "    }\n",
              "\n",
              "    .dataframe thead th {\n",
              "        text-align: right;\n",
              "    }\n",
              "</style>\n",
              "<table border=\"1\" class=\"dataframe\">\n",
              "  <thead>\n",
              "    <tr style=\"text-align: right;\">\n",
              "      <th></th>\n",
              "      <th>Year</th>\n",
              "      <th>Month</th>\n",
              "      <th>P1_Odds_Pin</th>\n",
              "      <th>P2_Odds_Pin</th>\n",
              "      <th>Won</th>\n",
              "      <th>P1_prob</th>\n",
              "      <th>P2_prob</th>\n",
              "    </tr>\n",
              "  </thead>\n",
              "  <tbody>\n",
              "    <tr>\n",
              "      <th>0</th>\n",
              "      <td>2015</td>\n",
              "      <td>2</td>\n",
              "      <td>3.21</td>\n",
              "      <td>1.41</td>\n",
              "      <td>2</td>\n",
              "      <td>0.380297</td>\n",
              "      <td>0.619703</td>\n",
              "    </tr>\n",
              "    <tr>\n",
              "      <th>1</th>\n",
              "      <td>2020</td>\n",
              "      <td>9</td>\n",
              "      <td>1.59</td>\n",
              "      <td>2.52</td>\n",
              "      <td>2</td>\n",
              "      <td>0.740710</td>\n",
              "      <td>0.259290</td>\n",
              "    </tr>\n",
              "    <tr>\n",
              "      <th>2</th>\n",
              "      <td>2017</td>\n",
              "      <td>6</td>\n",
              "      <td>4.69</td>\n",
              "      <td>1.23</td>\n",
              "      <td>1</td>\n",
              "      <td>0.271282</td>\n",
              "      <td>0.728718</td>\n",
              "    </tr>\n",
              "    <tr>\n",
              "      <th>3</th>\n",
              "      <td>2017</td>\n",
              "      <td>6</td>\n",
              "      <td>1.23</td>\n",
              "      <td>4.77</td>\n",
              "      <td>1</td>\n",
              "      <td>0.663941</td>\n",
              "      <td>0.336059</td>\n",
              "    </tr>\n",
              "    <tr>\n",
              "      <th>4</th>\n",
              "      <td>2021</td>\n",
              "      <td>4</td>\n",
              "      <td>3.22</td>\n",
              "      <td>1.40</td>\n",
              "      <td>2</td>\n",
              "      <td>0.325226</td>\n",
              "      <td>0.674774</td>\n",
              "    </tr>\n",
              "  </tbody>\n",
              "</table>\n",
              "</div>"
            ],
            "text/plain": [
              "   Year  Month  P1_Odds_Pin  P2_Odds_Pin  Won   P1_prob   P2_prob\n",
              "0  2015      2         3.21         1.41    2  0.380297  0.619703\n",
              "1  2020      9         1.59         2.52    2  0.740710  0.259290\n",
              "2  2017      6         4.69         1.23    1  0.271282  0.728718\n",
              "3  2017      6         1.23         4.77    1  0.663941  0.336059\n",
              "4  2021      4         3.22         1.40    2  0.325226  0.674774"
            ]
          },
          "metadata": {},
          "execution_count": 18
        }
      ]
    },
    {
      "cell_type": "code",
      "metadata": {
        "id": "eFnQdlBfVaXO"
      },
      "source": [
        "# We bet on the higher probability win according to our prediction\n",
        "\n",
        "df1['Bets_P1']=np.where(df1['P1_prob'] >df1 ['P2_prob'],1,0)\n",
        "df1['Bets_P2']=np.where(df1['P2_prob'] >df1 ['P1_prob'],2,0)\n",
        "\n",
        "# Counter of bets and bets won\n",
        "\n",
        "df1['Bets']=np.where((df1['Bets_P1'] == 1)|(df1['Bets_P2'] == 2),1,0)\n",
        "df1['Wins']=np.where((df1['Bets_P1'] == df1['Won'])|(df1['Bets_P2']== df1['Won']),1,0)\n",
        "                           \n",
        "# Profit\n",
        "\n",
        "df1['P1_$']=np.where((df1['Bets_P1'] == df1['Won']),df1['P1_Odds_Pin'],0)\n",
        "df1['P2_$']=np.where((df1['Bets_P2'] == df1['Won']),df1['P2_Odds_Pin'],0)  \n",
        "df1['Net_Profit']=df1['P1_$']+df1['P2_$']-df1['Bets']"
      ],
      "execution_count": 19,
      "outputs": []
    },
    {
      "cell_type": "code",
      "metadata": {
        "colab": {
          "base_uri": "https://localhost:8080/",
          "height": 206
        },
        "id": "9ijHqtcrZVf0",
        "outputId": "9b3fb5da-d092-4002-a34c-8e3930898ef4"
      },
      "source": [
        "df1.head()"
      ],
      "execution_count": 20,
      "outputs": [
        {
          "output_type": "execute_result",
          "data": {
            "text/html": [
              "<div>\n",
              "<style scoped>\n",
              "    .dataframe tbody tr th:only-of-type {\n",
              "        vertical-align: middle;\n",
              "    }\n",
              "\n",
              "    .dataframe tbody tr th {\n",
              "        vertical-align: top;\n",
              "    }\n",
              "\n",
              "    .dataframe thead th {\n",
              "        text-align: right;\n",
              "    }\n",
              "</style>\n",
              "<table border=\"1\" class=\"dataframe\">\n",
              "  <thead>\n",
              "    <tr style=\"text-align: right;\">\n",
              "      <th></th>\n",
              "      <th>Year</th>\n",
              "      <th>Month</th>\n",
              "      <th>P1_Odds_Pin</th>\n",
              "      <th>P2_Odds_Pin</th>\n",
              "      <th>Won</th>\n",
              "      <th>P1_prob</th>\n",
              "      <th>P2_prob</th>\n",
              "      <th>Bets_P1</th>\n",
              "      <th>Bets_P2</th>\n",
              "      <th>Bets</th>\n",
              "      <th>Wins</th>\n",
              "      <th>P1_$</th>\n",
              "      <th>P2_$</th>\n",
              "      <th>Net_Profit</th>\n",
              "    </tr>\n",
              "  </thead>\n",
              "  <tbody>\n",
              "    <tr>\n",
              "      <th>0</th>\n",
              "      <td>2015</td>\n",
              "      <td>2</td>\n",
              "      <td>3.21</td>\n",
              "      <td>1.41</td>\n",
              "      <td>2</td>\n",
              "      <td>0.380297</td>\n",
              "      <td>0.619703</td>\n",
              "      <td>0</td>\n",
              "      <td>2</td>\n",
              "      <td>1</td>\n",
              "      <td>1</td>\n",
              "      <td>0.00</td>\n",
              "      <td>1.41</td>\n",
              "      <td>0.41</td>\n",
              "    </tr>\n",
              "    <tr>\n",
              "      <th>1</th>\n",
              "      <td>2020</td>\n",
              "      <td>9</td>\n",
              "      <td>1.59</td>\n",
              "      <td>2.52</td>\n",
              "      <td>2</td>\n",
              "      <td>0.740710</td>\n",
              "      <td>0.259290</td>\n",
              "      <td>1</td>\n",
              "      <td>0</td>\n",
              "      <td>1</td>\n",
              "      <td>0</td>\n",
              "      <td>0.00</td>\n",
              "      <td>0.00</td>\n",
              "      <td>-1.00</td>\n",
              "    </tr>\n",
              "    <tr>\n",
              "      <th>2</th>\n",
              "      <td>2017</td>\n",
              "      <td>6</td>\n",
              "      <td>4.69</td>\n",
              "      <td>1.23</td>\n",
              "      <td>1</td>\n",
              "      <td>0.271282</td>\n",
              "      <td>0.728718</td>\n",
              "      <td>0</td>\n",
              "      <td>2</td>\n",
              "      <td>1</td>\n",
              "      <td>0</td>\n",
              "      <td>0.00</td>\n",
              "      <td>0.00</td>\n",
              "      <td>-1.00</td>\n",
              "    </tr>\n",
              "    <tr>\n",
              "      <th>3</th>\n",
              "      <td>2017</td>\n",
              "      <td>6</td>\n",
              "      <td>1.23</td>\n",
              "      <td>4.77</td>\n",
              "      <td>1</td>\n",
              "      <td>0.663941</td>\n",
              "      <td>0.336059</td>\n",
              "      <td>1</td>\n",
              "      <td>0</td>\n",
              "      <td>1</td>\n",
              "      <td>1</td>\n",
              "      <td>1.23</td>\n",
              "      <td>0.00</td>\n",
              "      <td>0.23</td>\n",
              "    </tr>\n",
              "    <tr>\n",
              "      <th>4</th>\n",
              "      <td>2021</td>\n",
              "      <td>4</td>\n",
              "      <td>3.22</td>\n",
              "      <td>1.40</td>\n",
              "      <td>2</td>\n",
              "      <td>0.325226</td>\n",
              "      <td>0.674774</td>\n",
              "      <td>0</td>\n",
              "      <td>2</td>\n",
              "      <td>1</td>\n",
              "      <td>1</td>\n",
              "      <td>0.00</td>\n",
              "      <td>1.40</td>\n",
              "      <td>0.40</td>\n",
              "    </tr>\n",
              "  </tbody>\n",
              "</table>\n",
              "</div>"
            ],
            "text/plain": [
              "   Year  Month  P1_Odds_Pin  P2_Odds_Pin  ...  Wins  P1_$  P2_$  Net_Profit\n",
              "0  2015      2         3.21         1.41  ...     1  0.00  1.41        0.41\n",
              "1  2020      9         1.59         2.52  ...     0  0.00  0.00       -1.00\n",
              "2  2017      6         4.69         1.23  ...     0  0.00  0.00       -1.00\n",
              "3  2017      6         1.23         4.77  ...     1  1.23  0.00        0.23\n",
              "4  2021      4         3.22         1.40  ...     1  0.00  1.40        0.40\n",
              "\n",
              "[5 rows x 14 columns]"
            ]
          },
          "metadata": {},
          "execution_count": 20
        }
      ]
    },
    {
      "cell_type": "code",
      "metadata": {
        "colab": {
          "base_uri": "https://localhost:8080/",
          "height": 364
        },
        "id": "KJxze-YSZVlk",
        "outputId": "0178a76a-729f-423d-e47b-a802f3600d5f"
      },
      "source": [
        "# Let's now plot the ROI\n",
        "\n",
        "Pyear2= df1.groupby(by='Year').Net_Profit.sum()\n",
        "print('Overall Profit:',\"%.2f\" % Pyear2.sum(),'\\n')\n",
        "print('ROI:',\"{0:.1%}\".format(Pyear2.sum()/df1['Bets'].sum()),'\\n')\n",
        "\n",
        "Pyear2.plot.bar();"
      ],
      "execution_count": 21,
      "outputs": [
        {
          "output_type": "stream",
          "name": "stdout",
          "text": [
            "Overall Profit: -70.36 \n",
            "\n",
            "ROI: -2.2% \n",
            "\n"
          ]
        },
        {
          "output_type": "display_data",
          "data": {
            "image/png": "[encoded data removed]",
            "text/plain": [
              "<Figure size 432x288 with 1 Axes>"
            ]
          },
          "metadata": {
            "needs_background": "light"
          }
        }
      ]
    },
    {
      "cell_type": "markdown",
      "metadata": {
        "id": "PXp42ZCgbNpw"
      },
      "source": [
        "ROI is better than in Scenario 1 but remains negative"
      ]
    },
    {
      "cell_type": "markdown",
      "metadata": {
        "id": "eP7DitVAyi0M"
      },
      "source": [
        "**SCENARIO 3 : BUILD A DECISION THRESHOLD BASED ON THE COMPARISON BETWEEN OUR PREDICTIONS AND THE BOOKMAKER ONES**"
      ]
    },
    {
      "cell_type": "markdown",
      "metadata": {
        "id": "vWDN8j87zMPe"
      },
      "source": [
        "The main drive when building a model is to make it as efficient and close to the truth as possible without overfitting too much. What if we were not looking for the best model but just an 'ok' one and instead focus on the 'kind' of variables we want to feed it with?"
      ]
    },
    {
      "cell_type": "markdown",
      "metadata": {
        "id": "o0PlmLINzxHF"
      },
      "source": [
        "Predicting the victory of a player over the other is done by using a combination of variables, some of which could be thought as 'static' (like the rank of the player) when others are more dynamic (recent wins, injuries, etc)."
      ]
    },
    {
      "cell_type": "markdown",
      "metadata": {
        "id": "1BPYu8IO0Vnb"
      },
      "source": [
        "Most of the time, those features converge but in other circumstances they may diverge -> We will try to build on that idea in order to build an efficient ROI forecast.\n"
      ]
    },
    {
      "cell_type": "markdown",
      "metadata": {
        "id": "RBTwi4Wp1tEy"
      },
      "source": [
        "So the first thing we want to do is to build a very simple model that will only focus on 'Static features' and we will use the ATP rank to do so. NB: There is a possibility that a slightly different or more complex one works as well but we won't focus on that research specifically in this notebook."
      ]
    },
    {
      "cell_type": "code",
      "metadata": {
        "id": "RGnF4PQ3yH8d"
      },
      "source": [
        "# Features selection\n",
        "\n",
        "data3=data[['Year','Month','P1_Rank','P2_Rank','P1_Odds_Pin','P2_Odds_Pin','Won']].copy()\n"
      ],
      "execution_count": 22,
      "outputs": []
    },
    {
      "cell_type": "code",
      "metadata": {
        "id": "YVCb4GQz2w2G"
      },
      "source": [
        "# Data split, normalization, preparation of predictions dataframe\n",
        "\n",
        "from sklearn.model_selection import train_test_split\n",
        "from sklearn.preprocessing import QuantileTransformer\n",
        "\n",
        "DATA = data3.drop('Won',axis=1)\n",
        "TARGET = data3['Won']\n",
        "\n",
        "# This time we separate the train and test set by chronological order.\n",
        "# We will only select a small portion of the dataset to place our bets so it is preferable to keep a continous timeline to assess our predictions.\n",
        "# Otherwise, given the small number of bets, the variance may be very high from one test set to another.\n",
        "\n",
        "X_train=DATA[:10000]\n",
        "y_train=TARGET[:10000]\n",
        "X_test=DATA[10000:]\n",
        "y_test=TARGET[10000:]\n",
        "\n",
        "\n",
        "df2 = X_test.copy()  \n",
        "df2 =pd.concat([df2,y_test], axis = 1) # Preparation of the dataframe that combines : data + odds + predictions + results\n",
        "\n",
        "df2.drop(['P1_Rank','P2_Rank'],axis=1,inplace=True) # we do not need the features in our prediction dataframe\n",
        "\n",
        "X_train.drop(['P1_Odds_Pin','P2_Odds_Pin','Year','Month'],axis=1,inplace=True) # We don't want to use bookmaker odds to train our model\n",
        "X_test.drop(['P1_Odds_Pin','P2_Odds_Pin','Year','Month'],axis=1,inplace=True)\n",
        "\n",
        "from sklearn.preprocessing import QuantileTransformer\n",
        "\n",
        "qt = QuantileTransformer(random_state=0)\n",
        "scaler=qt.fit(X_train)\n",
        "X_train_scaled = scaler.transform(X_train)\n",
        "X_test = scaler.transform(X_test)"
      ],
      "execution_count": 23,
      "outputs": []
    },
    {
      "cell_type": "code",
      "metadata": {
        "colab": {
          "base_uri": "https://localhost:8080/"
        },
        "id": "v3Pnk-tnxNuK",
        "outputId": "6737c24a-d682-46d4-ca79-090b99b90225"
      },
      "source": [
        "from sklearn import linear_model\n",
        "\n",
        "# Model training\n",
        "\n",
        "clf=linear_model.LogisticRegression(random_state=10)\n",
        "clf.fit(X_train_scaled,y_train)\n",
        "\n",
        "# Model assessment\n",
        "\n",
        "y_pred = clf.predict(X_test)\n",
        "\n",
        "# Confusion Matrix \n",
        "\n",
        "cm = pd.crosstab(y_test, y_pred, rownames=['Classe réelle'], colnames=['Classe prédite'])\n",
        "print(cm)\n",
        "\n",
        "# Score\n",
        "\n",
        "print('\\n''Score:',\"%.2f\" % clf.score(X_test, y_test))\n",
        "\n",
        "#Classification report\n",
        "\n",
        "print('\\n',classification_report(y_test, y_pred))"
      ],
      "execution_count": 24,
      "outputs": [
        {
          "output_type": "stream",
          "name": "stdout",
          "text": [
            "Classe prédite     1     2\n",
            "Classe réelle             \n",
            "1               1683  1135\n",
            "2               1017  1871\n",
            "\n",
            "Score: 0.62\n",
            "\n",
            "               precision    recall  f1-score   support\n",
            "\n",
            "           1       0.62      0.60      0.61      2818\n",
            "           2       0.62      0.65      0.63      2888\n",
            "\n",
            "    accuracy                           0.62      5706\n",
            "   macro avg       0.62      0.62      0.62      5706\n",
            "weighted avg       0.62      0.62      0.62      5706\n",
            "\n"
          ]
        }
      ]
    },
    {
      "cell_type": "code",
      "metadata": {
        "colab": {
          "base_uri": "https://localhost:8080/",
          "height": 206
        },
        "id": "mhq-9mJ8xNw7",
        "outputId": "44ac68db-a9f4-4b7f-e254-bf6033a38b5c"
      },
      "source": [
        "# Gathering elements for predictions template\n",
        "\n",
        "preds=pd.DataFrame(clf.predict_proba(X_test))\n",
        "\n",
        "preds.reset_index(inplace=True)\n",
        "df2.reset_index(inplace=True)\n",
        "preds.drop('index',axis=1,inplace=True)\n",
        "df2.drop('index',axis=1,inplace=True)\n",
        "\n",
        "df2=pd.concat([df2,preds], axis = 1)\n",
        "df2.rename(columns={0: \"P1_prob\", 1: \"P2_prob\"},inplace=True)\n",
        "\n",
        "df2.head()"
      ],
      "execution_count": 25,
      "outputs": [
        {
          "output_type": "execute_result",
          "data": {
            "text/html": [
              "<div>\n",
              "<style scoped>\n",
              "    .dataframe tbody tr th:only-of-type {\n",
              "        vertical-align: middle;\n",
              "    }\n",
              "\n",
              "    .dataframe tbody tr th {\n",
              "        vertical-align: top;\n",
              "    }\n",
              "\n",
              "    .dataframe thead th {\n",
              "        text-align: right;\n",
              "    }\n",
              "</style>\n",
              "<table border=\"1\" class=\"dataframe\">\n",
              "  <thead>\n",
              "    <tr style=\"text-align: right;\">\n",
              "      <th></th>\n",
              "      <th>Year</th>\n",
              "      <th>Month</th>\n",
              "      <th>P1_Odds_Pin</th>\n",
              "      <th>P2_Odds_Pin</th>\n",
              "      <th>Won</th>\n",
              "      <th>P1_prob</th>\n",
              "      <th>P2_prob</th>\n",
              "    </tr>\n",
              "  </thead>\n",
              "  <tbody>\n",
              "    <tr>\n",
              "      <th>0</th>\n",
              "      <td>2018</td>\n",
              "      <td>10</td>\n",
              "      <td>1.87</td>\n",
              "      <td>2.04</td>\n",
              "      <td>1</td>\n",
              "      <td>0.525461</td>\n",
              "      <td>0.474539</td>\n",
              "    </tr>\n",
              "    <tr>\n",
              "      <th>1</th>\n",
              "      <td>2018</td>\n",
              "      <td>10</td>\n",
              "      <td>1.51</td>\n",
              "      <td>2.75</td>\n",
              "      <td>1</td>\n",
              "      <td>0.628763</td>\n",
              "      <td>0.371237</td>\n",
              "    </tr>\n",
              "    <tr>\n",
              "      <th>2</th>\n",
              "      <td>2018</td>\n",
              "      <td>11</td>\n",
              "      <td>2.11</td>\n",
              "      <td>1.83</td>\n",
              "      <td>2</td>\n",
              "      <td>0.476010</td>\n",
              "      <td>0.523990</td>\n",
              "    </tr>\n",
              "    <tr>\n",
              "      <th>3</th>\n",
              "      <td>2018</td>\n",
              "      <td>11</td>\n",
              "      <td>3.29</td>\n",
              "      <td>1.40</td>\n",
              "      <td>2</td>\n",
              "      <td>0.345191</td>\n",
              "      <td>0.654809</td>\n",
              "    </tr>\n",
              "    <tr>\n",
              "      <th>4</th>\n",
              "      <td>2018</td>\n",
              "      <td>11</td>\n",
              "      <td>1.29</td>\n",
              "      <td>4.05</td>\n",
              "      <td>1</td>\n",
              "      <td>0.582468</td>\n",
              "      <td>0.417532</td>\n",
              "    </tr>\n",
              "  </tbody>\n",
              "</table>\n",
              "</div>"
            ],
            "text/plain": [
              "   Year  Month  P1_Odds_Pin  P2_Odds_Pin  Won   P1_prob   P2_prob\n",
              "0  2018     10         1.87         2.04    1  0.525461  0.474539\n",
              "1  2018     10         1.51         2.75    1  0.628763  0.371237\n",
              "2  2018     11         2.11         1.83    2  0.476010  0.523990\n",
              "3  2018     11         3.29         1.40    2  0.345191  0.654809\n",
              "4  2018     11         1.29         4.05    1  0.582468  0.417532"
            ]
          },
          "metadata": {},
          "execution_count": 25
        }
      ]
    },
    {
      "cell_type": "markdown",
      "metadata": {
        "id": "_541jjvMyy6L"
      },
      "source": [
        "At this stage we want to build a decision threshold that will test our predictions based on 'static' features against the bookmaker predictions that include both 'static' and 'dynamic' features.\n"
      ]
    },
    {
      "cell_type": "markdown",
      "metadata": {
        "id": "c29V5NDwzJK6"
      },
      "source": [
        "Despite it includes some other factors like the bookmaker profit and some bias linked to the number of bets on the player, we find the formula: '(1/odds)' is a correct approximate of the bookmaker expected player winrate. At least sufficiently good for the purpose of our comparison. So we compute those new columns."
      ]
    },
    {
      "cell_type": "code",
      "metadata": {
        "colab": {
          "base_uri": "https://localhost:8080/",
          "height": 206
        },
        "id": "isVFG7ckxN02",
        "outputId": "0a9311e4-e0f4-4e2b-d57b-01aedc4f5dcc"
      },
      "source": [
        "# Decision Threshold computing\n",
        "\n",
        "df2['P1_Proba_Pin']=1/df2['P1_Odds_Pin']\n",
        "df2['P2_Proba_Pin']=1/df2['P2_Odds_Pin']\n",
        "df2['P1_DT']=df2['P1_prob']/df2['P1_Proba_Pin']\n",
        "df2['P2_DT']=df2['P2_prob']/df2['P2_Proba_Pin']\n",
        "\n",
        "df2.head()"
      ],
      "execution_count": 26,
      "outputs": [
        {
          "output_type": "execute_result",
          "data": {
            "text/html": [
              "<div>\n",
              "<style scoped>\n",
              "    .dataframe tbody tr th:only-of-type {\n",
              "        vertical-align: middle;\n",
              "    }\n",
              "\n",
              "    .dataframe tbody tr th {\n",
              "        vertical-align: top;\n",
              "    }\n",
              "\n",
              "    .dataframe thead th {\n",
              "        text-align: right;\n",
              "    }\n",
              "</style>\n",
              "<table border=\"1\" class=\"dataframe\">\n",
              "  <thead>\n",
              "    <tr style=\"text-align: right;\">\n",
              "      <th></th>\n",
              "      <th>Year</th>\n",
              "      <th>Month</th>\n",
              "      <th>P1_Odds_Pin</th>\n",
              "      <th>P2_Odds_Pin</th>\n",
              "      <th>Won</th>\n",
              "      <th>P1_prob</th>\n",
              "      <th>P2_prob</th>\n",
              "      <th>P1_Proba_Pin</th>\n",
              "      <th>P2_Proba_Pin</th>\n",
              "      <th>P1_DT</th>\n",
              "      <th>P2_DT</th>\n",
              "    </tr>\n",
              "  </thead>\n",
              "  <tbody>\n",
              "    <tr>\n",
              "      <th>0</th>\n",
              "      <td>2018</td>\n",
              "      <td>10</td>\n",
              "      <td>1.87</td>\n",
              "      <td>2.04</td>\n",
              "      <td>1</td>\n",
              "      <td>0.525461</td>\n",
              "      <td>0.474539</td>\n",
              "      <td>0.534759</td>\n",
              "      <td>0.490196</td>\n",
              "      <td>0.982611</td>\n",
              "      <td>0.968060</td>\n",
              "    </tr>\n",
              "    <tr>\n",
              "      <th>1</th>\n",
              "      <td>2018</td>\n",
              "      <td>10</td>\n",
              "      <td>1.51</td>\n",
              "      <td>2.75</td>\n",
              "      <td>1</td>\n",
              "      <td>0.628763</td>\n",
              "      <td>0.371237</td>\n",
              "      <td>0.662252</td>\n",
              "      <td>0.363636</td>\n",
              "      <td>0.949433</td>\n",
              "      <td>1.020901</td>\n",
              "    </tr>\n",
              "    <tr>\n",
              "      <th>2</th>\n",
              "      <td>2018</td>\n",
              "      <td>11</td>\n",
              "      <td>2.11</td>\n",
              "      <td>1.83</td>\n",
              "      <td>2</td>\n",
              "      <td>0.476010</td>\n",
              "      <td>0.523990</td>\n",
              "      <td>0.473934</td>\n",
              "      <td>0.546448</td>\n",
              "      <td>1.004381</td>\n",
              "      <td>0.958901</td>\n",
              "    </tr>\n",
              "    <tr>\n",
              "      <th>3</th>\n",
              "      <td>2018</td>\n",
              "      <td>11</td>\n",
              "      <td>3.29</td>\n",
              "      <td>1.40</td>\n",
              "      <td>2</td>\n",
              "      <td>0.345191</td>\n",
              "      <td>0.654809</td>\n",
              "      <td>0.303951</td>\n",
              "      <td>0.714286</td>\n",
              "      <td>1.135679</td>\n",
              "      <td>0.916732</td>\n",
              "    </tr>\n",
              "    <tr>\n",
              "      <th>4</th>\n",
              "      <td>2018</td>\n",
              "      <td>11</td>\n",
              "      <td>1.29</td>\n",
              "      <td>4.05</td>\n",
              "      <td>1</td>\n",
              "      <td>0.582468</td>\n",
              "      <td>0.417532</td>\n",
              "      <td>0.775194</td>\n",
              "      <td>0.246914</td>\n",
              "      <td>0.751383</td>\n",
              "      <td>1.691006</td>\n",
              "    </tr>\n",
              "  </tbody>\n",
              "</table>\n",
              "</div>"
            ],
            "text/plain": [
              "   Year  Month  P1_Odds_Pin  ...  P2_Proba_Pin     P1_DT     P2_DT\n",
              "0  2018     10         1.87  ...      0.490196  0.982611  0.968060\n",
              "1  2018     10         1.51  ...      0.363636  0.949433  1.020901\n",
              "2  2018     11         2.11  ...      0.546448  1.004381  0.958901\n",
              "3  2018     11         3.29  ...      0.714286  1.135679  0.916732\n",
              "4  2018     11         1.29  ...      0.246914  0.751383  1.691006\n",
              "\n",
              "[5 rows x 11 columns]"
            ]
          },
          "metadata": {},
          "execution_count": 26
        }
      ]
    },
    {
      "cell_type": "markdown",
      "metadata": {
        "id": "Kdo3R_T3CU3I"
      },
      "source": [
        "From there we want to find the right interval where the expected ROI will be positive and stable enough.\n"
      ]
    },
    {
      "cell_type": "code",
      "metadata": {
        "id": "1pImXBr_MDjT"
      },
      "source": [
        "profit=0\n",
        "profit_vector=[]\n",
        "threshold=[]\n",
        "Nb_match=[]\n",
        "df2['Bets']=0\n",
        "\n",
        "for i in np.arange(0.4,1,0.1): # threshold loop\n",
        "\n",
        "  for k in range(df2.shape[0]): # dataset lines loop\n",
        "\n",
        "    if (df2.iloc[k,9] <i) & (df2.iloc[k,2] >1.2) & (df2.iloc[k,2] <5) & (np.abs(df2.iloc[k,2]-df2.iloc[k,3])>1):\n",
        "      df2.iloc[k,11] = 1 # If all 3 conditions are met --> bet on P1\n",
        "\n",
        "    elif (df2.iloc[k,10] <i) & (df2.iloc[k,3] >1.2) & (df2.iloc[k,3] <5) & (np.abs(df2.iloc[k,2]-df2.iloc[k,3])>1):\n",
        "      df2.iloc[k,11] = 2 # If all 3 conditions are met --> bet on P2\n",
        "\n",
        "    else:\n",
        "      df2.iloc[k,11] = 0 # No bets\n",
        "\n",
        "  ROI = df2[(df2['Bets'] ==1)|(df2['Bets'] ==2)] # new datasets limited to the games we bet on\n",
        "  ROI['profit']=0\n",
        "\n",
        "  for k in range(ROI.shape[0]): # dataset lines loop\n",
        "    if (ROI.iloc[k,4]==ROI.iloc[k,11]) & (ROI.iloc[k,11] == 1): # if bet on player 1 is won\n",
        "      ROI.iloc[k,12]=ROI.iloc[k,2] # profit = P1 odd\n",
        "    elif (ROI.iloc[k,4]==ROI.iloc[k,11]) & (ROI.iloc[k,11] == 2): # if bet on player 2 is won\n",
        "      ROI.iloc[k,12]=ROI.iloc[k,3] # profit = P2 odd\n",
        "    else:\n",
        "      ROI.iloc[k,12]= 0 \n",
        "\n",
        "    profit+=ROI.iloc[k,12]-1\n",
        "    \n",
        "  profit_vector.append(profit)\n",
        "  threshold.append(i)\n",
        "  Nb_match.append(ROI.shape[0])\n",
        "  profit=0\n"
      ],
      "execution_count": 27,
      "outputs": []
    },
    {
      "cell_type": "code",
      "metadata": {
        "colab": {
          "base_uri": "https://localhost:8080/",
          "height": 281
        },
        "id": "q6hmU5qEvsfT",
        "outputId": "137d167d-a0d1-445d-bc31-986ab28cf387"
      },
      "source": [
        "plt.plot(threshold,profit_vector)\n",
        "plt.title('Profit evolution based on threshold');"
      ],
      "execution_count": 28,
      "outputs": [
        {
          "output_type": "display_data",
          "data": {
            "image/png": "[encoded data removed]",
            "text/plain": [
              "<Figure size 432x288 with 1 Axes>"
            ]
          },
          "metadata": {
            "needs_background": "light"
          }
        }
      ]
    },
    {
      "cell_type": "code",
      "metadata": {
        "colab": {
          "base_uri": "https://localhost:8080/",
          "height": 281
        },
        "id": "-fYVblFoxIDp",
        "outputId": "08666018-99a8-4408-ee23-d92150ddaa34"
      },
      "source": [
        "plt.plot(threshold,Nb_match)\n",
        "plt.title('Number of games we bet on based on threshold');"
      ],
      "execution_count": 29,
      "outputs": [
        {
          "output_type": "display_data",
          "data": {
            "image/png": "[encoded data removed]",
            "text/plain": [
              "<Figure size 432x288 with 1 Axes>"
            ]
          },
          "metadata": {
            "needs_background": "light"
          }
        }
      ]
    },
    {
      "cell_type": "code",
      "metadata": {
        "id": "GnWCFI91F16Y"
      },
      "source": [
        "df2['Bets_P1']=np.where((df2['P1_DT'] <0.7) & \n",
        "                           (df2['P1_Odds_Pin'] >1.2) & \n",
        "                           (df2['P1_Odds_Pin'] <5) &\n",
        "                           (np.abs(df2['P1_Odds_Pin']-df2['P2_Odds_Pin'])>1),1,0)\n",
        "\n",
        "df2['Bets_P2']=np.where((df2['P2_DT'] <0.7) & \n",
        "                           (df2['P2_Odds_Pin'] >1.2) & \n",
        "                           (df2['P2_Odds_Pin'] <5) &\n",
        "                           (np.abs(df2['P1_Odds_Pin']-df2['P2_Odds_Pin'])>1),2,0)"
      ],
      "execution_count": 30,
      "outputs": []
    },
    {
      "cell_type": "code",
      "metadata": {
        "id": "LwL38F4OF19Q"
      },
      "source": [
        "# Counter of bets and bets won\n",
        "\n",
        "df2['Bets']=np.where((df2['Bets_P1'] == 1)|(df2['Bets_P2'] == 2),1,0)\n",
        "df2['Wins']=np.where((df2['Bets_P1'] == df2['Won'])|(df2['Bets_P2']== df2['Won']),1,0)\n",
        "                           "
      ],
      "execution_count": 31,
      "outputs": []
    },
    {
      "cell_type": "code",
      "metadata": {
        "id": "AyXTVOrOF1_e"
      },
      "source": [
        "# Profit\n",
        "\n",
        "df2['P1_$']=np.where((df2['Bets_P1'] == df2['Won']),df2['P1_Odds_Pin'],0)\n",
        "df2['P2_$']=np.where((df2['Bets_P2'] == df2['Won']),df2['P2_Odds_Pin'],0)  \n",
        "df2['Net_Profit']=df2['P1_$']+df2['P2_$']-df2['Bets']"
      ],
      "execution_count": 32,
      "outputs": []
    },
    {
      "cell_type": "code",
      "metadata": {
        "id": "HvJbytLZF2B3",
        "colab": {
          "base_uri": "https://localhost:8080/",
          "height": 206
        },
        "outputId": "f6d09433-9dd3-474d-cc7b-3fa9dbb14887"
      },
      "source": [
        "df2.head()"
      ],
      "execution_count": 33,
      "outputs": [
        {
          "output_type": "execute_result",
          "data": {
            "text/html": [
              "<div>\n",
              "<style scoped>\n",
              "    .dataframe tbody tr th:only-of-type {\n",
              "        vertical-align: middle;\n",
              "    }\n",
              "\n",
              "    .dataframe tbody tr th {\n",
              "        vertical-align: top;\n",
              "    }\n",
              "\n",
              "    .dataframe thead th {\n",
              "        text-align: right;\n",
              "    }\n",
              "</style>\n",
              "<table border=\"1\" class=\"dataframe\">\n",
              "  <thead>\n",
              "    <tr style=\"text-align: right;\">\n",
              "      <th></th>\n",
              "      <th>Year</th>\n",
              "      <th>Month</th>\n",
              "      <th>P1_Odds_Pin</th>\n",
              "      <th>P2_Odds_Pin</th>\n",
              "      <th>Won</th>\n",
              "      <th>P1_prob</th>\n",
              "      <th>P2_prob</th>\n",
              "      <th>P1_Proba_Pin</th>\n",
              "      <th>P2_Proba_Pin</th>\n",
              "      <th>P1_DT</th>\n",
              "      <th>P2_DT</th>\n",
              "      <th>Bets</th>\n",
              "      <th>Bets_P1</th>\n",
              "      <th>Bets_P2</th>\n",
              "      <th>Wins</th>\n",
              "      <th>P1_$</th>\n",
              "      <th>P2_$</th>\n",
              "      <th>Net_Profit</th>\n",
              "    </tr>\n",
              "  </thead>\n",
              "  <tbody>\n",
              "    <tr>\n",
              "      <th>0</th>\n",
              "      <td>2018</td>\n",
              "      <td>10</td>\n",
              "      <td>1.87</td>\n",
              "      <td>2.04</td>\n",
              "      <td>1</td>\n",
              "      <td>0.525461</td>\n",
              "      <td>0.474539</td>\n",
              "      <td>0.534759</td>\n",
              "      <td>0.490196</td>\n",
              "      <td>0.982611</td>\n",
              "      <td>0.968060</td>\n",
              "      <td>0</td>\n",
              "      <td>0</td>\n",
              "      <td>0</td>\n",
              "      <td>0</td>\n",
              "      <td>0.0</td>\n",
              "      <td>0.0</td>\n",
              "      <td>0.0</td>\n",
              "    </tr>\n",
              "    <tr>\n",
              "      <th>1</th>\n",
              "      <td>2018</td>\n",
              "      <td>10</td>\n",
              "      <td>1.51</td>\n",
              "      <td>2.75</td>\n",
              "      <td>1</td>\n",
              "      <td>0.628763</td>\n",
              "      <td>0.371237</td>\n",
              "      <td>0.662252</td>\n",
              "      <td>0.363636</td>\n",
              "      <td>0.949433</td>\n",
              "      <td>1.020901</td>\n",
              "      <td>0</td>\n",
              "      <td>0</td>\n",
              "      <td>0</td>\n",
              "      <td>0</td>\n",
              "      <td>0.0</td>\n",
              "      <td>0.0</td>\n",
              "      <td>0.0</td>\n",
              "    </tr>\n",
              "    <tr>\n",
              "      <th>2</th>\n",
              "      <td>2018</td>\n",
              "      <td>11</td>\n",
              "      <td>2.11</td>\n",
              "      <td>1.83</td>\n",
              "      <td>2</td>\n",
              "      <td>0.476010</td>\n",
              "      <td>0.523990</td>\n",
              "      <td>0.473934</td>\n",
              "      <td>0.546448</td>\n",
              "      <td>1.004381</td>\n",
              "      <td>0.958901</td>\n",
              "      <td>0</td>\n",
              "      <td>0</td>\n",
              "      <td>0</td>\n",
              "      <td>0</td>\n",
              "      <td>0.0</td>\n",
              "      <td>0.0</td>\n",
              "      <td>0.0</td>\n",
              "    </tr>\n",
              "    <tr>\n",
              "      <th>3</th>\n",
              "      <td>2018</td>\n",
              "      <td>11</td>\n",
              "      <td>3.29</td>\n",
              "      <td>1.40</td>\n",
              "      <td>2</td>\n",
              "      <td>0.345191</td>\n",
              "      <td>0.654809</td>\n",
              "      <td>0.303951</td>\n",
              "      <td>0.714286</td>\n",
              "      <td>1.135679</td>\n",
              "      <td>0.916732</td>\n",
              "      <td>0</td>\n",
              "      <td>0</td>\n",
              "      <td>0</td>\n",
              "      <td>0</td>\n",
              "      <td>0.0</td>\n",
              "      <td>0.0</td>\n",
              "      <td>0.0</td>\n",
              "    </tr>\n",
              "    <tr>\n",
              "      <th>4</th>\n",
              "      <td>2018</td>\n",
              "      <td>11</td>\n",
              "      <td>1.29</td>\n",
              "      <td>4.05</td>\n",
              "      <td>1</td>\n",
              "      <td>0.582468</td>\n",
              "      <td>0.417532</td>\n",
              "      <td>0.775194</td>\n",
              "      <td>0.246914</td>\n",
              "      <td>0.751383</td>\n",
              "      <td>1.691006</td>\n",
              "      <td>0</td>\n",
              "      <td>0</td>\n",
              "      <td>0</td>\n",
              "      <td>0</td>\n",
              "      <td>0.0</td>\n",
              "      <td>0.0</td>\n",
              "      <td>0.0</td>\n",
              "    </tr>\n",
              "  </tbody>\n",
              "</table>\n",
              "</div>"
            ],
            "text/plain": [
              "   Year  Month  P1_Odds_Pin  P2_Odds_Pin  ...  Wins  P1_$  P2_$  Net_Profit\n",
              "0  2018     10         1.87         2.04  ...     0   0.0   0.0         0.0\n",
              "1  2018     10         1.51         2.75  ...     0   0.0   0.0         0.0\n",
              "2  2018     11         2.11         1.83  ...     0   0.0   0.0         0.0\n",
              "3  2018     11         3.29         1.40  ...     0   0.0   0.0         0.0\n",
              "4  2018     11         1.29         4.05  ...     0   0.0   0.0         0.0\n",
              "\n",
              "[5 rows x 18 columns]"
            ]
          },
          "metadata": {},
          "execution_count": 33
        }
      ]
    },
    {
      "cell_type": "code",
      "metadata": {
        "id": "oOxOM3JgF2ED",
        "colab": {
          "base_uri": "https://localhost:8080/",
          "height": 364
        },
        "outputId": "2bbfe8a1-869d-4354-d7ec-e8cc645150b8"
      },
      "source": [
        "# Let's now plot the ROI\n",
        "\n",
        "Pyear3= df2.groupby(by=['Year']).Net_Profit.sum()\n",
        "print('Overall Profit:',\"%.2f\" % Pyear3.sum(),'\\n')\n",
        "print('ROI:',\"{0:.1%}\".format(Pyear3.sum()/df2['Bets'].sum()),'\\n')\n",
        "\n",
        "Pyear3.plot.bar();"
      ],
      "execution_count": 34,
      "outputs": [
        {
          "output_type": "stream",
          "name": "stdout",
          "text": [
            "Overall Profit: 54.61 \n",
            "\n",
            "ROI: 8.5% \n",
            "\n"
          ]
        },
        {
          "output_type": "display_data",
          "data": {
            "image/png": "[encoded data removed]",
            "text/plain": [
              "<Figure size 432x288 with 1 Axes>"
            ]
          },
          "metadata": {
            "needs_background": "light"
          }
        }
      ]
    },
    {
      "cell_type": "markdown",
      "metadata": {
        "id": "3YEpuv7qtnLK"
      },
      "source": [
        "With this approach, the ROI seems fairly stable across recent years.\n",
        "We are still looking at other options and strategies to refine the strategy, one of them could be to place higher bets where our confidence is the highest.\n"
      ]
    },
    {
      "cell_type": "code",
      "metadata": {
        "id": "urxXrDCRvhtv"
      },
      "source": [
        ""
      ],
      "execution_count": 34,
      "outputs": []
    }
  ]
}